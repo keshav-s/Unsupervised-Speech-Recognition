{
  "cells": [
    {
      "cell_type": "markdown",
      "metadata": {
        "id": "me7MaEVG66Pb"
      },
      "source": [
        "# HW5: Unsupervised Speech Recognition (USR)"
      ],
      "id": "me7MaEVG66Pb"
    },
    {
      "cell_type": "markdown",
      "metadata": {
        "id": "CdBewqEe7Xjs"
      },
      "source": [
        "Welcome to HW5 in Introduction to Deep Learning 11685. You will be working on Unsupervised Speech Recognition with GANs in this HW. You will be reimplementing and further improving on the model given in the USR paper by Facebook AI.<br>\n",
        "Link: https://arxiv.org/abs/2105.11084\n"
      ],
      "id": "CdBewqEe7Xjs"
    },
    {
      "cell_type": "markdown",
      "metadata": {
        "id": "vih9ZiCQ7skd"
      },
      "source": [
        "# Installations"
      ],
      "id": "vih9ZiCQ7skd"
    },
    {
      "cell_type": "code",
      "execution_count": 1,
      "metadata": {
        "colab": {
          "base_uri": "https://localhost:8080/"
        },
        "id": "DCY9EQRW-9pm",
        "outputId": "5d1adc12-6cf2-4f4b-d07f-e6b76813972f"
      },
      "outputs": [
        {
          "output_type": "stream",
          "name": "stdout",
          "text": [
            "Mounted at /content/drive\n"
          ]
        }
      ],
      "source": [
        "from google.colab import drive\n",
        "drive.mount('/content/drive')"
      ],
      "id": "DCY9EQRW-9pm"
    },
    {
      "cell_type": "code",
      "execution_count": 2,
      "metadata": {
        "id": "1hiUTNx-HnTr"
      },
      "outputs": [],
      "source": [
        "!unzip -q Archive.zip"
      ],
      "id": "1hiUTNx-HnTr"
    },
    {
      "cell_type": "code",
      "execution_count": 3,
      "metadata": {
        "colab": {
          "base_uri": "https://localhost:8080/"
        },
        "id": "DgYdpT-l7v_C",
        "outputId": "8b2382d6-c789-4a8f-d8d9-d9e7db20563e"
      },
      "outputs": [
        {
          "output_type": "stream",
          "name": "stdout",
          "text": [
            "Looking in indexes: https://pypi.org/simple, https://us-python.pkg.dev/colab-wheels/public/simple/\n",
            "Collecting git+https://github.com/pytorch/fairseq\n",
            "  Cloning https://github.com/pytorch/fairseq to /tmp/pip-req-build-r2a3uy4i\n",
            "  Running command git clone --filter=blob:none --quiet https://github.com/pytorch/fairseq /tmp/pip-req-build-r2a3uy4i\n",
            "  Resolved https://github.com/pytorch/fairseq to commit 3f6ba43f07a6e9e2acf957fc24e57251a7a3f55c\n",
            "  Running command git submodule update --init --recursive -q\n",
            "  From https://github.com/ngoyal2707/Megatron-LM\n",
            "   * branch            adb23324c222aad0aad89308e70302d996a5eaeb -> FETCH_HEAD\n",
            "  Installing build dependencies ... \u001b[?25l\u001b[?25hdone\n",
            "  Getting requirements to build wheel ... \u001b[?25l\u001b[?25hdone\n",
            "  Preparing metadata (pyproject.toml) ... \u001b[?25l\u001b[?25hdone\n",
            "Requirement already satisfied: cffi in /usr/local/lib/python3.9/dist-packages (from fairseq==0.12.2) (1.15.1)\n",
            "Collecting bitarray\n",
            "  Downloading bitarray-2.7.3-cp39-cp39-manylinux_2_17_x86_64.manylinux2014_x86_64.whl (269 kB)\n",
            "\u001b[2K     \u001b[90m━━━━━━━━━━━━━━━━━━━━━━━━━━━━━━━━━━━━━━\u001b[0m \u001b[32m269.6/269.6 kB\u001b[0m \u001b[31m20.2 MB/s\u001b[0m eta \u001b[36m0:00:00\u001b[0m\n",
            "\u001b[?25hCollecting sacrebleu>=1.4.12\n",
            "  Downloading sacrebleu-2.3.1-py3-none-any.whl (118 kB)\n",
            "\u001b[2K     \u001b[90m━━━━━━━━━━━━━━━━━━━━━━━━━━━━━━━━━━━━━━\u001b[0m \u001b[32m118.9/118.9 kB\u001b[0m \u001b[31m11.2 MB/s\u001b[0m eta \u001b[36m0:00:00\u001b[0m\n",
            "\u001b[?25hRequirement already satisfied: cython in /usr/local/lib/python3.9/dist-packages (from fairseq==0.12.2) (0.29.34)\n",
            "Requirement already satisfied: packaging in /usr/local/lib/python3.9/dist-packages (from fairseq==0.12.2) (23.1)\n",
            "Requirement already satisfied: torch>=1.13 in /usr/local/lib/python3.9/dist-packages (from fairseq==0.12.2) (2.0.0+cu118)\n",
            "Collecting hydra-core<1.1,>=1.0.7\n",
            "  Downloading hydra_core-1.0.7-py3-none-any.whl (123 kB)\n",
            "\u001b[2K     \u001b[90m━━━━━━━━━━━━━━━━━━━━━━━━━━━━━━━━━━━━━━\u001b[0m \u001b[32m123.8/123.8 kB\u001b[0m \u001b[31m13.6 MB/s\u001b[0m eta \u001b[36m0:00:00\u001b[0m\n",
            "\u001b[?25hRequirement already satisfied: numpy>=1.21.3 in /usr/local/lib/python3.9/dist-packages (from fairseq==0.12.2) (1.22.4)\n",
            "Requirement already satisfied: tqdm in /usr/local/lib/python3.9/dist-packages (from fairseq==0.12.2) (4.65.0)\n",
            "Requirement already satisfied: regex in /usr/local/lib/python3.9/dist-packages (from fairseq==0.12.2) (2022.10.31)\n",
            "Collecting omegaconf<2.1\n",
            "  Downloading omegaconf-2.0.6-py3-none-any.whl (36 kB)\n",
            "Requirement already satisfied: scikit-learn in /usr/local/lib/python3.9/dist-packages (from fairseq==0.12.2) (1.2.2)\n",
            "Requirement already satisfied: torchaudio>=0.8.0 in /usr/local/lib/python3.9/dist-packages (from fairseq==0.12.2) (2.0.1+cu118)\n",
            "Collecting antlr4-python3-runtime==4.8\n",
            "  Downloading antlr4-python3-runtime-4.8.tar.gz (112 kB)\n",
            "\u001b[2K     \u001b[90m━━━━━━━━━━━━━━━━━━━━━━━━━━━━━━━━━━━━━━\u001b[0m \u001b[32m112.4/112.4 kB\u001b[0m \u001b[31m12.0 MB/s\u001b[0m eta \u001b[36m0:00:00\u001b[0m\n",
            "\u001b[?25h  Preparing metadata (setup.py) ... \u001b[?25l\u001b[?25hdone\n",
            "Requirement already satisfied: typing-extensions in /usr/local/lib/python3.9/dist-packages (from omegaconf<2.1->fairseq==0.12.2) (4.5.0)\n",
            "Requirement already satisfied: PyYAML>=5.1.* in /usr/local/lib/python3.9/dist-packages (from omegaconf<2.1->fairseq==0.12.2) (6.0)\n",
            "Requirement already satisfied: tabulate>=0.8.9 in /usr/local/lib/python3.9/dist-packages (from sacrebleu>=1.4.12->fairseq==0.12.2) (0.8.10)\n",
            "Requirement already satisfied: lxml in /usr/local/lib/python3.9/dist-packages (from sacrebleu>=1.4.12->fairseq==0.12.2) (4.9.2)\n",
            "Collecting colorama\n",
            "  Downloading colorama-0.4.6-py2.py3-none-any.whl (25 kB)\n",
            "Collecting portalocker\n",
            "  Downloading portalocker-2.7.0-py2.py3-none-any.whl (15 kB)\n",
            "Requirement already satisfied: triton==2.0.0 in /usr/local/lib/python3.9/dist-packages (from torch>=1.13->fairseq==0.12.2) (2.0.0)\n",
            "Requirement already satisfied: sympy in /usr/local/lib/python3.9/dist-packages (from torch>=1.13->fairseq==0.12.2) (1.11.1)\n",
            "Requirement already satisfied: filelock in /usr/local/lib/python3.9/dist-packages (from torch>=1.13->fairseq==0.12.2) (3.11.0)\n",
            "Requirement already satisfied: jinja2 in /usr/local/lib/python3.9/dist-packages (from torch>=1.13->fairseq==0.12.2) (3.1.2)\n",
            "Requirement already satisfied: networkx in /usr/local/lib/python3.9/dist-packages (from torch>=1.13->fairseq==0.12.2) (3.1)\n",
            "Requirement already satisfied: cmake in /usr/local/lib/python3.9/dist-packages (from triton==2.0.0->torch>=1.13->fairseq==0.12.2) (3.25.2)\n",
            "Requirement already satisfied: lit in /usr/local/lib/python3.9/dist-packages (from triton==2.0.0->torch>=1.13->fairseq==0.12.2) (16.0.1)\n",
            "Requirement already satisfied: pycparser in /usr/local/lib/python3.9/dist-packages (from cffi->fairseq==0.12.2) (2.21)\n",
            "Requirement already satisfied: threadpoolctl>=2.0.0 in /usr/local/lib/python3.9/dist-packages (from scikit-learn->fairseq==0.12.2) (3.1.0)\n",
            "Requirement already satisfied: scipy>=1.3.2 in /usr/local/lib/python3.9/dist-packages (from scikit-learn->fairseq==0.12.2) (1.10.1)\n",
            "Requirement already satisfied: joblib>=1.1.1 in /usr/local/lib/python3.9/dist-packages (from scikit-learn->fairseq==0.12.2) (1.2.0)\n",
            "Requirement already satisfied: MarkupSafe>=2.0 in /usr/local/lib/python3.9/dist-packages (from jinja2->torch>=1.13->fairseq==0.12.2) (2.1.2)\n",
            "Requirement already satisfied: mpmath>=0.19 in /usr/local/lib/python3.9/dist-packages (from sympy->torch>=1.13->fairseq==0.12.2) (1.3.0)\n",
            "Building wheels for collected packages: fairseq, antlr4-python3-runtime\n",
            "  Building wheel for fairseq (pyproject.toml) ... \u001b[?25l\u001b[?25hdone\n",
            "  Created wheel for fairseq: filename=fairseq-0.12.2-cp39-cp39-linux_x86_64.whl size=21506987 sha256=84ba77fdf0ac1c429ee3ac11ac2bc624ea64bff6c0d66839421fcdf764b35777\n",
            "  Stored in directory: /tmp/pip-ephem-wheel-cache-j1jr4wot/wheels/9b/bb/3a/e40ed16b60d9602cef28756f7a39e4654fedd2bf26948959f9\n",
            "  Building wheel for antlr4-python3-runtime (setup.py) ... \u001b[?25l\u001b[?25hdone\n",
            "  Created wheel for antlr4-python3-runtime: filename=antlr4_python3_runtime-4.8-py3-none-any.whl size=141229 sha256=7bcb752c13b1222357edee362112f2bc30541b95a3a18a62deb84a53d8b4d7b1\n",
            "  Stored in directory: /root/.cache/pip/wheels/42/3c/ae/14db087e6018de74810afe32eb6ac890ef9c68ba19b00db97a\n",
            "Successfully built fairseq antlr4-python3-runtime\n",
            "Installing collected packages: bitarray, antlr4-python3-runtime, portalocker, omegaconf, colorama, sacrebleu, hydra-core, fairseq\n",
            "Successfully installed antlr4-python3-runtime-4.8 bitarray-2.7.3 colorama-0.4.6 fairseq-0.12.2 hydra-core-1.0.7 omegaconf-2.0.6 portalocker-2.7.0 sacrebleu-2.3.1\n",
            "\u001b[2K     \u001b[90m━━━━━━━━━━━━━━━━━━━━━━━━━━━━━━━━━━━━━━━━\u001b[0m \u001b[32m2.0/2.0 MB\u001b[0m \u001b[31m53.0 MB/s\u001b[0m eta \u001b[36m0:00:00\u001b[0m\n",
            "\u001b[2K     \u001b[90m━━━━━━━━━━━━━━━━━━━━━━━━━━━━━━━━━━━━━━━━\u001b[0m \u001b[32m90.1/90.1 kB\u001b[0m \u001b[31m9.6 MB/s\u001b[0m eta \u001b[36m0:00:00\u001b[0m\n",
            "\u001b[2K     \u001b[90m━━━━━━━━━━━━━━━━━━━━━━━━━━━━━━━━━━━━━━\u001b[0m \u001b[32m175.5/175.5 kB\u001b[0m \u001b[31m17.1 MB/s\u001b[0m eta \u001b[36m0:00:00\u001b[0m\n",
            "\u001b[2K     \u001b[90m━━━━━━━━━━━━━━━━━━━━━━━━━━━━━━━━━━━━━━━━\u001b[0m \u001b[32m3.1/3.1 MB\u001b[0m \u001b[31m74.9 MB/s\u001b[0m eta \u001b[36m0:00:00\u001b[0m\n",
            "\u001b[?25h  Preparing metadata (setup.py) ... \u001b[?25l\u001b[?25hdone\n",
            "\u001b[2K     \u001b[90m━━━━━━━━━━━━━━━━━━━━━━━━━━━━━━━━━━━━━━\u001b[0m \u001b[32m198.8/198.8 kB\u001b[0m \u001b[31m21.3 MB/s\u001b[0m eta \u001b[36m0:00:00\u001b[0m\n",
            "\u001b[2K     \u001b[90m━━━━━━━━━━━━━━━━━━━━━━━━━━━━━━━━━━━━━━\u001b[0m \u001b[32m184.3/184.3 kB\u001b[0m \u001b[31m17.1 MB/s\u001b[0m eta \u001b[36m0:00:00\u001b[0m\n",
            "\u001b[2K     \u001b[90m━━━━━━━━━━━━━━━━━━━━━━━━━━━━━━━━━━━━━━━━\u001b[0m \u001b[32m62.7/62.7 kB\u001b[0m \u001b[31m6.9 MB/s\u001b[0m eta \u001b[36m0:00:00\u001b[0m\n",
            "\u001b[?25h  Building wheel for pathtools (setup.py) ... \u001b[?25l\u001b[?25hdone\n"
          ]
        }
      ],
      "source": [
        "!pip install git+https://github.com/pytorch/fairseq # need to install fairseq\n",
        "!pip install -q python-levenshtein torchsummaryX wandb kaggle pytorch-nlp \n",
        "# You can install other libraries such as torchsummaryX, wandb and so on"
      ],
      "id": "DgYdpT-l7v_C"
    },
    {
      "cell_type": "markdown",
      "metadata": {
        "id": "o52Nmb_976iy"
      },
      "source": [
        "# Kaggle"
      ],
      "id": "o52Nmb_976iy"
    },
    {
      "cell_type": "code",
      "execution_count": 4,
      "metadata": {
        "colab": {
          "base_uri": "https://localhost:8080/"
        },
        "id": "twxcI5cX78YN",
        "outputId": "3f14a93a-e302-4069-8a34-b1eafa8896ed"
      },
      "outputs": [
        {
          "output_type": "stream",
          "name": "stdout",
          "text": [
            "Looking in indexes: https://pypi.org/simple, https://us-python.pkg.dev/colab-wheels/public/simple/\n",
            "Collecting kaggle==1.5.8\n",
            "  Downloading kaggle-1.5.8.tar.gz (59 kB)\n",
            "\u001b[2K     \u001b[90m━━━━━━━━━━━━━━━━━━━━━━━━━━━━━━━━━━━━━━━━\u001b[0m \u001b[32m59.2/59.2 kB\u001b[0m \u001b[31m6.3 MB/s\u001b[0m eta \u001b[36m0:00:00\u001b[0m\n",
            "\u001b[?25h  Preparing metadata (setup.py) ... \u001b[?25l\u001b[?25hdone\n",
            "Building wheels for collected packages: kaggle\n",
            "  Building wheel for kaggle (setup.py) ... \u001b[?25l\u001b[?25hdone\n",
            "  Created wheel for kaggle: filename=kaggle-1.5.8-py3-none-any.whl size=73272 sha256=0fb800159e13246a5f5283a77937b3e80155b4576a33582253e1a6faf90c7062\n",
            "  Stored in directory: /root/.cache/pip/wheels/d4/02/ef/3f8c8d86b8d5388a1d3155876837f1a1a3143ab3fc2ff1ffad\n",
            "Successfully built kaggle\n",
            "Installing collected packages: kaggle\n",
            "  Attempting uninstall: kaggle\n",
            "    Found existing installation: kaggle 1.5.13\n",
            "    Uninstalling kaggle-1.5.13:\n",
            "      Successfully uninstalled kaggle-1.5.13\n",
            "Successfully installed kaggle-1.5.8\n"
          ]
        }
      ],
      "source": [
        "%pip install --upgrade --force-reinstall --no-deps kaggle==1.5.8\n",
        "!mkdir /root/.kaggle/\n",
        "\n",
        "with open(\"/root/.kaggle/kaggle.json\", \"w+\") as f:\n",
        "    f.write('{\"username\":\"ksangam\",\"key\":\"5ebf203383e0e2c1c9daeb15aa4d3283\"}') # TODO: Put your kaggle username & key here\n",
        "\n",
        "!chmod 600 /root/.kaggle/kaggle.json"
      ],
      "id": "twxcI5cX78YN"
    },
    {
      "cell_type": "code",
      "execution_count": 5,
      "metadata": {
        "colab": {
          "base_uri": "https://localhost:8080/"
        },
        "id": "xvhE7WH48ZuK",
        "outputId": "e66e71c7-b439-4f60-e889-c12c2ffef8bf"
      },
      "outputs": [
        {
          "output_type": "stream",
          "name": "stdout",
          "text": [
            "Downloading 11-685-s23-hw5.zip to /content\n",
            "100% 4.84G/4.85G [00:49<00:00, 81.7MB/s]\n",
            "100% 4.85G/4.85G [00:49<00:00, 106MB/s] \n"
          ]
        }
      ],
      "source": [
        "!kaggle competitions download -c 11-685-s23-hw5\n",
        "!mkdir '/content/data'\n",
        "\n",
        "!unzip -qo '/content/11-685-s23-hw5.zip' -d '/content/data'"
      ],
      "id": "xvhE7WH48ZuK"
    },
    {
      "cell_type": "markdown",
      "metadata": {
        "id": "OmEqwUmr8bIR"
      },
      "source": [
        "# Imports"
      ],
      "id": "OmEqwUmr8bIR"
    },
    {
      "cell_type": "code",
      "execution_count": 6,
      "metadata": {
        "colab": {
          "base_uri": "https://localhost:8080/"
        },
        "id": "dd2e63a8-73fe-44ba-952f-6a9b6d1a7150",
        "outputId": "adf6ca8d-7f17-49dc-fe12-d48a9fd1b92d"
      },
      "outputs": [
        {
          "output_type": "stream",
          "name": "stdout",
          "text": [
            "GPU:  Tesla T4\n",
            "Device:  cuda:0\n"
          ]
        }
      ],
      "source": [
        "import torch\n",
        "import random\n",
        "import numpy as np\n",
        "import torch.nn as nn\n",
        "import torch.optim as optim\n",
        "import torch.nn.functional as F\n",
        "from torchsummaryX import summary\n",
        "from torch.utils import data\n",
        "from torch.utils.data import Dataset, DataLoader\n",
        "from torch.nn.utils.rnn import *\n",
        "\n",
        "import torchaudio.transforms as tat\n",
        "import torchaudio.functional as Fa\n",
        "\n",
        "from sklearn.metrics import accuracy_score\n",
        "import matplotlib.pyplot as plt\n",
        "import pandas as pd\n",
        "import seaborn as sns\n",
        "import gc\n",
        "\n",
        "import zipfile\n",
        "import pandas as pd\n",
        "from tqdm import tqdm\n",
        "import os\n",
        "import datetime\n",
        "\n",
        "# imports for decoding and distance calculation\n",
        "import Levenshtein\n",
        "import sys\n",
        "import json\n",
        "\n",
        "has_cuda = torch.cuda.is_available()\n",
        "if has_cuda:\n",
        "  print(\"GPU: \", torch.cuda.get_device_name(0))\n",
        "DEVICE = torch.device(\"cuda:0\" if has_cuda else \"cpu\")\n",
        "print(\"Device: \", DEVICE)"
      ],
      "id": "dd2e63a8-73fe-44ba-952f-6a9b6d1a7150"
    },
    {
      "cell_type": "markdown",
      "metadata": {
        "id": "x8t4UM6G802b"
      },
      "source": [
        "# Dataset and DataLoaders"
      ],
      "id": "x8t4UM6G802b"
    },
    {
      "cell_type": "markdown",
      "metadata": {
        "id": "WahsDNk29slr"
      },
      "source": [
        "You have TODOs which need to be completed in `task/unpaired_audio_text.py` before you run these cells. You just need to replace the paths. You can use the original code base as a reference.\n",
        "\n"
      ],
      "id": "WahsDNk29slr"
    },
    {
      "cell_type": "code",
      "execution_count": 7,
      "metadata": {
        "id": "9cf0e76a-be23-4898-85fc-b8c20c0e9b7d"
      },
      "outputs": [],
      "source": [
        "from task import UnpairedAudioText\n",
        "\n",
        "task = UnpairedAudioText()"
      ],
      "id": "9cf0e76a-be23-4898-85fc-b8c20c0e9b7d"
    },
    {
      "cell_type": "code",
      "execution_count": 8,
      "metadata": {
        "id": "48b5c5b4-f26f-4748-ae21-609a26b0f35a"
      },
      "outputs": [],
      "source": [
        "train_dataloader_args = dict(batch_size=160, #feel free to change these values\n",
        "                             num_workers=0,\n",
        "                            ) if has_cuda else dict(batch_size=64)\n",
        "train_dataloader_args[\"shuffle\"] = True\n",
        "train_dataloader_args[\"collate_fn\"] = task.datasets[\"train\"].collater\n",
        "\n",
        "validation_dataloader_args = train_dataloader_args.copy()\n",
        "validation_dataloader_args[\"shuffle\"] = False\n",
        "validation_dataloader_args[\"collate_fn\"] = task.datasets[\"valid\"].collater\n",
        "\n",
        "train_dataloader = data.DataLoader(task.datasets[\"train\"], **train_dataloader_args)\n",
        "validation_dataloader = data.DataLoader(task.datasets[\"valid\"], **validation_dataloader_args)"
      ],
      "id": "48b5c5b4-f26f-4748-ae21-609a26b0f35a"
    },
    {
      "cell_type": "code",
      "execution_count": 9,
      "metadata": {
        "colab": {
          "base_uri": "https://localhost:8080/"
        },
        "id": "lKTqlJSkFFwY",
        "outputId": "24e81e5a-43f5-467c-f4af-67761e195c99"
      },
      "outputs": [
        {
          "output_type": "stream",
          "name": "stdout",
          "text": [
            "torch.Size([160, 261, 512]) torch.Size([160, 261])\n"
          ]
        }
      ],
      "source": [
        "for data in train_dataloader:\n",
        "    net_input = data['net_input']\n",
        "    features = net_input['features'].to(DEVICE)\n",
        "    padding_mask = net_input['padding_mask'].to(DEVICE)\n",
        "    random_label = net_input['random_label'].to(DEVICE) if 'random_label' in net_input else None\n",
        "    dense_x_only = net_input['dense_x_only'].to(DEVICE) if 'dense_x_only' in net_input else None\n",
        "    segment = net_input['segment'].to(DEVICE) if 'segment' in net_input else None\n",
        "\n",
        "    print(features.shape, padding_mask.shape)\n",
        "    break"
      ],
      "id": "lKTqlJSkFFwY"
    },
    {
      "cell_type": "markdown",
      "metadata": {
        "id": "XVawLoVc-X8J"
      },
      "source": [
        "# Model and Training Configurations"
      ],
      "id": "XVawLoVc-X8J"
    },
    {
      "cell_type": "markdown",
      "metadata": {
        "id": "PrUXnHLM-fjp"
      },
      "source": [
        "You need to complete the TODOs in `model/wav2vec_u.py` before you run this cell. You can use the original codebase as a refernce to complete this.\n",
        "Original Codebase: https://github.com/pytorch/fairseq/blob/main/examples/wav2vec/unsupervised/\n"
      ],
      "id": "PrUXnHLM-fjp"
    },
    {
      "cell_type": "code",
      "execution_count": 10,
      "metadata": {
        "colab": {
          "base_uri": "https://localhost:8080/",
          "height": 1000
        },
        "id": "11242dfc-d46b-4c96-b49a-474d4ce21415",
        "outputId": "2e8c0512-1c9c-4755-e83e-ae5f9b5071e9"
      },
      "outputs": [
        {
          "output_type": "stream",
          "name": "stdout",
          "text": [
            "Wav2vec_U(\n",
            "  (discriminator): Discriminator(\n",
            "    (net): Sequential(\n",
            "      (0): Conv1d(64, 384, kernel_size=(6,), stride=(1,), padding=(5,))\n",
            "      (1): SamePad()\n",
            "      (2): Dropout(p=0.3, inplace=False)\n",
            "      (3): Sequential(\n",
            "        (0): Conv1d(384, 384, kernel_size=(6,), stride=(1,), padding=(5,))\n",
            "        (1): SamePad()\n",
            "        (2): Dropout(p=0.3, inplace=False)\n",
            "        (3): GELU(approximate='none')\n",
            "      )\n",
            "      (4): Conv1d(384, 1, kernel_size=(6,), stride=(1,), padding=(5,))\n",
            "      (5): SamePad()\n",
            "    )\n",
            "  )\n",
            "  (segmenter): JoinSegmenter()\n",
            "  (generator): Generator(\n",
            "    (dropout): Dropout(p=0.1, inplace=False)\n",
            "    (proj): Sequential(\n",
            "      (0): TransposeLast()\n",
            "      (1): Conv1d(512, 64, kernel_size=(4,), stride=(1,), padding=(2,), bias=False)\n",
            "      (2): TransposeLast()\n",
            "    )\n",
            "  )\n",
            ")\n",
            "=======================================================================================\n",
            "                                   Kernel Shape     Output Shape    Params  \\\n",
            "Layer                                                                        \n",
            "0_generator.Dropout_dropout                   -  [160, 261, 512]         -   \n",
            "1_generator.proj.TransposeLast_0              -  [160, 512, 261]         -   \n",
            "2_generator.proj.Conv1d_1          [512, 64, 4]   [160, 64, 262]  131.072k   \n",
            "3_generator.proj.TransposeLast_2              -   [160, 262, 64]         -   \n",
            "4_discriminator.net.Conv1d_0       [64, 384, 6]  [160, 384, 267]   147.84k   \n",
            "5_discriminator.net.SamePad_1                 -  [160, 384, 262]         -   \n",
            "6_discriminator.net.Dropout_2                 -  [160, 384, 262]         -   \n",
            "7_discriminator.net.3.Conv1d_0    [384, 384, 6]  [160, 384, 267]   885.12k   \n",
            "8_discriminator.net.3.SamePad_1               -  [160, 384, 262]         -   \n",
            "9_discriminator.net.3.Dropout_2               -  [160, 384, 262]         -   \n",
            "10_discriminator.net.3.GELU_3                 -  [160, 384, 262]         -   \n",
            "11_discriminator.net.Conv1d_4       [384, 1, 6]    [160, 1, 267]    2.305k   \n",
            "12_discriminator.net.SamePad_5                -    [160, 1, 262]         -   \n",
            "13_discriminator.net.Conv1d_0      [64, 384, 6]  [160, 384, 198]         -   \n",
            "14_discriminator.net.SamePad_1                -  [160, 384, 193]         -   \n",
            "15_discriminator.net.Dropout_2                -  [160, 384, 193]         -   \n",
            "16_discriminator.net.3.Conv1d_0   [384, 384, 6]  [160, 384, 198]         -   \n",
            "17_discriminator.net.3.SamePad_1              -  [160, 384, 193]         -   \n",
            "18_discriminator.net.3.Dropout_2              -  [160, 384, 193]         -   \n",
            "19_discriminator.net.3.GELU_3                 -  [160, 384, 193]         -   \n",
            "20_discriminator.net.Conv1d_4       [384, 1, 6]    [160, 1, 198]         -   \n",
            "21_discriminator.net.SamePad_5                -    [160, 1, 193]         -   \n",
            "\n",
            "                                    Mult-Adds  \n",
            "Layer                                          \n",
            "0_generator.Dropout_dropout                 -  \n",
            "1_generator.proj.TransposeLast_0            -  \n",
            "2_generator.proj.Conv1d_1          34.340864M  \n",
            "3_generator.proj.TransposeLast_2            -  \n",
            "4_discriminator.net.Conv1d_0       39.370752M  \n",
            "5_discriminator.net.SamePad_1               -  \n",
            "6_discriminator.net.Dropout_2               -  \n",
            "7_discriminator.net.3.Conv1d_0    236.224512M  \n",
            "8_discriminator.net.3.SamePad_1             -  \n",
            "9_discriminator.net.3.Dropout_2             -  \n",
            "10_discriminator.net.3.GELU_3               -  \n",
            "11_discriminator.net.Conv1d_4        615.168k  \n",
            "12_discriminator.net.SamePad_5              -  \n",
            "13_discriminator.net.Conv1d_0      29.196288M  \n",
            "14_discriminator.net.SamePad_1              -  \n",
            "15_discriminator.net.Dropout_2              -  \n",
            "16_discriminator.net.3.Conv1d_0   175.177728M  \n",
            "17_discriminator.net.3.SamePad_1            -  \n",
            "18_discriminator.net.3.Dropout_2            -  \n",
            "19_discriminator.net.3.GELU_3               -  \n",
            "20_discriminator.net.Conv1d_4        456.192k  \n",
            "21_discriminator.net.SamePad_5              -  \n",
            "---------------------------------------------------------------------------------------\n",
            "                           Totals\n",
            "Total params            1.166337M\n",
            "Trainable params        1.166337M\n",
            "Non-trainable params          0.0\n",
            "Mult-Adds             515.381504M\n",
            "=======================================================================================\n"
          ]
        },
        {
          "output_type": "stream",
          "name": "stderr",
          "text": [
            "/usr/local/lib/python3.9/dist-packages/torchsummaryX/torchsummaryX.py:101: FutureWarning: The default value of numeric_only in DataFrame.sum is deprecated. In a future version, it will default to False. In addition, specifying 'numeric_only=None' is deprecated. Select only valid columns or specify the value of numeric_only to silence this warning.\n",
            "  df_sum = df.sum()\n"
          ]
        },
        {
          "output_type": "execute_result",
          "data": {
            "text/plain": [
              "                                   Kernel Shape     Output Shape    Params  \\\n",
              "Layer                                                                        \n",
              "0_generator.Dropout_dropout                   -  [160, 261, 512]       NaN   \n",
              "1_generator.proj.TransposeLast_0              -  [160, 512, 261]       NaN   \n",
              "2_generator.proj.Conv1d_1          [512, 64, 4]   [160, 64, 262]  131072.0   \n",
              "3_generator.proj.TransposeLast_2              -   [160, 262, 64]       NaN   \n",
              "4_discriminator.net.Conv1d_0       [64, 384, 6]  [160, 384, 267]  147840.0   \n",
              "5_discriminator.net.SamePad_1                 -  [160, 384, 262]       NaN   \n",
              "6_discriminator.net.Dropout_2                 -  [160, 384, 262]       NaN   \n",
              "7_discriminator.net.3.Conv1d_0    [384, 384, 6]  [160, 384, 267]  885120.0   \n",
              "8_discriminator.net.3.SamePad_1               -  [160, 384, 262]       NaN   \n",
              "9_discriminator.net.3.Dropout_2               -  [160, 384, 262]       NaN   \n",
              "10_discriminator.net.3.GELU_3                 -  [160, 384, 262]       NaN   \n",
              "11_discriminator.net.Conv1d_4       [384, 1, 6]    [160, 1, 267]    2305.0   \n",
              "12_discriminator.net.SamePad_5                -    [160, 1, 262]       NaN   \n",
              "13_discriminator.net.Conv1d_0      [64, 384, 6]  [160, 384, 198]       NaN   \n",
              "14_discriminator.net.SamePad_1                -  [160, 384, 193]       NaN   \n",
              "15_discriminator.net.Dropout_2                -  [160, 384, 193]       NaN   \n",
              "16_discriminator.net.3.Conv1d_0   [384, 384, 6]  [160, 384, 198]       NaN   \n",
              "17_discriminator.net.3.SamePad_1              -  [160, 384, 193]       NaN   \n",
              "18_discriminator.net.3.Dropout_2              -  [160, 384, 193]       NaN   \n",
              "19_discriminator.net.3.GELU_3                 -  [160, 384, 193]       NaN   \n",
              "20_discriminator.net.Conv1d_4       [384, 1, 6]    [160, 1, 198]       NaN   \n",
              "21_discriminator.net.SamePad_5                -    [160, 1, 193]       NaN   \n",
              "\n",
              "                                    Mult-Adds  \n",
              "Layer                                          \n",
              "0_generator.Dropout_dropout               NaN  \n",
              "1_generator.proj.TransposeLast_0          NaN  \n",
              "2_generator.proj.Conv1d_1          34340864.0  \n",
              "3_generator.proj.TransposeLast_2          NaN  \n",
              "4_discriminator.net.Conv1d_0       39370752.0  \n",
              "5_discriminator.net.SamePad_1             NaN  \n",
              "6_discriminator.net.Dropout_2             NaN  \n",
              "7_discriminator.net.3.Conv1d_0    236224512.0  \n",
              "8_discriminator.net.3.SamePad_1           NaN  \n",
              "9_discriminator.net.3.Dropout_2           NaN  \n",
              "10_discriminator.net.3.GELU_3             NaN  \n",
              "11_discriminator.net.Conv1d_4        615168.0  \n",
              "12_discriminator.net.SamePad_5            NaN  \n",
              "13_discriminator.net.Conv1d_0      29196288.0  \n",
              "14_discriminator.net.SamePad_1            NaN  \n",
              "15_discriminator.net.Dropout_2            NaN  \n",
              "16_discriminator.net.3.Conv1d_0   175177728.0  \n",
              "17_discriminator.net.3.SamePad_1          NaN  \n",
              "18_discriminator.net.3.Dropout_2          NaN  \n",
              "19_discriminator.net.3.GELU_3             NaN  \n",
              "20_discriminator.net.Conv1d_4        456192.0  \n",
              "21_discriminator.net.SamePad_5            NaN  "
            ],
            "text/html": [
              "\n",
              "  <div id=\"df-83ac527e-a01e-48e2-bc2c-2163946511a8\">\n",
              "    <div class=\"colab-df-container\">\n",
              "      <div>\n",
              "<style scoped>\n",
              "    .dataframe tbody tr th:only-of-type {\n",
              "        vertical-align: middle;\n",
              "    }\n",
              "\n",
              "    .dataframe tbody tr th {\n",
              "        vertical-align: top;\n",
              "    }\n",
              "\n",
              "    .dataframe thead th {\n",
              "        text-align: right;\n",
              "    }\n",
              "</style>\n",
              "<table border=\"1\" class=\"dataframe\">\n",
              "  <thead>\n",
              "    <tr style=\"text-align: right;\">\n",
              "      <th></th>\n",
              "      <th>Kernel Shape</th>\n",
              "      <th>Output Shape</th>\n",
              "      <th>Params</th>\n",
              "      <th>Mult-Adds</th>\n",
              "    </tr>\n",
              "    <tr>\n",
              "      <th>Layer</th>\n",
              "      <th></th>\n",
              "      <th></th>\n",
              "      <th></th>\n",
              "      <th></th>\n",
              "    </tr>\n",
              "  </thead>\n",
              "  <tbody>\n",
              "    <tr>\n",
              "      <th>0_generator.Dropout_dropout</th>\n",
              "      <td>-</td>\n",
              "      <td>[160, 261, 512]</td>\n",
              "      <td>NaN</td>\n",
              "      <td>NaN</td>\n",
              "    </tr>\n",
              "    <tr>\n",
              "      <th>1_generator.proj.TransposeLast_0</th>\n",
              "      <td>-</td>\n",
              "      <td>[160, 512, 261]</td>\n",
              "      <td>NaN</td>\n",
              "      <td>NaN</td>\n",
              "    </tr>\n",
              "    <tr>\n",
              "      <th>2_generator.proj.Conv1d_1</th>\n",
              "      <td>[512, 64, 4]</td>\n",
              "      <td>[160, 64, 262]</td>\n",
              "      <td>131072.0</td>\n",
              "      <td>34340864.0</td>\n",
              "    </tr>\n",
              "    <tr>\n",
              "      <th>3_generator.proj.TransposeLast_2</th>\n",
              "      <td>-</td>\n",
              "      <td>[160, 262, 64]</td>\n",
              "      <td>NaN</td>\n",
              "      <td>NaN</td>\n",
              "    </tr>\n",
              "    <tr>\n",
              "      <th>4_discriminator.net.Conv1d_0</th>\n",
              "      <td>[64, 384, 6]</td>\n",
              "      <td>[160, 384, 267]</td>\n",
              "      <td>147840.0</td>\n",
              "      <td>39370752.0</td>\n",
              "    </tr>\n",
              "    <tr>\n",
              "      <th>5_discriminator.net.SamePad_1</th>\n",
              "      <td>-</td>\n",
              "      <td>[160, 384, 262]</td>\n",
              "      <td>NaN</td>\n",
              "      <td>NaN</td>\n",
              "    </tr>\n",
              "    <tr>\n",
              "      <th>6_discriminator.net.Dropout_2</th>\n",
              "      <td>-</td>\n",
              "      <td>[160, 384, 262]</td>\n",
              "      <td>NaN</td>\n",
              "      <td>NaN</td>\n",
              "    </tr>\n",
              "    <tr>\n",
              "      <th>7_discriminator.net.3.Conv1d_0</th>\n",
              "      <td>[384, 384, 6]</td>\n",
              "      <td>[160, 384, 267]</td>\n",
              "      <td>885120.0</td>\n",
              "      <td>236224512.0</td>\n",
              "    </tr>\n",
              "    <tr>\n",
              "      <th>8_discriminator.net.3.SamePad_1</th>\n",
              "      <td>-</td>\n",
              "      <td>[160, 384, 262]</td>\n",
              "      <td>NaN</td>\n",
              "      <td>NaN</td>\n",
              "    </tr>\n",
              "    <tr>\n",
              "      <th>9_discriminator.net.3.Dropout_2</th>\n",
              "      <td>-</td>\n",
              "      <td>[160, 384, 262]</td>\n",
              "      <td>NaN</td>\n",
              "      <td>NaN</td>\n",
              "    </tr>\n",
              "    <tr>\n",
              "      <th>10_discriminator.net.3.GELU_3</th>\n",
              "      <td>-</td>\n",
              "      <td>[160, 384, 262]</td>\n",
              "      <td>NaN</td>\n",
              "      <td>NaN</td>\n",
              "    </tr>\n",
              "    <tr>\n",
              "      <th>11_discriminator.net.Conv1d_4</th>\n",
              "      <td>[384, 1, 6]</td>\n",
              "      <td>[160, 1, 267]</td>\n",
              "      <td>2305.0</td>\n",
              "      <td>615168.0</td>\n",
              "    </tr>\n",
              "    <tr>\n",
              "      <th>12_discriminator.net.SamePad_5</th>\n",
              "      <td>-</td>\n",
              "      <td>[160, 1, 262]</td>\n",
              "      <td>NaN</td>\n",
              "      <td>NaN</td>\n",
              "    </tr>\n",
              "    <tr>\n",
              "      <th>13_discriminator.net.Conv1d_0</th>\n",
              "      <td>[64, 384, 6]</td>\n",
              "      <td>[160, 384, 198]</td>\n",
              "      <td>NaN</td>\n",
              "      <td>29196288.0</td>\n",
              "    </tr>\n",
              "    <tr>\n",
              "      <th>14_discriminator.net.SamePad_1</th>\n",
              "      <td>-</td>\n",
              "      <td>[160, 384, 193]</td>\n",
              "      <td>NaN</td>\n",
              "      <td>NaN</td>\n",
              "    </tr>\n",
              "    <tr>\n",
              "      <th>15_discriminator.net.Dropout_2</th>\n",
              "      <td>-</td>\n",
              "      <td>[160, 384, 193]</td>\n",
              "      <td>NaN</td>\n",
              "      <td>NaN</td>\n",
              "    </tr>\n",
              "    <tr>\n",
              "      <th>16_discriminator.net.3.Conv1d_0</th>\n",
              "      <td>[384, 384, 6]</td>\n",
              "      <td>[160, 384, 198]</td>\n",
              "      <td>NaN</td>\n",
              "      <td>175177728.0</td>\n",
              "    </tr>\n",
              "    <tr>\n",
              "      <th>17_discriminator.net.3.SamePad_1</th>\n",
              "      <td>-</td>\n",
              "      <td>[160, 384, 193]</td>\n",
              "      <td>NaN</td>\n",
              "      <td>NaN</td>\n",
              "    </tr>\n",
              "    <tr>\n",
              "      <th>18_discriminator.net.3.Dropout_2</th>\n",
              "      <td>-</td>\n",
              "      <td>[160, 384, 193]</td>\n",
              "      <td>NaN</td>\n",
              "      <td>NaN</td>\n",
              "    </tr>\n",
              "    <tr>\n",
              "      <th>19_discriminator.net.3.GELU_3</th>\n",
              "      <td>-</td>\n",
              "      <td>[160, 384, 193]</td>\n",
              "      <td>NaN</td>\n",
              "      <td>NaN</td>\n",
              "    </tr>\n",
              "    <tr>\n",
              "      <th>20_discriminator.net.Conv1d_4</th>\n",
              "      <td>[384, 1, 6]</td>\n",
              "      <td>[160, 1, 198]</td>\n",
              "      <td>NaN</td>\n",
              "      <td>456192.0</td>\n",
              "    </tr>\n",
              "    <tr>\n",
              "      <th>21_discriminator.net.SamePad_5</th>\n",
              "      <td>-</td>\n",
              "      <td>[160, 1, 193]</td>\n",
              "      <td>NaN</td>\n",
              "      <td>NaN</td>\n",
              "    </tr>\n",
              "  </tbody>\n",
              "</table>\n",
              "</div>\n",
              "      <button class=\"colab-df-convert\" onclick=\"convertToInteractive('df-83ac527e-a01e-48e2-bc2c-2163946511a8')\"\n",
              "              title=\"Convert this dataframe to an interactive table.\"\n",
              "              style=\"display:none;\">\n",
              "        \n",
              "  <svg xmlns=\"http://www.w3.org/2000/svg\" height=\"24px\"viewBox=\"0 0 24 24\"\n",
              "       width=\"24px\">\n",
              "    <path d=\"M0 0h24v24H0V0z\" fill=\"none\"/>\n",
              "    <path d=\"M18.56 5.44l.94 2.06.94-2.06 2.06-.94-2.06-.94-.94-2.06-.94 2.06-2.06.94zm-11 1L8.5 8.5l.94-2.06 2.06-.94-2.06-.94L8.5 2.5l-.94 2.06-2.06.94zm10 10l.94 2.06.94-2.06 2.06-.94-2.06-.94-.94-2.06-.94 2.06-2.06.94z\"/><path d=\"M17.41 7.96l-1.37-1.37c-.4-.4-.92-.59-1.43-.59-.52 0-1.04.2-1.43.59L10.3 9.45l-7.72 7.72c-.78.78-.78 2.05 0 2.83L4 21.41c.39.39.9.59 1.41.59.51 0 1.02-.2 1.41-.59l7.78-7.78 2.81-2.81c.8-.78.8-2.07 0-2.86zM5.41 20L4 18.59l7.72-7.72 1.47 1.35L5.41 20z\"/>\n",
              "  </svg>\n",
              "      </button>\n",
              "      \n",
              "  <style>\n",
              "    .colab-df-container {\n",
              "      display:flex;\n",
              "      flex-wrap:wrap;\n",
              "      gap: 12px;\n",
              "    }\n",
              "\n",
              "    .colab-df-convert {\n",
              "      background-color: #E8F0FE;\n",
              "      border: none;\n",
              "      border-radius: 50%;\n",
              "      cursor: pointer;\n",
              "      display: none;\n",
              "      fill: #1967D2;\n",
              "      height: 32px;\n",
              "      padding: 0 0 0 0;\n",
              "      width: 32px;\n",
              "    }\n",
              "\n",
              "    .colab-df-convert:hover {\n",
              "      background-color: #E2EBFA;\n",
              "      box-shadow: 0px 1px 2px rgba(60, 64, 67, 0.3), 0px 1px 3px 1px rgba(60, 64, 67, 0.15);\n",
              "      fill: #174EA6;\n",
              "    }\n",
              "\n",
              "    [theme=dark] .colab-df-convert {\n",
              "      background-color: #3B4455;\n",
              "      fill: #D2E3FC;\n",
              "    }\n",
              "\n",
              "    [theme=dark] .colab-df-convert:hover {\n",
              "      background-color: #434B5C;\n",
              "      box-shadow: 0px 1px 3px 1px rgba(0, 0, 0, 0.15);\n",
              "      filter: drop-shadow(0px 1px 2px rgba(0, 0, 0, 0.3));\n",
              "      fill: #FFFFFF;\n",
              "    }\n",
              "  </style>\n",
              "\n",
              "      <script>\n",
              "        const buttonEl =\n",
              "          document.querySelector('#df-83ac527e-a01e-48e2-bc2c-2163946511a8 button.colab-df-convert');\n",
              "        buttonEl.style.display =\n",
              "          google.colab.kernel.accessAllowed ? 'block' : 'none';\n",
              "\n",
              "        async function convertToInteractive(key) {\n",
              "          const element = document.querySelector('#df-83ac527e-a01e-48e2-bc2c-2163946511a8');\n",
              "          const dataTable =\n",
              "            await google.colab.kernel.invokeFunction('convertToInteractive',\n",
              "                                                     [key], {});\n",
              "          if (!dataTable) return;\n",
              "\n",
              "          const docLinkHtml = 'Like what you see? Visit the ' +\n",
              "            '<a target=\"_blank\" href=https://colab.research.google.com/notebooks/data_table.ipynb>data table notebook</a>'\n",
              "            + ' to learn more about interactive tables.';\n",
              "          element.innerHTML = '';\n",
              "          dataTable['output_type'] = 'display_data';\n",
              "          await google.colab.output.renderOutput(dataTable, element);\n",
              "          const docLink = document.createElement('div');\n",
              "          docLink.innerHTML = docLinkHtml;\n",
              "          element.appendChild(docLink);\n",
              "        }\n",
              "      </script>\n",
              "    </div>\n",
              "  </div>\n",
              "  "
            ]
          },
          "metadata": {},
          "execution_count": 10
        }
      ],
      "source": [
        "from model import Wav2vec_U\n",
        "\n",
        "model = Wav2vec_U(task.target_dictionary).to(DEVICE)\n",
        "print(model)\n",
        "\n",
        "features, padding_mask = features.to(DEVICE), padding_mask.to(DEVICE)\n",
        "summary(model, features, padding_mask, random_label, dense_x_only, segment)"
      ],
      "id": "11242dfc-d46b-4c96-b49a-474d4ce21415"
    },
    {
      "cell_type": "markdown",
      "metadata": {
        "id": "gvYhE31qF09H"
      },
      "source": [
        "For a GAN, you need optimizers for both the discriminator and the generator. Configure the optimizers according to fairseq's configuration given in the link:\n",
        "https://github.com/pytorch/fairseq/blob/main/examples/wav2vec/unsupervised/config/gan/w2vu.yaml\n"
      ],
      "id": "gvYhE31qF09H"
    },
    {
      "cell_type": "code",
      "execution_count": 11,
      "metadata": {
        "id": "TsaN6_bSU6Jt"
      },
      "outputs": [],
      "source": [
        "config = {\n",
        "    'epochs': 3000\n",
        "}"
      ],
      "id": "TsaN6_bSU6Jt"
    },
    {
      "cell_type": "code",
      "execution_count": 12,
      "metadata": {
        "id": "5c4d1cf5-e9b8-46d6-a031-bc3c63607fc4"
      },
      "outputs": [],
      "source": [
        "from itertools import chain\n",
        "\n",
        "num_epochs = config['epochs']\n",
        "epoch_start = 1\n",
        "\n",
        "if epoch_start == 1:\n",
        "    # define 2 optimizers for different parts of the model at the start of the training\n",
        "    optimizer = {\n",
        "      \"discriminator\": optim.Adam(\n",
        "          model.discriminator.parameters(),\n",
        "          # TODO: define lr, weight decay, betas and other relavant parameters\n",
        "          lr=0.0005,\n",
        "          betas=(0.5, 0.98),\n",
        "          eps=1e-6,\n",
        "          weight_decay=0.0001,\n",
        "          amsgrad=False\n",
        "        ),\n",
        "      \"generator\": optim.Adam(\n",
        "          chain(model.generator.parameters(), model.segmenter.parameters()),\n",
        "          # TODO: define lr, weight decay, betas and other relavant parameters\n",
        "          lr=0.0004,\n",
        "          betas=(0.5, 0.98),\n",
        "          eps=1e-6,\n",
        "          weight_decay=0,\n",
        "          amsgrad=False\n",
        "        )\n",
        "    }\n",
        "    \n",
        "# Optional TODO: Consider using mixed-precision to speed up training\n",
        "scaler = torch.cuda.amp.GradScaler()"
      ],
      "id": "5c4d1cf5-e9b8-46d6-a031-bc3c63607fc4"
    },
    {
      "cell_type": "markdown",
      "metadata": {
        "id": "6pJtsdZqFBBt"
      },
      "source": [
        "A bunch of TODOs in the next cell. <br><br>\n",
        "Tip: Instead of completing whole `run_model` function and the debugging while running the experiment section, you can create a new cell and code your own sanity check. It may help you to understand what is returned from the dataloader, what needs to be pushed to the device, how model is called and what `loss_stats` are."
      ],
      "id": "6pJtsdZqFBBt"
    },
    {
      "cell_type": "code",
      "execution_count": 13,
      "metadata": {
        "id": "899ce50f-c973-46b1-b9c2-6a49bfbf0fab"
      },
      "outputs": [],
      "source": [
        "# Hint: You may find pdb to be a great tool in helping you understand returned values\n",
        "# from the dataloader and the model. Usage:\n",
        "# import pdb\n",
        "# pdb.set_trace()\n",
        "\n",
        "def run_model(model, dataloader):\n",
        "    cumulative_stats = dict()\n",
        "\n",
        "    for data in tqdm(dataloader, desc=\"Train\" if model.training else \"Eval\"):\n",
        "\n",
        "        for key in data['net_input'].keys():\n",
        "            data['net_input'][key] = data['net_input'][key].to(DEVICE)\n",
        "\n",
        "        if model.training:\n",
        "            # TODO: We are training the model. Might need to do something with the optimizer?\n",
        "            # Remember that you are training a GAN. Both optimizers won't be used at the same time.\n",
        "            # You may have to write an if statement or something similar to use the specific optimizer.\n",
        "            # You may have to use the discrim_step() attribute in the Wav2vec_U class\n",
        "            group = model.get_groups_for_update() \n",
        "            optimizer[group].zero_grad()\n",
        "\n",
        "            with torch.cuda.amp.autocast():\n",
        "                # loss_stats = model(features, padding_mask, random_label, dense_x_only, segment) # forward pass\n",
        "                loss_stats = model(**data['net_input'])\n",
        "            \n",
        "                total_loss = 0.0 \n",
        "\n",
        "                # TODO: accumulate losses into total_loss for backprop during training\n",
        "                # loss_stats[\"losses\"] is a dictionary containing various loss components\n",
        "                # some losses can be None if it's not used\n",
        "                for loss in loss_stats['losses'].values():\n",
        "                    if loss is not None:\n",
        "                        total_loss += loss\n",
        "\n",
        "                total_loss /= features.size(0) # average by batch\n",
        "\n",
        "            # Look at what the get_groups_for_update() function does in the Wav2vec_U class\n",
        "            # Can you try to think how you can use discrim_step() previously?\n",
        "            # TODO: backprop loss and run the corresponding optimizer (Tip: See what 'group' is)\n",
        "            scaler.scale(total_loss).backward()\n",
        "\n",
        "            scaler.step(optimizer[group])\n",
        "            scaler.update()\n",
        "\n",
        "        else:\n",
        "            # validation\n",
        "            loss_stats = task.valid_step(data, model)\n",
        "\n",
        "\n",
        "        # accumulate batch stats\n",
        "        for k, v in loss_stats.items():\n",
        "            if type(v) is dict:\n",
        "                # flatten inner dictionary\n",
        "                key_value_pairs = [(k + \"_\" + kn, vn) for kn, vn in v.items()]\n",
        "            else:\n",
        "                key_value_pairs = [(k, v)]\n",
        "\n",
        "            # TODO: accmulate all statistics into cumulative_stats, a dictionary\n",
        "            # NOTE: you should convert any returned tensors to either values or numpy arrays\n",
        "            # cumulative_stats shouldn't have nested dictionaries\n",
        "            for k, v in key_value_pairs:\n",
        "                if v is not None:\n",
        "                    if k in cumulative_stats:\n",
        "                        cumulative_stats[k] += v\n",
        "                    else:\n",
        "                        cumulative_stats[k] = v\n",
        "\n",
        "          \n",
        "    # average stats over the dataset\n",
        "    # Note that some metrics are already averaged over batch, so the result won't make sense\n",
        "    # You can fix them if needed\n",
        "    for k, v in cumulative_stats.items():\n",
        "        v = v / len(dataloader.dataset)\n",
        "        if type(v) is np.ndarray:\n",
        "            v = v.tolist()\n",
        "        cumulative_stats[k] = v\n",
        "\n",
        "    return cumulative_stats"
      ],
      "id": "899ce50f-c973-46b1-b9c2-6a49bfbf0fab"
    },
    {
      "cell_type": "markdown",
      "metadata": {
        "id": "L7S_swTQMa9i"
      },
      "source": [
        "# WandB"
      ],
      "id": "L7S_swTQMa9i"
    },
    {
      "cell_type": "code",
      "execution_count": 14,
      "metadata": {
        "colab": {
          "base_uri": "https://localhost:8080/"
        },
        "id": "s43XZYmFMb-d",
        "outputId": "6e4198dd-4d6b-41b8-f7b8-57bc484395c3"
      },
      "outputs": [
        {
          "output_type": "stream",
          "name": "stderr",
          "text": [
            "\u001b[34m\u001b[1mwandb\u001b[0m: W&B API key is configured. Use \u001b[1m`wandb login --relogin`\u001b[0m to force relogin\n",
            "\u001b[34m\u001b[1mwandb\u001b[0m: \u001b[33mWARNING\u001b[0m If you're specifying your api key in code, ensure this code is not shared publicly.\n",
            "\u001b[34m\u001b[1mwandb\u001b[0m: \u001b[33mWARNING\u001b[0m Consider setting the WANDB_API_KEY environment variable, or running `wandb login` from the command line.\n",
            "\u001b[34m\u001b[1mwandb\u001b[0m: Appending key for api.wandb.ai to your netrc file: /root/.netrc\n"
          ]
        },
        {
          "output_type": "execute_result",
          "data": {
            "text/plain": [
              "True"
            ]
          },
          "metadata": {},
          "execution_count": 14
        }
      ],
      "source": [
        "import wandb\n",
        "wandb.login(key=\"4a2e1698e528ee25e5c148a3dc6773bb92e5cfac\")"
      ],
      "id": "s43XZYmFMb-d"
    },
    {
      "cell_type": "code",
      "execution_count": 15,
      "metadata": {
        "colab": {
          "base_uri": "https://localhost:8080/",
          "height": 684
        },
        "id": "HNBTkohyMce_",
        "outputId": "4b904128-adfa-4760-ccfa-6e353574675d"
      },
      "outputs": [
        {
          "output_type": "stream",
          "name": "stderr",
          "text": [
            "\u001b[34m\u001b[1mwandb\u001b[0m: Currently logged in as: \u001b[33mksangam\u001b[0m (\u001b[33midlhw5\u001b[0m). Use \u001b[1m`wandb login --relogin`\u001b[0m to force relogin\n"
          ]
        },
        {
          "output_type": "display_data",
          "data": {
            "text/plain": [
              "<IPython.core.display.HTML object>"
            ],
            "text/html": [
              "Tracking run with wandb version 0.15.0"
            ]
          },
          "metadata": {}
        },
        {
          "output_type": "display_data",
          "data": {
            "text/plain": [
              "<IPython.core.display.HTML object>"
            ],
            "text/html": [
              "Run data is saved locally in <code>/content/wandb/run-20230425_121633-pl05makh</code>"
            ]
          },
          "metadata": {}
        },
        {
          "output_type": "display_data",
          "data": {
            "text/plain": [
              "<IPython.core.display.HTML object>"
            ],
            "text/html": [
              "Syncing run <strong><a href='https://wandb.ai/idlhw5/hw5/runs/pl05makh' target=\"_blank\">wav2vec-u</a></strong> to <a href='https://wandb.ai/idlhw5/hw5' target=\"_blank\">Weights & Biases</a> (<a href='https://wandb.me/run' target=\"_blank\">docs</a>)<br/>"
            ]
          },
          "metadata": {}
        },
        {
          "output_type": "display_data",
          "data": {
            "text/plain": [
              "<IPython.core.display.HTML object>"
            ],
            "text/html": [
              " View project at <a href='https://wandb.ai/idlhw5/hw5' target=\"_blank\">https://wandb.ai/idlhw5/hw5</a>"
            ]
          },
          "metadata": {}
        },
        {
          "output_type": "display_data",
          "data": {
            "text/plain": [
              "<IPython.core.display.HTML object>"
            ],
            "text/html": [
              " View run at <a href='https://wandb.ai/idlhw5/hw5/runs/pl05makh' target=\"_blank\">https://wandb.ai/idlhw5/hw5/runs/pl05makh</a>"
            ]
          },
          "metadata": {}
        }
      ],
      "source": [
        "run = wandb.init(\n",
        "    name = 'wav2vec-u', ## Wandb creates random run names if you skip this field\n",
        "    reinit = True, ### Allows reinitalizing runs when you re-run this cell\n",
        "    # id = 'drko6xof', ### Insert specific run id here if you want to resume a previous run\n",
        "    # resume = \"must\", ### You need this to resume previous runs, but comment out reinit = True when using this\n",
        "    project = \"hw5\", ### Project should be created in your wandb account \n",
        "    entity = 'idlhw5'\n",
        "    # config = config ### Wandb Config for your run\n",
        ")"
      ],
      "id": "HNBTkohyMce_"
    },
    {
      "cell_type": "code",
      "execution_count": 16,
      "metadata": {
        "id": "ct41ly6BMjsJ"
      },
      "outputs": [],
      "source": [
        "def save_model(model, optimizer_gen, optimizer_dis, epoch, path='./best.pt'):\n",
        "    torch.save(\n",
        "        {'model_state_dict'         : model.state_dict(),\n",
        "         'optimizer_gen_state_dict'     : optimizer_gen.state_dict(),\n",
        "         'optimizer_dis_state_dict'     : optimizer_dis.state_dict(),\n",
        "         'epoch'                    : epoch}, \n",
        "         path\n",
        "    )\n",
        "\n",
        "def load_model(path, model, optimizer_gen, optimizer_dis):\n",
        "\n",
        "    checkpoint = torch.load(path)\n",
        "    model.load_state_dict(checkpoint['model_state_dict'])\n",
        "\n",
        "    optimizer_gen.load_state_dict(checkpoint['optimizer_gen_state_dict'])\n",
        "    optimizer_dis.load_state_dict(checkpoint['optimizer_dis_state_dict'])\n",
        "        \n",
        "    epoch   = checkpoint['epoch']\n",
        "\n",
        "    return [model, optimizer_gen, optimizer_dis, epoch]"
      ],
      "id": "ct41ly6BMjsJ"
    },
    {
      "cell_type": "markdown",
      "metadata": {
        "id": "-P7cxaSNGi8w"
      },
      "source": [
        "# Experiments"
      ],
      "id": "-P7cxaSNGi8w"
    },
    {
      "cell_type": "code",
      "execution_count": 17,
      "metadata": {
        "colab": {
          "base_uri": "https://localhost:8080/"
        },
        "id": "aYvZP-lV9ufw",
        "outputId": "3a3e9560-9b81-4c29-ba3d-85cc695d7783"
      },
      "outputs": [
        {
          "output_type": "stream",
          "name": "stdout",
          "text": [
            "./drive/MyDrive/DeepLearning/h5/w2v04:25_12:16:37.pth\n"
          ]
        }
      ],
      "source": [
        "from datetime import datetime\n",
        "now = datetime.now() # current date and time\n",
        "dt = now.strftime(\"%m:%d_%H:%M:%S\")\n",
        "fn = 'w2v' + f'{dt}'\n",
        "drive_dir = './drive/MyDrive/DeepLearning/h5/'\n",
        "path = drive_dir + fn + '.pth'\n",
        "print(path)"
      ],
      "id": "aYvZP-lV9ufw"
    },
    {
      "cell_type": "code",
      "execution_count": null,
      "metadata": {
        "colab": {
          "base_uri": "https://localhost:8080/"
        },
        "id": "09a4fe6c-a9e4-4c6e-9483-4fc4e1f5d3f9",
        "outputId": "c32e3cbf-31f8-4f41-ad6f-66485c0c145e"
      },
      "outputs": [
        {
          "metadata": {
            "tags": null
          },
          "name": "stderr",
          "output_type": "stream",
          "text": [
            "Training for 3000 epochs\n",
            "Epoch 1\n",
            "Train: 100%|██████████| 82/82 [00:37<00:00,  2.20it/s]\n",
            "Epoch 2\n",
            "Train: 100%|██████████| 82/82 [00:30<00:00,  2.69it/s]\n",
            "Epoch 3\n",
            "Train: 100%|██████████| 82/82 [00:32<00:00,  2.52it/s]\n",
            "Epoch 4\n",
            "Train: 100%|██████████| 82/82 [00:31<00:00,  2.61it/s]\n",
            "Epoch 5\n",
            "Train: 100%|██████████| 82/82 [00:31<00:00,  2.57it/s]\n",
            "Epoch 6\n",
            "Train: 100%|██████████| 82/82 [00:30<00:00,  2.69it/s]\n",
            "Epoch 7\n",
            "Train: 100%|██████████| 82/82 [00:31<00:00,  2.59it/s]\n",
            "Epoch 8\n",
            "Train: 100%|██████████| 82/82 [00:30<00:00,  2.71it/s]\n",
            "Epoch 9\n",
            "Train: 100%|██████████| 82/82 [00:31<00:00,  2.59it/s]\n",
            "Epoch 10\n",
            "Train: 100%|██████████| 82/82 [00:30<00:00,  2.72it/s]\n",
            "Eval: 100%|██████████| 7/7 [00:02<00:00,  2.83it/s]\n",
            "Epoch 11\n"
          ]
        },
        {
          "metadata": {
            "tags": null
          },
          "name": "stdout",
          "output_type": "stream",
          "text": [
            "Saved model\n",
            "\tVal Dist 114.8190\t\n"
          ]
        },
        {
          "metadata": {
            "tags": null
          },
          "name": "stderr",
          "output_type": "stream",
          "text": [
            "Train: 100%|██████████| 82/82 [00:31<00:00,  2.59it/s]\n",
            "Epoch 12\n",
            "Train: 100%|██████████| 82/82 [00:30<00:00,  2.71it/s]\n",
            "Epoch 13\n",
            "Train: 100%|██████████| 82/82 [00:31<00:00,  2.58it/s]\n",
            "Epoch 14\n",
            "Train: 100%|██████████| 82/82 [00:29<00:00,  2.74it/s]\n",
            "Epoch 15\n",
            "Train: 100%|██████████| 82/82 [00:31<00:00,  2.60it/s]\n",
            "Epoch 16\n",
            "Train: 100%|██████████| 82/82 [00:29<00:00,  2.76it/s]\n",
            "Epoch 17\n",
            "Train: 100%|██████████| 82/82 [00:31<00:00,  2.60it/s]\n",
            "Epoch 18\n",
            "Train: 100%|██████████| 82/82 [00:29<00:00,  2.75it/s]\n",
            "Epoch 19\n",
            "Train: 100%|██████████| 82/82 [00:31<00:00,  2.59it/s]\n",
            "Epoch 20\n",
            "Train: 100%|██████████| 82/82 [00:30<00:00,  2.73it/s]\n",
            "Eval: 100%|██████████| 7/7 [00:02<00:00,  2.52it/s]\n",
            "Epoch 21\n"
          ]
        },
        {
          "metadata": {
            "tags": null
          },
          "name": "stdout",
          "output_type": "stream",
          "text": [
            "Saved model\n",
            "\tVal Dist 111.1500\t\n"
          ]
        },
        {
          "metadata": {
            "tags": null
          },
          "name": "stderr",
          "output_type": "stream",
          "text": [
            "Train: 100%|██████████| 82/82 [00:31<00:00,  2.63it/s]\n",
            "Epoch 22\n",
            "Train: 100%|██████████| 82/82 [00:29<00:00,  2.75it/s]\n",
            "Epoch 23\n",
            "Train: 100%|██████████| 82/82 [00:31<00:00,  2.59it/s]\n",
            "Epoch 24\n",
            "Train: 100%|██████████| 82/82 [00:30<00:00,  2.73it/s]\n",
            "Epoch 25\n",
            "Train: 100%|██████████| 82/82 [00:31<00:00,  2.58it/s]\n",
            "Epoch 26\n",
            "Train: 100%|██████████| 82/82 [00:29<00:00,  2.76it/s]\n",
            "Epoch 27\n",
            "Train: 100%|██████████| 82/82 [00:32<00:00,  2.53it/s]\n",
            "Epoch 28\n",
            "Train: 100%|██████████| 82/82 [00:29<00:00,  2.81it/s]\n",
            "Epoch 29\n",
            "Train: 100%|██████████| 82/82 [00:32<00:00,  2.52it/s]\n",
            "Epoch 30\n",
            "Train: 100%|██████████| 82/82 [00:29<00:00,  2.80it/s]\n",
            "Eval: 100%|██████████| 7/7 [00:03<00:00,  2.03it/s]\n",
            "Epoch 31\n"
          ]
        },
        {
          "metadata": {
            "tags": null
          },
          "name": "stdout",
          "output_type": "stream",
          "text": [
            "\tVal Dist 117.9890\t\n"
          ]
        },
        {
          "metadata": {
            "tags": null
          },
          "name": "stderr",
          "output_type": "stream",
          "text": [
            "Train: 100%|██████████| 82/82 [00:32<00:00,  2.50it/s]\n",
            "Epoch 32\n",
            "Train: 100%|██████████| 82/82 [00:29<00:00,  2.77it/s]\n",
            "Epoch 33\n",
            "Train: 100%|██████████| 82/82 [00:32<00:00,  2.49it/s]\n",
            "Epoch 34\n",
            "Train: 100%|██████████| 82/82 [00:29<00:00,  2.79it/s]\n",
            "Epoch 35\n",
            "Train: 100%|██████████| 82/82 [00:32<00:00,  2.49it/s]\n",
            "Epoch 36\n",
            "Train: 100%|██████████| 82/82 [00:29<00:00,  2.79it/s]\n",
            "Epoch 37\n",
            "Train: 100%|██████████| 82/82 [00:32<00:00,  2.49it/s]\n",
            "Epoch 38\n",
            "Train: 100%|██████████| 82/82 [00:29<00:00,  2.78it/s]\n",
            "Epoch 39\n",
            "Train: 100%|██████████| 82/82 [00:32<00:00,  2.49it/s]\n",
            "Epoch 40\n",
            "Train: 100%|██████████| 82/82 [00:29<00:00,  2.79it/s]\n",
            "Eval: 100%|██████████| 7/7 [00:02<00:00,  2.48it/s]\n",
            "Epoch 41\n"
          ]
        },
        {
          "metadata": {
            "tags": null
          },
          "name": "stdout",
          "output_type": "stream",
          "text": [
            "\tVal Dist 116.2250\t\n"
          ]
        },
        {
          "metadata": {
            "tags": null
          },
          "name": "stderr",
          "output_type": "stream",
          "text": [
            "Train: 100%|██████████| 82/82 [00:33<00:00,  2.44it/s]\n",
            "Epoch 42\n",
            "Train: 100%|██████████| 82/82 [00:29<00:00,  2.82it/s]\n",
            "Epoch 43\n",
            "Train: 100%|██████████| 82/82 [00:33<00:00,  2.47it/s]\n",
            "Epoch 44\n",
            "Train: 100%|██████████| 82/82 [00:29<00:00,  2.79it/s]\n",
            "Epoch 45\n",
            "Train: 100%|██████████| 82/82 [00:32<00:00,  2.49it/s]\n",
            "Epoch 46\n",
            "Train: 100%|██████████| 82/82 [00:29<00:00,  2.78it/s]\n",
            "Epoch 47\n",
            "Train: 100%|██████████| 82/82 [00:32<00:00,  2.49it/s]\n",
            "Epoch 48\n",
            "Train: 100%|██████████| 82/82 [00:29<00:00,  2.79it/s]\n",
            "Epoch 49\n",
            "Train: 100%|██████████| 82/82 [00:32<00:00,  2.49it/s]\n",
            "Epoch 50\n",
            "Train: 100%|██████████| 82/82 [00:29<00:00,  2.79it/s]\n",
            "Eval: 100%|██████████| 7/7 [00:02<00:00,  2.95it/s]\n",
            "Epoch 51\n"
          ]
        },
        {
          "metadata": {
            "tags": null
          },
          "name": "stdout",
          "output_type": "stream",
          "text": [
            "\tVal Dist 113.0750\t\n"
          ]
        },
        {
          "metadata": {
            "tags": null
          },
          "name": "stderr",
          "output_type": "stream",
          "text": [
            "Train: 100%|██████████| 82/82 [00:32<00:00,  2.49it/s]\n",
            "Epoch 52\n",
            "Train: 100%|██████████| 82/82 [00:29<00:00,  2.80it/s]\n",
            "Epoch 53\n",
            "Train: 100%|██████████| 82/82 [00:33<00:00,  2.41it/s]\n",
            "Epoch 54\n",
            "Train: 100%|██████████| 82/82 [00:28<00:00,  2.89it/s]\n",
            "Epoch 55\n",
            "Train: 100%|██████████| 82/82 [00:32<00:00,  2.49it/s]\n",
            "Epoch 56\n",
            "Train: 100%|██████████| 82/82 [00:29<00:00,  2.81it/s]\n",
            "Epoch 57\n",
            "Train: 100%|██████████| 82/82 [00:33<00:00,  2.48it/s]\n",
            "Epoch 58\n",
            "Train: 100%|██████████| 82/82 [00:29<00:00,  2.77it/s]\n",
            "Epoch 59\n",
            "Train: 100%|██████████| 82/82 [00:32<00:00,  2.50it/s]\n",
            "Epoch 60\n",
            "Train: 100%|██████████| 82/82 [00:29<00:00,  2.80it/s]\n",
            "Eval: 100%|██████████| 7/7 [00:02<00:00,  2.94it/s]\n",
            "Epoch 61\n"
          ]
        },
        {
          "metadata": {
            "tags": null
          },
          "name": "stdout",
          "output_type": "stream",
          "text": [
            "\tVal Dist 120.9860\t\n"
          ]
        },
        {
          "metadata": {
            "tags": null
          },
          "name": "stderr",
          "output_type": "stream",
          "text": [
            "Train: 100%|██████████| 82/82 [00:33<00:00,  2.48it/s]\n",
            "Epoch 62\n",
            "Train: 100%|██████████| 82/82 [00:29<00:00,  2.81it/s]\n",
            "Epoch 63\n",
            "Train: 100%|██████████| 82/82 [00:34<00:00,  2.40it/s]\n",
            "Epoch 64\n",
            "Train: 100%|██████████| 82/82 [00:29<00:00,  2.75it/s]\n",
            "Epoch 65\n",
            "Train: 100%|██████████| 82/82 [00:33<00:00,  2.42it/s]\n",
            "Epoch 66\n",
            "Train: 100%|██████████| 82/82 [00:29<00:00,  2.77it/s]\n",
            "Epoch 67\n",
            "Train: 100%|██████████| 82/82 [00:33<00:00,  2.47it/s]\n",
            "Epoch 68\n",
            "Train: 100%|██████████| 82/82 [00:29<00:00,  2.78it/s]\n",
            "Epoch 69\n",
            "Train: 100%|██████████| 82/82 [00:33<00:00,  2.48it/s]\n",
            "Epoch 70\n",
            "Train: 100%|██████████| 82/82 [00:29<00:00,  2.78it/s]\n",
            "Eval: 100%|██████████| 7/7 [00:02<00:00,  2.94it/s]\n",
            "Epoch 71\n"
          ]
        },
        {
          "metadata": {
            "tags": null
          },
          "name": "stdout",
          "output_type": "stream",
          "text": [
            "\tVal Dist 120.5060\t\n"
          ]
        },
        {
          "metadata": {
            "tags": null
          },
          "name": "stderr",
          "output_type": "stream",
          "text": [
            "Train: 100%|██████████| 82/82 [00:33<00:00,  2.46it/s]\n",
            "Epoch 72\n",
            "Train: 100%|██████████| 82/82 [00:29<00:00,  2.79it/s]\n",
            "Epoch 73\n",
            "Train: 100%|██████████| 82/82 [00:34<00:00,  2.39it/s]\n",
            "Epoch 74\n",
            "Train: 100%|██████████| 82/82 [00:29<00:00,  2.77it/s]\n",
            "Epoch 75\n",
            "Train: 100%|██████████| 82/82 [00:33<00:00,  2.47it/s]\n",
            "Epoch 76\n",
            "Train: 100%|██████████| 82/82 [00:29<00:00,  2.78it/s]\n",
            "Epoch 77\n",
            "Train: 100%|██████████| 82/82 [00:32<00:00,  2.49it/s]\n",
            "Epoch 78\n",
            "Train: 100%|██████████| 82/82 [00:29<00:00,  2.79it/s]\n",
            "Epoch 79\n",
            "Train: 100%|██████████| 82/82 [00:32<00:00,  2.49it/s]\n",
            "Epoch 80\n",
            "Train: 100%|██████████| 82/82 [00:29<00:00,  2.77it/s]\n",
            "Eval: 100%|██████████| 7/7 [00:02<00:00,  2.94it/s]\n",
            "Epoch 81\n"
          ]
        },
        {
          "metadata": {
            "tags": null
          },
          "name": "stdout",
          "output_type": "stream",
          "text": [
            "\tVal Dist 117.6940\t\n"
          ]
        },
        {
          "metadata": {
            "tags": null
          },
          "name": "stderr",
          "output_type": "stream",
          "text": [
            "Train: 100%|██████████| 82/82 [00:33<00:00,  2.46it/s]\n",
            "Epoch 82\n",
            "Train: 100%|██████████| 82/82 [00:29<00:00,  2.80it/s]\n",
            "Epoch 83\n",
            "Train: 100%|██████████| 82/82 [00:34<00:00,  2.40it/s]\n",
            "Epoch 84\n",
            "Train: 100%|██████████| 82/82 [00:29<00:00,  2.80it/s]\n",
            "Epoch 85\n",
            "Train: 100%|██████████| 82/82 [00:33<00:00,  2.45it/s]\n",
            "Epoch 86\n",
            "Train: 100%|██████████| 82/82 [00:29<00:00,  2.78it/s]\n",
            "Epoch 87\n",
            "Train: 100%|██████████| 82/82 [00:33<00:00,  2.48it/s]\n",
            "Epoch 88\n",
            "Train: 100%|██████████| 82/82 [00:29<00:00,  2.77it/s]\n",
            "Epoch 89\n",
            "Train: 100%|██████████| 82/82 [00:32<00:00,  2.49it/s]\n",
            "Epoch 90\n",
            "Train: 100%|██████████| 82/82 [00:29<00:00,  2.77it/s]\n",
            "Eval: 100%|██████████| 7/7 [00:02<00:00,  2.96it/s]\n",
            "Epoch 91\n"
          ]
        },
        {
          "metadata": {
            "tags": null
          },
          "name": "stdout",
          "output_type": "stream",
          "text": [
            "\tVal Dist 124.4690\t\n"
          ]
        },
        {
          "metadata": {
            "tags": null
          },
          "name": "stderr",
          "output_type": "stream",
          "text": [
            "Train: 100%|██████████| 82/82 [00:33<00:00,  2.45it/s]\n",
            "Epoch 92\n",
            "Train: 100%|██████████| 82/82 [00:29<00:00,  2.78it/s]\n",
            "Epoch 93\n",
            "Train: 100%|██████████| 82/82 [00:33<00:00,  2.42it/s]\n",
            "Epoch 94\n",
            "Train: 100%|██████████| 82/82 [00:29<00:00,  2.80it/s]\n",
            "Epoch 95\n",
            "Train: 100%|██████████| 82/82 [00:33<00:00,  2.45it/s]\n",
            "Epoch 96\n",
            "Train: 100%|██████████| 82/82 [00:29<00:00,  2.78it/s]\n",
            "Epoch 97\n",
            "Train: 100%|██████████| 82/82 [00:33<00:00,  2.48it/s]\n",
            "Epoch 98\n",
            "Train: 100%|██████████| 82/82 [00:29<00:00,  2.79it/s]\n",
            "Epoch 99\n",
            "Train: 100%|██████████| 82/82 [00:33<00:00,  2.47it/s]\n",
            "Epoch 100\n",
            "Train: 100%|██████████| 82/82 [00:29<00:00,  2.79it/s]\n",
            "Eval: 100%|██████████| 7/7 [00:02<00:00,  2.93it/s]\n",
            "Epoch 101\n"
          ]
        },
        {
          "metadata": {
            "tags": null
          },
          "name": "stdout",
          "output_type": "stream",
          "text": [
            "\tVal Dist 117.9110\t\n"
          ]
        },
        {
          "metadata": {
            "tags": null
          },
          "name": "stderr",
          "output_type": "stream",
          "text": [
            "Train: 100%|██████████| 82/82 [00:33<00:00,  2.46it/s]\n",
            "Epoch 102\n",
            "Train: 100%|██████████| 82/82 [00:29<00:00,  2.79it/s]\n",
            "Epoch 103\n",
            "Train: 100%|██████████| 82/82 [00:34<00:00,  2.41it/s]\n",
            "Epoch 104\n",
            "Train: 100%|██████████| 82/82 [00:29<00:00,  2.80it/s]\n",
            "Epoch 105\n",
            "Train: 100%|██████████| 82/82 [00:33<00:00,  2.47it/s]\n",
            "Epoch 106\n",
            "Train: 100%|██████████| 82/82 [00:29<00:00,  2.77it/s]\n",
            "Epoch 107\n",
            "Train: 100%|██████████| 82/82 [00:33<00:00,  2.47it/s]\n",
            "Epoch 108\n",
            "Train: 100%|██████████| 82/82 [00:29<00:00,  2.77it/s]\n",
            "Epoch 109\n",
            "Train: 100%|██████████| 82/82 [00:33<00:00,  2.47it/s]\n",
            "Epoch 110\n",
            "Train: 100%|██████████| 82/82 [00:29<00:00,  2.78it/s]\n",
            "Eval: 100%|██████████| 7/7 [00:02<00:00,  2.97it/s]\n",
            "Epoch 111\n"
          ]
        },
        {
          "metadata": {
            "tags": null
          },
          "name": "stdout",
          "output_type": "stream",
          "text": [
            "\tVal Dist 119.9730\t\n"
          ]
        },
        {
          "metadata": {
            "tags": null
          },
          "name": "stderr",
          "output_type": "stream",
          "text": [
            "Train: 100%|██████████| 82/82 [00:33<00:00,  2.45it/s]\n",
            "Epoch 112\n",
            "Train: 100%|██████████| 82/82 [00:29<00:00,  2.78it/s]\n",
            "Epoch 113\n",
            "Train: 100%|██████████| 82/82 [00:33<00:00,  2.42it/s]\n",
            "Epoch 114\n",
            "Train: 100%|██████████| 82/82 [00:29<00:00,  2.76it/s]\n",
            "Epoch 115\n",
            "Train: 100%|██████████| 82/82 [00:32<00:00,  2.49it/s]\n",
            "Epoch 116\n",
            "Train: 100%|██████████| 82/82 [00:29<00:00,  2.78it/s]\n",
            "Epoch 117\n",
            "Train: 100%|██████████| 82/82 [00:32<00:00,  2.49it/s]\n",
            "Epoch 118\n",
            "Train: 100%|██████████| 82/82 [00:29<00:00,  2.76it/s]\n",
            "Epoch 119\n",
            "Train: 100%|██████████| 82/82 [00:33<00:00,  2.47it/s]\n",
            "Epoch 120\n",
            "Train: 100%|██████████| 82/82 [00:29<00:00,  2.78it/s]\n",
            "Eval: 100%|██████████| 7/7 [00:02<00:00,  2.94it/s]\n",
            "Epoch 121\n"
          ]
        },
        {
          "metadata": {
            "tags": null
          },
          "name": "stdout",
          "output_type": "stream",
          "text": [
            "\tVal Dist 121.1440\t\n"
          ]
        },
        {
          "metadata": {
            "tags": null
          },
          "name": "stderr",
          "output_type": "stream",
          "text": [
            "Train: 100%|██████████| 82/82 [00:33<00:00,  2.44it/s]\n",
            "Epoch 122\n",
            "Train: 100%|██████████| 82/82 [00:29<00:00,  2.81it/s]\n",
            "Epoch 123\n",
            "Train: 100%|██████████| 82/82 [00:33<00:00,  2.41it/s]\n",
            "Epoch 124\n",
            "Train: 100%|██████████| 82/82 [00:29<00:00,  2.78it/s]\n",
            "Epoch 125\n",
            "Train: 100%|██████████| 82/82 [00:33<00:00,  2.48it/s]\n",
            "Epoch 126\n",
            "Train: 100%|██████████| 82/82 [00:29<00:00,  2.76it/s]\n",
            "Epoch 127\n",
            "Train: 100%|██████████| 82/82 [00:33<00:00,  2.48it/s]\n",
            "Epoch 128\n",
            "Train: 100%|██████████| 82/82 [00:29<00:00,  2.76it/s]\n",
            "Epoch 129\n",
            "Train: 100%|██████████| 82/82 [00:33<00:00,  2.47it/s]\n",
            "Epoch 130\n",
            "Train: 100%|██████████| 82/82 [00:29<00:00,  2.77it/s]\n",
            "Eval: 100%|██████████| 7/7 [00:02<00:00,  2.99it/s]\n",
            "Epoch 131\n"
          ]
        },
        {
          "metadata": {
            "tags": null
          },
          "name": "stdout",
          "output_type": "stream",
          "text": [
            "\tVal Dist 119.6220\t\n"
          ]
        },
        {
          "metadata": {
            "tags": null
          },
          "name": "stderr",
          "output_type": "stream",
          "text": [
            "Train: 100%|██████████| 82/82 [00:33<00:00,  2.46it/s]\n",
            "Epoch 132\n",
            "Train: 100%|██████████| 82/82 [00:29<00:00,  2.79it/s]\n",
            "Epoch 133\n",
            "Train: 100%|██████████| 82/82 [00:34<00:00,  2.41it/s]\n",
            "Epoch 134\n",
            "Train: 100%|██████████| 82/82 [00:29<00:00,  2.79it/s]\n",
            "Epoch 135\n",
            "Train: 100%|██████████| 82/82 [00:33<00:00,  2.46it/s]\n",
            "Epoch 136\n",
            "Train: 100%|██████████| 82/82 [00:29<00:00,  2.78it/s]\n",
            "Epoch 137\n",
            "Train: 100%|██████████| 82/82 [00:33<00:00,  2.47it/s]\n",
            "Epoch 138\n",
            "Train: 100%|██████████| 82/82 [00:29<00:00,  2.78it/s]\n",
            "Epoch 139\n",
            "Train: 100%|██████████| 82/82 [00:33<00:00,  2.48it/s]\n",
            "Epoch 140\n",
            "Train: 100%|██████████| 82/82 [00:29<00:00,  2.77it/s]\n",
            "Eval: 100%|██████████| 7/7 [00:02<00:00,  2.92it/s]\n",
            "Epoch 141\n"
          ]
        },
        {
          "metadata": {
            "tags": null
          },
          "name": "stdout",
          "output_type": "stream",
          "text": [
            "\tVal Dist 123.4820\t\n"
          ]
        },
        {
          "metadata": {
            "tags": null
          },
          "name": "stderr",
          "output_type": "stream",
          "text": [
            "Train: 100%|██████████| 82/82 [00:33<00:00,  2.44it/s]\n",
            "Epoch 142\n",
            "Train: 100%|██████████| 82/82 [00:29<00:00,  2.78it/s]\n",
            "Epoch 143\n",
            "Train: 100%|██████████| 82/82 [00:33<00:00,  2.42it/s]\n",
            "Epoch 144\n",
            "Train: 100%|██████████| 82/82 [00:29<00:00,  2.80it/s]\n",
            "Epoch 145\n",
            "Train: 100%|██████████| 82/82 [00:33<00:00,  2.48it/s]\n",
            "Epoch 146\n",
            "Train: 100%|██████████| 82/82 [00:29<00:00,  2.79it/s]\n",
            "Epoch 147\n",
            "Train: 100%|██████████| 82/82 [00:32<00:00,  2.49it/s]\n",
            "Epoch 148\n",
            "Train: 100%|██████████| 82/82 [00:29<00:00,  2.79it/s]\n",
            "Epoch 149\n",
            "Train: 100%|██████████| 82/82 [00:32<00:00,  2.49it/s]\n",
            "Epoch 150\n",
            "Train: 100%|██████████| 82/82 [00:29<00:00,  2.79it/s]\n",
            "Eval: 100%|██████████| 7/7 [00:02<00:00,  2.94it/s]\n",
            "Epoch 151\n"
          ]
        },
        {
          "metadata": {
            "tags": null
          },
          "name": "stdout",
          "output_type": "stream",
          "text": [
            "\tVal Dist 119.6000\t\n"
          ]
        },
        {
          "metadata": {
            "tags": null
          },
          "name": "stderr",
          "output_type": "stream",
          "text": [
            "Train: 100%|██████████| 82/82 [00:33<00:00,  2.47it/s]\n",
            "Epoch 152\n",
            "Train: 100%|██████████| 82/82 [00:29<00:00,  2.80it/s]\n",
            "Epoch 153\n",
            "Train: 100%|██████████| 82/82 [00:33<00:00,  2.42it/s]\n",
            "Epoch 154\n",
            "Train: 100%|██████████| 82/82 [00:28<00:00,  2.84it/s]\n",
            "Epoch 155\n",
            "Train: 100%|██████████| 82/82 [00:33<00:00,  2.47it/s]\n",
            "Epoch 156\n",
            "Train: 100%|██████████| 82/82 [00:29<00:00,  2.77it/s]\n",
            "Epoch 157\n",
            "Train: 100%|██████████| 82/82 [00:32<00:00,  2.51it/s]\n",
            "Epoch 158\n",
            "Train: 100%|██████████| 82/82 [00:29<00:00,  2.79it/s]\n",
            "Epoch 159\n",
            "Train: 100%|██████████| 82/82 [00:32<00:00,  2.49it/s]\n",
            "Epoch 160\n",
            "Train: 100%|██████████| 82/82 [00:29<00:00,  2.77it/s]\n",
            "Eval: 100%|██████████| 7/7 [00:02<00:00,  2.92it/s]\n",
            "Epoch 161\n"
          ]
        },
        {
          "metadata": {
            "tags": null
          },
          "name": "stdout",
          "output_type": "stream",
          "text": [
            "\tVal Dist 121.7290\t\n"
          ]
        },
        {
          "metadata": {
            "tags": null
          },
          "name": "stderr",
          "output_type": "stream",
          "text": [
            "Train: 100%|██████████| 82/82 [00:33<00:00,  2.48it/s]\n",
            "Epoch 162\n",
            "Train: 100%|██████████| 82/82 [00:29<00:00,  2.78it/s]\n",
            "Epoch 163\n",
            "Train: 100%|██████████| 82/82 [00:33<00:00,  2.43it/s]\n",
            "Epoch 164\n",
            "Train: 100%|██████████| 82/82 [00:29<00:00,  2.82it/s]\n",
            "Epoch 165\n",
            "Train: 100%|██████████| 82/82 [00:33<00:00,  2.44it/s]\n",
            "Epoch 166\n",
            "Train: 100%|██████████| 82/82 [00:29<00:00,  2.80it/s]\n",
            "Epoch 167\n",
            "Train: 100%|██████████| 82/82 [00:33<00:00,  2.47it/s]\n",
            "Epoch 168\n",
            "Train: 100%|██████████| 82/82 [00:29<00:00,  2.75it/s]\n",
            "Epoch 169\n",
            "Train: 100%|██████████| 82/82 [00:33<00:00,  2.47it/s]\n",
            "Epoch 170\n",
            "Train: 100%|██████████| 82/82 [00:29<00:00,  2.78it/s]\n",
            "Eval: 100%|██████████| 7/7 [00:02<00:00,  2.96it/s]\n",
            "Epoch 171\n"
          ]
        },
        {
          "metadata": {
            "tags": null
          },
          "name": "stdout",
          "output_type": "stream",
          "text": [
            "\tVal Dist 118.4360\t\n"
          ]
        },
        {
          "metadata": {
            "tags": null
          },
          "name": "stderr",
          "output_type": "stream",
          "text": [
            "Train: 100%|██████████| 82/82 [00:32<00:00,  2.49it/s]\n",
            "Epoch 172\n",
            "Train: 100%|██████████| 82/82 [00:29<00:00,  2.76it/s]\n",
            "Epoch 173\n",
            "Train: 100%|██████████| 82/82 [00:33<00:00,  2.44it/s]\n",
            "Epoch 174\n",
            "Train: 100%|██████████| 82/82 [00:29<00:00,  2.79it/s]\n",
            "Epoch 175\n",
            "Train: 100%|██████████| 82/82 [00:34<00:00,  2.41it/s]\n",
            "Epoch 176\n",
            "Train: 100%|██████████| 82/82 [00:29<00:00,  2.77it/s]\n",
            "Epoch 177\n",
            "Train: 100%|██████████| 82/82 [00:33<00:00,  2.47it/s]\n",
            "Epoch 178\n",
            "Train: 100%|██████████| 82/82 [00:29<00:00,  2.78it/s]\n",
            "Epoch 179\n",
            "Train: 100%|██████████| 82/82 [00:32<00:00,  2.49it/s]\n",
            "Epoch 180\n",
            "Train: 100%|██████████| 82/82 [00:29<00:00,  2.77it/s]\n",
            "Eval: 100%|██████████| 7/7 [00:02<00:00,  2.95it/s]\n",
            "Epoch 181\n"
          ]
        },
        {
          "metadata": {
            "tags": null
          },
          "name": "stdout",
          "output_type": "stream",
          "text": [
            "\tVal Dist 121.5300\t\n"
          ]
        },
        {
          "metadata": {
            "tags": null
          },
          "name": "stderr",
          "output_type": "stream",
          "text": [
            "Train: 100%|██████████| 82/82 [00:32<00:00,  2.52it/s]\n",
            "Epoch 182\n",
            "Train: 100%|██████████| 82/82 [00:29<00:00,  2.80it/s]\n",
            "Epoch 183\n",
            "Train: 100%|██████████| 82/82 [00:32<00:00,  2.50it/s]\n",
            "Epoch 184\n",
            "Train: 100%|██████████| 82/82 [00:29<00:00,  2.82it/s]\n",
            "Epoch 185\n",
            "Train: 100%|██████████| 82/82 [00:33<00:00,  2.47it/s]\n",
            "Epoch 186\n",
            "Train: 100%|██████████| 82/82 [00:28<00:00,  2.85it/s]\n",
            "Epoch 187\n",
            "Train: 100%|██████████| 82/82 [00:32<00:00,  2.51it/s]\n",
            "Epoch 188\n",
            "Train: 100%|██████████| 82/82 [00:27<00:00,  2.94it/s]\n",
            "Epoch 189\n",
            "Train: 100%|██████████| 82/82 [00:32<00:00,  2.54it/s]\n",
            "Epoch 190\n",
            "Train: 100%|██████████| 82/82 [00:27<00:00,  2.97it/s]\n",
            "Eval: 100%|██████████| 7/7 [00:02<00:00,  2.49it/s]\n",
            "Epoch 191\n"
          ]
        },
        {
          "metadata": {
            "tags": null
          },
          "name": "stdout",
          "output_type": "stream",
          "text": [
            "\tVal Dist 117.6640\t\n"
          ]
        },
        {
          "metadata": {
            "tags": null
          },
          "name": "stderr",
          "output_type": "stream",
          "text": [
            "Train: 100%|██████████| 82/82 [00:31<00:00,  2.60it/s]\n",
            "Epoch 192\n",
            "Train: 100%|██████████| 82/82 [00:28<00:00,  2.90it/s]\n",
            "Epoch 193\n",
            "Train: 100%|██████████| 82/82 [00:31<00:00,  2.59it/s]\n",
            "Epoch 194\n",
            "Train: 100%|██████████| 82/82 [00:28<00:00,  2.90it/s]\n",
            "Epoch 195\n",
            "Train: 100%|██████████| 82/82 [00:31<00:00,  2.61it/s]\n",
            "Epoch 196\n",
            "Train: 100%|██████████| 82/82 [00:28<00:00,  2.90it/s]\n",
            "Epoch 197\n",
            "Train: 100%|██████████| 82/82 [00:31<00:00,  2.61it/s]\n",
            "Epoch 198\n",
            "Train: 100%|██████████| 82/82 [00:28<00:00,  2.88it/s]\n",
            "Epoch 199\n",
            "Train: 100%|██████████| 82/82 [00:31<00:00,  2.57it/s]\n",
            "Epoch 200\n",
            "Train: 100%|██████████| 82/82 [00:28<00:00,  2.91it/s]\n",
            "Eval: 100%|██████████| 7/7 [00:02<00:00,  3.08it/s]\n",
            "Epoch 201\n"
          ]
        },
        {
          "metadata": {
            "tags": null
          },
          "name": "stdout",
          "output_type": "stream",
          "text": [
            "\tVal Dist 117.2180\t\n"
          ]
        },
        {
          "metadata": {
            "tags": null
          },
          "name": "stderr",
          "output_type": "stream",
          "text": [
            "Train: 100%|██████████| 82/82 [00:31<00:00,  2.61it/s]\n",
            "Epoch 202\n",
            "Train: 100%|██████████| 82/82 [00:27<00:00,  2.94it/s]\n",
            "Epoch 203\n",
            "Train: 100%|██████████| 82/82 [00:31<00:00,  2.63it/s]\n",
            "Epoch 204\n",
            "Train: 100%|██████████| 82/82 [00:27<00:00,  2.94it/s]\n",
            "Epoch 205\n",
            "Train: 100%|██████████| 82/82 [00:30<00:00,  2.65it/s]\n",
            "Epoch 206\n",
            "Train: 100%|██████████| 82/82 [00:27<00:00,  2.94it/s]\n",
            "Epoch 207\n",
            "Train: 100%|██████████| 82/82 [00:31<00:00,  2.62it/s]\n",
            "Epoch 208\n",
            "Train: 100%|██████████| 82/82 [00:28<00:00,  2.93it/s]\n",
            "Epoch 209\n",
            "Train: 100%|██████████| 82/82 [00:31<00:00,  2.61it/s]\n",
            "Epoch 210\n",
            "Train: 100%|██████████| 82/82 [00:28<00:00,  2.90it/s]\n",
            "Eval: 100%|██████████| 7/7 [00:02<00:00,  2.92it/s]\n",
            "Epoch 211\n"
          ]
        },
        {
          "metadata": {
            "tags": null
          },
          "name": "stdout",
          "output_type": "stream",
          "text": [
            "\tVal Dist 118.8970\t\n"
          ]
        },
        {
          "metadata": {
            "tags": null
          },
          "name": "stderr",
          "output_type": "stream",
          "text": [
            "Train: 100%|██████████| 82/82 [00:31<00:00,  2.58it/s]\n",
            "Epoch 212\n",
            "Train: 100%|██████████| 82/82 [00:27<00:00,  2.97it/s]\n",
            "Epoch 213\n",
            "Train: 100%|██████████| 82/82 [00:32<00:00,  2.54it/s]\n",
            "Epoch 214\n",
            "Train: 100%|██████████| 82/82 [00:27<00:00,  2.93it/s]\n",
            "Epoch 215\n",
            "Train: 100%|██████████| 82/82 [00:32<00:00,  2.50it/s]\n",
            "Epoch 216\n",
            "Train: 100%|██████████| 82/82 [00:27<00:00,  2.97it/s]\n",
            "Epoch 217\n",
            "Train: 100%|██████████| 82/82 [00:32<00:00,  2.54it/s]\n",
            "Epoch 218\n",
            "Train: 100%|██████████| 82/82 [00:28<00:00,  2.87it/s]\n",
            "Epoch 219\n",
            "Train: 100%|██████████| 82/82 [00:31<00:00,  2.57it/s]\n",
            "Epoch 220\n",
            "Train: 100%|██████████| 82/82 [00:28<00:00,  2.88it/s]\n",
            "Eval: 100%|██████████| 7/7 [00:02<00:00,  3.05it/s]\n",
            "Epoch 221\n"
          ]
        },
        {
          "metadata": {
            "tags": null
          },
          "name": "stdout",
          "output_type": "stream",
          "text": [
            "\tVal Dist 115.1630\t\n"
          ]
        },
        {
          "metadata": {
            "tags": null
          },
          "name": "stderr",
          "output_type": "stream",
          "text": [
            "Train: 100%|██████████| 82/82 [00:31<00:00,  2.61it/s]\n",
            "Epoch 222\n",
            "Train: 100%|██████████| 82/82 [00:28<00:00,  2.89it/s]\n",
            "Epoch 223\n",
            "Train: 100%|██████████| 82/82 [00:31<00:00,  2.57it/s]\n",
            "Epoch 224\n",
            "Train: 100%|██████████| 82/82 [00:28<00:00,  2.90it/s]\n",
            "Epoch 225\n",
            "Train: 100%|██████████| 82/82 [00:31<00:00,  2.59it/s]\n",
            "Epoch 226\n",
            "Train: 100%|██████████| 82/82 [00:28<00:00,  2.87it/s]\n",
            "Epoch 227\n",
            "Train: 100%|██████████| 82/82 [00:31<00:00,  2.58it/s]\n",
            "Epoch 228\n",
            "Train: 100%|██████████| 82/82 [00:28<00:00,  2.88it/s]\n",
            "Epoch 229\n",
            "Train: 100%|██████████| 82/82 [00:31<00:00,  2.60it/s]\n",
            "Epoch 230\n",
            "Train: 100%|██████████| 82/82 [00:28<00:00,  2.89it/s]\n",
            "Eval: 100%|██████████| 7/7 [00:02<00:00,  3.03it/s]\n",
            "Epoch 231\n"
          ]
        },
        {
          "metadata": {
            "tags": null
          },
          "name": "stdout",
          "output_type": "stream",
          "text": [
            "\tVal Dist 117.1280\t\n"
          ]
        },
        {
          "metadata": {
            "tags": null
          },
          "name": "stderr",
          "output_type": "stream",
          "text": [
            "Train: 100%|██████████| 82/82 [00:31<00:00,  2.57it/s]\n",
            "Epoch 232\n",
            "Train: 100%|██████████| 82/82 [00:27<00:00,  2.97it/s]\n",
            "Epoch 233\n",
            "Train: 100%|██████████| 82/82 [00:31<00:00,  2.57it/s]\n",
            "Epoch 234\n",
            "Train: 100%|██████████| 82/82 [00:27<00:00,  2.96it/s]\n",
            "Epoch 235\n",
            "Train: 100%|██████████| 82/82 [00:31<00:00,  2.57it/s]\n",
            "Epoch 236\n",
            "Train: 100%|██████████| 82/82 [00:27<00:00,  2.97it/s]\n",
            "Epoch 237\n",
            "Train: 100%|██████████| 82/82 [00:32<00:00,  2.55it/s]\n",
            "Epoch 238\n",
            "Train: 100%|██████████| 82/82 [00:27<00:00,  2.97it/s]\n",
            "Epoch 239\n",
            "Train: 100%|██████████| 82/82 [00:32<00:00,  2.54it/s]\n",
            "Epoch 240\n",
            "Train: 100%|██████████| 82/82 [00:27<00:00,  2.94it/s]\n",
            "Eval: 100%|██████████| 7/7 [00:02<00:00,  2.88it/s]\n",
            "Epoch 241\n"
          ]
        },
        {
          "metadata": {
            "tags": null
          },
          "name": "stdout",
          "output_type": "stream",
          "text": [
            "\tVal Dist 119.9160\t\n"
          ]
        },
        {
          "metadata": {
            "tags": null
          },
          "name": "stderr",
          "output_type": "stream",
          "text": [
            "Train: 100%|██████████| 82/82 [00:32<00:00,  2.56it/s]\n",
            "Epoch 242\n",
            "Train: 100%|██████████| 82/82 [00:28<00:00,  2.84it/s]\n",
            "Epoch 243\n",
            "Train: 100%|██████████| 82/82 [00:32<00:00,  2.53it/s]\n",
            "Epoch 244\n",
            "Train: 100%|██████████| 82/82 [00:29<00:00,  2.81it/s]\n",
            "Epoch 245\n",
            "Train: 100%|██████████| 82/82 [00:32<00:00,  2.52it/s]\n",
            "Epoch 246\n",
            "Train: 100%|██████████| 82/82 [00:28<00:00,  2.86it/s]\n",
            "Epoch 247\n",
            "Train: 100%|██████████| 82/82 [00:32<00:00,  2.53it/s]\n",
            "Epoch 248\n",
            "Train: 100%|██████████| 82/82 [00:28<00:00,  2.86it/s]\n",
            "Epoch 249\n",
            "Train: 100%|██████████| 82/82 [00:32<00:00,  2.52it/s]\n",
            "Epoch 250\n",
            "Train: 100%|██████████| 82/82 [00:28<00:00,  2.83it/s]\n",
            "Eval: 100%|██████████| 7/7 [00:02<00:00,  2.38it/s]\n",
            "Epoch 251\n"
          ]
        },
        {
          "metadata": {
            "tags": null
          },
          "name": "stdout",
          "output_type": "stream",
          "text": [
            "\tVal Dist 115.4850\t\n"
          ]
        },
        {
          "metadata": {
            "tags": null
          },
          "name": "stderr",
          "output_type": "stream",
          "text": [
            "Train: 100%|██████████| 82/82 [00:32<00:00,  2.49it/s]\n",
            "Epoch 252\n",
            "Train: 100%|██████████| 82/82 [00:28<00:00,  2.91it/s]\n",
            "Epoch 253\n",
            "Train: 100%|██████████| 82/82 [00:32<00:00,  2.53it/s]\n",
            "Epoch 254\n",
            "Train: 100%|██████████| 82/82 [00:28<00:00,  2.87it/s]\n",
            "Epoch 255\n",
            "Train: 100%|██████████| 82/82 [00:31<00:00,  2.57it/s]\n",
            "Epoch 256\n",
            "Train: 100%|██████████| 82/82 [00:28<00:00,  2.88it/s]\n",
            "Epoch 257\n",
            "Train: 100%|██████████| 82/82 [00:32<00:00,  2.56it/s]\n",
            "Epoch 258\n",
            "Train: 100%|██████████| 82/82 [00:28<00:00,  2.87it/s]\n",
            "Epoch 259\n",
            "Train: 100%|██████████| 82/82 [00:32<00:00,  2.55it/s]\n",
            "Epoch 260\n",
            "Train: 100%|██████████| 82/82 [00:29<00:00,  2.79it/s]\n",
            "Eval: 100%|██████████| 7/7 [00:02<00:00,  2.91it/s]\n",
            "Epoch 261\n"
          ]
        },
        {
          "metadata": {
            "tags": null
          },
          "name": "stdout",
          "output_type": "stream",
          "text": [
            "\tVal Dist 116.6080\t\n"
          ]
        },
        {
          "metadata": {
            "tags": null
          },
          "name": "stderr",
          "output_type": "stream",
          "text": [
            "Train: 100%|██████████| 82/82 [00:32<00:00,  2.49it/s]\n",
            "Epoch 262\n",
            "Train: 100%|██████████| 82/82 [00:29<00:00,  2.77it/s]\n",
            "Epoch 263\n",
            "Train: 100%|██████████| 82/82 [00:33<00:00,  2.47it/s]\n",
            "Epoch 264\n",
            "Train: 100%|██████████| 82/82 [00:28<00:00,  2.87it/s]\n",
            "Epoch 265\n",
            "Train: 100%|██████████| 82/82 [00:33<00:00,  2.45it/s]\n",
            "Epoch 266\n",
            "Train: 100%|██████████| 82/82 [00:28<00:00,  2.86it/s]\n",
            "Epoch 267\n",
            "Train: 100%|██████████| 82/82 [00:33<00:00,  2.48it/s]\n",
            "Epoch 268\n",
            "Train: 100%|██████████| 82/82 [00:29<00:00,  2.83it/s]\n",
            "Epoch 269\n",
            "Train: 100%|██████████| 82/82 [00:32<00:00,  2.51it/s]\n",
            "Epoch 270\n",
            "Train: 100%|██████████| 82/82 [00:29<00:00,  2.81it/s]\n",
            "Eval: 100%|██████████| 7/7 [00:02<00:00,  3.03it/s]\n",
            "Epoch 271\n"
          ]
        },
        {
          "metadata": {
            "tags": null
          },
          "name": "stdout",
          "output_type": "stream",
          "text": [
            "\tVal Dist 117.7400\t\n"
          ]
        },
        {
          "metadata": {
            "tags": null
          },
          "name": "stderr",
          "output_type": "stream",
          "text": [
            "Train: 100%|██████████| 82/82 [00:32<00:00,  2.51it/s]\n",
            "Epoch 272\n",
            "Train: 100%|██████████| 82/82 [00:29<00:00,  2.77it/s]\n",
            "Epoch 273\n",
            "Train: 100%|██████████| 82/82 [00:33<00:00,  2.44it/s]\n",
            "Epoch 274\n",
            "Train: 100%|██████████| 82/82 [00:30<00:00,  2.72it/s]\n",
            "Epoch 275\n",
            "Train: 100%|██████████| 82/82 [00:34<00:00,  2.39it/s]\n",
            "Epoch 276\n",
            "Train: 100%|██████████| 82/82 [00:29<00:00,  2.78it/s]\n",
            "Epoch 277\n",
            "Train: 100%|██████████| 82/82 [00:33<00:00,  2.47it/s]\n",
            "Epoch 278\n",
            "Train: 100%|██████████| 82/82 [00:29<00:00,  2.75it/s]\n",
            "Epoch 279\n",
            "Train: 100%|██████████| 82/82 [00:33<00:00,  2.47it/s]\n",
            "Epoch 280\n",
            "Train: 100%|██████████| 82/82 [00:29<00:00,  2.76it/s]\n",
            "Eval: 100%|██████████| 7/7 [00:02<00:00,  2.93it/s]\n",
            "Epoch 281\n"
          ]
        },
        {
          "metadata": {
            "tags": null
          },
          "name": "stdout",
          "output_type": "stream",
          "text": [
            "\tVal Dist 120.8260\t\n"
          ]
        },
        {
          "metadata": {
            "tags": null
          },
          "name": "stderr",
          "output_type": "stream",
          "text": [
            "Train: 100%|██████████| 82/82 [00:32<00:00,  2.50it/s]\n",
            "Epoch 282\n",
            "Train: 100%|██████████| 82/82 [00:29<00:00,  2.76it/s]\n",
            "Epoch 283\n",
            "Train: 100%|██████████| 82/82 [00:33<00:00,  2.47it/s]\n",
            "Epoch 284\n",
            "Train: 100%|██████████| 82/82 [00:29<00:00,  2.78it/s]\n",
            "Epoch 285\n",
            "Train: 100%|██████████| 82/82 [00:33<00:00,  2.43it/s]\n",
            "Epoch 286\n",
            "Train: 100%|██████████| 82/82 [00:29<00:00,  2.77it/s]\n",
            "Epoch 287\n",
            "Train: 100%|██████████| 82/82 [00:32<00:00,  2.49it/s]\n",
            "Epoch 288\n",
            "Train: 100%|██████████| 82/82 [00:29<00:00,  2.78it/s]\n",
            "Epoch 289\n",
            "Train: 100%|██████████| 82/82 [00:32<00:00,  2.50it/s]\n",
            "Epoch 290\n",
            "Train: 100%|██████████| 82/82 [00:29<00:00,  2.79it/s]\n",
            "Eval: 100%|██████████| 7/7 [00:02<00:00,  2.89it/s]\n",
            "Epoch 291\n"
          ]
        },
        {
          "metadata": {
            "tags": null
          },
          "name": "stdout",
          "output_type": "stream",
          "text": [
            "\tVal Dist 118.9320\t\n"
          ]
        },
        {
          "metadata": {
            "tags": null
          },
          "name": "stderr",
          "output_type": "stream",
          "text": [
            "Train: 100%|██████████| 82/82 [00:32<00:00,  2.49it/s]\n",
            "Epoch 292\n",
            "Train: 100%|██████████| 82/82 [00:29<00:00,  2.79it/s]\n",
            "Epoch 293\n",
            "Train: 100%|██████████| 82/82 [00:33<00:00,  2.48it/s]\n",
            "Epoch 294\n",
            "Train: 100%|██████████| 82/82 [00:29<00:00,  2.79it/s]\n",
            "Epoch 295\n",
            "Train: 100%|██████████| 82/82 [00:33<00:00,  2.46it/s]\n",
            "Epoch 296\n",
            "Train: 100%|██████████| 82/82 [00:28<00:00,  2.83it/s]\n",
            "Epoch 297\n",
            "Train: 100%|██████████| 82/82 [00:32<00:00,  2.49it/s]\n",
            "Epoch 298\n",
            "Train: 100%|██████████| 82/82 [00:29<00:00,  2.79it/s]\n",
            "Epoch 299\n",
            "Train: 100%|██████████| 82/82 [00:32<00:00,  2.50it/s]\n",
            "Epoch 300\n",
            "Train: 100%|██████████| 82/82 [00:29<00:00,  2.79it/s]\n",
            "Eval: 100%|██████████| 7/7 [00:02<00:00,  2.98it/s]\n",
            "Epoch 301\n"
          ]
        },
        {
          "metadata": {
            "tags": null
          },
          "name": "stdout",
          "output_type": "stream",
          "text": [
            "\tVal Dist 116.5270\t\n"
          ]
        },
        {
          "metadata": {
            "tags": null
          },
          "name": "stderr",
          "output_type": "stream",
          "text": [
            "Train: 100%|██████████| 82/82 [00:32<00:00,  2.53it/s]\n",
            "Epoch 302\n",
            "Train: 100%|██████████| 82/82 [00:29<00:00,  2.78it/s]\n",
            "Epoch 303\n",
            "Train: 100%|██████████| 82/82 [00:33<00:00,  2.42it/s]\n",
            "Epoch 304\n",
            "Train: 100%|██████████| 82/82 [00:30<00:00,  2.72it/s]\n",
            "Epoch 305\n",
            "Train: 100%|██████████| 82/82 [00:34<00:00,  2.39it/s]\n",
            "Epoch 306\n",
            "Train: 100%|██████████| 82/82 [00:29<00:00,  2.75it/s]\n",
            "Epoch 307\n",
            "Train: 100%|██████████| 82/82 [00:33<00:00,  2.48it/s]\n",
            "Epoch 308\n",
            "Train: 100%|██████████| 82/82 [00:29<00:00,  2.75it/s]\n",
            "Epoch 309\n",
            "Train: 100%|██████████| 82/82 [00:33<00:00,  2.47it/s]\n",
            "Epoch 310\n",
            "Train: 100%|██████████| 82/82 [00:29<00:00,  2.76it/s]\n",
            "Eval: 100%|██████████| 7/7 [00:02<00:00,  2.91it/s]\n",
            "Epoch 311\n"
          ]
        },
        {
          "metadata": {
            "tags": null
          },
          "name": "stdout",
          "output_type": "stream",
          "text": [
            "\tVal Dist 116.9410\t\n"
          ]
        },
        {
          "metadata": {
            "tags": null
          },
          "name": "stderr",
          "output_type": "stream",
          "text": [
            "Train: 100%|██████████| 82/82 [00:33<00:00,  2.48it/s]\n",
            "Epoch 312\n",
            "Train: 100%|██████████| 82/82 [00:29<00:00,  2.78it/s]\n",
            "Epoch 313\n",
            "Train: 100%|██████████| 82/82 [00:33<00:00,  2.42it/s]\n",
            "Epoch 314\n",
            "Train: 100%|██████████| 82/82 [00:29<00:00,  2.79it/s]\n",
            "Epoch 315\n",
            "Train: 100%|██████████| 82/82 [00:33<00:00,  2.48it/s]\n",
            "Epoch 316\n",
            "Train: 100%|██████████| 82/82 [00:29<00:00,  2.76it/s]\n",
            "Epoch 317\n",
            "Train: 100%|██████████| 82/82 [00:32<00:00,  2.49it/s]\n",
            "Epoch 318\n",
            "Train: 100%|██████████| 82/82 [00:29<00:00,  2.78it/s]\n",
            "Epoch 319\n",
            "Train: 100%|██████████| 82/82 [00:32<00:00,  2.51it/s]\n",
            "Epoch 320\n",
            "Train: 100%|██████████| 82/82 [00:29<00:00,  2.81it/s]\n",
            "Eval: 100%|██████████| 7/7 [00:02<00:00,  2.98it/s]\n",
            "Epoch 321\n"
          ]
        },
        {
          "metadata": {
            "tags": null
          },
          "name": "stdout",
          "output_type": "stream",
          "text": [
            "\tVal Dist 118.6430\t\n"
          ]
        },
        {
          "metadata": {
            "tags": null
          },
          "name": "stderr",
          "output_type": "stream",
          "text": [
            "Train: 100%|██████████| 82/82 [00:32<00:00,  2.53it/s]\n",
            "Epoch 322\n",
            "Train: 100%|██████████| 82/82 [00:28<00:00,  2.85it/s]\n",
            "Epoch 323\n",
            "Train: 100%|██████████| 82/82 [00:33<00:00,  2.47it/s]\n",
            "Epoch 324\n",
            "Train: 100%|██████████| 82/82 [00:28<00:00,  2.83it/s]\n",
            "Epoch 325\n",
            "Train: 100%|██████████| 82/82 [00:32<00:00,  2.49it/s]\n",
            "Epoch 326\n",
            "Train: 100%|██████████| 82/82 [00:28<00:00,  2.85it/s]\n",
            "Epoch 327\n",
            "Train: 100%|██████████| 82/82 [00:32<00:00,  2.55it/s]\n",
            "Epoch 328\n",
            "Train: 100%|██████████| 82/82 [00:28<00:00,  2.84it/s]\n",
            "Epoch 329\n",
            "Train: 100%|██████████| 82/82 [00:32<00:00,  2.56it/s]\n",
            "Epoch 330\n",
            "Train: 100%|██████████| 82/82 [00:28<00:00,  2.85it/s]\n",
            "Eval: 100%|██████████| 7/7 [00:02<00:00,  3.09it/s]\n",
            "Epoch 331\n"
          ]
        },
        {
          "metadata": {
            "tags": null
          },
          "name": "stdout",
          "output_type": "stream",
          "text": [
            "\tVal Dist 117.7370\t\n"
          ]
        },
        {
          "metadata": {
            "tags": null
          },
          "name": "stderr",
          "output_type": "stream",
          "text": [
            "Train: 100%|██████████| 82/82 [00:31<00:00,  2.57it/s]\n",
            "Epoch 332\n",
            "Train: 100%|██████████| 82/82 [00:29<00:00,  2.78it/s]\n",
            "Epoch 333\n",
            "Train: 100%|██████████| 82/82 [00:32<00:00,  2.51it/s]\n",
            "Epoch 334\n",
            "Train: 100%|██████████| 82/82 [00:28<00:00,  2.85it/s]\n",
            "Epoch 335\n",
            "Train: 100%|██████████| 82/82 [00:32<00:00,  2.55it/s]\n",
            "Epoch 336\n",
            "Train: 100%|██████████| 82/82 [00:28<00:00,  2.86it/s]\n",
            "Epoch 337\n",
            "Train: 100%|██████████| 82/82 [00:32<00:00,  2.49it/s]\n",
            "Epoch 338\n",
            "Train: 100%|██████████| 82/82 [00:28<00:00,  2.86it/s]\n",
            "Epoch 339\n",
            "Train: 100%|██████████| 82/82 [00:33<00:00,  2.46it/s]\n",
            "Epoch 340\n",
            "Train: 100%|██████████| 82/82 [00:29<00:00,  2.79it/s]\n",
            "Eval: 100%|██████████| 7/7 [00:02<00:00,  2.91it/s]\n",
            "Epoch 341\n"
          ]
        },
        {
          "metadata": {
            "tags": null
          },
          "name": "stdout",
          "output_type": "stream",
          "text": [
            "\tVal Dist 117.4040\t\n"
          ]
        },
        {
          "metadata": {
            "tags": null
          },
          "name": "stderr",
          "output_type": "stream",
          "text": [
            "Train: 100%|██████████| 82/82 [00:32<00:00,  2.52it/s]\n",
            "Epoch 342\n",
            "Train: 100%|██████████| 82/82 [00:29<00:00,  2.78it/s]\n",
            "Epoch 343\n",
            "Train: 100%|██████████| 82/82 [00:32<00:00,  2.51it/s]\n",
            "Epoch 344\n",
            "Train: 100%|██████████| 82/82 [00:29<00:00,  2.78it/s]\n",
            "Epoch 345\n",
            "Train: 100%|██████████| 82/82 [00:32<00:00,  2.49it/s]\n",
            "Epoch 346\n",
            "Train: 100%|██████████| 82/82 [00:29<00:00,  2.78it/s]\n",
            "Epoch 347\n",
            "Train: 100%|██████████| 82/82 [00:33<00:00,  2.45it/s]\n",
            "Epoch 348\n",
            "Train: 100%|██████████| 82/82 [00:29<00:00,  2.78it/s]\n",
            "Epoch 349\n",
            "Train: 100%|██████████| 82/82 [00:33<00:00,  2.43it/s]\n",
            "Epoch 350\n",
            "Train: 100%|██████████| 82/82 [00:29<00:00,  2.79it/s]\n",
            "Eval: 100%|██████████| 7/7 [00:02<00:00,  2.98it/s]\n",
            "Epoch 351\n"
          ]
        },
        {
          "metadata": {
            "tags": null
          },
          "name": "stdout",
          "output_type": "stream",
          "text": [
            "\tVal Dist 119.0330\t\n"
          ]
        },
        {
          "metadata": {
            "tags": null
          },
          "name": "stderr",
          "output_type": "stream",
          "text": [
            "Train: 100%|██████████| 82/82 [00:32<00:00,  2.52it/s]\n",
            "Epoch 352\n",
            "Train: 100%|██████████| 82/82 [00:29<00:00,  2.83it/s]\n",
            "Epoch 353\n",
            "Train: 100%|██████████| 82/82 [00:32<00:00,  2.52it/s]\n",
            "Epoch 354\n",
            "Train: 100%|██████████| 82/82 [00:29<00:00,  2.81it/s]\n",
            "Epoch 355\n",
            "Train: 100%|██████████| 82/82 [00:32<00:00,  2.52it/s]\n",
            "Epoch 356\n",
            "Train: 100%|██████████| 82/82 [00:29<00:00,  2.82it/s]\n",
            "Epoch 357\n",
            "Train: 100%|██████████| 82/82 [00:32<00:00,  2.51it/s]\n",
            "Epoch 358\n",
            "Train: 100%|██████████| 82/82 [00:29<00:00,  2.82it/s]\n",
            "Epoch 359\n",
            "Train: 100%|██████████| 82/82 [00:33<00:00,  2.46it/s]\n",
            "Epoch 360\n",
            "Train: 100%|██████████| 82/82 [00:29<00:00,  2.80it/s]\n",
            "Eval: 100%|██████████| 7/7 [00:03<00:00,  2.08it/s]\n",
            "Epoch 361\n"
          ]
        },
        {
          "metadata": {
            "tags": null
          },
          "name": "stdout",
          "output_type": "stream",
          "text": [
            "\tVal Dist 119.6780\t\n"
          ]
        },
        {
          "metadata": {
            "tags": null
          },
          "name": "stderr",
          "output_type": "stream",
          "text": [
            "Train: 100%|██████████| 82/82 [00:33<00:00,  2.48it/s]\n",
            "Epoch 362\n",
            "Train: 100%|██████████| 82/82 [00:29<00:00,  2.77it/s]\n",
            "Epoch 363\n",
            "Train: 100%|██████████| 82/82 [00:32<00:00,  2.50it/s]\n",
            "Epoch 364\n",
            "Train: 100%|██████████| 82/82 [00:29<00:00,  2.80it/s]\n",
            "Epoch 365\n",
            "Train: 100%|██████████| 82/82 [00:32<00:00,  2.51it/s]\n",
            "Epoch 366\n",
            "Train: 100%|██████████| 82/82 [00:29<00:00,  2.78it/s]\n",
            "Epoch 367\n",
            "Train: 100%|██████████| 82/82 [00:32<00:00,  2.52it/s]\n",
            "Epoch 368\n",
            "Train: 100%|██████████| 82/82 [00:29<00:00,  2.79it/s]\n",
            "Epoch 369\n",
            "Train: 100%|██████████| 82/82 [00:33<00:00,  2.47it/s]\n",
            "Epoch 370\n",
            "Train: 100%|██████████| 82/82 [00:29<00:00,  2.79it/s]\n",
            "Eval: 100%|██████████| 7/7 [00:03<00:00,  2.03it/s]\n",
            "Epoch 371\n"
          ]
        },
        {
          "metadata": {
            "tags": null
          },
          "name": "stdout",
          "output_type": "stream",
          "text": [
            "\tVal Dist 119.1470\t\n"
          ]
        },
        {
          "metadata": {
            "tags": null
          },
          "name": "stderr",
          "output_type": "stream",
          "text": [
            "Train: 100%|██████████| 82/82 [00:32<00:00,  2.50it/s]\n",
            "Epoch 372\n",
            "Train: 100%|██████████| 82/82 [00:29<00:00,  2.79it/s]\n",
            "Epoch 373\n",
            "Train: 100%|██████████| 82/82 [00:32<00:00,  2.49it/s]\n",
            "Epoch 374\n",
            "Train: 100%|██████████| 82/82 [00:29<00:00,  2.79it/s]\n",
            "Epoch 375\n",
            "Train: 100%|██████████| 82/82 [00:32<00:00,  2.49it/s]\n",
            "Epoch 376\n",
            "Train: 100%|██████████| 82/82 [00:29<00:00,  2.76it/s]\n",
            "Epoch 377\n",
            "Train: 100%|██████████| 82/82 [00:33<00:00,  2.48it/s]\n",
            "Epoch 378\n",
            "Train: 100%|██████████| 82/82 [00:29<00:00,  2.74it/s]\n",
            "Epoch 379\n",
            "Train: 100%|██████████| 82/82 [00:33<00:00,  2.44it/s]\n",
            "Epoch 380\n",
            "Train: 100%|██████████| 82/82 [00:29<00:00,  2.74it/s]\n",
            "Eval: 100%|██████████| 7/7 [00:03<00:00,  2.12it/s]\n",
            "Epoch 381\n"
          ]
        },
        {
          "metadata": {
            "tags": null
          },
          "name": "stdout",
          "output_type": "stream",
          "text": [
            "\tVal Dist 117.1090\t\n"
          ]
        },
        {
          "metadata": {
            "tags": null
          },
          "name": "stderr",
          "output_type": "stream",
          "text": [
            "Train: 100%|██████████| 82/82 [00:32<00:00,  2.49it/s]\n",
            "Epoch 382\n",
            "Train: 100%|██████████| 82/82 [00:29<00:00,  2.77it/s]\n",
            "Epoch 383\n",
            "Train: 100%|██████████| 82/82 [00:32<00:00,  2.50it/s]\n",
            "Epoch 384\n",
            "Train: 100%|██████████| 82/82 [00:29<00:00,  2.79it/s]\n",
            "Epoch 385\n",
            "Train: 100%|██████████| 82/82 [00:32<00:00,  2.49it/s]\n",
            "Epoch 386\n",
            "Train: 100%|██████████| 82/82 [00:29<00:00,  2.81it/s]\n",
            "Epoch 387\n",
            "Train: 100%|██████████| 82/82 [00:32<00:00,  2.53it/s]\n",
            "Epoch 388\n",
            "Train: 100%|██████████| 82/82 [00:29<00:00,  2.78it/s]\n",
            "Epoch 389\n",
            "Train: 100%|██████████| 82/82 [00:33<00:00,  2.47it/s]\n",
            "Epoch 390\n",
            "Train: 100%|██████████| 82/82 [00:29<00:00,  2.81it/s]\n",
            "Eval: 100%|██████████| 7/7 [00:03<00:00,  2.04it/s]\n",
            "Epoch 391\n"
          ]
        },
        {
          "metadata": {
            "tags": null
          },
          "name": "stdout",
          "output_type": "stream",
          "text": [
            "\tVal Dist 115.3210\t\n"
          ]
        },
        {
          "metadata": {
            "tags": null
          },
          "name": "stderr",
          "output_type": "stream",
          "text": [
            "Train: 100%|██████████| 82/82 [00:32<00:00,  2.51it/s]\n",
            "Epoch 392\n",
            "Train: 100%|██████████| 82/82 [00:29<00:00,  2.80it/s]\n",
            "Epoch 393\n",
            "Train: 100%|██████████| 82/82 [00:32<00:00,  2.52it/s]\n",
            "Epoch 394\n",
            "Train: 100%|██████████| 82/82 [00:29<00:00,  2.81it/s]\n",
            "Epoch 395\n",
            "Train: 100%|██████████| 82/82 [00:32<00:00,  2.51it/s]\n",
            "Epoch 396\n",
            "Train: 100%|██████████| 82/82 [00:29<00:00,  2.80it/s]\n",
            "Epoch 397\n",
            "Train: 100%|██████████| 82/82 [00:32<00:00,  2.52it/s]\n",
            "Epoch 398\n",
            "Train: 100%|██████████| 82/82 [00:29<00:00,  2.77it/s]\n",
            "Epoch 399\n",
            "Train: 100%|██████████| 82/82 [00:32<00:00,  2.51it/s]\n",
            "Epoch 400\n",
            "Train: 100%|██████████| 82/82 [00:29<00:00,  2.80it/s]\n",
            "Eval: 100%|██████████| 7/7 [00:02<00:00,  2.41it/s]\n",
            "Epoch 401\n"
          ]
        },
        {
          "metadata": {
            "tags": null
          },
          "name": "stdout",
          "output_type": "stream",
          "text": [
            "\tVal Dist 117.0100\t\n"
          ]
        },
        {
          "metadata": {
            "tags": null
          },
          "name": "stderr",
          "output_type": "stream",
          "text": [
            "Train: 100%|██████████| 82/82 [00:33<00:00,  2.47it/s]\n",
            "Epoch 402\n",
            "Train: 100%|██████████| 82/82 [00:29<00:00,  2.81it/s]\n",
            "Epoch 403\n",
            "Train: 100%|██████████| 82/82 [00:32<00:00,  2.51it/s]\n",
            "Epoch 404\n",
            "Train: 100%|██████████| 82/82 [00:29<00:00,  2.78it/s]\n",
            "Epoch 405\n",
            "Train: 100%|██████████| 82/82 [00:32<00:00,  2.52it/s]\n",
            "Epoch 406\n",
            "Train: 100%|██████████| 82/82 [00:29<00:00,  2.79it/s]\n",
            "Epoch 407\n",
            "Train: 100%|██████████| 82/82 [00:32<00:00,  2.51it/s]\n",
            "Epoch 408\n",
            "Train: 100%|██████████| 82/82 [00:29<00:00,  2.80it/s]\n",
            "Epoch 409\n",
            "Train: 100%|██████████| 82/82 [00:32<00:00,  2.53it/s]\n",
            "Epoch 410\n",
            "Train: 100%|██████████| 82/82 [00:29<00:00,  2.81it/s]\n",
            "Eval: 100%|██████████| 7/7 [00:02<00:00,  2.90it/s]\n",
            "Epoch 411\n"
          ]
        },
        {
          "metadata": {
            "tags": null
          },
          "name": "stdout",
          "output_type": "stream",
          "text": [
            "\tVal Dist 115.1090\t\n"
          ]
        },
        {
          "metadata": {
            "tags": null
          },
          "name": "stderr",
          "output_type": "stream",
          "text": [
            "Train: 100%|██████████| 82/82 [00:33<00:00,  2.46it/s]\n",
            "Epoch 412\n",
            "Train: 100%|██████████| 82/82 [00:29<00:00,  2.83it/s]\n",
            "Epoch 413\n",
            "Train: 100%|██████████| 82/82 [00:33<00:00,  2.47it/s]\n",
            "Epoch 414\n",
            "Train: 100%|██████████| 82/82 [00:29<00:00,  2.78it/s]\n",
            "Epoch 415\n",
            "Train: 100%|██████████| 82/82 [00:32<00:00,  2.52it/s]\n",
            "Epoch 416\n",
            "Train: 100%|██████████| 82/82 [00:29<00:00,  2.80it/s]\n",
            "Epoch 417\n",
            "Train: 100%|██████████| 82/82 [00:33<00:00,  2.47it/s]\n",
            "Epoch 418\n",
            "Train: 100%|██████████| 82/82 [00:30<00:00,  2.73it/s]\n",
            "Epoch 419\n",
            "Train: 100%|██████████| 82/82 [00:33<00:00,  2.47it/s]\n",
            "Epoch 420\n",
            "Train: 100%|██████████| 82/82 [00:29<00:00,  2.76it/s]\n",
            "Eval: 100%|██████████| 7/7 [00:02<00:00,  2.93it/s]\n",
            "Epoch 421\n"
          ]
        },
        {
          "metadata": {
            "tags": null
          },
          "name": "stdout",
          "output_type": "stream",
          "text": [
            "\tVal Dist 117.3960\t\n"
          ]
        },
        {
          "metadata": {
            "tags": null
          },
          "name": "stderr",
          "output_type": "stream",
          "text": [
            "Train: 100%|██████████| 82/82 [00:33<00:00,  2.44it/s]\n",
            "Epoch 422\n",
            "Train: 100%|██████████| 82/82 [00:29<00:00,  2.77it/s]\n",
            "Epoch 423\n",
            "Train: 100%|██████████| 82/82 [00:33<00:00,  2.44it/s]\n",
            "Epoch 424\n",
            "Train: 100%|██████████| 82/82 [00:29<00:00,  2.77it/s]\n",
            "Epoch 425\n",
            "Train: 100%|██████████| 82/82 [00:33<00:00,  2.48it/s]\n",
            "Epoch 426\n",
            "Train: 100%|██████████| 82/82 [00:29<00:00,  2.77it/s]\n",
            "Epoch 427\n",
            "Train: 100%|██████████| 82/82 [00:32<00:00,  2.50it/s]\n",
            "Epoch 428\n",
            "Train: 100%|██████████| 82/82 [00:29<00:00,  2.76it/s]\n",
            "Epoch 429\n",
            "Train: 100%|██████████| 82/82 [00:32<00:00,  2.49it/s]\n",
            "Epoch 430\n",
            "Train: 100%|██████████| 82/82 [00:29<00:00,  2.77it/s]\n",
            "Eval: 100%|██████████| 7/7 [00:02<00:00,  2.94it/s]\n",
            "Epoch 431\n"
          ]
        },
        {
          "metadata": {
            "tags": null
          },
          "name": "stdout",
          "output_type": "stream",
          "text": [
            "\tVal Dist 117.5310\t\n"
          ]
        },
        {
          "metadata": {
            "tags": null
          },
          "name": "stderr",
          "output_type": "stream",
          "text": [
            "Train: 100%|██████████| 82/82 [00:33<00:00,  2.46it/s]\n",
            "Epoch 432\n",
            "Train: 100%|██████████| 82/82 [00:29<00:00,  2.82it/s]\n",
            "Epoch 433\n",
            "Train: 100%|██████████| 82/82 [00:33<00:00,  2.44it/s]\n",
            "Epoch 434\n",
            "Train: 100%|██████████| 82/82 [00:29<00:00,  2.79it/s]\n",
            "Epoch 435\n",
            "Train: 100%|██████████| 82/82 [00:32<00:00,  2.52it/s]\n",
            "Epoch 436\n",
            "Train: 100%|██████████| 82/82 [00:29<00:00,  2.78it/s]\n",
            "Epoch 437\n",
            "Train: 100%|██████████| 82/82 [00:32<00:00,  2.49it/s]\n",
            "Epoch 438\n",
            "Train: 100%|██████████| 82/82 [00:29<00:00,  2.79it/s]\n",
            "Epoch 439\n",
            "Train: 100%|██████████| 82/82 [00:32<00:00,  2.50it/s]\n",
            "Epoch 440\n",
            "Train: 100%|██████████| 82/82 [00:29<00:00,  2.78it/s]\n",
            "Eval: 100%|██████████| 7/7 [00:02<00:00,  2.92it/s]\n",
            "Epoch 441\n"
          ]
        },
        {
          "metadata": {
            "tags": null
          },
          "name": "stdout",
          "output_type": "stream",
          "text": [
            "\tVal Dist 118.9740\t\n"
          ]
        },
        {
          "metadata": {
            "tags": null
          },
          "name": "stderr",
          "output_type": "stream",
          "text": [
            "Train: 100%|██████████| 82/82 [00:33<00:00,  2.46it/s]\n",
            "Epoch 442\n",
            "Train: 100%|██████████| 82/82 [00:29<00:00,  2.80it/s]\n",
            "Epoch 443\n",
            "Train: 100%|██████████| 82/82 [00:33<00:00,  2.43it/s]\n",
            "Epoch 444\n",
            "Train: 100%|██████████| 82/82 [00:29<00:00,  2.79it/s]\n",
            "Epoch 445\n",
            "Train: 100%|██████████| 82/82 [00:32<00:00,  2.51it/s]\n",
            "Epoch 446\n",
            "Train: 100%|██████████| 82/82 [00:29<00:00,  2.78it/s]\n",
            "Epoch 447\n",
            "Train: 100%|██████████| 82/82 [00:33<00:00,  2.48it/s]\n",
            "Epoch 448\n",
            "Train: 100%|██████████| 82/82 [00:30<00:00,  2.72it/s]\n",
            "Epoch 449\n",
            "Train: 100%|██████████| 82/82 [00:33<00:00,  2.47it/s]\n",
            "Epoch 450\n",
            "Train: 100%|██████████| 82/82 [00:29<00:00,  2.74it/s]\n",
            "Eval: 100%|██████████| 7/7 [00:02<00:00,  2.48it/s]\n",
            "Epoch 451\n"
          ]
        },
        {
          "metadata": {
            "tags": null
          },
          "name": "stdout",
          "output_type": "stream",
          "text": [
            "\tVal Dist 119.7480\t\n"
          ]
        },
        {
          "metadata": {
            "tags": null
          },
          "name": "stderr",
          "output_type": "stream",
          "text": [
            "Train: 100%|██████████| 82/82 [00:33<00:00,  2.42it/s]\n",
            "Epoch 452\n",
            "Train: 100%|██████████| 82/82 [00:29<00:00,  2.74it/s]\n",
            "Epoch 453\n",
            "Train: 100%|██████████| 82/82 [00:33<00:00,  2.47it/s]\n",
            "Epoch 454\n",
            "Train: 100%|██████████| 82/82 [00:29<00:00,  2.76it/s]\n",
            "Epoch 455\n",
            "Train: 100%|██████████| 82/82 [00:33<00:00,  2.47it/s]\n",
            "Epoch 456\n",
            "Train: 100%|██████████| 82/82 [00:29<00:00,  2.74it/s]\n",
            "Epoch 457\n",
            "Train: 100%|██████████| 82/82 [00:32<00:00,  2.49it/s]\n",
            "Epoch 458\n",
            "Train: 100%|██████████| 82/82 [00:29<00:00,  2.78it/s]\n",
            "Epoch 459\n",
            "Train: 100%|██████████| 82/82 [00:32<00:00,  2.49it/s]\n",
            "Epoch 460\n",
            "Train: 100%|██████████| 82/82 [00:29<00:00,  2.78it/s]\n",
            "Eval: 100%|██████████| 7/7 [00:03<00:00,  2.10it/s]\n",
            "Epoch 461\n"
          ]
        },
        {
          "metadata": {
            "tags": null
          },
          "name": "stdout",
          "output_type": "stream",
          "text": [
            "\tVal Dist 118.3240\t\n"
          ]
        },
        {
          "metadata": {
            "tags": null
          },
          "name": "stderr",
          "output_type": "stream",
          "text": [
            "Train: 100%|██████████| 82/82 [00:33<00:00,  2.48it/s]\n",
            "Epoch 462\n",
            "Train: 100%|██████████| 82/82 [00:29<00:00,  2.78it/s]\n",
            "Epoch 463\n",
            "Train: 100%|██████████| 82/82 [00:32<00:00,  2.51it/s]\n",
            "Epoch 464\n",
            "Train: 100%|██████████| 82/82 [00:29<00:00,  2.81it/s]\n",
            "Epoch 465\n",
            "Train: 100%|██████████| 82/82 [00:32<00:00,  2.50it/s]\n",
            "Epoch 466\n",
            "Train: 100%|██████████| 82/82 [00:29<00:00,  2.80it/s]\n",
            "Epoch 467\n",
            "Train: 100%|██████████| 82/82 [00:32<00:00,  2.51it/s]\n",
            "Epoch 468\n",
            "Train: 100%|██████████| 82/82 [00:29<00:00,  2.81it/s]\n",
            "Epoch 469\n",
            "Train: 100%|██████████| 82/82 [00:32<00:00,  2.52it/s]\n",
            "Epoch 470\n",
            "Train: 100%|██████████| 82/82 [00:29<00:00,  2.82it/s]\n",
            "Eval: 100%|██████████| 7/7 [00:03<00:00,  2.28it/s]\n",
            "Epoch 471\n"
          ]
        },
        {
          "metadata": {
            "tags": null
          },
          "name": "stdout",
          "output_type": "stream",
          "text": [
            "\tVal Dist 117.9900\t\n"
          ]
        },
        {
          "metadata": {
            "tags": null
          },
          "name": "stderr",
          "output_type": "stream",
          "text": [
            "Train: 100%|██████████| 82/82 [00:32<00:00,  2.49it/s]\n",
            "Epoch 472\n",
            "Train: 100%|██████████| 82/82 [00:28<00:00,  2.83it/s]\n",
            "Epoch 473\n",
            "Train: 100%|██████████| 82/82 [00:32<00:00,  2.53it/s]\n",
            "Epoch 474\n",
            "Train: 100%|██████████| 82/82 [00:29<00:00,  2.81it/s]\n",
            "Epoch 475\n",
            "Train: 100%|██████████| 82/82 [00:32<00:00,  2.51it/s]\n",
            "Epoch 476\n",
            "Train: 100%|██████████| 82/82 [00:29<00:00,  2.81it/s]\n",
            "Epoch 477\n",
            "Train: 100%|██████████| 82/82 [00:32<00:00,  2.52it/s]\n",
            "Epoch 478\n",
            "Train: 100%|██████████| 82/82 [00:29<00:00,  2.78it/s]\n",
            "Epoch 479\n",
            "Train: 100%|██████████| 82/82 [00:32<00:00,  2.51it/s]\n",
            "Epoch 480\n",
            "Train: 100%|██████████| 82/82 [00:29<00:00,  2.80it/s]\n",
            "Eval: 100%|██████████| 7/7 [00:02<00:00,  2.36it/s]\n",
            "Epoch 481\n"
          ]
        },
        {
          "metadata": {
            "tags": null
          },
          "name": "stdout",
          "output_type": "stream",
          "text": [
            "\tVal Dist 115.6710\t\n"
          ]
        },
        {
          "metadata": {
            "tags": null
          },
          "name": "stderr",
          "output_type": "stream",
          "text": [
            "Train: 100%|██████████| 82/82 [00:32<00:00,  2.50it/s]\n",
            "Epoch 482\n",
            "Train: 100%|██████████| 82/82 [00:28<00:00,  2.83it/s]\n",
            "Epoch 483\n",
            "Train: 100%|██████████| 82/82 [00:32<00:00,  2.50it/s]\n",
            "Epoch 484\n",
            "Train: 100%|██████████| 82/82 [00:29<00:00,  2.81it/s]\n",
            "Epoch 485\n",
            "Train: 100%|██████████| 82/82 [00:32<00:00,  2.53it/s]\n",
            "Epoch 486\n",
            "Train: 100%|██████████| 82/82 [00:29<00:00,  2.79it/s]\n",
            "Epoch 487\n",
            "Train: 100%|██████████| 82/82 [00:33<00:00,  2.48it/s]\n",
            "Epoch 488\n",
            "Train: 100%|██████████| 82/82 [00:29<00:00,  2.76it/s]\n",
            "Epoch 489\n",
            "Train: 100%|██████████| 82/82 [00:32<00:00,  2.50it/s]\n",
            "Epoch 490\n",
            "Train: 100%|██████████| 82/82 [00:29<00:00,  2.77it/s]\n",
            "Eval: 100%|██████████| 7/7 [00:02<00:00,  2.48it/s]\n",
            "Epoch 491\n"
          ]
        },
        {
          "metadata": {
            "tags": null
          },
          "name": "stdout",
          "output_type": "stream",
          "text": [
            "\tVal Dist 119.0670\t\n"
          ]
        },
        {
          "metadata": {
            "tags": null
          },
          "name": "stderr",
          "output_type": "stream",
          "text": [
            "Train: 100%|██████████| 82/82 [00:33<00:00,  2.44it/s]\n",
            "Epoch 492\n",
            "Train: 100%|██████████| 82/82 [00:29<00:00,  2.79it/s]\n",
            "Epoch 493\n",
            "Train: 100%|██████████| 82/82 [00:32<00:00,  2.50it/s]\n",
            "Epoch 494\n",
            "Train: 100%|██████████| 82/82 [00:29<00:00,  2.80it/s]\n",
            "Epoch 495\n",
            "Train: 100%|██████████| 82/82 [00:32<00:00,  2.53it/s]\n",
            "Epoch 496\n",
            "Train: 100%|██████████| 82/82 [00:29<00:00,  2.79it/s]\n",
            "Epoch 497\n",
            "Train: 100%|██████████| 82/82 [00:32<00:00,  2.51it/s]\n",
            "Epoch 498\n",
            "Train: 100%|██████████| 82/82 [00:29<00:00,  2.77it/s]\n",
            "Epoch 499\n",
            "Train: 100%|██████████| 82/82 [00:33<00:00,  2.48it/s]\n",
            "Epoch 500\n",
            "Train: 100%|██████████| 82/82 [00:29<00:00,  2.78it/s]\n",
            "Eval: 100%|██████████| 7/7 [00:03<00:00,  2.19it/s]\n",
            "Epoch 501\n"
          ]
        },
        {
          "metadata": {
            "tags": null
          },
          "name": "stdout",
          "output_type": "stream",
          "text": [
            "\tVal Dist 115.2370\t\n"
          ]
        },
        {
          "metadata": {
            "tags": null
          },
          "name": "stderr",
          "output_type": "stream",
          "text": [
            "Train: 100%|██████████| 82/82 [00:33<00:00,  2.46it/s]\n",
            "Epoch 502\n",
            "Train: 100%|██████████| 82/82 [00:29<00:00,  2.79it/s]\n",
            "Epoch 503\n",
            "Train: 100%|██████████| 82/82 [00:32<00:00,  2.51it/s]\n",
            "Epoch 504\n",
            "Train: 100%|██████████| 82/82 [00:29<00:00,  2.82it/s]\n",
            "Epoch 505\n",
            "Train: 100%|██████████| 82/82 [00:32<00:00,  2.50it/s]\n",
            "Epoch 506\n",
            "Train: 100%|██████████| 82/82 [00:29<00:00,  2.79it/s]\n",
            "Epoch 507\n",
            "Train: 100%|██████████| 82/82 [00:32<00:00,  2.54it/s]\n",
            "Epoch 508\n",
            "Train: 100%|██████████| 82/82 [00:28<00:00,  2.83it/s]\n",
            "Epoch 509\n",
            "Train: 100%|██████████| 82/82 [00:32<00:00,  2.54it/s]\n",
            "Epoch 510\n",
            "Train: 100%|██████████| 82/82 [00:29<00:00,  2.79it/s]\n",
            "Eval: 100%|██████████| 7/7 [00:02<00:00,  2.46it/s]\n",
            "Epoch 511\n"
          ]
        },
        {
          "metadata": {
            "tags": null
          },
          "name": "stdout",
          "output_type": "stream",
          "text": [
            "\tVal Dist 116.5670\t\n"
          ]
        },
        {
          "metadata": {
            "tags": null
          },
          "name": "stderr",
          "output_type": "stream",
          "text": [
            "Train: 100%|██████████| 82/82 [00:33<00:00,  2.48it/s]\n",
            "Epoch 512\n",
            "Train: 100%|██████████| 82/82 [00:28<00:00,  2.85it/s]\n",
            "Epoch 513\n",
            "Train: 100%|██████████| 82/82 [00:31<00:00,  2.57it/s]\n",
            "Epoch 514\n",
            "Train: 100%|██████████| 82/82 [00:29<00:00,  2.82it/s]\n",
            "Epoch 515\n",
            "Train: 100%|██████████| 82/82 [00:32<00:00,  2.51it/s]\n",
            "Epoch 516\n",
            "Train: 100%|██████████| 82/82 [00:29<00:00,  2.79it/s]\n",
            "Epoch 517\n",
            "Train: 100%|██████████| 82/82 [00:32<00:00,  2.52it/s]\n",
            "Epoch 518\n",
            "Train: 100%|██████████| 82/82 [00:29<00:00,  2.81it/s]\n",
            "Epoch 519\n",
            "Train: 100%|██████████| 82/82 [00:32<00:00,  2.51it/s]\n",
            "Epoch 520\n",
            "Train: 100%|██████████| 82/82 [00:29<00:00,  2.82it/s]\n",
            "Eval: 100%|██████████| 7/7 [00:02<00:00,  3.00it/s]\n",
            "Epoch 521\n"
          ]
        },
        {
          "metadata": {
            "tags": null
          },
          "name": "stdout",
          "output_type": "stream",
          "text": [
            "\tVal Dist 112.0500\t\n"
          ]
        },
        {
          "metadata": {
            "tags": null
          },
          "name": "stderr",
          "output_type": "stream",
          "text": [
            "Train: 100%|██████████| 82/82 [00:32<00:00,  2.49it/s]\n",
            "Epoch 522\n",
            "Train: 100%|██████████| 82/82 [00:29<00:00,  2.81it/s]\n",
            "Epoch 523\n",
            "Train: 100%|██████████| 82/82 [00:33<00:00,  2.46it/s]\n",
            "Epoch 524\n",
            "Train: 100%|██████████| 82/82 [00:29<00:00,  2.82it/s]\n",
            "Epoch 525\n",
            "Train: 100%|██████████| 82/82 [00:32<00:00,  2.50it/s]\n",
            "Epoch 526\n",
            "Train: 100%|██████████| 82/82 [00:29<00:00,  2.81it/s]\n",
            "Epoch 527\n",
            "Train: 100%|██████████| 82/82 [00:32<00:00,  2.53it/s]\n",
            "Epoch 528\n",
            "Train: 100%|██████████| 82/82 [00:29<00:00,  2.79it/s]\n",
            "Epoch 529\n",
            "Train: 100%|██████████| 82/82 [00:32<00:00,  2.50it/s]\n",
            "Epoch 530\n",
            "Train: 100%|██████████| 82/82 [00:29<00:00,  2.82it/s]\n",
            "Eval: 100%|██████████| 7/7 [00:02<00:00,  2.93it/s]\n",
            "Epoch 531\n"
          ]
        },
        {
          "metadata": {
            "tags": null
          },
          "name": "stdout",
          "output_type": "stream",
          "text": [
            "\tVal Dist 116.9980\t\n"
          ]
        },
        {
          "metadata": {
            "tags": null
          },
          "name": "stderr",
          "output_type": "stream",
          "text": [
            "Train: 100%|██████████| 82/82 [00:32<00:00,  2.51it/s]\n",
            "Epoch 532\n",
            "Train: 100%|██████████| 82/82 [00:29<00:00,  2.82it/s]\n",
            "Epoch 533\n",
            "Train: 100%|██████████| 82/82 [00:33<00:00,  2.44it/s]\n",
            "Epoch 534\n",
            "Train: 100%|██████████| 82/82 [00:28<00:00,  2.84it/s]\n",
            "Epoch 535\n",
            "Train: 100%|██████████| 82/82 [00:33<00:00,  2.48it/s]\n",
            "Epoch 536\n",
            "Train: 100%|██████████| 82/82 [00:29<00:00,  2.79it/s]\n",
            "Epoch 537\n",
            "Train: 100%|██████████| 82/82 [00:32<00:00,  2.52it/s]\n",
            "Epoch 538\n",
            "Train: 100%|██████████| 82/82 [00:29<00:00,  2.80it/s]\n",
            "Epoch 539\n",
            "Train: 100%|██████████| 82/82 [00:32<00:00,  2.51it/s]\n",
            "Epoch 540\n",
            "Train: 100%|██████████| 82/82 [00:29<00:00,  2.77it/s]\n",
            "Eval: 100%|██████████| 7/7 [00:02<00:00,  2.95it/s]\n",
            "Epoch 541\n"
          ]
        },
        {
          "metadata": {
            "tags": null
          },
          "name": "stdout",
          "output_type": "stream",
          "text": [
            "\tVal Dist 116.8230\t\n"
          ]
        },
        {
          "metadata": {
            "tags": null
          },
          "name": "stderr",
          "output_type": "stream",
          "text": [
            "Train: 100%|██████████| 82/82 [00:32<00:00,  2.50it/s]\n",
            "Epoch 542\n",
            "Train: 100%|██████████| 82/82 [00:29<00:00,  2.82it/s]\n",
            "Epoch 543\n",
            "Train: 100%|██████████| 82/82 [00:33<00:00,  2.45it/s]\n",
            "Epoch 544\n",
            "Train: 100%|██████████| 82/82 [00:29<00:00,  2.79it/s]\n",
            "Epoch 545\n",
            "Train: 100%|██████████| 82/82 [00:33<00:00,  2.45it/s]\n",
            "Epoch 546\n",
            "Train: 100%|██████████| 82/82 [00:29<00:00,  2.80it/s]\n",
            "Epoch 547\n",
            "Train: 100%|██████████| 82/82 [00:32<00:00,  2.51it/s]\n",
            "Epoch 548\n",
            "Train: 100%|██████████| 82/82 [00:29<00:00,  2.81it/s]\n",
            "Epoch 549\n",
            "Train: 100%|██████████| 82/82 [00:32<00:00,  2.52it/s]\n",
            "Epoch 550\n",
            "Train: 100%|██████████| 82/82 [00:28<00:00,  2.84it/s]\n",
            "Eval: 100%|██████████| 7/7 [00:02<00:00,  3.03it/s]\n",
            "Epoch 551\n"
          ]
        },
        {
          "metadata": {
            "tags": null
          },
          "name": "stdout",
          "output_type": "stream",
          "text": [
            "\tVal Dist 116.8530\t\n"
          ]
        },
        {
          "metadata": {
            "tags": null
          },
          "name": "stderr",
          "output_type": "stream",
          "text": [
            "Train: 100%|██████████| 82/82 [00:32<00:00,  2.56it/s]\n",
            "Epoch 552\n",
            "Train: 100%|██████████| 82/82 [00:29<00:00,  2.80it/s]\n",
            "Epoch 553\n",
            "Train: 100%|██████████| 82/82 [00:32<00:00,  2.49it/s]\n",
            "Epoch 554\n",
            "Train: 100%|██████████| 82/82 [00:29<00:00,  2.82it/s]\n",
            "Epoch 555\n",
            "Train: 100%|██████████| 82/82 [00:33<00:00,  2.45it/s]\n",
            "Epoch 556\n",
            "Train: 100%|██████████| 82/82 [00:28<00:00,  2.84it/s]\n",
            "Epoch 557\n",
            "Train: 100%|██████████| 82/82 [00:32<00:00,  2.50it/s]\n",
            "Epoch 558\n",
            "Train: 100%|██████████| 82/82 [00:29<00:00,  2.81it/s]\n",
            "Epoch 559\n",
            "Train: 100%|██████████| 82/82 [00:32<00:00,  2.50it/s]\n",
            "Epoch 560\n",
            "Train: 100%|██████████| 82/82 [00:29<00:00,  2.78it/s]\n",
            "Eval: 100%|██████████| 7/7 [00:02<00:00,  2.93it/s]\n",
            "Epoch 561\n"
          ]
        },
        {
          "metadata": {
            "tags": null
          },
          "name": "stdout",
          "output_type": "stream",
          "text": [
            "\tVal Dist 121.4020\t\n"
          ]
        },
        {
          "metadata": {
            "tags": null
          },
          "name": "stderr",
          "output_type": "stream",
          "text": [
            "Train: 100%|██████████| 82/82 [00:32<00:00,  2.51it/s]\n",
            "Epoch 562\n",
            "Train: 100%|██████████| 82/82 [00:29<00:00,  2.80it/s]\n",
            "Epoch 563\n",
            "Train: 100%|██████████| 82/82 [00:33<00:00,  2.48it/s]\n",
            "Epoch 564\n",
            "Train: 100%|██████████| 82/82 [00:28<00:00,  2.84it/s]\n",
            "Epoch 565\n",
            "Train: 100%|██████████| 82/82 [00:33<00:00,  2.47it/s]\n",
            "Epoch 566\n",
            "Train: 100%|██████████| 82/82 [00:29<00:00,  2.83it/s]\n",
            "Epoch 567\n",
            "Train: 100%|██████████| 82/82 [00:33<00:00,  2.46it/s]\n",
            "Epoch 568\n",
            "Train: 100%|██████████| 82/82 [00:29<00:00,  2.79it/s]\n",
            "Epoch 569\n",
            "Train: 100%|██████████| 82/82 [00:32<00:00,  2.52it/s]\n",
            "Epoch 570\n",
            "Train: 100%|██████████| 82/82 [00:29<00:00,  2.80it/s]\n",
            "Eval: 100%|██████████| 7/7 [00:03<00:00,  2.26it/s]\n",
            "Epoch 571\n"
          ]
        },
        {
          "metadata": {
            "tags": null
          },
          "name": "stdout",
          "output_type": "stream",
          "text": [
            "\tVal Dist 117.0970\t\n"
          ]
        },
        {
          "metadata": {
            "tags": null
          },
          "name": "stderr",
          "output_type": "stream",
          "text": [
            "Train: 100%|██████████| 82/82 [00:33<00:00,  2.47it/s]\n",
            "Epoch 572\n",
            "Train: 100%|██████████| 82/82 [00:29<00:00,  2.79it/s]\n",
            "Epoch 573\n",
            "Train: 100%|██████████| 82/82 [00:33<00:00,  2.48it/s]\n",
            "Epoch 574\n",
            "Train: 100%|██████████| 82/82 [00:29<00:00,  2.82it/s]\n",
            "Epoch 575\n",
            "Train: 100%|██████████| 82/82 [00:33<00:00,  2.47it/s]\n",
            "Epoch 576\n",
            "Train: 100%|██████████| 82/82 [00:28<00:00,  2.84it/s]\n",
            "Epoch 577\n",
            "Train: 100%|██████████| 82/82 [00:32<00:00,  2.51it/s]\n",
            "Epoch 578\n",
            "Train: 100%|██████████| 82/82 [00:29<00:00,  2.81it/s]\n",
            "Epoch 579\n",
            "Train: 100%|██████████| 82/82 [00:32<00:00,  2.52it/s]\n",
            "Epoch 580\n",
            "Train: 100%|██████████| 82/82 [00:30<00:00,  2.71it/s]\n",
            "Eval: 100%|██████████| 7/7 [00:02<00:00,  2.75it/s]\n",
            "Epoch 581\n"
          ]
        },
        {
          "metadata": {
            "tags": null
          },
          "name": "stdout",
          "output_type": "stream",
          "text": [
            "\tVal Dist 114.2920\t\n"
          ]
        },
        {
          "metadata": {
            "tags": null
          },
          "name": "stderr",
          "output_type": "stream",
          "text": [
            "Train: 100%|██████████| 82/82 [00:32<00:00,  2.53it/s]\n",
            "Epoch 582\n",
            "Train: 100%|██████████| 82/82 [00:29<00:00,  2.78it/s]\n",
            "Epoch 583\n",
            "Train: 100%|██████████| 82/82 [00:33<00:00,  2.48it/s]\n",
            "Epoch 584\n",
            "Train: 100%|██████████| 82/82 [00:29<00:00,  2.80it/s]\n",
            "Epoch 585\n",
            "Train: 100%|██████████| 82/82 [00:33<00:00,  2.43it/s]\n",
            "Epoch 586\n",
            "Train: 100%|██████████| 82/82 [00:29<00:00,  2.78it/s]\n",
            "Epoch 587\n",
            "Train: 100%|██████████| 82/82 [00:32<00:00,  2.52it/s]\n",
            "Epoch 588\n",
            "Train: 100%|██████████| 82/82 [00:29<00:00,  2.81it/s]\n",
            "Epoch 589\n",
            "Train: 100%|██████████| 82/82 [00:32<00:00,  2.52it/s]\n",
            "Epoch 590\n",
            "Train: 100%|██████████| 82/82 [00:31<00:00,  2.60it/s]\n",
            "Eval: 100%|██████████| 7/7 [00:02<00:00,  2.99it/s]\n",
            "Epoch 591\n"
          ]
        },
        {
          "metadata": {
            "tags": null
          },
          "name": "stdout",
          "output_type": "stream",
          "text": [
            "\tVal Dist 119.0680\t\n"
          ]
        },
        {
          "metadata": {
            "tags": null
          },
          "name": "stderr",
          "output_type": "stream",
          "text": [
            "Train: 100%|██████████| 82/82 [00:32<00:00,  2.50it/s]\n",
            "Epoch 592\n",
            "Train: 100%|██████████| 82/82 [00:29<00:00,  2.77it/s]\n",
            "Epoch 593\n",
            "Train: 100%|██████████| 82/82 [00:33<00:00,  2.48it/s]\n",
            "Epoch 594\n",
            "Train: 100%|██████████| 82/82 [00:29<00:00,  2.79it/s]\n",
            "Epoch 595\n",
            "Train: 100%|██████████| 82/82 [00:33<00:00,  2.43it/s]\n",
            "Epoch 596\n",
            "Train: 100%|██████████| 82/82 [00:29<00:00,  2.81it/s]\n",
            "Epoch 597\n",
            "Train: 100%|██████████| 82/82 [00:33<00:00,  2.47it/s]\n",
            "Epoch 598\n",
            "Train: 100%|██████████| 82/82 [00:29<00:00,  2.79it/s]\n",
            "Epoch 599\n",
            "Train: 100%|██████████| 82/82 [00:32<00:00,  2.52it/s]\n",
            "Epoch 600\n",
            "Train: 100%|██████████| 82/82 [00:30<00:00,  2.68it/s]\n",
            "Eval: 100%|██████████| 7/7 [00:02<00:00,  2.94it/s]\n",
            "Epoch 601\n"
          ]
        },
        {
          "metadata": {
            "tags": null
          },
          "name": "stdout",
          "output_type": "stream",
          "text": [
            "\tVal Dist 117.0980\t\n"
          ]
        },
        {
          "metadata": {
            "tags": null
          },
          "name": "stderr",
          "output_type": "stream",
          "text": [
            "Train: 100%|██████████| 82/82 [00:32<00:00,  2.49it/s]\n",
            "Epoch 602\n",
            "Train: 100%|██████████| 82/82 [00:29<00:00,  2.78it/s]\n",
            "Epoch 603\n",
            "Train: 100%|██████████| 82/82 [00:33<00:00,  2.43it/s]\n",
            "Epoch 604\n",
            "Train: 100%|██████████| 82/82 [00:29<00:00,  2.81it/s]\n",
            "Epoch 605\n",
            "Train: 100%|██████████| 82/82 [00:33<00:00,  2.44it/s]\n",
            "Epoch 606\n",
            "Train: 100%|██████████| 82/82 [00:29<00:00,  2.78it/s]\n",
            "Epoch 607\n",
            "Train: 100%|██████████| 82/82 [00:32<00:00,  2.49it/s]\n",
            "Epoch 608\n",
            "Train: 100%|██████████| 82/82 [00:29<00:00,  2.78it/s]\n",
            "Epoch 609\n",
            "Train: 100%|██████████| 82/82 [00:32<00:00,  2.51it/s]\n",
            "Epoch 610\n",
            "Train: 100%|██████████| 82/82 [00:30<00:00,  2.66it/s]\n",
            "Eval: 100%|██████████| 7/7 [00:02<00:00,  2.99it/s]\n",
            "Epoch 611\n"
          ]
        },
        {
          "metadata": {
            "tags": null
          },
          "name": "stdout",
          "output_type": "stream",
          "text": [
            "\tVal Dist 116.8580\t\n"
          ]
        },
        {
          "metadata": {
            "tags": null
          },
          "name": "stderr",
          "output_type": "stream",
          "text": [
            "Train: 100%|██████████| 82/82 [00:33<00:00,  2.45it/s]\n",
            "Epoch 612\n",
            "Train: 100%|██████████| 82/82 [00:29<00:00,  2.79it/s]\n",
            "Epoch 613\n",
            "Train: 100%|██████████| 82/82 [00:33<00:00,  2.44it/s]\n",
            "Epoch 614\n",
            "Train: 100%|██████████| 82/82 [00:29<00:00,  2.78it/s]\n",
            "Epoch 615\n",
            "Train: 100%|██████████| 82/82 [00:32<00:00,  2.51it/s]\n",
            "Epoch 616\n",
            "Train: 100%|██████████| 82/82 [00:29<00:00,  2.77it/s]\n",
            "Epoch 617\n",
            "Train: 100%|██████████| 82/82 [00:32<00:00,  2.50it/s]\n",
            "Epoch 618\n",
            "Train: 100%|██████████| 82/82 [00:29<00:00,  2.77it/s]\n",
            "Epoch 619\n",
            "Train: 100%|██████████| 82/82 [00:32<00:00,  2.51it/s]\n",
            "Epoch 620\n",
            "Train: 100%|██████████| 82/82 [00:30<00:00,  2.66it/s]\n",
            "Eval: 100%|██████████| 7/7 [00:02<00:00,  2.88it/s]\n",
            "Epoch 621\n"
          ]
        },
        {
          "metadata": {
            "tags": null
          },
          "name": "stdout",
          "output_type": "stream",
          "text": [
            "\tVal Dist 114.4360\t\n"
          ]
        },
        {
          "metadata": {
            "tags": null
          },
          "name": "stderr",
          "output_type": "stream",
          "text": [
            "Train: 100%|██████████| 82/82 [00:33<00:00,  2.45it/s]\n",
            "Epoch 622\n",
            "Train: 100%|██████████| 82/82 [00:29<00:00,  2.79it/s]\n",
            "Epoch 623\n",
            "Train: 100%|██████████| 82/82 [00:33<00:00,  2.47it/s]\n",
            "Epoch 624\n",
            "Train: 100%|██████████| 82/82 [00:29<00:00,  2.75it/s]\n",
            "Epoch 625\n",
            "Train: 100%|██████████| 82/82 [00:32<00:00,  2.50it/s]\n",
            "Epoch 626\n",
            "Train: 100%|██████████| 82/82 [00:29<00:00,  2.78it/s]\n",
            "Epoch 627\n",
            "Train: 100%|██████████| 82/82 [00:32<00:00,  2.51it/s]\n",
            "Epoch 628\n",
            "Train: 100%|██████████| 82/82 [00:29<00:00,  2.77it/s]\n",
            "Epoch 629\n",
            "Train: 100%|██████████| 82/82 [00:34<00:00,  2.38it/s]\n",
            "Epoch 630\n",
            "Train: 100%|██████████| 82/82 [00:29<00:00,  2.79it/s]\n",
            "Eval: 100%|██████████| 7/7 [00:02<00:00,  2.95it/s]\n",
            "Epoch 631\n"
          ]
        },
        {
          "metadata": {
            "tags": null
          },
          "name": "stdout",
          "output_type": "stream",
          "text": [
            "\tVal Dist 118.5150\t\n"
          ]
        },
        {
          "metadata": {
            "tags": null
          },
          "name": "stderr",
          "output_type": "stream",
          "text": [
            "Train: 100%|██████████| 82/82 [00:33<00:00,  2.46it/s]\n",
            "Epoch 632\n",
            "Train: 100%|██████████| 82/82 [00:29<00:00,  2.78it/s]\n",
            "Epoch 633\n",
            "Train: 100%|██████████| 82/82 [00:33<00:00,  2.45it/s]\n",
            "Epoch 634\n",
            "Train: 100%|██████████| 82/82 [00:29<00:00,  2.80it/s]\n",
            "Epoch 635\n",
            "Train: 100%|██████████| 82/82 [00:32<00:00,  2.52it/s]\n",
            "Epoch 636\n",
            "Train: 100%|██████████| 82/82 [00:29<00:00,  2.78it/s]\n",
            "Epoch 637\n",
            "Train: 100%|██████████| 82/82 [00:32<00:00,  2.51it/s]\n",
            "Epoch 638\n",
            "Train: 100%|██████████| 82/82 [00:29<00:00,  2.81it/s]\n",
            "Epoch 639\n",
            "Train: 100%|██████████| 82/82 [00:34<00:00,  2.38it/s]\n",
            "Epoch 640\n",
            "Train: 100%|██████████| 82/82 [00:29<00:00,  2.78it/s]\n",
            "Eval: 100%|██████████| 7/7 [00:02<00:00,  2.97it/s]\n",
            "Epoch 641\n"
          ]
        },
        {
          "metadata": {
            "tags": null
          },
          "name": "stdout",
          "output_type": "stream",
          "text": [
            "\tVal Dist 116.3260\t\n"
          ]
        },
        {
          "metadata": {
            "tags": null
          },
          "name": "stderr",
          "output_type": "stream",
          "text": [
            "Train: 100%|██████████| 82/82 [00:32<00:00,  2.51it/s]\n",
            "Epoch 642\n",
            "Train: 100%|██████████| 82/82 [00:29<00:00,  2.82it/s]\n",
            "Epoch 643\n",
            "Train: 100%|██████████| 82/82 [00:33<00:00,  2.45it/s]\n",
            "Epoch 644\n",
            "Train: 100%|██████████| 82/82 [00:29<00:00,  2.82it/s]\n",
            "Epoch 645\n",
            "Train: 100%|██████████| 82/82 [00:32<00:00,  2.50it/s]\n",
            "Epoch 646\n",
            "Train: 100%|██████████| 82/82 [00:28<00:00,  2.84it/s]\n",
            "Epoch 647\n",
            "Train: 100%|██████████| 82/82 [00:32<00:00,  2.52it/s]\n",
            "Epoch 648\n",
            "Train: 100%|██████████| 82/82 [00:29<00:00,  2.81it/s]\n",
            "Epoch 649\n",
            "Train: 100%|██████████| 82/82 [00:33<00:00,  2.44it/s]\n",
            "Epoch 650\n",
            "Train: 100%|██████████| 82/82 [00:28<00:00,  2.84it/s]\n",
            "Eval: 100%|██████████| 7/7 [00:02<00:00,  3.04it/s]\n",
            "Epoch 651\n"
          ]
        },
        {
          "metadata": {
            "tags": null
          },
          "name": "stdout",
          "output_type": "stream",
          "text": [
            "\tVal Dist 111.3250\t\n"
          ]
        },
        {
          "metadata": {
            "tags": null
          },
          "name": "stderr",
          "output_type": "stream",
          "text": [
            "Train: 100%|██████████| 82/82 [00:32<00:00,  2.56it/s]\n",
            "Epoch 652\n",
            "Train: 100%|██████████| 82/82 [00:28<00:00,  2.86it/s]\n",
            "Epoch 653\n",
            "Train: 100%|██████████| 82/82 [00:33<00:00,  2.47it/s]\n",
            "Epoch 654\n",
            "Train: 100%|██████████| 82/82 [00:28<00:00,  2.86it/s]\n",
            "Epoch 655\n",
            "Train: 100%|██████████| 82/82 [00:32<00:00,  2.50it/s]\n",
            "Epoch 656\n",
            "Train: 100%|██████████| 82/82 [00:28<00:00,  2.85it/s]\n",
            "Epoch 657\n",
            "Train: 100%|██████████| 82/82 [00:31<00:00,  2.57it/s]\n",
            "Epoch 658\n",
            "Train: 100%|██████████| 82/82 [00:28<00:00,  2.84it/s]\n",
            "Epoch 659\n",
            "Train: 100%|██████████| 82/82 [00:33<00:00,  2.45it/s]\n",
            "Epoch 660\n",
            "Train: 100%|██████████| 82/82 [00:28<00:00,  2.84it/s]\n",
            "Eval: 100%|██████████| 7/7 [00:02<00:00,  3.05it/s]\n",
            "Epoch 661\n"
          ]
        },
        {
          "metadata": {
            "tags": null
          },
          "name": "stdout",
          "output_type": "stream",
          "text": [
            "\tVal Dist 113.7730\t\n"
          ]
        },
        {
          "metadata": {
            "tags": null
          },
          "name": "stderr",
          "output_type": "stream",
          "text": [
            "Train: 100%|██████████| 82/82 [00:31<00:00,  2.57it/s]\n",
            "Epoch 662\n",
            "Train: 100%|██████████| 82/82 [00:29<00:00,  2.82it/s]\n",
            "Epoch 663\n",
            "Train: 100%|██████████| 82/82 [00:33<00:00,  2.47it/s]\n",
            "Epoch 664\n",
            "Train: 100%|██████████| 82/82 [00:28<00:00,  2.84it/s]\n",
            "Epoch 665\n",
            "Train: 100%|██████████| 82/82 [00:32<00:00,  2.49it/s]\n",
            "Epoch 666\n",
            "Train: 100%|██████████| 82/82 [00:28<00:00,  2.84it/s]\n",
            "Epoch 667\n",
            "Train: 100%|██████████| 82/82 [00:32<00:00,  2.51it/s]\n",
            "Epoch 668\n",
            "Train: 100%|██████████| 82/82 [00:30<00:00,  2.66it/s]\n",
            "Epoch 669\n",
            "Train: 100%|██████████| 82/82 [00:32<00:00,  2.54it/s]\n",
            "Epoch 670\n",
            "Train: 100%|██████████| 82/82 [00:29<00:00,  2.82it/s]\n",
            "Eval: 100%|██████████| 7/7 [00:02<00:00,  3.00it/s]\n",
            "Epoch 671\n"
          ]
        },
        {
          "metadata": {
            "tags": null
          },
          "name": "stdout",
          "output_type": "stream",
          "text": [
            "\tVal Dist 117.9870\t\n"
          ]
        },
        {
          "metadata": {
            "tags": null
          },
          "name": "stderr",
          "output_type": "stream",
          "text": [
            "Train: 100%|██████████| 82/82 [00:32<00:00,  2.52it/s]\n",
            "Epoch 672\n",
            "Train: 100%|██████████| 82/82 [00:28<00:00,  2.85it/s]\n",
            "Epoch 673\n",
            "Train: 100%|██████████| 82/82 [00:32<00:00,  2.54it/s]\n",
            "Epoch 674\n",
            "Train: 100%|██████████| 82/82 [00:28<00:00,  2.83it/s]\n",
            "Epoch 675\n",
            "Train: 100%|██████████| 82/82 [00:32<00:00,  2.51it/s]\n",
            "Epoch 676\n",
            "Train: 100%|██████████| 82/82 [00:29<00:00,  2.83it/s]\n",
            "Epoch 677\n",
            "Train: 100%|██████████| 82/82 [00:33<00:00,  2.45it/s]\n",
            "Epoch 678\n",
            "Train: 100%|██████████| 82/82 [00:30<00:00,  2.66it/s]\n",
            "Epoch 679\n",
            "Train: 100%|██████████| 82/82 [00:32<00:00,  2.52it/s]\n",
            "Epoch 680\n",
            "Train: 100%|██████████| 82/82 [00:29<00:00,  2.82it/s]\n",
            "Eval: 100%|██████████| 7/7 [00:02<00:00,  2.96it/s]\n",
            "Epoch 681\n"
          ]
        },
        {
          "metadata": {
            "tags": null
          },
          "name": "stdout",
          "output_type": "stream",
          "text": [
            "\tVal Dist 115.7110\t\n"
          ]
        },
        {
          "metadata": {
            "tags": null
          },
          "name": "stderr",
          "output_type": "stream",
          "text": [
            "Train: 100%|██████████| 82/82 [00:32<00:00,  2.54it/s]\n",
            "Epoch 682\n",
            "Train: 100%|██████████| 82/82 [00:28<00:00,  2.86it/s]\n",
            "Epoch 683\n",
            "Train: 100%|██████████| 82/82 [00:32<00:00,  2.54it/s]\n",
            "Epoch 684\n",
            "Train: 100%|██████████| 82/82 [00:28<00:00,  2.85it/s]\n",
            "Epoch 685\n",
            "Train: 100%|██████████| 82/82 [00:32<00:00,  2.54it/s]\n",
            "Epoch 686\n",
            "Train: 100%|██████████| 82/82 [00:28<00:00,  2.84it/s]\n",
            "Epoch 687\n",
            "Train: 100%|██████████| 82/82 [00:35<00:00,  2.34it/s]\n",
            "Epoch 688\n",
            "Train: 100%|██████████| 82/82 [00:28<00:00,  2.83it/s]\n",
            "Epoch 689\n",
            "Train: 100%|██████████| 82/82 [00:32<00:00,  2.51it/s]\n",
            "Epoch 690\n",
            "Train: 100%|██████████| 82/82 [00:29<00:00,  2.82it/s]\n",
            "Eval: 100%|██████████| 7/7 [00:02<00:00,  2.91it/s]\n",
            "Epoch 691\n"
          ]
        },
        {
          "metadata": {
            "tags": null
          },
          "name": "stdout",
          "output_type": "stream",
          "text": [
            "\tVal Dist 115.4030\t\n"
          ]
        },
        {
          "metadata": {
            "tags": null
          },
          "name": "stderr",
          "output_type": "stream",
          "text": [
            "Train: 100%|██████████| 82/82 [00:32<00:00,  2.55it/s]\n",
            "Epoch 692\n",
            "Train: 100%|██████████| 82/82 [00:28<00:00,  2.83it/s]\n",
            "Epoch 693\n",
            "Train: 100%|██████████| 82/82 [00:32<00:00,  2.55it/s]\n",
            "Epoch 694\n",
            "Train: 100%|██████████| 82/82 [00:29<00:00,  2.82it/s]\n",
            "Epoch 695\n",
            "Train: 100%|██████████| 82/82 [00:32<00:00,  2.52it/s]\n",
            "Epoch 696\n",
            "Train: 100%|██████████| 82/82 [00:28<00:00,  2.84it/s]\n",
            "Epoch 697\n",
            "Train: 100%|██████████| 82/82 [00:34<00:00,  2.36it/s]\n",
            "Epoch 698\n",
            "Train: 100%|██████████| 82/82 [00:28<00:00,  2.85it/s]\n",
            "Epoch 699\n",
            "Train: 100%|██████████| 82/82 [00:32<00:00,  2.48it/s]\n",
            "Epoch 700\n",
            "Train: 100%|██████████| 82/82 [00:29<00:00,  2.82it/s]\n",
            "Eval: 100%|██████████| 7/7 [00:02<00:00,  3.03it/s]\n",
            "Epoch 701\n"
          ]
        },
        {
          "metadata": {
            "tags": null
          },
          "name": "stdout",
          "output_type": "stream",
          "text": [
            "\tVal Dist 117.7820\t\n"
          ]
        },
        {
          "metadata": {
            "tags": null
          },
          "name": "stderr",
          "output_type": "stream",
          "text": [
            "Train: 100%|██████████| 82/82 [00:32<00:00,  2.54it/s]\n",
            "Epoch 702\n",
            "Train: 100%|██████████| 82/82 [00:29<00:00,  2.80it/s]\n",
            "Epoch 703\n",
            "Train: 100%|██████████| 82/82 [00:32<00:00,  2.53it/s]\n",
            "Epoch 704\n",
            "Train: 100%|██████████| 82/82 [00:29<00:00,  2.81it/s]\n",
            "Epoch 705\n",
            "Train: 100%|██████████| 82/82 [00:32<00:00,  2.51it/s]\n",
            "Epoch 706\n",
            "Train: 100%|██████████| 82/82 [00:31<00:00,  2.64it/s]\n",
            "Epoch 707\n",
            "Train: 100%|██████████| 82/82 [00:32<00:00,  2.51it/s]\n",
            "Epoch 708\n",
            "Train: 100%|██████████| 82/82 [00:29<00:00,  2.81it/s]\n",
            "Epoch 709\n",
            "Train: 100%|██████████| 82/82 [00:33<00:00,  2.47it/s]\n",
            "Epoch 710\n",
            "Train: 100%|██████████| 82/82 [00:28<00:00,  2.84it/s]\n",
            "Eval: 100%|██████████| 7/7 [00:02<00:00,  2.44it/s]\n",
            "Epoch 711\n"
          ]
        },
        {
          "metadata": {
            "tags": null
          },
          "name": "stdout",
          "output_type": "stream",
          "text": [
            "\tVal Dist 119.0960\t\n"
          ]
        },
        {
          "metadata": {
            "tags": null
          },
          "name": "stderr",
          "output_type": "stream",
          "text": [
            "Train: 100%|██████████| 82/82 [00:32<00:00,  2.54it/s]\n",
            "Epoch 712\n",
            "Train: 100%|██████████| 82/82 [00:29<00:00,  2.80it/s]\n",
            "Epoch 713\n",
            "Train: 100%|██████████| 82/82 [00:32<00:00,  2.54it/s]\n",
            "Epoch 714\n",
            "Train: 100%|██████████| 82/82 [00:29<00:00,  2.81it/s]\n",
            "Epoch 715\n",
            "Train: 100%|██████████| 82/82 [00:33<00:00,  2.46it/s]\n",
            "Epoch 716\n",
            "Train: 100%|██████████| 82/82 [00:29<00:00,  2.76it/s]\n",
            "Epoch 717\n",
            "Train: 100%|██████████| 82/82 [00:32<00:00,  2.52it/s]\n",
            "Epoch 718\n",
            "Train: 100%|██████████| 82/82 [00:28<00:00,  2.83it/s]\n",
            "Epoch 719\n",
            "Train: 100%|██████████| 82/82 [00:33<00:00,  2.43it/s]\n",
            "Epoch 720\n",
            "Train: 100%|██████████| 82/82 [00:29<00:00,  2.82it/s]\n",
            "Eval: 100%|██████████| 7/7 [00:02<00:00,  2.77it/s]\n",
            "Epoch 721\n"
          ]
        },
        {
          "metadata": {
            "tags": null
          },
          "name": "stdout",
          "output_type": "stream",
          "text": [
            "\tVal Dist 117.8790\t\n"
          ]
        },
        {
          "metadata": {
            "tags": null
          },
          "name": "stderr",
          "output_type": "stream",
          "text": [
            "Train: 100%|██████████| 82/82 [00:32<00:00,  2.53it/s]\n",
            "Epoch 722\n",
            "Train: 100%|██████████| 82/82 [00:29<00:00,  2.82it/s]\n",
            "Epoch 723\n",
            "Train: 100%|██████████| 82/82 [00:32<00:00,  2.56it/s]\n",
            "Epoch 724\n",
            "Train: 100%|██████████| 82/82 [00:29<00:00,  2.82it/s]\n",
            "Epoch 725\n",
            "Train: 100%|██████████| 82/82 [00:33<00:00,  2.45it/s]\n",
            "Epoch 726\n",
            "Train: 100%|██████████| 82/82 [00:29<00:00,  2.83it/s]\n",
            "Epoch 727\n",
            "Train: 100%|██████████| 82/82 [00:32<00:00,  2.50it/s]\n",
            "Epoch 728\n",
            "Train: 100%|██████████| 82/82 [00:28<00:00,  2.84it/s]\n",
            "Epoch 729\n",
            "Train: 100%|██████████| 82/82 [00:33<00:00,  2.47it/s]\n",
            "Epoch 730\n",
            "Train: 100%|██████████| 82/82 [00:28<00:00,  2.89it/s]\n",
            "Eval: 100%|██████████| 7/7 [00:02<00:00,  2.51it/s]\n",
            "Epoch 731\n"
          ]
        },
        {
          "metadata": {
            "tags": null
          },
          "name": "stdout",
          "output_type": "stream",
          "text": [
            "\tVal Dist 119.9160\t\n"
          ]
        },
        {
          "metadata": {
            "tags": null
          },
          "name": "stderr",
          "output_type": "stream",
          "text": [
            "Train: 100%|██████████| 82/82 [00:32<00:00,  2.54it/s]\n",
            "Epoch 732\n",
            "Train: 100%|██████████| 82/82 [00:29<00:00,  2.82it/s]\n",
            "Epoch 733\n",
            "Train: 100%|██████████| 82/82 [00:32<00:00,  2.53it/s]\n",
            "Epoch 734\n",
            "Train: 100%|██████████| 82/82 [00:30<00:00,  2.69it/s]\n",
            "Epoch 735\n",
            "Train: 100%|██████████| 82/82 [00:32<00:00,  2.55it/s]\n",
            "Epoch 736\n",
            "Train: 100%|██████████| 82/82 [00:28<00:00,  2.85it/s]\n",
            "Epoch 737\n",
            "Train: 100%|██████████| 82/82 [00:32<00:00,  2.55it/s]\n",
            "Epoch 738\n",
            "Train: 100%|██████████| 82/82 [00:28<00:00,  2.84it/s]\n",
            "Epoch 739\n",
            "Train: 100%|██████████| 82/82 [00:33<00:00,  2.47it/s]\n",
            "Epoch 740\n",
            "Train: 100%|██████████| 82/82 [00:29<00:00,  2.77it/s]\n",
            "Eval: 100%|██████████| 7/7 [00:03<00:00,  2.09it/s]\n",
            "Epoch 741\n"
          ]
        },
        {
          "metadata": {
            "tags": null
          },
          "name": "stdout",
          "output_type": "stream",
          "text": [
            "\tVal Dist 120.4400\t\n"
          ]
        },
        {
          "metadata": {
            "tags": null
          },
          "name": "stderr",
          "output_type": "stream",
          "text": [
            "Train: 100%|██████████| 82/82 [00:32<00:00,  2.51it/s]\n",
            "Epoch 742\n",
            "Train: 100%|██████████| 82/82 [00:29<00:00,  2.80it/s]\n",
            "Epoch 743\n",
            "Train: 100%|██████████| 82/82 [00:33<00:00,  2.44it/s]\n",
            "Epoch 744\n",
            "Train: 100%|██████████| 82/82 [00:29<00:00,  2.75it/s]\n",
            "Epoch 745\n",
            "Train: 100%|██████████| 82/82 [00:32<00:00,  2.50it/s]\n",
            "Epoch 746\n",
            "Train: 100%|██████████| 82/82 [00:29<00:00,  2.79it/s]\n",
            "Epoch 747\n",
            "Train: 100%|██████████| 82/82 [00:33<00:00,  2.48it/s]\n",
            "Epoch 748\n",
            "Train: 100%|██████████| 82/82 [00:29<00:00,  2.80it/s]\n",
            "Epoch 749\n",
            "Train: 100%|██████████| 82/82 [00:33<00:00,  2.45it/s]\n",
            "Epoch 750\n",
            "Train: 100%|██████████| 82/82 [00:29<00:00,  2.79it/s]\n",
            "Eval: 100%|██████████| 7/7 [00:02<00:00,  2.94it/s]\n",
            "Epoch 751\n"
          ]
        },
        {
          "metadata": {
            "tags": null
          },
          "name": "stdout",
          "output_type": "stream",
          "text": [
            "\tVal Dist 116.7800\t\n"
          ]
        },
        {
          "metadata": {
            "tags": null
          },
          "name": "stderr",
          "output_type": "stream",
          "text": [
            "Train: 100%|██████████| 82/82 [00:32<00:00,  2.52it/s]\n",
            "Epoch 752\n",
            "Train: 100%|██████████| 82/82 [00:29<00:00,  2.79it/s]\n",
            "Epoch 753\n",
            "Train: 100%|██████████| 82/82 [00:32<00:00,  2.51it/s]\n",
            "Epoch 754\n",
            "Train: 100%|██████████| 82/82 [00:29<00:00,  2.78it/s]\n",
            "Epoch 755\n",
            "Train: 100%|██████████| 82/82 [00:32<00:00,  2.51it/s]\n",
            "Epoch 756\n",
            "Train: 100%|██████████| 82/82 [00:29<00:00,  2.80it/s]\n",
            "Epoch 757\n",
            "Train: 100%|██████████| 82/82 [00:33<00:00,  2.45it/s]\n",
            "Epoch 758\n",
            "Train: 100%|██████████| 82/82 [00:29<00:00,  2.77it/s]\n",
            "Epoch 759\n",
            "Train: 100%|██████████| 82/82 [00:33<00:00,  2.47it/s]\n",
            "Epoch 760\n",
            "Train: 100%|██████████| 82/82 [00:29<00:00,  2.79it/s]\n",
            "Eval: 100%|██████████| 7/7 [00:02<00:00,  2.97it/s]\n",
            "Epoch 761\n"
          ]
        },
        {
          "metadata": {
            "tags": null
          },
          "name": "stdout",
          "output_type": "stream",
          "text": [
            "\tVal Dist 115.7500\t\n"
          ]
        },
        {
          "metadata": {
            "tags": null
          },
          "name": "stderr",
          "output_type": "stream",
          "text": [
            "Train: 100%|██████████| 82/82 [00:32<00:00,  2.53it/s]\n",
            "Epoch 762\n",
            "Train: 100%|██████████| 82/82 [00:29<00:00,  2.82it/s]\n",
            "Epoch 763\n",
            "Train: 100%|██████████| 82/82 [00:32<00:00,  2.50it/s]\n",
            "Epoch 764\n",
            "Train: 100%|██████████| 82/82 [00:29<00:00,  2.79it/s]\n",
            "Epoch 765\n",
            "Train: 100%|██████████| 82/82 [00:32<00:00,  2.50it/s]\n",
            "Epoch 766\n",
            "Train: 100%|██████████| 82/82 [00:28<00:00,  2.83it/s]\n",
            "Epoch 767\n",
            "Train: 100%|██████████| 82/82 [00:33<00:00,  2.46it/s]\n",
            "Epoch 768\n",
            "Train: 100%|██████████| 82/82 [00:30<00:00,  2.71it/s]\n",
            "Epoch 769\n",
            "Train: 100%|██████████| 82/82 [00:32<00:00,  2.54it/s]\n",
            "Epoch 770\n",
            "Train: 100%|██████████| 82/82 [00:28<00:00,  2.84it/s]\n",
            "Eval: 100%|██████████| 7/7 [00:02<00:00,  3.06it/s]\n",
            "Epoch 771\n"
          ]
        },
        {
          "metadata": {
            "tags": null
          },
          "name": "stdout",
          "output_type": "stream",
          "text": [
            "\tVal Dist 117.1460\t\n"
          ]
        },
        {
          "metadata": {
            "tags": null
          },
          "name": "stderr",
          "output_type": "stream",
          "text": [
            "Train: 100%|██████████| 82/82 [00:32<00:00,  2.56it/s]\n",
            "Epoch 772\n",
            "Train: 100%|██████████| 82/82 [00:28<00:00,  2.87it/s]\n",
            "Epoch 773\n",
            "Train: 100%|██████████| 82/82 [00:32<00:00,  2.56it/s]\n",
            "Epoch 774\n",
            "Train: 100%|██████████| 82/82 [00:28<00:00,  2.83it/s]\n",
            "Epoch 775\n",
            "Train: 100%|██████████| 82/82 [00:32<00:00,  2.53it/s]\n",
            "Epoch 776\n",
            "Train: 100%|██████████| 82/82 [00:28<00:00,  2.89it/s]\n",
            "Epoch 777\n",
            "Train: 100%|██████████| 82/82 [00:33<00:00,  2.43it/s]\n",
            "Epoch 778\n",
            "Train: 100%|██████████| 82/82 [00:28<00:00,  2.88it/s]\n",
            "Epoch 779\n",
            "Train: 100%|██████████| 82/82 [00:32<00:00,  2.49it/s]\n",
            "Epoch 780\n",
            "Train: 100%|██████████| 82/82 [00:28<00:00,  2.89it/s]\n",
            "Eval: 100%|██████████| 7/7 [00:03<00:00,  2.18it/s]\n",
            "Epoch 781\n"
          ]
        },
        {
          "metadata": {
            "tags": null
          },
          "name": "stdout",
          "output_type": "stream",
          "text": [
            "\tVal Dist 117.0710\t\n"
          ]
        },
        {
          "metadata": {
            "tags": null
          },
          "name": "stderr",
          "output_type": "stream",
          "text": [
            "Train: 100%|██████████| 82/82 [00:32<00:00,  2.56it/s]\n",
            "Epoch 782\n",
            "Train: 100%|██████████| 82/82 [00:28<00:00,  2.85it/s]\n",
            "Epoch 783\n",
            "Train: 100%|██████████| 82/82 [00:31<00:00,  2.57it/s]\n",
            "Epoch 784\n",
            "Train: 100%|██████████| 82/82 [00:28<00:00,  2.86it/s]\n",
            "Epoch 785\n",
            "Train: 100%|██████████| 82/82 [00:32<00:00,  2.56it/s]\n",
            "Epoch 786\n",
            "Train: 100%|██████████| 82/82 [00:30<00:00,  2.71it/s]\n",
            "Epoch 787\n",
            "Train: 100%|██████████| 82/82 [00:32<00:00,  2.56it/s]\n",
            "Epoch 788\n",
            "Train: 100%|██████████| 82/82 [00:28<00:00,  2.87it/s]\n",
            "Epoch 789\n",
            "Train: 100%|██████████| 82/82 [00:32<00:00,  2.54it/s]\n",
            "Epoch 790\n",
            "Train: 100%|██████████| 82/82 [00:28<00:00,  2.86it/s]\n",
            "Eval: 100%|██████████| 7/7 [00:02<00:00,  2.73it/s]\n",
            "Epoch 791\n"
          ]
        },
        {
          "metadata": {
            "tags": null
          },
          "name": "stdout",
          "output_type": "stream",
          "text": [
            "\tVal Dist 118.5790\t\n"
          ]
        },
        {
          "metadata": {
            "tags": null
          },
          "name": "stderr",
          "output_type": "stream",
          "text": [
            "Train: 100%|██████████| 82/82 [00:32<00:00,  2.49it/s]\n",
            "Epoch 792\n",
            "Train: 100%|██████████| 82/82 [00:28<00:00,  2.91it/s]\n",
            "Epoch 793\n",
            "Train: 100%|██████████| 82/82 [00:32<00:00,  2.50it/s]\n",
            "Epoch 794\n",
            "Train: 100%|██████████| 82/82 [00:29<00:00,  2.80it/s]\n",
            "Epoch 795\n",
            "Train: 100%|██████████| 82/82 [00:32<00:00,  2.51it/s]\n",
            "Epoch 796\n",
            "Train: 100%|██████████| 82/82 [00:28<00:00,  2.85it/s]\n",
            "Epoch 797\n",
            "Train: 100%|██████████| 82/82 [00:32<00:00,  2.54it/s]\n",
            "Epoch 798\n",
            "Train: 100%|██████████| 82/82 [00:28<00:00,  2.83it/s]\n",
            "Epoch 799\n",
            "Train: 100%|██████████| 82/82 [00:32<00:00,  2.51it/s]\n",
            "Epoch 800\n",
            "Train: 100%|██████████| 82/82 [00:28<00:00,  2.84it/s]\n",
            "Eval: 100%|██████████| 7/7 [00:02<00:00,  3.05it/s]\n",
            "Epoch 801\n"
          ]
        },
        {
          "metadata": {
            "tags": null
          },
          "name": "stdout",
          "output_type": "stream",
          "text": [
            "\tVal Dist 114.7360\t\n"
          ]
        },
        {
          "metadata": {
            "tags": null
          },
          "name": "stderr",
          "output_type": "stream",
          "text": [
            "Train: 100%|██████████| 82/82 [00:32<00:00,  2.53it/s]\n",
            "Epoch 802\n",
            "Train: 100%|██████████| 82/82 [00:28<00:00,  2.85it/s]\n",
            "Epoch 803\n",
            "Train: 100%|██████████| 82/82 [00:34<00:00,  2.39it/s]\n",
            "Epoch 804\n",
            "Train: 100%|██████████| 82/82 [00:28<00:00,  2.84it/s]\n",
            "Epoch 805\n",
            "Train: 100%|██████████| 82/82 [00:32<00:00,  2.53it/s]\n",
            "Epoch 806\n",
            "Train: 100%|██████████| 82/82 [00:28<00:00,  2.84it/s]\n",
            "Epoch 807\n",
            "Train: 100%|██████████| 82/82 [00:32<00:00,  2.54it/s]\n",
            "Epoch 808\n",
            "Train: 100%|██████████| 82/82 [00:28<00:00,  2.84it/s]\n",
            "Epoch 809\n",
            "Train: 100%|██████████| 82/82 [00:32<00:00,  2.53it/s]\n",
            "Epoch 810\n",
            "Train: 100%|██████████| 82/82 [00:29<00:00,  2.80it/s]\n",
            "Eval: 100%|██████████| 7/7 [00:02<00:00,  2.99it/s]\n",
            "Epoch 811\n"
          ]
        },
        {
          "metadata": {
            "tags": null
          },
          "name": "stdout",
          "output_type": "stream",
          "text": [
            "\tVal Dist 118.2480\t\n"
          ]
        },
        {
          "metadata": {
            "tags": null
          },
          "name": "stderr",
          "output_type": "stream",
          "text": [
            "Train: 100%|██████████| 82/82 [00:33<00:00,  2.48it/s]\n",
            "Epoch 812\n",
            "Train: 100%|██████████| 82/82 [00:31<00:00,  2.64it/s]\n",
            "Epoch 813\n",
            "Train: 100%|██████████| 82/82 [00:35<00:00,  2.32it/s]\n",
            "Epoch 814\n",
            "Train: 100%|██████████| 82/82 [00:29<00:00,  2.82it/s]\n",
            "Epoch 815\n",
            "Train: 100%|██████████| 82/82 [00:32<00:00,  2.52it/s]\n",
            "Epoch 816\n",
            "Train: 100%|██████████| 82/82 [00:29<00:00,  2.76it/s]\n",
            "Epoch 817\n",
            "Train: 100%|██████████| 82/82 [00:32<00:00,  2.53it/s]\n",
            "Epoch 818\n",
            "Train: 100%|██████████| 82/82 [00:29<00:00,  2.82it/s]\n",
            "Epoch 819\n",
            "Train: 100%|██████████| 82/82 [00:32<00:00,  2.53it/s]\n",
            "Epoch 820\n",
            "Train: 100%|██████████| 82/82 [00:28<00:00,  2.84it/s]\n",
            "Eval: 100%|██████████| 7/7 [00:03<00:00,  2.11it/s]\n",
            "Epoch 821\n"
          ]
        },
        {
          "metadata": {
            "tags": null
          },
          "name": "stdout",
          "output_type": "stream",
          "text": [
            "\tVal Dist 116.0240\t\n"
          ]
        },
        {
          "metadata": {
            "tags": null
          },
          "name": "stderr",
          "output_type": "stream",
          "text": [
            "Train: 100%|██████████| 82/82 [00:34<00:00,  2.38it/s]\n",
            "Epoch 822\n",
            "Train: 100%|██████████| 82/82 [00:28<00:00,  2.88it/s]\n",
            "Epoch 823\n",
            "Train: 100%|██████████| 82/82 [00:33<00:00,  2.48it/s]\n",
            "Epoch 824\n",
            "Train: 100%|██████████| 82/82 [00:28<00:00,  2.84it/s]\n",
            "Epoch 825\n",
            "Train: 100%|██████████| 82/82 [00:32<00:00,  2.54it/s]\n",
            "Epoch 826\n",
            "Train: 100%|██████████| 82/82 [00:28<00:00,  2.86it/s]\n",
            "Epoch 827\n",
            "Train: 100%|██████████| 82/82 [00:31<00:00,  2.58it/s]\n",
            "Epoch 828\n",
            "Train: 100%|██████████| 82/82 [00:28<00:00,  2.84it/s]\n",
            "Epoch 829\n",
            "Train: 100%|██████████| 82/82 [00:33<00:00,  2.42it/s]\n",
            "Epoch 830\n",
            "Train: 100%|██████████| 82/82 [00:30<00:00,  2.71it/s]\n",
            "Eval: 100%|██████████| 7/7 [00:02<00:00,  3.04it/s]\n",
            "Epoch 831\n"
          ]
        },
        {
          "metadata": {
            "tags": null
          },
          "name": "stdout",
          "output_type": "stream",
          "text": [
            "\tVal Dist 114.2140\t\n"
          ]
        },
        {
          "metadata": {
            "tags": null
          },
          "name": "stderr",
          "output_type": "stream",
          "text": [
            "Train: 100%|██████████| 82/82 [00:32<00:00,  2.53it/s]\n",
            "Epoch 832\n",
            "Train: 100%|██████████| 82/82 [00:28<00:00,  2.83it/s]\n",
            "Epoch 833\n",
            "Train: 100%|██████████| 82/82 [00:33<00:00,  2.44it/s]\n",
            "Epoch 834\n",
            "Train: 100%|██████████| 82/82 [00:28<00:00,  2.85it/s]\n",
            "Epoch 835\n",
            "Train: 100%|██████████| 82/82 [00:32<00:00,  2.50it/s]\n",
            "Epoch 836\n",
            "Train: 100%|██████████| 82/82 [00:29<00:00,  2.79it/s]\n",
            "Epoch 837\n",
            "Train: 100%|██████████| 82/82 [00:32<00:00,  2.50it/s]\n",
            "Epoch 838\n",
            "Train: 100%|██████████| 82/82 [00:32<00:00,  2.49it/s]\n",
            "Epoch 839\n",
            "Train: 100%|██████████| 82/82 [00:32<00:00,  2.50it/s]\n",
            "Epoch 840\n",
            "Train: 100%|██████████| 82/82 [00:29<00:00,  2.81it/s]\n",
            "Eval: 100%|██████████| 7/7 [00:02<00:00,  2.98it/s]\n",
            "Epoch 841\n"
          ]
        },
        {
          "metadata": {
            "tags": null
          },
          "name": "stdout",
          "output_type": "stream",
          "text": [
            "\tVal Dist 114.3040\t\n"
          ]
        },
        {
          "metadata": {
            "tags": null
          },
          "name": "stderr",
          "output_type": "stream",
          "text": [
            "Train: 100%|██████████| 82/82 [00:32<00:00,  2.52it/s]\n",
            "Epoch 842\n",
            "Train: 100%|██████████| 82/82 [00:29<00:00,  2.80it/s]\n",
            "Epoch 843\n",
            "Train: 100%|██████████| 82/82 [00:32<00:00,  2.51it/s]\n",
            "Epoch 844\n",
            "Train: 100%|██████████| 82/82 [00:29<00:00,  2.80it/s]\n",
            "Epoch 845\n",
            "Train: 100%|██████████| 82/82 [00:33<00:00,  2.48it/s]\n",
            "Epoch 846\n",
            "Train: 100%|██████████| 82/82 [00:30<00:00,  2.66it/s]\n",
            "Epoch 847\n",
            "Train: 100%|██████████| 82/82 [00:34<00:00,  2.37it/s]\n",
            "Epoch 848\n",
            "Train: 100%|██████████| 82/82 [00:29<00:00,  2.80it/s]\n",
            "Epoch 849\n",
            "Train: 100%|██████████| 82/82 [00:32<00:00,  2.49it/s]\n",
            "Epoch 850\n",
            "Train: 100%|██████████| 82/82 [00:29<00:00,  2.78it/s]\n",
            "Eval: 100%|██████████| 7/7 [00:02<00:00,  2.96it/s]\n",
            "Epoch 851\n"
          ]
        },
        {
          "metadata": {
            "tags": null
          },
          "name": "stdout",
          "output_type": "stream",
          "text": [
            "\tVal Dist 117.3360\t\n"
          ]
        },
        {
          "metadata": {
            "tags": null
          },
          "name": "stderr",
          "output_type": "stream",
          "text": [
            "Train: 100%|██████████| 82/82 [00:32<00:00,  2.50it/s]\n",
            "Epoch 852\n",
            "Train: 100%|██████████| 82/82 [00:29<00:00,  2.76it/s]\n",
            "Epoch 853\n",
            "Train: 100%|██████████| 82/82 [00:33<00:00,  2.43it/s]\n",
            "Epoch 854\n",
            "Train: 100%|██████████| 82/82 [00:29<00:00,  2.77it/s]\n",
            "Epoch 855\n",
            "Train: 100%|██████████| 82/82 [00:35<00:00,  2.29it/s]\n",
            "Epoch 856\n",
            "Train: 100%|██████████| 82/82 [00:29<00:00,  2.79it/s]\n",
            "Epoch 857\n",
            "Train: 100%|██████████| 82/82 [00:32<00:00,  2.52it/s]\n",
            "Epoch 858\n",
            "Train: 100%|██████████| 82/82 [00:29<00:00,  2.82it/s]\n",
            "Epoch 859\n",
            "Train: 100%|██████████| 82/82 [00:32<00:00,  2.54it/s]\n",
            "Epoch 860\n",
            "Train: 100%|██████████| 82/82 [00:29<00:00,  2.82it/s]\n",
            "Eval: 100%|██████████| 7/7 [00:02<00:00,  3.03it/s]\n",
            "Epoch 861\n"
          ]
        },
        {
          "metadata": {
            "tags": null
          },
          "name": "stdout",
          "output_type": "stream",
          "text": [
            "\tVal Dist 116.5250\t\n"
          ]
        },
        {
          "metadata": {
            "tags": null
          },
          "name": "stderr",
          "output_type": "stream",
          "text": [
            "Train: 100%|██████████| 82/82 [00:32<00:00,  2.56it/s]\n",
            "Epoch 862\n",
            "Train: 100%|██████████| 82/82 [00:28<00:00,  2.83it/s]\n",
            "Epoch 863\n",
            "Train: 100%|██████████| 82/82 [00:35<00:00,  2.33it/s]\n",
            "Epoch 864\n",
            "Train: 100%|██████████| 82/82 [00:28<00:00,  2.85it/s]\n",
            "Epoch 865\n",
            "Train: 100%|██████████| 82/82 [00:32<00:00,  2.52it/s]\n",
            "Epoch 866\n",
            "Train: 100%|██████████| 82/82 [00:28<00:00,  2.88it/s]\n",
            "Epoch 867\n",
            "Train: 100%|██████████| 82/82 [00:33<00:00,  2.47it/s]\n",
            "Epoch 868\n",
            "Train: 100%|██████████| 82/82 [00:28<00:00,  2.87it/s]\n",
            "Epoch 869\n",
            "Train: 100%|██████████| 82/82 [00:33<00:00,  2.45it/s]\n",
            "Epoch 870\n",
            "Train: 100%|██████████| 82/82 [00:29<00:00,  2.80it/s]\n",
            "Eval: 100%|██████████| 7/7 [00:02<00:00,  3.04it/s]\n",
            "Epoch 871\n"
          ]
        },
        {
          "metadata": {
            "tags": null
          },
          "name": "stdout",
          "output_type": "stream",
          "text": [
            "\tVal Dist 116.4030\t\n"
          ]
        },
        {
          "metadata": {
            "tags": null
          },
          "name": "stderr",
          "output_type": "stream",
          "text": [
            "Train: 100%|██████████| 82/82 [00:34<00:00,  2.40it/s]\n",
            "Epoch 872\n",
            "Train: 100%|██████████| 82/82 [00:29<00:00,  2.80it/s]\n",
            "Epoch 873\n",
            "Train: 100%|██████████| 82/82 [00:32<00:00,  2.54it/s]\n",
            "Epoch 874\n",
            "Train: 100%|██████████| 82/82 [00:28<00:00,  2.87it/s]\n",
            "Epoch 875\n",
            "Train: 100%|██████████| 82/82 [00:31<00:00,  2.56it/s]\n",
            "Epoch 876\n",
            "Train: 100%|██████████| 82/82 [00:28<00:00,  2.88it/s]\n",
            "Epoch 877\n",
            "Train: 100%|██████████| 82/82 [00:32<00:00,  2.51it/s]\n",
            "Epoch 878\n",
            "Train: 100%|██████████| 82/82 [00:28<00:00,  2.86it/s]\n",
            "Epoch 879\n",
            "Train: 100%|██████████| 82/82 [00:34<00:00,  2.40it/s]\n",
            "Epoch 880\n",
            "Train: 100%|██████████| 82/82 [00:29<00:00,  2.75it/s]\n",
            "Eval: 100%|██████████| 7/7 [00:02<00:00,  3.08it/s]\n",
            "Epoch 881\n"
          ]
        },
        {
          "metadata": {
            "tags": null
          },
          "name": "stdout",
          "output_type": "stream",
          "text": [
            "\tVal Dist 114.0880\t\n"
          ]
        },
        {
          "metadata": {
            "tags": null
          },
          "name": "stderr",
          "output_type": "stream",
          "text": [
            "Train: 100%|██████████| 82/82 [00:32<00:00,  2.55it/s]\n",
            "Epoch 882\n",
            "Train: 100%|██████████| 82/82 [00:28<00:00,  2.86it/s]\n",
            "Epoch 883\n",
            "Train: 100%|██████████| 82/82 [00:31<00:00,  2.57it/s]\n",
            "Epoch 884\n",
            "Train: 100%|██████████| 82/82 [00:28<00:00,  2.86it/s]\n",
            "Epoch 885\n",
            "Train: 100%|██████████| 82/82 [00:32<00:00,  2.53it/s]\n",
            "Epoch 886\n",
            "Train: 100%|██████████| 82/82 [00:28<00:00,  2.89it/s]\n",
            "Epoch 887\n",
            "Train: 100%|██████████| 82/82 [00:34<00:00,  2.39it/s]\n",
            "Epoch 888\n",
            "Train: 100%|██████████| 82/82 [00:30<00:00,  2.70it/s]\n",
            "Epoch 889\n",
            "Train: 100%|██████████| 82/82 [00:32<00:00,  2.50it/s]\n",
            "Epoch 890\n",
            "Train: 100%|██████████| 82/82 [00:28<00:00,  2.86it/s]\n",
            "Eval: 100%|██████████| 7/7 [00:02<00:00,  3.05it/s]\n",
            "Epoch 891\n"
          ]
        },
        {
          "metadata": {
            "tags": null
          },
          "name": "stdout",
          "output_type": "stream",
          "text": [
            "\tVal Dist 114.5600\t\n"
          ]
        },
        {
          "metadata": {
            "tags": null
          },
          "name": "stderr",
          "output_type": "stream",
          "text": [
            "Train: 100%|██████████| 82/82 [00:32<00:00,  2.55it/s]\n",
            "Epoch 892\n",
            "Train: 100%|██████████| 82/82 [00:29<00:00,  2.82it/s]\n",
            "Epoch 893\n",
            "Train: 100%|██████████| 82/82 [00:32<00:00,  2.54it/s]\n",
            "Epoch 894\n",
            "Train: 100%|██████████| 82/82 [00:28<00:00,  2.83it/s]\n",
            "Epoch 895\n",
            "Train: 100%|██████████| 82/82 [00:32<00:00,  2.53it/s]\n",
            "Epoch 896\n",
            "Train: 100%|██████████| 82/82 [00:30<00:00,  2.67it/s]\n",
            "Epoch 897\n",
            "Train: 100%|██████████| 82/82 [00:33<00:00,  2.43it/s]\n",
            "Epoch 898\n",
            "Train: 100%|██████████| 82/82 [00:28<00:00,  2.84it/s]\n",
            "Epoch 899\n",
            "Train: 100%|██████████| 82/82 [00:32<00:00,  2.50it/s]\n",
            "Epoch 900\n",
            "Train: 100%|██████████| 82/82 [00:28<00:00,  2.87it/s]\n",
            "Eval: 100%|██████████| 7/7 [00:03<00:00,  2.10it/s]\n",
            "Epoch 901\n"
          ]
        },
        {
          "metadata": {
            "tags": null
          },
          "name": "stdout",
          "output_type": "stream",
          "text": [
            "\tVal Dist 113.7840\t\n"
          ]
        },
        {
          "metadata": {
            "tags": null
          },
          "name": "stderr",
          "output_type": "stream",
          "text": [
            "Train: 100%|██████████| 82/82 [00:31<00:00,  2.56it/s]\n",
            "Epoch 902\n",
            "Train: 100%|██████████| 82/82 [00:28<00:00,  2.85it/s]\n",
            "Epoch 903\n",
            "Train: 100%|██████████| 82/82 [00:32<00:00,  2.53it/s]\n",
            "Epoch 904\n",
            "Train: 100%|██████████| 82/82 [00:30<00:00,  2.68it/s]\n",
            "Epoch 905\n",
            "Train: 100%|██████████| 82/82 [00:33<00:00,  2.44it/s]\n",
            "Epoch 906\n",
            "Train: 100%|██████████| 82/82 [00:29<00:00,  2.81it/s]\n",
            "Epoch 907\n",
            "Train: 100%|██████████| 82/82 [00:32<00:00,  2.53it/s]\n",
            "Epoch 908\n",
            "Train: 100%|██████████| 82/82 [00:29<00:00,  2.81it/s]\n",
            "Epoch 909\n",
            "Train: 100%|██████████| 82/82 [00:32<00:00,  2.53it/s]\n",
            "Epoch 910\n",
            "Train: 100%|██████████| 82/82 [00:29<00:00,  2.81it/s]\n",
            "Eval: 100%|██████████| 7/7 [00:02<00:00,  2.40it/s]\n",
            "Epoch 911\n"
          ]
        },
        {
          "metadata": {
            "tags": null
          },
          "name": "stdout",
          "output_type": "stream",
          "text": [
            "\tVal Dist 111.3560\t\n"
          ]
        },
        {
          "metadata": {
            "tags": null
          },
          "name": "stderr",
          "output_type": "stream",
          "text": [
            "Train: 100%|██████████| 82/82 [00:33<00:00,  2.48it/s]\n",
            "Epoch 912\n",
            "Train: 100%|██████████| 82/82 [00:30<00:00,  2.66it/s]\n",
            "Epoch 913\n",
            "Train: 100%|██████████| 82/82 [00:34<00:00,  2.40it/s]\n",
            "Epoch 914\n",
            "Train: 100%|██████████| 82/82 [00:29<00:00,  2.76it/s]\n",
            "Epoch 915\n",
            "Train: 100%|██████████| 82/82 [00:32<00:00,  2.49it/s]\n",
            "Epoch 916\n",
            "Train: 100%|██████████| 82/82 [00:29<00:00,  2.79it/s]\n",
            "Epoch 917\n",
            "Train: 100%|██████████| 82/82 [00:32<00:00,  2.50it/s]\n",
            "Epoch 918\n",
            "Train: 100%|██████████| 82/82 [00:29<00:00,  2.81it/s]\n",
            "Epoch 919\n",
            "Train: 100%|██████████| 82/82 [00:33<00:00,  2.42it/s]\n",
            "Epoch 920\n",
            "Train: 100%|██████████| 82/82 [00:29<00:00,  2.74it/s]\n",
            "Eval: 100%|██████████| 7/7 [00:03<00:00,  1.98it/s]\n",
            "Epoch 921\n"
          ]
        },
        {
          "metadata": {
            "tags": null
          },
          "name": "stdout",
          "output_type": "stream",
          "text": [
            "\tVal Dist 115.5430\t\n"
          ]
        },
        {
          "metadata": {
            "tags": null
          },
          "name": "stderr",
          "output_type": "stream",
          "text": [
            "Train: 100%|██████████| 82/82 [00:33<00:00,  2.44it/s]\n",
            "Epoch 922\n",
            "Train: 100%|██████████| 82/82 [00:29<00:00,  2.82it/s]\n",
            "Epoch 923\n",
            "Train: 100%|██████████| 82/82 [00:32<00:00,  2.54it/s]\n",
            "Epoch 924\n",
            "Train: 100%|██████████| 82/82 [00:29<00:00,  2.78it/s]\n",
            "Epoch 925\n",
            "Train: 100%|██████████| 82/82 [00:32<00:00,  2.50it/s]\n",
            "Epoch 926\n",
            "Train: 100%|██████████| 82/82 [00:28<00:00,  2.83it/s]\n",
            "Epoch 927\n",
            "Train: 100%|██████████| 82/82 [00:33<00:00,  2.42it/s]\n",
            "Epoch 928\n",
            "Train: 100%|██████████| 82/82 [00:29<00:00,  2.81it/s]\n",
            "Epoch 929\n",
            "Train: 100%|██████████| 82/82 [00:34<00:00,  2.37it/s]\n",
            "Epoch 930\n",
            "Train: 100%|██████████| 82/82 [00:29<00:00,  2.81it/s]\n",
            "Eval: 100%|██████████| 7/7 [00:02<00:00,  2.34it/s]\n",
            "Epoch 931\n"
          ]
        },
        {
          "metadata": {
            "tags": null
          },
          "name": "stdout",
          "output_type": "stream",
          "text": [
            "\tVal Dist 119.2410\t\n"
          ]
        },
        {
          "metadata": {
            "tags": null
          },
          "name": "stderr",
          "output_type": "stream",
          "text": [
            "Train: 100%|██████████| 82/82 [00:32<00:00,  2.54it/s]\n",
            "Epoch 932\n",
            "Train: 100%|██████████| 82/82 [00:29<00:00,  2.82it/s]\n",
            "Epoch 933\n",
            "Train: 100%|██████████| 82/82 [00:32<00:00,  2.54it/s]\n",
            "Epoch 934\n",
            "Train: 100%|██████████| 82/82 [00:29<00:00,  2.82it/s]\n",
            "Epoch 935\n",
            "Train: 100%|██████████| 82/82 [00:34<00:00,  2.41it/s]\n",
            "Epoch 936\n",
            "Train: 100%|██████████| 82/82 [00:30<00:00,  2.69it/s]\n",
            "Epoch 937\n",
            "Train: 100%|██████████| 82/82 [00:32<00:00,  2.54it/s]\n",
            "Epoch 938\n",
            "Train: 100%|██████████| 82/82 [00:28<00:00,  2.83it/s]\n",
            "Epoch 939\n",
            "Train: 100%|██████████| 82/82 [00:32<00:00,  2.54it/s]\n",
            "Epoch 940\n",
            "Train: 100%|██████████| 82/82 [00:28<00:00,  2.84it/s]\n",
            "Eval: 100%|██████████| 7/7 [00:03<00:00,  2.10it/s]\n",
            "Epoch 941\n"
          ]
        },
        {
          "metadata": {
            "tags": null
          },
          "name": "stdout",
          "output_type": "stream",
          "text": [
            "\tVal Dist 115.5840\t\n"
          ]
        },
        {
          "metadata": {
            "tags": null
          },
          "name": "stderr",
          "output_type": "stream",
          "text": [
            "Train: 100%|██████████| 82/82 [00:32<00:00,  2.52it/s]\n",
            "Epoch 942\n",
            "Train: 100%|██████████| 82/82 [00:29<00:00,  2.80it/s]\n",
            "Epoch 943\n",
            "Train: 100%|██████████| 82/82 [00:33<00:00,  2.46it/s]\n",
            "Epoch 944\n",
            "Train: 100%|██████████| 82/82 [00:31<00:00,  2.64it/s]\n",
            "Epoch 945\n",
            "Train: 100%|██████████| 82/82 [00:32<00:00,  2.54it/s]\n",
            "Epoch 946\n",
            "Train: 100%|██████████| 82/82 [00:28<00:00,  2.83it/s]\n",
            "Epoch 947\n",
            "Train: 100%|██████████| 82/82 [00:32<00:00,  2.51it/s]\n",
            "Epoch 948\n",
            "Train: 100%|██████████| 82/82 [00:29<00:00,  2.82it/s]\n",
            "Epoch 949\n",
            "Train: 100%|██████████| 82/82 [00:32<00:00,  2.50it/s]\n",
            "Epoch 950\n",
            "Train: 100%|██████████| 82/82 [00:29<00:00,  2.77it/s]\n",
            "Eval: 100%|██████████| 7/7 [00:03<00:00,  2.03it/s]\n",
            "Epoch 951\n"
          ]
        },
        {
          "metadata": {
            "tags": null
          },
          "name": "stdout",
          "output_type": "stream",
          "text": [
            "\tVal Dist 111.6670\t\n"
          ]
        },
        {
          "metadata": {
            "tags": null
          },
          "name": "stderr",
          "output_type": "stream",
          "text": [
            "Train: 100%|██████████| 82/82 [00:33<00:00,  2.43it/s]\n",
            "Epoch 952\n",
            "Train: 100%|██████████| 82/82 [00:30<00:00,  2.66it/s]\n",
            "Epoch 953\n",
            "Train: 100%|██████████| 82/82 [00:32<00:00,  2.51it/s]\n",
            "Epoch 954\n",
            "Train: 100%|██████████| 82/82 [00:29<00:00,  2.82it/s]\n",
            "Epoch 955\n",
            "Train: 100%|██████████| 82/82 [00:32<00:00,  2.54it/s]\n",
            "Epoch 956\n",
            "Train: 100%|██████████| 82/82 [00:29<00:00,  2.82it/s]\n",
            "Epoch 957\n",
            "Train: 100%|██████████| 82/82 [00:32<00:00,  2.51it/s]\n",
            "Epoch 958\n",
            "Train: 100%|██████████| 82/82 [00:29<00:00,  2.76it/s]\n",
            "Epoch 959\n",
            "Train: 100%|██████████| 82/82 [00:33<00:00,  2.42it/s]\n",
            "Epoch 960\n",
            "Train: 100%|██████████| 82/82 [00:30<00:00,  2.65it/s]\n",
            "Eval: 100%|██████████| 7/7 [00:02<00:00,  2.97it/s]\n",
            "Epoch 961\n"
          ]
        },
        {
          "metadata": {
            "tags": null
          },
          "name": "stdout",
          "output_type": "stream",
          "text": [
            "Saved model\n",
            "\tVal Dist 110.6800\t\n"
          ]
        },
        {
          "metadata": {
            "tags": null
          },
          "name": "stderr",
          "output_type": "stream",
          "text": [
            "Train: 100%|██████████| 82/82 [00:32<00:00,  2.55it/s]\n",
            "Epoch 962\n",
            "Train: 100%|██████████| 82/82 [00:29<00:00,  2.82it/s]\n",
            "Epoch 963\n",
            "Train: 100%|██████████| 82/82 [00:32<00:00,  2.54it/s]\n",
            "Epoch 964\n",
            "Train: 100%|██████████| 82/82 [00:29<00:00,  2.82it/s]\n",
            "Epoch 965\n",
            "Train: 100%|██████████| 82/82 [00:32<00:00,  2.54it/s]\n",
            "Epoch 966\n",
            "Train: 100%|██████████| 82/82 [00:29<00:00,  2.80it/s]\n",
            "Epoch 967\n",
            "Train: 100%|██████████| 82/82 [00:34<00:00,  2.39it/s]\n",
            "Epoch 968\n",
            "Train: 100%|██████████| 82/82 [00:29<00:00,  2.75it/s]\n",
            "Epoch 969\n",
            "Train: 100%|██████████| 82/82 [00:32<00:00,  2.52it/s]\n",
            "Epoch 970\n",
            "Train: 100%|██████████| 82/82 [00:28<00:00,  2.83it/s]\n",
            "Eval: 100%|██████████| 7/7 [00:03<00:00,  2.06it/s]\n",
            "Epoch 971\n"
          ]
        },
        {
          "metadata": {
            "tags": null
          },
          "name": "stdout",
          "output_type": "stream",
          "text": [
            "\tVal Dist 115.7060\t\n"
          ]
        },
        {
          "metadata": {
            "tags": null
          },
          "name": "stderr",
          "output_type": "stream",
          "text": [
            "Train: 100%|██████████| 82/82 [00:32<00:00,  2.54it/s]\n",
            "Epoch 972\n",
            "Train: 100%|██████████| 82/82 [00:29<00:00,  2.83it/s]\n",
            "Epoch 973\n",
            "Train: 100%|██████████| 82/82 [00:32<00:00,  2.54it/s]\n",
            "Epoch 974\n",
            "Train: 100%|██████████| 82/82 [00:30<00:00,  2.66it/s]\n",
            "Epoch 975\n",
            "Train: 100%|██████████| 82/82 [00:33<00:00,  2.42it/s]\n",
            "Epoch 976\n",
            "Train: 100%|██████████| 82/82 [00:28<00:00,  2.83it/s]\n",
            "Epoch 977\n",
            "Train: 100%|██████████| 82/82 [00:32<00:00,  2.55it/s]\n",
            "Epoch 978\n",
            "Train: 100%|██████████| 82/82 [00:29<00:00,  2.82it/s]\n",
            "Epoch 979\n",
            "Train: 100%|██████████| 82/82 [00:32<00:00,  2.54it/s]\n",
            "Epoch 980\n",
            "Train: 100%|██████████| 82/82 [00:29<00:00,  2.81it/s]\n",
            "Eval: 100%|██████████| 7/7 [00:02<00:00,  2.62it/s]\n",
            "Epoch 981\n"
          ]
        },
        {
          "metadata": {
            "tags": null
          },
          "name": "stdout",
          "output_type": "stream",
          "text": [
            "\tVal Dist 113.5560\t\n"
          ]
        },
        {
          "metadata": {
            "tags": null
          },
          "name": "stderr",
          "output_type": "stream",
          "text": [
            "Train: 100%|██████████| 82/82 [00:33<00:00,  2.47it/s]\n",
            "Epoch 982\n",
            "Train: 100%|██████████| 82/82 [00:30<00:00,  2.66it/s]\n",
            "Epoch 983\n",
            "Train: 100%|██████████| 82/82 [00:34<00:00,  2.40it/s]\n",
            "Epoch 984\n",
            "Train: 100%|██████████| 82/82 [00:29<00:00,  2.76it/s]\n",
            "Epoch 985\n",
            "Train: 100%|██████████| 82/82 [00:33<00:00,  2.45it/s]\n",
            "Epoch 986\n",
            "Train: 100%|██████████| 82/82 [00:29<00:00,  2.78it/s]\n",
            "Epoch 987\n",
            "Train: 100%|██████████| 82/82 [00:32<00:00,  2.50it/s]\n",
            "Epoch 988\n",
            "Train: 100%|██████████| 82/82 [00:29<00:00,  2.80it/s]\n",
            "Epoch 989\n",
            "Train: 100%|██████████| 82/82 [00:33<00:00,  2.48it/s]\n",
            "Epoch 990\n",
            "Train: 100%|██████████| 82/82 [00:31<00:00,  2.57it/s]\n",
            "Eval: 100%|██████████| 7/7 [00:03<00:00,  2.10it/s]\n",
            "Epoch 991\n"
          ]
        },
        {
          "metadata": {
            "tags": null
          },
          "name": "stdout",
          "output_type": "stream",
          "text": [
            "\tVal Dist 111.8670\t\n"
          ]
        },
        {
          "metadata": {
            "tags": null
          },
          "name": "stderr",
          "output_type": "stream",
          "text": [
            "Train: 100%|██████████| 82/82 [00:32<00:00,  2.50it/s]\n",
            "Epoch 992\n",
            "Train: 100%|██████████| 82/82 [00:29<00:00,  2.80it/s]\n",
            "Epoch 993\n",
            "Train: 100%|██████████| 82/82 [00:32<00:00,  2.53it/s]\n",
            "Epoch 994\n",
            "Train: 100%|██████████| 82/82 [00:29<00:00,  2.81it/s]\n",
            "Epoch 995\n",
            "Train: 100%|██████████| 82/82 [00:32<00:00,  2.52it/s]\n",
            "Epoch 996\n",
            "Train: 100%|██████████| 82/82 [00:29<00:00,  2.83it/s]\n",
            "Epoch 997\n",
            "Train: 100%|██████████| 82/82 [00:33<00:00,  2.43it/s]\n",
            "Epoch 998\n",
            "Train: 100%|██████████| 82/82 [00:30<00:00,  2.68it/s]\n",
            "Epoch 999\n",
            "Train: 100%|██████████| 82/82 [00:32<00:00,  2.53it/s]\n",
            "Epoch 1000\n",
            "Train: 100%|██████████| 82/82 [00:28<00:00,  2.86it/s]\n",
            "Eval: 100%|██████████| 7/7 [00:03<00:00,  2.08it/s]\n",
            "Epoch 1001\n"
          ]
        },
        {
          "metadata": {
            "tags": null
          },
          "name": "stdout",
          "output_type": "stream",
          "text": [
            "\tVal Dist 115.8890\t\n"
          ]
        },
        {
          "metadata": {
            "tags": null
          },
          "name": "stderr",
          "output_type": "stream",
          "text": [
            "Train: 100%|██████████| 82/82 [00:32<00:00,  2.56it/s]\n",
            "Epoch 1002\n",
            "Train: 100%|██████████| 82/82 [00:29<00:00,  2.82it/s]\n",
            "Epoch 1003\n",
            "Train: 100%|██████████| 82/82 [00:32<00:00,  2.53it/s]\n",
            "Epoch 1004\n",
            "Train: 100%|██████████| 82/82 [00:28<00:00,  2.85it/s]\n",
            "Epoch 1005\n",
            "Train: 100%|██████████| 82/82 [00:32<00:00,  2.49it/s]\n",
            "Epoch 1006\n",
            "Train: 100%|██████████| 82/82 [00:30<00:00,  2.69it/s]\n",
            "Epoch 1007\n",
            "Train: 100%|██████████| 82/82 [00:32<00:00,  2.53it/s]\n",
            "Epoch 1008\n",
            "Train: 100%|██████████| 82/82 [00:29<00:00,  2.81it/s]\n",
            "Epoch 1009\n",
            "Train: 100%|██████████| 82/82 [00:32<00:00,  2.54it/s]\n",
            "Epoch 1010\n",
            "Train: 100%|██████████| 82/82 [00:28<00:00,  2.84it/s]\n",
            "Eval: 100%|██████████| 7/7 [00:03<00:00,  2.12it/s]\n",
            "Epoch 1011\n"
          ]
        },
        {
          "metadata": {
            "tags": null
          },
          "name": "stdout",
          "output_type": "stream",
          "text": [
            "\tVal Dist 115.3450\t\n"
          ]
        },
        {
          "metadata": {
            "tags": null
          },
          "name": "stderr",
          "output_type": "stream",
          "text": [
            "Train: 100%|██████████| 82/82 [00:32<00:00,  2.54it/s]\n",
            "Epoch 1012\n",
            "Train: 100%|██████████| 82/82 [00:30<00:00,  2.71it/s]\n",
            "Epoch 1013\n",
            "Train: 100%|██████████| 82/82 [00:33<00:00,  2.46it/s]\n",
            "Epoch 1014\n",
            "Train: 100%|██████████| 82/82 [00:29<00:00,  2.82it/s]\n",
            "Epoch 1015\n",
            "Train: 100%|██████████| 82/82 [00:32<00:00,  2.53it/s]\n",
            "Epoch 1016\n",
            "Train: 100%|██████████| 82/82 [00:29<00:00,  2.78it/s]\n",
            "Epoch 1017\n",
            "Train: 100%|██████████| 82/82 [00:33<00:00,  2.44it/s]\n",
            "Epoch 1018\n",
            "Train: 100%|██████████| 82/82 [00:29<00:00,  2.78it/s]\n",
            "Epoch 1019\n",
            "Train: 100%|██████████| 82/82 [00:34<00:00,  2.40it/s]\n",
            "Epoch 1020\n",
            "Train: 100%|██████████| 82/82 [00:32<00:00,  2.55it/s]\n",
            "Eval: 100%|██████████| 7/7 [00:02<00:00,  2.37it/s]\n",
            "Epoch 1021\n"
          ]
        },
        {
          "metadata": {
            "tags": null
          },
          "name": "stdout",
          "output_type": "stream",
          "text": [
            "\tVal Dist 120.3680\t\n"
          ]
        },
        {
          "metadata": {
            "tags": null
          },
          "name": "stderr",
          "output_type": "stream",
          "text": [
            "Train: 100%|██████████| 82/82 [00:32<00:00,  2.49it/s]\n",
            "Epoch 1022\n",
            "Train: 100%|██████████| 82/82 [00:29<00:00,  2.81it/s]\n",
            "Epoch 1023\n",
            "Train: 100%|██████████| 82/82 [00:32<00:00,  2.53it/s]\n",
            "Epoch 1024\n",
            "Train: 100%|██████████| 82/82 [00:29<00:00,  2.81it/s]\n",
            "Epoch 1025\n",
            "Train: 100%|██████████| 82/82 [00:32<00:00,  2.53it/s]\n",
            "Epoch 1026\n",
            "Train: 100%|██████████| 82/82 [00:29<00:00,  2.82it/s]\n",
            "Epoch 1027\n",
            "Train: 100%|██████████| 82/82 [00:33<00:00,  2.43it/s]\n",
            "Epoch 1028\n",
            "Train: 100%|██████████| 82/82 [00:28<00:00,  2.84it/s]\n",
            "Epoch 1029\n",
            "Train: 100%|██████████| 82/82 [00:33<00:00,  2.46it/s]\n",
            "Epoch 1030\n",
            "Train: 100%|██████████| 82/82 [00:28<00:00,  2.85it/s]\n",
            "Eval: 100%|██████████| 7/7 [00:02<00:00,  2.68it/s]\n",
            "Epoch 1031\n"
          ]
        },
        {
          "metadata": {
            "tags": null
          },
          "name": "stdout",
          "output_type": "stream",
          "text": [
            "\tVal Dist 113.5900\t\n"
          ]
        },
        {
          "metadata": {
            "tags": null
          },
          "name": "stderr",
          "output_type": "stream",
          "text": [
            "Train: 100%|██████████| 82/82 [00:32<00:00,  2.55it/s]\n",
            "Epoch 1032\n",
            "Train: 100%|██████████| 82/82 [00:29<00:00,  2.82it/s]\n",
            "Epoch 1033\n",
            "Train: 100%|██████████| 82/82 [00:32<00:00,  2.53it/s]\n",
            "Epoch 1034\n",
            "Train: 100%|██████████| 82/82 [00:30<00:00,  2.69it/s]\n",
            "Epoch 1035\n",
            "Train: 100%|██████████| 82/82 [00:32<00:00,  2.54it/s]\n",
            "Epoch 1036\n",
            "Train: 100%|██████████| 82/82 [00:29<00:00,  2.81it/s]\n",
            "Epoch 1037\n",
            "Train: 100%|██████████| 82/82 [00:33<00:00,  2.47it/s]\n",
            "Epoch 1038\n",
            "Train: 100%|██████████| 82/82 [00:29<00:00,  2.82it/s]\n",
            "Epoch 1039\n",
            "Train: 100%|██████████| 82/82 [00:33<00:00,  2.46it/s]\n",
            "Epoch 1040\n",
            "Train: 100%|██████████| 82/82 [00:29<00:00,  2.80it/s]\n",
            "Eval: 100%|██████████| 7/7 [00:02<00:00,  2.97it/s]\n",
            "Epoch 1041\n"
          ]
        },
        {
          "metadata": {
            "tags": null
          },
          "name": "stdout",
          "output_type": "stream",
          "text": [
            "\tVal Dist 114.4130\t\n"
          ]
        },
        {
          "metadata": {
            "tags": null
          },
          "name": "stderr",
          "output_type": "stream",
          "text": [
            "Train: 100%|██████████| 82/82 [00:34<00:00,  2.37it/s]\n",
            "Epoch 1042\n",
            "Train: 100%|██████████| 82/82 [00:29<00:00,  2.74it/s]\n",
            "Epoch 1043\n",
            "Train: 100%|██████████| 82/82 [00:32<00:00,  2.50it/s]\n",
            "Epoch 1044\n",
            "Train: 100%|██████████| 82/82 [00:31<00:00,  2.59it/s]\n",
            "Epoch 1045\n",
            "Train: 100%|██████████| 82/82 [00:33<00:00,  2.45it/s]\n",
            "Epoch 1046\n",
            "Train: 100%|██████████| 82/82 [00:30<00:00,  2.72it/s]\n",
            "Epoch 1047\n",
            "Train: 100%|██████████| 82/82 [00:33<00:00,  2.45it/s]\n",
            "Epoch 1048\n",
            "Train: 100%|██████████| 82/82 [00:31<00:00,  2.57it/s]\n",
            "Epoch 1049\n",
            "Train: 100%|██████████| 82/82 [00:33<00:00,  2.46it/s]\n",
            "Epoch 1050\n",
            "Train: 100%|██████████| 82/82 [00:29<00:00,  2.75it/s]\n",
            "Eval: 100%|██████████| 7/7 [00:02<00:00,  2.95it/s]\n",
            "Epoch 1051\n"
          ]
        },
        {
          "metadata": {
            "tags": null
          },
          "name": "stdout",
          "output_type": "stream",
          "text": [
            "\tVal Dist 119.8010\t\n"
          ]
        },
        {
          "metadata": {
            "tags": null
          },
          "name": "stderr",
          "output_type": "stream",
          "text": [
            "Train: 100%|██████████| 82/82 [00:34<00:00,  2.37it/s]\n",
            "Epoch 1052\n",
            "Train: 100%|██████████| 82/82 [00:29<00:00,  2.74it/s]\n",
            "Epoch 1053\n",
            "Train: 100%|██████████| 82/82 [00:32<00:00,  2.50it/s]\n",
            "Epoch 1054\n",
            "Train: 100%|██████████| 82/82 [00:29<00:00,  2.75it/s]\n",
            "Epoch 1055\n",
            "Train: 100%|██████████| 82/82 [00:34<00:00,  2.37it/s]\n",
            "Epoch 1056\n",
            "Train: 100%|██████████| 82/82 [00:30<00:00,  2.73it/s]\n",
            "Epoch 1057\n",
            "Train: 100%|██████████| 82/82 [00:34<00:00,  2.40it/s]\n",
            "Epoch 1058\n",
            "Train: 100%|██████████| 82/82 [00:31<00:00,  2.62it/s]\n",
            "Epoch 1059\n",
            "Train: 100%|██████████| 82/82 [00:33<00:00,  2.48it/s]\n",
            "Epoch 1060\n",
            "Train: 100%|██████████| 82/82 [00:29<00:00,  2.75it/s]\n",
            "Eval: 100%|██████████| 7/7 [00:02<00:00,  2.89it/s]\n",
            "Epoch 1061\n"
          ]
        },
        {
          "metadata": {
            "tags": null
          },
          "name": "stdout",
          "output_type": "stream",
          "text": [
            "\tVal Dist 112.2700\t\n"
          ]
        },
        {
          "metadata": {
            "tags": null
          },
          "name": "stderr",
          "output_type": "stream",
          "text": [
            "Train: 100%|██████████| 82/82 [00:32<00:00,  2.51it/s]\n",
            "Epoch 1062\n",
            "Train: 100%|██████████| 82/82 [00:31<00:00,  2.61it/s]\n",
            "Epoch 1063\n",
            "Train: 100%|██████████| 82/82 [00:33<00:00,  2.45it/s]\n",
            "Epoch 1064\n",
            "Train: 100%|██████████| 82/82 [00:29<00:00,  2.74it/s]\n",
            "Epoch 1065\n",
            "Train: 100%|██████████| 82/82 [00:34<00:00,  2.37it/s]\n",
            "Epoch 1066\n",
            "Train: 100%|██████████| 82/82 [00:30<00:00,  2.72it/s]\n",
            "Epoch 1067\n",
            "Train: 100%|██████████| 82/82 [00:34<00:00,  2.40it/s]\n",
            "Epoch 1068\n",
            "Train: 100%|██████████| 82/82 [00:29<00:00,  2.74it/s]\n",
            "Epoch 1069\n",
            "Train: 100%|██████████| 82/82 [00:34<00:00,  2.34it/s]\n",
            "Epoch 1070\n",
            "Train: 100%|██████████| 82/82 [00:30<00:00,  2.72it/s]\n",
            "Eval: 100%|██████████| 7/7 [00:02<00:00,  2.92it/s]\n",
            "Epoch 1071\n"
          ]
        },
        {
          "metadata": {
            "tags": null
          },
          "name": "stdout",
          "output_type": "stream",
          "text": [
            "\tVal Dist 117.3640\t\n"
          ]
        },
        {
          "metadata": {
            "tags": null
          },
          "name": "stderr",
          "output_type": "stream",
          "text": [
            "Train: 100%|██████████| 82/82 [00:33<00:00,  2.48it/s]\n",
            "Epoch 1072\n",
            "Train: 100%|██████████| 82/82 [00:31<00:00,  2.63it/s]\n",
            "Epoch 1073\n",
            "Train: 100%|██████████| 82/82 [00:33<00:00,  2.47it/s]\n",
            "Epoch 1074\n",
            "Train: 100%|██████████| 82/82 [00:30<00:00,  2.70it/s]\n",
            "Epoch 1075\n",
            "Train: 100%|██████████| 82/82 [00:33<00:00,  2.43it/s]\n",
            "Epoch 1076\n",
            "Train: 100%|██████████| 82/82 [00:31<00:00,  2.64it/s]\n",
            "Epoch 1077\n",
            "Train: 100%|██████████| 82/82 [00:32<00:00,  2.49it/s]\n",
            "Epoch 1078\n",
            "Train: 100%|██████████| 82/82 [00:30<00:00,  2.73it/s]\n",
            "Epoch 1079\n",
            "Train: 100%|██████████| 82/82 [00:34<00:00,  2.40it/s]\n",
            "Epoch 1080\n",
            "Train: 100%|██████████| 82/82 [00:29<00:00,  2.79it/s]\n",
            "Eval: 100%|██████████| 7/7 [00:02<00:00,  2.97it/s]\n",
            "Epoch 1081\n"
          ]
        },
        {
          "metadata": {
            "tags": null
          },
          "name": "stdout",
          "output_type": "stream",
          "text": [
            "\tVal Dist 113.7840\t\n"
          ]
        },
        {
          "metadata": {
            "tags": null
          },
          "name": "stderr",
          "output_type": "stream",
          "text": [
            "Train: 100%|██████████| 82/82 [00:32<00:00,  2.51it/s]\n",
            "Epoch 1082\n",
            "Train: 100%|██████████| 82/82 [00:30<00:00,  2.73it/s]\n",
            "Epoch 1083\n",
            "Train: 100%|██████████| 82/82 [00:33<00:00,  2.41it/s]\n",
            "Epoch 1084\n",
            "Train: 100%|██████████| 82/82 [00:29<00:00,  2.81it/s]\n",
            "Epoch 1085\n",
            "Train: 100%|██████████| 82/82 [00:33<00:00,  2.43it/s]\n",
            "Epoch 1086\n",
            "Train: 100%|██████████| 82/82 [00:30<00:00,  2.67it/s]\n",
            "Epoch 1087\n",
            "Train: 100%|██████████| 82/82 [00:32<00:00,  2.49it/s]\n",
            "Epoch 1088\n",
            "Train: 100%|██████████| 82/82 [00:29<00:00,  2.77it/s]\n",
            "Epoch 1089\n",
            "Train: 100%|██████████| 82/82 [00:34<00:00,  2.37it/s]\n",
            "Epoch 1090\n",
            "Train: 100%|██████████| 82/82 [00:29<00:00,  2.76it/s]\n",
            "Eval: 100%|██████████| 7/7 [00:02<00:00,  3.01it/s]\n",
            "Epoch 1091\n"
          ]
        },
        {
          "metadata": {
            "tags": null
          },
          "name": "stdout",
          "output_type": "stream",
          "text": [
            "\tVal Dist 116.1540\t\n"
          ]
        },
        {
          "metadata": {
            "tags": null
          },
          "name": "stderr",
          "output_type": "stream",
          "text": [
            "Train: 100%|██████████| 82/82 [00:32<00:00,  2.51it/s]\n",
            "Epoch 1092\n",
            "Train: 100%|██████████| 82/82 [00:29<00:00,  2.82it/s]\n",
            "Epoch 1093\n",
            "Train: 100%|██████████| 82/82 [00:35<00:00,  2.33it/s]\n",
            "Epoch 1094\n",
            "Train: 100%|██████████| 82/82 [00:29<00:00,  2.79it/s]\n",
            "Epoch 1095\n",
            "Train: 100%|██████████| 82/82 [00:33<00:00,  2.44it/s]\n",
            "Epoch 1096\n",
            "Train: 100%|██████████| 82/82 [00:30<00:00,  2.67it/s]\n",
            "Epoch 1097\n",
            "Train: 100%|██████████| 82/82 [00:33<00:00,  2.48it/s]\n",
            "Epoch 1098\n",
            "Train: 100%|██████████| 82/82 [00:29<00:00,  2.76it/s]\n",
            "Epoch 1099\n",
            "Train: 100%|██████████| 82/82 [00:33<00:00,  2.43it/s]\n",
            "Epoch 1100\n",
            "Train: 100%|██████████| 82/82 [00:29<00:00,  2.77it/s]\n",
            "Eval: 100%|██████████| 7/7 [00:02<00:00,  3.00it/s]\n",
            "Epoch 1101\n"
          ]
        },
        {
          "metadata": {
            "tags": null
          },
          "name": "stdout",
          "output_type": "stream",
          "text": [
            "\tVal Dist 116.8990\t\n"
          ]
        },
        {
          "metadata": {
            "tags": null
          },
          "name": "stderr",
          "output_type": "stream",
          "text": [
            "Train: 100%|██████████| 82/82 [00:33<00:00,  2.46it/s]\n",
            "Epoch 1102\n",
            "Train: 100%|██████████| 82/82 [00:29<00:00,  2.80it/s]\n",
            "Epoch 1103\n",
            "Train: 100%|██████████| 82/82 [00:34<00:00,  2.38it/s]\n",
            "Epoch 1104\n",
            "Train: 100%|██████████| 82/82 [00:29<00:00,  2.76it/s]\n",
            "Epoch 1105\n",
            "Train: 100%|██████████| 82/82 [00:32<00:00,  2.50it/s]\n",
            "Epoch 1106\n",
            "Train: 100%|██████████| 82/82 [00:30<00:00,  2.67it/s]\n",
            "Epoch 1107\n",
            "Train: 100%|██████████| 82/82 [00:32<00:00,  2.52it/s]\n",
            "Epoch 1108\n",
            "Train: 100%|██████████| 82/82 [00:29<00:00,  2.76it/s]\n",
            "Epoch 1109\n",
            "Train: 100%|██████████| 82/82 [00:32<00:00,  2.53it/s]\n",
            "Epoch 1110\n",
            "Train: 100%|██████████| 82/82 [00:30<00:00,  2.65it/s]\n",
            "Eval: 100%|██████████| 7/7 [00:02<00:00,  3.00it/s]\n",
            "Epoch 1111\n"
          ]
        },
        {
          "metadata": {
            "tags": null
          },
          "name": "stdout",
          "output_type": "stream",
          "text": [
            "\tVal Dist 115.0650\t\n"
          ]
        },
        {
          "metadata": {
            "tags": null
          },
          "name": "stderr",
          "output_type": "stream",
          "text": [
            "Train: 100%|██████████| 82/82 [00:32<00:00,  2.52it/s]\n",
            "Epoch 1112\n",
            "Train: 100%|██████████| 82/82 [00:31<00:00,  2.64it/s]\n",
            "Epoch 1113\n",
            "Train: 100%|██████████| 82/82 [00:32<00:00,  2.49it/s]\n",
            "Epoch 1114\n",
            "Train: 100%|██████████| 82/82 [00:29<00:00,  2.81it/s]\n",
            "Epoch 1115\n",
            "Train: 100%|██████████| 82/82 [00:33<00:00,  2.45it/s]\n",
            "Epoch 1116\n",
            "Train: 100%|██████████| 82/82 [00:31<00:00,  2.64it/s]\n",
            "Epoch 1117\n",
            "Train: 100%|██████████| 82/82 [00:32<00:00,  2.49it/s]\n",
            "Epoch 1118\n",
            "Train: 100%|██████████| 82/82 [00:31<00:00,  2.63it/s]\n",
            "Epoch 1119\n",
            "Train: 100%|██████████| 82/82 [00:32<00:00,  2.49it/s]\n",
            "Epoch 1120\n",
            "Train: 100%|██████████| 82/82 [00:29<00:00,  2.77it/s]\n",
            "Eval: 100%|██████████| 7/7 [00:02<00:00,  2.96it/s]\n",
            "Epoch 1121\n"
          ]
        },
        {
          "metadata": {
            "tags": null
          },
          "name": "stdout",
          "output_type": "stream",
          "text": [
            "\tVal Dist 117.6220\t\n"
          ]
        },
        {
          "metadata": {
            "tags": null
          },
          "name": "stderr",
          "output_type": "stream",
          "text": [
            "Train: 100%|██████████| 82/82 [00:32<00:00,  2.51it/s]\n",
            "Epoch 1122\n",
            "Train: 100%|██████████| 82/82 [00:29<00:00,  2.77it/s]\n",
            "Epoch 1123\n",
            "Train: 100%|██████████| 82/82 [00:34<00:00,  2.38it/s]\n",
            "Epoch 1124\n",
            "Train: 100%|██████████| 82/82 [00:29<00:00,  2.78it/s]\n",
            "Epoch 1125\n",
            "Train: 100%|██████████| 82/82 [00:35<00:00,  2.33it/s]\n",
            "Epoch 1126\n",
            "Train: 100%|██████████| 82/82 [00:29<00:00,  2.76it/s]\n",
            "Epoch 1127\n",
            "Train: 100%|██████████| 82/82 [00:33<00:00,  2.46it/s]\n",
            "Epoch 1128\n",
            "Train: 100%|██████████| 82/82 [00:29<00:00,  2.75it/s]\n",
            "Epoch 1129\n",
            "Train: 100%|██████████| 82/82 [00:33<00:00,  2.42it/s]\n",
            "Epoch 1130\n",
            "Train: 100%|██████████| 82/82 [00:29<00:00,  2.76it/s]\n",
            "Eval: 100%|██████████| 7/7 [00:02<00:00,  3.01it/s]\n",
            "Epoch 1131\n"
          ]
        },
        {
          "metadata": {
            "tags": null
          },
          "name": "stdout",
          "output_type": "stream",
          "text": [
            "\tVal Dist 115.7770\t\n"
          ]
        },
        {
          "metadata": {
            "tags": null
          },
          "name": "stderr",
          "output_type": "stream",
          "text": [
            "Train: 100%|██████████| 82/82 [00:34<00:00,  2.37it/s]\n",
            "Epoch 1132\n",
            "Train: 100%|██████████| 82/82 [00:29<00:00,  2.78it/s]\n",
            "Epoch 1133\n",
            "Train: 100%|██████████| 82/82 [00:33<00:00,  2.45it/s]\n",
            "Epoch 1134\n",
            "Train: 100%|██████████| 82/82 [00:29<00:00,  2.73it/s]\n",
            "Epoch 1135\n",
            "Train: 100%|██████████| 82/82 [00:33<00:00,  2.48it/s]\n",
            "Epoch 1136\n",
            "Train: 100%|██████████| 82/82 [00:31<00:00,  2.62it/s]\n",
            "Epoch 1137\n",
            "Train: 100%|██████████| 82/82 [00:32<00:00,  2.51it/s]\n",
            "Epoch 1138\n",
            "Train: 100%|██████████| 82/82 [00:31<00:00,  2.59it/s]\n",
            "Epoch 1139\n",
            "Train: 100%|██████████| 82/82 [00:33<00:00,  2.47it/s]\n",
            "Epoch 1140\n",
            "Train: 100%|██████████| 82/82 [00:29<00:00,  2.75it/s]\n",
            "Eval: 100%|██████████| 7/7 [00:02<00:00,  2.83it/s]\n",
            "Epoch 1141\n"
          ]
        },
        {
          "metadata": {
            "tags": null
          },
          "name": "stdout",
          "output_type": "stream",
          "text": [
            "\tVal Dist 117.6150\t\n"
          ]
        },
        {
          "metadata": {
            "tags": null
          },
          "name": "stderr",
          "output_type": "stream",
          "text": [
            "Train: 100%|██████████| 82/82 [00:33<00:00,  2.43it/s]\n",
            "Epoch 1142\n",
            "Train: 100%|██████████| 82/82 [00:31<00:00,  2.58it/s]\n",
            "Epoch 1143\n",
            "Train: 100%|██████████| 82/82 [00:33<00:00,  2.48it/s]\n",
            "Epoch 1144\n",
            "Train: 100%|██████████| 82/82 [00:31<00:00,  2.58it/s]\n",
            "Epoch 1145\n",
            "Train: 100%|██████████| 82/82 [00:33<00:00,  2.45it/s]\n",
            "Epoch 1146\n",
            "Train: 100%|██████████| 82/82 [00:30<00:00,  2.72it/s]\n",
            "Epoch 1147\n",
            "Train: 100%|██████████| 82/82 [00:33<00:00,  2.48it/s]\n",
            "Epoch 1148\n",
            "Train: 100%|██████████| 82/82 [00:29<00:00,  2.74it/s]\n",
            "Epoch 1149\n",
            "Train: 100%|██████████| 82/82 [00:34<00:00,  2.35it/s]\n",
            "Epoch 1150\n",
            "Train: 100%|██████████| 82/82 [00:30<00:00,  2.72it/s]\n",
            "Eval: 100%|██████████| 7/7 [00:03<00:00,  2.02it/s]\n",
            "Epoch 1151\n"
          ]
        },
        {
          "metadata": {
            "tags": null
          },
          "name": "stdout",
          "output_type": "stream",
          "text": [
            "\tVal Dist 117.5750\t\n"
          ]
        },
        {
          "metadata": {
            "tags": null
          },
          "name": "stderr",
          "output_type": "stream",
          "text": [
            "Train: 100%|██████████| 82/82 [00:34<00:00,  2.38it/s]\n",
            "Epoch 1152\n",
            "Train: 100%|██████████| 82/82 [00:29<00:00,  2.75it/s]\n",
            "Epoch 1153\n",
            "Train: 100%|██████████| 82/82 [00:33<00:00,  2.47it/s]\n",
            "Epoch 1154\n",
            "Train: 100%|██████████| 82/82 [00:29<00:00,  2.76it/s]\n",
            "Epoch 1155\n",
            "Train: 100%|██████████| 82/82 [00:34<00:00,  2.39it/s]\n",
            "Epoch 1156\n",
            "Train: 100%|██████████| 82/82 [00:29<00:00,  2.74it/s]\n",
            "Epoch 1157\n",
            "Train: 100%|██████████| 82/82 [00:35<00:00,  2.32it/s]\n",
            "Epoch 1158\n",
            "Train: 100%|██████████| 82/82 [00:29<00:00,  2.77it/s]\n",
            "Epoch 1159\n",
            "Train: 100%|██████████| 82/82 [00:33<00:00,  2.46it/s]\n",
            "Epoch 1160\n",
            "Train: 100%|██████████| 82/82 [00:29<00:00,  2.75it/s]\n",
            "Eval: 100%|██████████| 7/7 [00:02<00:00,  2.96it/s]\n",
            "Epoch 1161\n"
          ]
        },
        {
          "metadata": {
            "tags": null
          },
          "name": "stdout",
          "output_type": "stream",
          "text": [
            "\tVal Dist 115.2320\t\n"
          ]
        },
        {
          "metadata": {
            "tags": null
          },
          "name": "stderr",
          "output_type": "stream",
          "text": [
            "Train: 100%|██████████| 82/82 [00:34<00:00,  2.40it/s]\n",
            "Epoch 1162\n",
            "Train: 100%|██████████| 82/82 [00:29<00:00,  2.77it/s]\n",
            "Epoch 1163\n",
            "Train: 100%|██████████| 82/82 [00:34<00:00,  2.39it/s]\n",
            "Epoch 1164\n",
            "Train: 100%|██████████| 82/82 [00:30<00:00,  2.73it/s]\n",
            "Epoch 1165\n",
            "Train: 100%|██████████| 82/82 [00:33<00:00,  2.41it/s]\n",
            "Epoch 1166\n",
            "Train: 100%|██████████| 82/82 [00:29<00:00,  2.76it/s]\n",
            "Epoch 1167\n",
            "Train: 100%|██████████| 82/82 [00:34<00:00,  2.38it/s]\n",
            "Epoch 1168\n",
            "Train: 100%|██████████| 82/82 [00:29<00:00,  2.74it/s]\n",
            "Epoch 1169\n",
            "Train: 100%|██████████| 82/82 [00:33<00:00,  2.43it/s]\n",
            "Epoch 1170\n",
            "Train: 100%|██████████| 82/82 [00:30<00:00,  2.73it/s]\n",
            "Eval: 100%|██████████| 7/7 [00:02<00:00,  2.96it/s]\n",
            "Epoch 1171\n"
          ]
        },
        {
          "metadata": {
            "tags": null
          },
          "name": "stdout",
          "output_type": "stream",
          "text": [
            "\tVal Dist 116.1380\t\n"
          ]
        },
        {
          "metadata": {
            "tags": null
          },
          "name": "stderr",
          "output_type": "stream",
          "text": [
            "Train: 100%|██████████| 82/82 [00:32<00:00,  2.49it/s]\n",
            "Epoch 1172\n",
            "Train: 100%|██████████| 82/82 [00:29<00:00,  2.74it/s]\n",
            "Epoch 1173\n",
            "Train: 100%|██████████| 82/82 [00:33<00:00,  2.42it/s]\n",
            "Epoch 1174\n",
            "Train: 100%|██████████| 82/82 [00:30<00:00,  2.66it/s]\n",
            "Epoch 1175\n",
            "Train: 100%|██████████| 82/82 [00:33<00:00,  2.42it/s]\n",
            "Epoch 1176\n",
            "Train: 100%|██████████| 82/82 [00:30<00:00,  2.66it/s]\n",
            "Epoch 1177\n",
            "Train: 100%|██████████| 82/82 [00:32<00:00,  2.50it/s]\n",
            "Epoch 1178\n",
            "Train: 100%|██████████| 82/82 [00:29<00:00,  2.77it/s]\n",
            "Epoch 1179\n",
            "Train: 100%|██████████| 82/82 [00:33<00:00,  2.47it/s]\n",
            "Epoch 1180\n",
            "Train: 100%|██████████| 82/82 [00:30<00:00,  2.66it/s]\n",
            "Eval: 100%|██████████| 7/7 [00:03<00:00,  2.13it/s]\n",
            "Epoch 1181\n"
          ]
        },
        {
          "metadata": {
            "tags": null
          },
          "name": "stdout",
          "output_type": "stream",
          "text": [
            "\tVal Dist 113.8480\t\n"
          ]
        },
        {
          "metadata": {
            "tags": null
          },
          "name": "stderr",
          "output_type": "stream",
          "text": [
            "Train: 100%|██████████| 82/82 [00:32<00:00,  2.50it/s]\n",
            "Epoch 1182\n",
            "Train: 100%|██████████| 82/82 [00:31<00:00,  2.60it/s]\n",
            "Epoch 1183\n",
            "Train: 100%|██████████| 82/82 [00:33<00:00,  2.45it/s]\n",
            "Epoch 1184\n",
            "Train: 100%|██████████| 82/82 [00:29<00:00,  2.75it/s]\n",
            "Epoch 1185\n",
            "Train: 100%|██████████| 82/82 [00:33<00:00,  2.48it/s]\n",
            "Epoch 1186\n",
            "Train: 100%|██████████| 82/82 [00:31<00:00,  2.62it/s]\n",
            "Epoch 1187\n",
            "Train: 100%|██████████| 82/82 [00:33<00:00,  2.47it/s]\n",
            "Epoch 1188\n",
            "Train: 100%|██████████| 82/82 [00:31<00:00,  2.57it/s]\n",
            "Epoch 1189\n",
            "Train: 100%|██████████| 82/82 [00:33<00:00,  2.45it/s]\n",
            "Epoch 1190\n",
            "Train: 100%|██████████| 82/82 [00:29<00:00,  2.74it/s]\n",
            "Eval: 100%|██████████| 7/7 [00:03<00:00,  1.92it/s]\n",
            "Epoch 1191\n"
          ]
        },
        {
          "metadata": {
            "tags": null
          },
          "name": "stdout",
          "output_type": "stream",
          "text": [
            "\tVal Dist 114.6780\t\n"
          ]
        },
        {
          "metadata": {
            "tags": null
          },
          "name": "stderr",
          "output_type": "stream",
          "text": [
            "Train: 100%|██████████| 82/82 [00:32<00:00,  2.49it/s]\n",
            "Epoch 1192\n",
            "Train: 100%|██████████| 82/82 [00:31<00:00,  2.62it/s]\n",
            "Epoch 1193\n",
            "Train: 100%|██████████| 82/82 [00:33<00:00,  2.47it/s]\n",
            "Epoch 1194\n",
            "Train: 100%|██████████| 82/82 [00:31<00:00,  2.57it/s]\n",
            "Epoch 1195\n",
            "Train: 100%|██████████| 82/82 [00:33<00:00,  2.46it/s]\n",
            "Epoch 1196\n",
            "Train: 100%|██████████| 82/82 [00:29<00:00,  2.74it/s]\n",
            "Epoch 1197\n",
            "Train: 100%|██████████| 82/82 [00:34<00:00,  2.39it/s]\n",
            "Epoch 1198\n",
            "Train: 100%|██████████| 82/82 [00:32<00:00,  2.55it/s]\n",
            "Epoch 1199\n",
            "Train: 100%|██████████| 82/82 [00:33<00:00,  2.44it/s]\n",
            "Epoch 1200\n",
            "Train: 100%|██████████| 82/82 [00:31<00:00,  2.60it/s]\n",
            "Eval: 100%|██████████| 7/7 [00:02<00:00,  2.86it/s]\n",
            "Epoch 1201\n"
          ]
        },
        {
          "metadata": {
            "tags": null
          },
          "name": "stdout",
          "output_type": "stream",
          "text": [
            "\tVal Dist 118.4720\t\n"
          ]
        },
        {
          "metadata": {
            "tags": null
          },
          "name": "stderr",
          "output_type": "stream",
          "text": [
            "Train: 100%|██████████| 82/82 [00:32<00:00,  2.49it/s]\n",
            "Epoch 1202\n",
            "Train: 100%|██████████| 82/82 [00:30<00:00,  2.71it/s]\n",
            "Epoch 1203\n",
            "Train: 100%|██████████| 82/82 [00:34<00:00,  2.41it/s]\n",
            "Epoch 1204\n",
            "Train: 100%|██████████| 82/82 [00:32<00:00,  2.56it/s]\n",
            "Epoch 1205\n",
            "Train: 100%|██████████| 82/82 [00:33<00:00,  2.44it/s]\n",
            "Epoch 1206\n",
            "Train: 100%|██████████| 82/82 [00:31<00:00,  2.64it/s]\n",
            "Epoch 1207\n",
            "Train: 100%|██████████| 82/82 [00:32<00:00,  2.50it/s]\n",
            "Epoch 1208\n",
            "Train: 100%|██████████| 82/82 [00:29<00:00,  2.75it/s]\n",
            "Epoch 1209\n",
            "Train: 100%|██████████| 82/82 [00:33<00:00,  2.48it/s]\n",
            "Epoch 1210\n",
            "Train: 100%|██████████| 82/82 [00:31<00:00,  2.58it/s]\n",
            "Eval: 100%|██████████| 7/7 [00:02<00:00,  2.93it/s]\n",
            "Epoch 1211\n"
          ]
        },
        {
          "metadata": {
            "tags": null
          },
          "name": "stdout",
          "output_type": "stream",
          "text": [
            "\tVal Dist 117.5620\t\n"
          ]
        },
        {
          "metadata": {
            "tags": null
          },
          "name": "stderr",
          "output_type": "stream",
          "text": [
            "Train: 100%|██████████| 82/82 [00:32<00:00,  2.49it/s]\n",
            "Epoch 1212\n",
            "Train: 100%|██████████| 82/82 [00:31<00:00,  2.61it/s]\n",
            "Epoch 1213\n",
            "Train: 100%|██████████| 82/82 [00:33<00:00,  2.44it/s]\n",
            "Epoch 1214\n",
            "Train: 100%|██████████| 82/82 [00:29<00:00,  2.77it/s]\n",
            "Epoch 1215\n",
            "Train: 100%|██████████| 82/82 [00:32<00:00,  2.50it/s]\n",
            "Epoch 1216\n",
            "Train: 100%|██████████| 82/82 [00:31<00:00,  2.61it/s]\n",
            "Epoch 1217\n",
            "Train: 100%|██████████| 82/82 [00:33<00:00,  2.48it/s]\n",
            "Epoch 1218\n",
            "Train: 100%|██████████| 82/82 [00:30<00:00,  2.66it/s]\n",
            "Epoch 1219\n",
            "Train: 100%|██████████| 82/82 [00:33<00:00,  2.47it/s]\n",
            "Epoch 1220\n",
            "Train: 100%|██████████| 82/82 [00:29<00:00,  2.76it/s]\n",
            "Eval: 100%|██████████| 7/7 [00:03<00:00,  2.09it/s]\n",
            "Epoch 1221\n"
          ]
        },
        {
          "metadata": {
            "tags": null
          },
          "name": "stdout",
          "output_type": "stream",
          "text": [
            "\tVal Dist 115.2610\t\n"
          ]
        },
        {
          "metadata": {
            "tags": null
          },
          "name": "stderr",
          "output_type": "stream",
          "text": [
            "Train: 100%|██████████| 82/82 [00:32<00:00,  2.49it/s]\n",
            "Epoch 1222\n",
            "Train: 100%|██████████| 82/82 [00:31<00:00,  2.64it/s]\n",
            "Epoch 1223\n",
            "Train: 100%|██████████| 82/82 [00:32<00:00,  2.48it/s]\n",
            "Epoch 1224\n",
            "Train: 100%|██████████| 82/82 [00:31<00:00,  2.59it/s]\n",
            "Epoch 1225\n",
            "Train: 100%|██████████| 82/82 [00:33<00:00,  2.46it/s]\n",
            "Epoch 1226\n",
            "Train: 100%|██████████| 82/82 [00:29<00:00,  2.76it/s]\n",
            "Epoch 1227\n",
            "Train: 100%|██████████| 82/82 [00:33<00:00,  2.43it/s]\n",
            "Epoch 1228\n",
            "Train: 100%|██████████| 82/82 [00:31<00:00,  2.57it/s]\n",
            "Epoch 1229\n",
            "Train: 100%|██████████| 82/82 [00:33<00:00,  2.43it/s]\n",
            "Epoch 1230\n",
            "Train: 100%|██████████| 82/82 [00:32<00:00,  2.56it/s]\n",
            "Eval: 100%|██████████| 7/7 [00:02<00:00,  2.85it/s]\n",
            "Epoch 1231\n"
          ]
        },
        {
          "metadata": {
            "tags": null
          },
          "name": "stdout",
          "output_type": "stream",
          "text": [
            "\tVal Dist 115.7140\t\n"
          ]
        },
        {
          "metadata": {
            "tags": null
          },
          "name": "stderr",
          "output_type": "stream",
          "text": [
            "Train: 100%|██████████| 82/82 [00:33<00:00,  2.44it/s]\n",
            "Epoch 1232\n",
            "Train: 100%|██████████| 82/82 [00:30<00:00,  2.71it/s]\n",
            "Epoch 1233\n",
            "Train: 100%|██████████| 82/82 [00:33<00:00,  2.46it/s]\n",
            "Epoch 1234\n",
            "Train: 100%|██████████| 82/82 [00:31<00:00,  2.59it/s]\n",
            "Epoch 1235\n",
            "Train: 100%|██████████| 82/82 [00:34<00:00,  2.39it/s]\n",
            "Epoch 1236\n",
            "Train: 100%|██████████| 82/82 [00:30<00:00,  2.71it/s]\n",
            "Epoch 1237\n",
            "Train: 100%|██████████| 82/82 [00:33<00:00,  2.44it/s]\n",
            "Epoch 1238\n",
            "Train: 100%|██████████| 82/82 [00:30<00:00,  2.70it/s]\n",
            "Epoch 1239\n",
            "Train: 100%|██████████| 82/82 [00:33<00:00,  2.45it/s]\n",
            "Epoch 1240\n",
            "Train: 100%|██████████| 82/82 [00:31<00:00,  2.62it/s]\n",
            "Eval: 100%|██████████| 7/7 [00:02<00:00,  2.92it/s]\n",
            "Epoch 1241\n"
          ]
        },
        {
          "metadata": {
            "tags": null
          },
          "name": "stdout",
          "output_type": "stream",
          "text": [
            "\tVal Dist 113.9100\t\n"
          ]
        },
        {
          "metadata": {
            "tags": null
          },
          "name": "stderr",
          "output_type": "stream",
          "text": [
            "Train: 100%|██████████| 82/82 [00:33<00:00,  2.44it/s]\n",
            "Epoch 1242\n",
            "Train: 100%|██████████| 82/82 [00:30<00:00,  2.68it/s]\n",
            "Epoch 1243\n",
            "Train: 100%|██████████| 82/82 [00:33<00:00,  2.42it/s]\n",
            "Epoch 1244\n",
            "Train: 100%|██████████| 82/82 [00:29<00:00,  2.79it/s]\n",
            "Epoch 1245\n",
            "Train: 100%|██████████| 82/82 [00:32<00:00,  2.51it/s]\n",
            "Epoch 1246\n",
            "Train: 100%|██████████| 82/82 [00:30<00:00,  2.69it/s]\n",
            "Epoch 1247\n",
            "Train: 100%|██████████| 82/82 [00:32<00:00,  2.52it/s]\n",
            "Epoch 1248\n",
            "Train: 100%|██████████| 82/82 [00:29<00:00,  2.83it/s]\n",
            "Epoch 1249\n",
            "Train: 100%|██████████| 82/82 [00:32<00:00,  2.52it/s]\n",
            "Epoch 1250\n",
            "Train: 100%|██████████| 82/82 [00:30<00:00,  2.72it/s]\n",
            "Eval: 100%|██████████| 7/7 [00:02<00:00,  2.44it/s]\n",
            "Epoch 1251\n"
          ]
        },
        {
          "metadata": {
            "tags": null
          },
          "name": "stdout",
          "output_type": "stream",
          "text": [
            "\tVal Dist 115.1540\t\n"
          ]
        },
        {
          "metadata": {
            "tags": null
          },
          "name": "stderr",
          "output_type": "stream",
          "text": [
            "Train: 100%|██████████| 82/82 [00:33<00:00,  2.43it/s]\n",
            "Epoch 1252\n",
            "Train: 100%|██████████| 82/82 [00:30<00:00,  2.70it/s]\n",
            "Epoch 1253\n",
            "Train: 100%|██████████| 82/82 [00:33<00:00,  2.45it/s]\n",
            "Epoch 1254\n",
            "Train: 100%|██████████| 82/82 [00:29<00:00,  2.78it/s]\n",
            "Epoch 1255\n",
            "Train: 100%|██████████| 82/82 [00:32<00:00,  2.51it/s]\n",
            "Epoch 1256\n",
            "Train: 100%|██████████| 82/82 [00:29<00:00,  2.81it/s]\n",
            "Epoch 1257\n",
            "Train: 100%|██████████| 82/82 [00:32<00:00,  2.53it/s]\n",
            "Epoch 1258\n",
            "Train: 100%|██████████| 82/82 [00:31<00:00,  2.64it/s]\n",
            "Epoch 1259\n",
            "Train: 100%|██████████| 82/82 [00:32<00:00,  2.54it/s]\n",
            "Epoch 1260\n",
            "Train: 100%|██████████| 82/82 [00:29<00:00,  2.81it/s]\n",
            "Eval: 100%|██████████| 7/7 [00:02<00:00,  2.70it/s]\n",
            "Epoch 1261\n"
          ]
        },
        {
          "metadata": {
            "tags": null
          },
          "name": "stdout",
          "output_type": "stream",
          "text": [
            "\tVal Dist 113.4600\t\n"
          ]
        },
        {
          "metadata": {
            "tags": null
          },
          "name": "stderr",
          "output_type": "stream",
          "text": [
            "Train: 100%|██████████| 82/82 [00:33<00:00,  2.48it/s]\n",
            "Epoch 1262\n",
            "Train: 100%|██████████| 82/82 [00:29<00:00,  2.75it/s]\n",
            "Epoch 1263\n",
            "Train: 100%|██████████| 82/82 [00:33<00:00,  2.48it/s]\n",
            "Epoch 1264\n",
            "Train: 100%|██████████| 82/82 [00:31<00:00,  2.63it/s]\n",
            "Epoch 1265\n",
            "Train: 100%|██████████| 82/82 [00:33<00:00,  2.47it/s]\n",
            "Epoch 1266\n",
            "Train: 100%|██████████| 82/82 [00:30<00:00,  2.73it/s]\n",
            "Epoch 1267\n",
            "Train: 100%|██████████| 82/82 [00:32<00:00,  2.50it/s]\n",
            "Epoch 1268\n",
            "Train: 100%|██████████| 82/82 [00:29<00:00,  2.75it/s]\n",
            "Epoch 1269\n",
            "Train: 100%|██████████| 82/82 [00:33<00:00,  2.44it/s]\n",
            "Epoch 1270\n",
            "Train: 100%|██████████| 82/82 [00:31<00:00,  2.64it/s]\n",
            "Eval: 100%|██████████| 7/7 [00:03<00:00,  2.11it/s]\n",
            "Epoch 1271\n"
          ]
        },
        {
          "metadata": {
            "tags": null
          },
          "name": "stdout",
          "output_type": "stream",
          "text": [
            "\tVal Dist 112.4290\t\n"
          ]
        },
        {
          "metadata": {
            "tags": null
          },
          "name": "stderr",
          "output_type": "stream",
          "text": [
            "Train: 100%|██████████| 82/82 [00:33<00:00,  2.46it/s]\n",
            "Epoch 1272\n",
            "Train: 100%|██████████| 82/82 [00:29<00:00,  2.77it/s]\n",
            "Epoch 1273\n",
            "Train: 100%|██████████| 82/82 [00:33<00:00,  2.48it/s]\n",
            "Epoch 1274\n",
            "Train: 100%|██████████| 82/82 [00:29<00:00,  2.77it/s]\n",
            "Epoch 1275\n",
            "Train: 100%|██████████| 82/82 [00:32<00:00,  2.50it/s]\n",
            "Epoch 1276\n",
            "Train: 100%|██████████| 82/82 [00:30<00:00,  2.65it/s]\n",
            "Epoch 1277\n",
            "Train: 100%|██████████| 82/82 [00:33<00:00,  2.47it/s]\n",
            "Epoch 1278\n",
            "Train: 100%|██████████| 82/82 [00:29<00:00,  2.80it/s]\n",
            "Epoch 1279\n",
            "Train: 100%|██████████| 82/82 [00:33<00:00,  2.44it/s]\n",
            "Epoch 1280\n",
            "Train: 100%|██████████| 82/82 [00:29<00:00,  2.77it/s]\n",
            "Eval: 100%|██████████| 7/7 [00:02<00:00,  2.35it/s]\n",
            "Epoch 1281\n"
          ]
        },
        {
          "metadata": {
            "tags": null
          },
          "name": "stdout",
          "output_type": "stream",
          "text": [
            "Saved model\n",
            "\tVal Dist 107.7430\t\n"
          ]
        },
        {
          "metadata": {
            "tags": null
          },
          "name": "stderr",
          "output_type": "stream",
          "text": [
            "Train: 100%|██████████| 82/82 [00:33<00:00,  2.47it/s]\n",
            "Epoch 1282\n",
            "Train: 100%|██████████| 82/82 [00:31<00:00,  2.63it/s]\n",
            "Epoch 1283\n",
            "Train: 100%|██████████| 82/82 [00:32<00:00,  2.50it/s]\n",
            "Epoch 1284\n",
            "Train: 100%|██████████| 82/82 [00:29<00:00,  2.78it/s]\n",
            "Epoch 1285\n",
            "Train: 100%|██████████| 82/82 [00:32<00:00,  2.49it/s]\n",
            "Epoch 1286\n",
            "Train: 100%|██████████| 82/82 [00:29<00:00,  2.78it/s]\n",
            "Epoch 1287\n",
            "Train: 100%|██████████| 82/82 [00:33<00:00,  2.48it/s]\n",
            "Epoch 1288\n",
            "Train: 100%|██████████| 82/82 [00:31<00:00,  2.62it/s]\n",
            "Epoch 1289\n",
            "Train: 100%|██████████| 82/82 [00:33<00:00,  2.44it/s]\n",
            "Epoch 1290\n",
            "Train: 100%|██████████| 82/82 [00:29<00:00,  2.79it/s]\n",
            "Eval: 100%|██████████| 7/7 [00:02<00:00,  2.89it/s]\n",
            "Epoch 1291\n"
          ]
        },
        {
          "metadata": {
            "tags": null
          },
          "name": "stdout",
          "output_type": "stream",
          "text": [
            "\tVal Dist 114.0940\t\n"
          ]
        },
        {
          "metadata": {
            "tags": null
          },
          "name": "stderr",
          "output_type": "stream",
          "text": [
            "Train: 100%|██████████| 82/82 [00:32<00:00,  2.49it/s]\n",
            "Epoch 1292\n",
            "Train: 100%|██████████| 82/82 [00:29<00:00,  2.74it/s]\n",
            "Epoch 1293\n",
            "Train: 100%|██████████| 82/82 [00:33<00:00,  2.47it/s]\n",
            "Epoch 1294\n",
            "Train: 100%|██████████| 82/82 [00:31<00:00,  2.58it/s]\n",
            "Epoch 1295\n",
            "Train: 100%|██████████| 82/82 [00:33<00:00,  2.43it/s]\n",
            "Epoch 1296\n",
            "Train: 100%|██████████| 82/82 [00:30<00:00,  2.72it/s]\n",
            "Epoch 1297\n",
            "Train: 100%|██████████| 82/82 [00:33<00:00,  2.44it/s]\n",
            "Epoch 1298\n",
            "Train: 100%|██████████| 82/82 [00:30<00:00,  2.73it/s]\n",
            "Epoch 1299\n",
            "Train: 100%|██████████| 82/82 [00:33<00:00,  2.47it/s]\n",
            "Epoch 1300\n",
            "Train: 100%|██████████| 82/82 [00:31<00:00,  2.62it/s]\n",
            "Eval: 100%|██████████| 7/7 [00:02<00:00,  2.92it/s]\n",
            "Epoch 1301\n"
          ]
        },
        {
          "metadata": {
            "tags": null
          },
          "name": "stdout",
          "output_type": "stream",
          "text": [
            "\tVal Dist 113.2630\t\n"
          ]
        },
        {
          "metadata": {
            "tags": null
          },
          "name": "stderr",
          "output_type": "stream",
          "text": [
            "Train: 100%|██████████| 82/82 [00:33<00:00,  2.46it/s]\n",
            "Epoch 1302\n",
            "Train: 100%|██████████| 82/82 [00:29<00:00,  2.76it/s]\n",
            "Epoch 1303\n",
            "Train: 100%|██████████| 82/82 [00:33<00:00,  2.42it/s]\n",
            "Epoch 1304\n",
            "Train: 100%|██████████| 82/82 [00:29<00:00,  2.78it/s]\n",
            "Epoch 1305\n",
            "Train: 100%|██████████| 82/82 [00:34<00:00,  2.38it/s]\n",
            "Epoch 1306\n",
            "Train: 100%|██████████| 82/82 [00:29<00:00,  2.75it/s]\n",
            "Epoch 1307\n",
            "Train: 100%|██████████| 82/82 [00:33<00:00,  2.48it/s]\n",
            "Epoch 1308\n",
            "Train: 100%|██████████| 82/82 [00:29<00:00,  2.76it/s]\n",
            "Epoch 1309\n",
            "Train: 100%|██████████| 82/82 [00:33<00:00,  2.48it/s]\n",
            "Epoch 1310\n",
            "Train: 100%|██████████| 82/82 [00:29<00:00,  2.74it/s]\n",
            "Eval: 100%|██████████| 7/7 [00:03<00:00,  2.31it/s]\n",
            "Epoch 1311\n"
          ]
        },
        {
          "metadata": {
            "tags": null
          },
          "name": "stdout",
          "output_type": "stream",
          "text": [
            "\tVal Dist 112.9740\t\n"
          ]
        },
        {
          "metadata": {
            "tags": null
          },
          "name": "stderr",
          "output_type": "stream",
          "text": [
            "Train: 100%|██████████| 82/82 [00:34<00:00,  2.35it/s]\n",
            "Epoch 1312\n",
            "Train: 100%|██████████| 82/82 [00:29<00:00,  2.75it/s]\n",
            "Epoch 1313\n",
            "Train: 100%|██████████| 82/82 [00:33<00:00,  2.48it/s]\n",
            "Epoch 1314\n",
            "Train: 100%|██████████| 82/82 [00:29<00:00,  2.76it/s]\n",
            "Epoch 1315\n",
            "Train: 100%|██████████| 82/82 [00:33<00:00,  2.48it/s]\n",
            "Epoch 1316\n",
            "Train: 100%|██████████| 82/82 [00:29<00:00,  2.76it/s]\n",
            "Epoch 1317\n",
            "Train: 100%|██████████| 82/82 [00:34<00:00,  2.37it/s]\n",
            "Epoch 1318\n",
            "Train: 100%|██████████| 82/82 [00:30<00:00,  2.71it/s]\n",
            "Epoch 1319\n",
            "Train: 100%|██████████| 82/82 [00:33<00:00,  2.45it/s]\n",
            "Epoch 1320\n",
            "Train: 100%|██████████| 82/82 [00:29<00:00,  2.75it/s]\n",
            "Eval: 100%|██████████| 7/7 [00:03<00:00,  2.08it/s]\n",
            "Epoch 1321\n"
          ]
        },
        {
          "metadata": {
            "tags": null
          },
          "name": "stdout",
          "output_type": "stream",
          "text": [
            "\tVal Dist 111.9050\t\n"
          ]
        },
        {
          "metadata": {
            "tags": null
          },
          "name": "stderr",
          "output_type": "stream",
          "text": [
            "Train: 100%|██████████| 82/82 [00:32<00:00,  2.49it/s]\n",
            "Epoch 1322\n",
            "Train: 100%|██████████| 82/82 [00:29<00:00,  2.76it/s]\n",
            "Epoch 1323\n",
            "Train: 100%|██████████| 82/82 [00:33<00:00,  2.42it/s]\n",
            "Epoch 1324\n",
            "Train: 100%|██████████| 82/82 [00:29<00:00,  2.76it/s]\n",
            "Epoch 1325\n",
            "Train: 100%|██████████| 82/82 [00:32<00:00,  2.49it/s]\n",
            "Epoch 1326\n",
            "Train: 100%|██████████| 82/82 [00:29<00:00,  2.73it/s]\n",
            "Epoch 1327\n",
            "Train: 100%|██████████| 82/82 [00:33<00:00,  2.46it/s]\n",
            "Epoch 1328\n",
            "Train: 100%|██████████| 82/82 [00:29<00:00,  2.76it/s]\n",
            "Epoch 1329\n",
            "Train: 100%|██████████| 82/82 [00:35<00:00,  2.33it/s]\n",
            "Epoch 1330\n",
            "Train: 100%|██████████| 82/82 [00:29<00:00,  2.73it/s]\n",
            "Eval: 100%|██████████| 7/7 [00:02<00:00,  2.52it/s]\n",
            "Epoch 1331\n"
          ]
        },
        {
          "metadata": {
            "tags": null
          },
          "name": "stdout",
          "output_type": "stream",
          "text": [
            "\tVal Dist 110.6720\t\n"
          ]
        },
        {
          "metadata": {
            "tags": null
          },
          "name": "stderr",
          "output_type": "stream",
          "text": [
            "Train: 100%|██████████| 82/82 [00:32<00:00,  2.49it/s]\n",
            "Epoch 1332\n",
            "Train: 100%|██████████| 82/82 [00:29<00:00,  2.76it/s]\n",
            "Epoch 1333\n",
            "Train: 100%|██████████| 82/82 [00:33<00:00,  2.47it/s]\n",
            "Epoch 1334\n",
            "Train: 100%|██████████| 82/82 [00:29<00:00,  2.79it/s]\n",
            "Epoch 1335\n",
            "Train: 100%|██████████| 82/82 [00:34<00:00,  2.39it/s]\n",
            "Epoch 1336\n",
            "Train: 100%|██████████| 82/82 [00:29<00:00,  2.75it/s]\n",
            "Epoch 1337\n",
            "Train: 100%|██████████| 82/82 [00:34<00:00,  2.40it/s]\n",
            "Epoch 1338\n",
            "Train: 100%|██████████| 82/82 [00:29<00:00,  2.75it/s]\n",
            "Epoch 1339\n",
            "Train: 100%|██████████| 82/82 [00:33<00:00,  2.41it/s]\n",
            "Epoch 1340\n",
            "Train: 100%|██████████| 82/82 [00:29<00:00,  2.78it/s]\n",
            "Eval: 100%|██████████| 7/7 [00:02<00:00,  2.99it/s]\n",
            "Epoch 1341\n"
          ]
        },
        {
          "metadata": {
            "tags": null
          },
          "name": "stdout",
          "output_type": "stream",
          "text": [
            "\tVal Dist 110.9710\t\n"
          ]
        },
        {
          "metadata": {
            "tags": null
          },
          "name": "stderr",
          "output_type": "stream",
          "text": [
            "Train: 100%|██████████| 82/82 [00:34<00:00,  2.40it/s]\n",
            "Epoch 1342\n",
            "Train: 100%|██████████| 82/82 [00:29<00:00,  2.76it/s]\n",
            "Epoch 1343\n",
            "Train: 100%|██████████| 82/82 [00:33<00:00,  2.46it/s]\n",
            "Epoch 1344\n",
            "Train: 100%|██████████| 82/82 [00:29<00:00,  2.76it/s]\n",
            "Epoch 1345\n",
            "Train: 100%|██████████| 82/82 [00:34<00:00,  2.38it/s]\n",
            "Epoch 1346\n",
            "Train: 100%|██████████| 82/82 [00:30<00:00,  2.73it/s]\n",
            "Epoch 1347\n",
            "Train: 100%|██████████| 82/82 [00:34<00:00,  2.39it/s]\n",
            "Epoch 1348\n",
            "Train: 100%|██████████| 82/82 [00:29<00:00,  2.77it/s]\n",
            "Epoch 1349\n",
            "Train: 100%|██████████| 82/82 [00:33<00:00,  2.48it/s]\n",
            "Epoch 1350\n",
            "Train: 100%|██████████| 82/82 [00:29<00:00,  2.78it/s]\n",
            "Eval: 100%|██████████| 7/7 [00:02<00:00,  2.95it/s]\n",
            "Epoch 1351\n"
          ]
        },
        {
          "metadata": {
            "tags": null
          },
          "name": "stdout",
          "output_type": "stream",
          "text": [
            "Saved model\n",
            "\tVal Dist 106.4290\t\n"
          ]
        },
        {
          "metadata": {
            "tags": null
          },
          "name": "stderr",
          "output_type": "stream",
          "text": [
            "Train: 100%|██████████| 82/82 [00:32<00:00,  2.49it/s]\n",
            "Epoch 1352\n",
            "Train: 100%|██████████| 82/82 [00:31<00:00,  2.63it/s]\n",
            "Epoch 1353\n",
            "Train: 100%|██████████| 82/82 [00:33<00:00,  2.45it/s]\n",
            "Epoch 1354\n",
            "Train: 100%|██████████| 82/82 [00:29<00:00,  2.77it/s]\n",
            "Epoch 1355\n",
            "Train: 100%|██████████| 82/82 [00:33<00:00,  2.46it/s]\n",
            "Epoch 1356\n",
            "Train: 100%|██████████| 82/82 [00:30<00:00,  2.73it/s]\n",
            "Epoch 1357\n",
            "Train: 100%|██████████| 82/82 [00:32<00:00,  2.49it/s]\n",
            "Epoch 1358\n",
            "Train: 100%|██████████| 82/82 [00:31<00:00,  2.57it/s]\n",
            "Epoch 1359\n",
            "Train: 100%|██████████| 82/82 [00:33<00:00,  2.47it/s]\n",
            "Epoch 1360\n",
            "Train: 100%|██████████| 82/82 [00:29<00:00,  2.73it/s]\n",
            "Eval: 100%|██████████| 7/7 [00:02<00:00,  2.94it/s]\n",
            "Epoch 1361\n"
          ]
        },
        {
          "metadata": {
            "tags": null
          },
          "name": "stdout",
          "output_type": "stream",
          "text": [
            "Saved model\n",
            "\tVal Dist 105.4930\t\n"
          ]
        },
        {
          "metadata": {
            "tags": null
          },
          "name": "stderr",
          "output_type": "stream",
          "text": [
            "Train: 100%|██████████| 82/82 [00:33<00:00,  2.47it/s]\n",
            "Epoch 1362\n",
            "Train: 100%|██████████| 82/82 [00:29<00:00,  2.78it/s]\n",
            "Epoch 1363\n",
            "Train: 100%|██████████| 82/82 [00:33<00:00,  2.44it/s]\n",
            "Epoch 1364\n",
            "Train: 100%|██████████| 82/82 [00:31<00:00,  2.62it/s]\n",
            "Epoch 1365\n",
            "Train: 100%|██████████| 82/82 [00:33<00:00,  2.47it/s]\n",
            "Epoch 1366\n",
            "Train: 100%|██████████| 82/82 [00:30<00:00,  2.72it/s]\n",
            "Epoch 1367\n",
            "Train: 100%|██████████| 82/82 [00:33<00:00,  2.44it/s]\n",
            "Epoch 1368\n",
            "Train: 100%|██████████| 82/82 [00:30<00:00,  2.72it/s]\n",
            "Epoch 1369\n",
            "Train: 100%|██████████| 82/82 [00:33<00:00,  2.44it/s]\n",
            "Epoch 1370\n",
            "Train: 100%|██████████| 82/82 [00:31<00:00,  2.60it/s]\n",
            "Eval: 100%|██████████| 7/7 [00:03<00:00,  2.00it/s]\n",
            "Epoch 1371\n"
          ]
        },
        {
          "metadata": {
            "tags": null
          },
          "name": "stdout",
          "output_type": "stream",
          "text": [
            "\tVal Dist 105.5580\t\n"
          ]
        },
        {
          "metadata": {
            "tags": null
          },
          "name": "stderr",
          "output_type": "stream",
          "text": [
            "Train: 100%|██████████| 82/82 [00:32<00:00,  2.49it/s]\n",
            "Epoch 1372\n",
            "Train: 100%|██████████| 82/82 [00:29<00:00,  2.75it/s]\n",
            "Epoch 1373\n",
            "Train: 100%|██████████| 82/82 [00:33<00:00,  2.47it/s]\n",
            "Epoch 1374\n",
            "Train: 100%|██████████| 82/82 [00:29<00:00,  2.76it/s]\n",
            "Epoch 1375\n",
            "Train: 100%|██████████| 82/82 [00:32<00:00,  2.50it/s]\n",
            "Epoch 1376\n",
            "Train: 100%|██████████| 82/82 [00:30<00:00,  2.68it/s]\n",
            "Epoch 1377\n",
            "Train: 100%|██████████| 82/82 [00:32<00:00,  2.48it/s]\n",
            "Epoch 1378\n",
            "Train: 100%|██████████| 82/82 [00:29<00:00,  2.81it/s]\n",
            "Epoch 1379\n",
            "Train: 100%|██████████| 82/82 [00:33<00:00,  2.44it/s]\n",
            "Epoch 1380\n",
            "Train: 100%|██████████| 82/82 [00:29<00:00,  2.80it/s]\n",
            "Eval: 100%|██████████| 7/7 [00:02<00:00,  2.56it/s]\n",
            "Epoch 1381\n"
          ]
        },
        {
          "metadata": {
            "tags": null
          },
          "name": "stdout",
          "output_type": "stream",
          "text": [
            "\tVal Dist 107.3030\t\n"
          ]
        },
        {
          "metadata": {
            "tags": null
          },
          "name": "stderr",
          "output_type": "stream",
          "text": [
            "Train: 100%|██████████| 82/82 [00:32<00:00,  2.50it/s]\n",
            "Epoch 1382\n",
            "Train: 100%|██████████| 82/82 [00:30<00:00,  2.65it/s]\n",
            "Epoch 1383\n",
            "Train: 100%|██████████| 82/82 [00:32<00:00,  2.52it/s]\n",
            "Epoch 1384\n",
            "Train: 100%|██████████| 82/82 [00:29<00:00,  2.79it/s]\n",
            "Epoch 1385\n",
            "Train: 100%|██████████| 82/82 [00:32<00:00,  2.50it/s]\n",
            "Epoch 1386\n",
            "Train: 100%|██████████| 82/82 [00:29<00:00,  2.76it/s]\n",
            "Epoch 1387\n",
            "Train: 100%|██████████| 82/82 [00:32<00:00,  2.50it/s]\n",
            "Epoch 1388\n",
            "Train: 100%|██████████| 82/82 [00:30<00:00,  2.65it/s]\n",
            "Epoch 1389\n",
            "Train: 100%|██████████| 82/82 [00:33<00:00,  2.44it/s]\n",
            "Epoch 1390\n",
            "Train: 100%|██████████| 82/82 [00:29<00:00,  2.81it/s]\n",
            "Eval: 100%|██████████| 7/7 [00:02<00:00,  2.41it/s]\n",
            "Epoch 1391\n"
          ]
        },
        {
          "metadata": {
            "tags": null
          },
          "name": "stdout",
          "output_type": "stream",
          "text": [
            "\tVal Dist 108.1870\t\n"
          ]
        },
        {
          "metadata": {
            "tags": null
          },
          "name": "stderr",
          "output_type": "stream",
          "text": [
            "Train: 100%|██████████| 82/82 [00:32<00:00,  2.53it/s]\n",
            "Epoch 1392\n",
            "Train: 100%|██████████| 82/82 [00:29<00:00,  2.78it/s]\n",
            "Epoch 1393\n",
            "Train: 100%|██████████| 82/82 [00:32<00:00,  2.51it/s]\n",
            "Epoch 1394\n",
            "Train: 100%|██████████| 82/82 [00:31<00:00,  2.62it/s]\n",
            "Epoch 1395\n",
            "Train: 100%|██████████| 82/82 [00:34<00:00,  2.40it/s]\n",
            "Epoch 1396\n",
            "Train: 100%|██████████| 82/82 [00:29<00:00,  2.76it/s]\n",
            "Epoch 1397\n",
            "Train: 100%|██████████| 82/82 [00:33<00:00,  2.45it/s]\n",
            "Epoch 1398\n",
            "Train: 100%|██████████| 82/82 [00:29<00:00,  2.78it/s]\n",
            "Epoch 1399\n",
            "Train: 100%|██████████| 82/82 [00:33<00:00,  2.42it/s]\n",
            "Epoch 1400\n",
            "Train: 100%|██████████| 82/82 [00:31<00:00,  2.63it/s]\n",
            "Eval: 100%|██████████| 7/7 [00:02<00:00,  3.02it/s]\n",
            "Epoch 1401\n"
          ]
        },
        {
          "metadata": {
            "tags": null
          },
          "name": "stdout",
          "output_type": "stream",
          "text": [
            "\tVal Dist 109.7860\t\n"
          ]
        },
        {
          "metadata": {
            "tags": null
          },
          "name": "stderr",
          "output_type": "stream",
          "text": [
            "Train: 100%|██████████| 82/82 [00:32<00:00,  2.50it/s]\n",
            "Epoch 1402\n",
            "Train: 100%|██████████| 82/82 [00:29<00:00,  2.77it/s]\n",
            "Epoch 1403\n",
            "Train: 100%|██████████| 82/82 [00:33<00:00,  2.48it/s]\n",
            "Epoch 1404\n",
            "Train: 100%|██████████| 82/82 [00:29<00:00,  2.77it/s]\n",
            "Epoch 1405\n",
            "Train: 100%|██████████| 82/82 [00:33<00:00,  2.45it/s]\n",
            "Epoch 1406\n",
            "Train: 100%|██████████| 82/82 [00:30<00:00,  2.66it/s]\n",
            "Epoch 1407\n",
            "Train: 100%|██████████| 82/82 [00:33<00:00,  2.43it/s]\n",
            "Epoch 1408\n",
            "Train: 100%|██████████| 82/82 [00:29<00:00,  2.75it/s]\n",
            "Epoch 1409\n",
            "Train: 100%|██████████| 82/82 [00:33<00:00,  2.46it/s]\n",
            "Epoch 1410\n",
            "Train: 100%|██████████| 82/82 [00:30<00:00,  2.73it/s]\n",
            "Eval: 100%|██████████| 7/7 [00:02<00:00,  2.91it/s]\n",
            "Epoch 1411\n"
          ]
        },
        {
          "metadata": {
            "tags": null
          },
          "name": "stdout",
          "output_type": "stream",
          "text": [
            "\tVal Dist 112.1880\t\n"
          ]
        },
        {
          "metadata": {
            "tags": null
          },
          "name": "stderr",
          "output_type": "stream",
          "text": [
            "Train: 100%|██████████| 82/82 [00:33<00:00,  2.45it/s]\n",
            "Epoch 1412\n",
            "Train: 100%|██████████| 82/82 [00:31<00:00,  2.64it/s]\n",
            "Epoch 1413\n",
            "Train: 100%|██████████| 82/82 [00:35<00:00,  2.34it/s]\n",
            "Epoch 1414\n",
            "Train: 100%|██████████| 82/82 [00:30<00:00,  2.70it/s]\n",
            "Epoch 1415\n",
            "Train: 100%|██████████| 82/82 [00:33<00:00,  2.43it/s]\n",
            "Epoch 1416\n",
            "Train: 100%|██████████| 82/82 [00:30<00:00,  2.71it/s]\n",
            "Epoch 1417\n",
            "Train: 100%|██████████| 82/82 [00:33<00:00,  2.44it/s]\n",
            "Epoch 1418\n",
            "Train: 100%|██████████| 82/82 [00:30<00:00,  2.69it/s]\n",
            "Epoch 1419\n",
            "Train: 100%|██████████| 82/82 [00:34<00:00,  2.38it/s]\n",
            "Epoch 1420\n",
            "Train: 100%|██████████| 82/82 [00:30<00:00,  2.70it/s]\n",
            "Eval: 100%|██████████| 7/7 [00:03<00:00,  2.19it/s]\n",
            "Epoch 1421\n"
          ]
        },
        {
          "metadata": {
            "tags": null
          },
          "name": "stdout",
          "output_type": "stream",
          "text": [
            "\tVal Dist 106.7050\t\n"
          ]
        },
        {
          "metadata": {
            "tags": null
          },
          "name": "stderr",
          "output_type": "stream",
          "text": [
            "Train: 100%|██████████| 82/82 [00:33<00:00,  2.42it/s]\n",
            "Epoch 1422\n",
            "Train: 100%|██████████| 82/82 [00:30<00:00,  2.70it/s]\n",
            "Epoch 1423\n",
            "Train: 100%|██████████| 82/82 [00:33<00:00,  2.45it/s]\n",
            "Epoch 1424\n",
            "Train: 100%|██████████| 82/82 [00:30<00:00,  2.70it/s]\n",
            "Epoch 1425\n",
            "Train: 100%|██████████| 82/82 [00:34<00:00,  2.36it/s]\n",
            "Epoch 1426\n",
            "Train: 100%|██████████| 82/82 [00:29<00:00,  2.73it/s]\n",
            "Epoch 1427\n",
            "Train: 100%|██████████| 82/82 [00:32<00:00,  2.50it/s]\n",
            "Epoch 1428\n",
            "Train: 100%|██████████| 82/82 [00:29<00:00,  2.74it/s]\n",
            "Epoch 1429\n",
            "Train: 100%|██████████| 82/82 [00:33<00:00,  2.42it/s]\n",
            "Epoch 1430\n",
            "Train: 100%|██████████| 82/82 [00:29<00:00,  2.78it/s]\n",
            "Eval: 100%|██████████| 7/7 [00:03<00:00,  2.30it/s]\n",
            "Epoch 1431\n"
          ]
        },
        {
          "metadata": {
            "tags": null
          },
          "name": "stdout",
          "output_type": "stream",
          "text": [
            "\tVal Dist 106.7480\t\n"
          ]
        },
        {
          "metadata": {
            "tags": null
          },
          "name": "stderr",
          "output_type": "stream",
          "text": [
            "Train: 100%|██████████| 82/82 [00:34<00:00,  2.38it/s]\n",
            "Epoch 1432\n",
            "Train: 100%|██████████| 82/82 [00:29<00:00,  2.75it/s]\n",
            "Epoch 1433\n",
            "Train: 100%|██████████| 82/82 [00:33<00:00,  2.48it/s]\n",
            "Epoch 1434\n",
            "Train: 100%|██████████| 82/82 [00:29<00:00,  2.78it/s]\n",
            "Epoch 1435\n",
            "Train: 100%|██████████| 82/82 [00:32<00:00,  2.50it/s]\n",
            "Epoch 1436\n",
            "Train: 100%|██████████| 82/82 [00:29<00:00,  2.77it/s]\n",
            "Epoch 1437\n",
            "Train: 100%|██████████| 82/82 [00:34<00:00,  2.37it/s]\n",
            "Epoch 1438\n",
            "Train: 100%|██████████| 82/82 [00:29<00:00,  2.78it/s]\n",
            "Epoch 1439\n",
            "Train: 100%|██████████| 82/82 [00:33<00:00,  2.43it/s]\n",
            "Epoch 1440\n",
            "Train: 100%|██████████| 82/82 [00:29<00:00,  2.77it/s]\n",
            "Eval: 100%|██████████| 7/7 [00:03<00:00,  2.14it/s]\n",
            "Epoch 1441\n"
          ]
        },
        {
          "metadata": {
            "tags": null
          },
          "name": "stdout",
          "output_type": "stream",
          "text": [
            "\tVal Dist 107.6450\t\n"
          ]
        },
        {
          "metadata": {
            "tags": null
          },
          "name": "stderr",
          "output_type": "stream",
          "text": [
            "Train: 100%|██████████| 82/82 [00:33<00:00,  2.48it/s]\n",
            "Epoch 1442\n",
            "Train: 100%|██████████| 82/82 [00:29<00:00,  2.78it/s]\n",
            "Epoch 1443\n",
            "Train: 100%|██████████| 82/82 [00:33<00:00,  2.46it/s]\n",
            "Epoch 1444\n",
            "Train: 100%|██████████| 82/82 [00:30<00:00,  2.67it/s]\n",
            "Epoch 1445\n",
            "Train: 100%|██████████| 82/82 [00:33<00:00,  2.48it/s]\n",
            "Epoch 1446\n",
            "Train: 100%|██████████| 82/82 [00:29<00:00,  2.75it/s]\n",
            "Epoch 1447\n",
            "Train: 100%|██████████| 82/82 [00:34<00:00,  2.40it/s]\n",
            "Epoch 1448\n",
            "Train: 100%|██████████| 82/82 [00:29<00:00,  2.76it/s]\n",
            "Epoch 1449\n",
            "Train: 100%|██████████| 82/82 [00:33<00:00,  2.44it/s]\n",
            "Epoch 1450\n",
            "Train: 100%|██████████| 82/82 [00:30<00:00,  2.66it/s]\n",
            "Eval: 100%|██████████| 7/7 [00:02<00:00,  2.97it/s]\n",
            "Epoch 1451\n"
          ]
        },
        {
          "metadata": {
            "tags": null
          },
          "name": "stdout",
          "output_type": "stream",
          "text": [
            "\tVal Dist 106.1250\t\n"
          ]
        },
        {
          "metadata": {
            "tags": null
          },
          "name": "stderr",
          "output_type": "stream",
          "text": [
            "Train: 100%|██████████| 82/82 [00:32<00:00,  2.49it/s]\n",
            "Epoch 1452\n",
            "Train: 100%|██████████| 82/82 [00:29<00:00,  2.78it/s]\n",
            "Epoch 1453\n",
            "Train: 100%|██████████| 82/82 [00:32<00:00,  2.50it/s]\n",
            "Epoch 1454\n",
            "Train: 100%|██████████| 82/82 [00:29<00:00,  2.76it/s]\n",
            "Epoch 1455\n",
            "Train: 100%|██████████| 82/82 [00:33<00:00,  2.42it/s]\n",
            "Epoch 1456\n",
            "Train: 100%|██████████| 82/82 [00:29<00:00,  2.75it/s]\n",
            "Epoch 1457\n",
            "Train: 100%|██████████| 82/82 [00:34<00:00,  2.38it/s]\n",
            "Epoch 1458\n",
            "Train: 100%|██████████| 82/82 [00:29<00:00,  2.79it/s]\n",
            "Epoch 1459\n",
            "Train: 100%|██████████| 82/82 [00:33<00:00,  2.48it/s]\n",
            "Epoch 1460\n",
            "Train: 100%|██████████| 82/82 [00:29<00:00,  2.82it/s]\n",
            "Eval: 100%|██████████| 7/7 [00:02<00:00,  3.01it/s]\n",
            "Epoch 1461\n"
          ]
        },
        {
          "metadata": {
            "tags": null
          },
          "name": "stdout",
          "output_type": "stream",
          "text": [
            "\tVal Dist 109.1320\t\n"
          ]
        },
        {
          "metadata": {
            "tags": null
          },
          "name": "stderr",
          "output_type": "stream",
          "text": [
            "Train: 100%|██████████| 82/82 [00:32<00:00,  2.55it/s]\n",
            "Epoch 1462\n",
            "Train: 100%|██████████| 82/82 [00:28<00:00,  2.89it/s]\n",
            "Epoch 1463\n",
            "Train: 100%|██████████| 82/82 [00:33<00:00,  2.48it/s]\n",
            "Epoch 1464\n",
            "Train: 100%|██████████| 82/82 [00:28<00:00,  2.89it/s]\n",
            "Epoch 1465\n",
            "Train: 100%|██████████| 82/82 [00:31<00:00,  2.59it/s]\n",
            "Epoch 1466\n",
            "Train: 100%|██████████| 82/82 [00:28<00:00,  2.90it/s]\n",
            "Epoch 1467\n",
            "Train: 100%|██████████| 82/82 [00:31<00:00,  2.58it/s]\n",
            "Epoch 1468\n",
            "Train: 100%|██████████| 82/82 [00:27<00:00,  2.93it/s]\n",
            "Epoch 1469\n",
            "Train: 100%|██████████| 82/82 [00:31<00:00,  2.60it/s]\n",
            "Epoch 1470\n",
            "Train: 100%|██████████| 82/82 [00:29<00:00,  2.77it/s]\n",
            "Eval: 100%|██████████| 7/7 [00:02<00:00,  2.56it/s]\n",
            "Epoch 1471\n"
          ]
        },
        {
          "metadata": {
            "tags": null
          },
          "name": "stdout",
          "output_type": "stream",
          "text": [
            "\tVal Dist 106.2560\t\n"
          ]
        },
        {
          "metadata": {
            "tags": null
          },
          "name": "stderr",
          "output_type": "stream",
          "text": [
            "Train: 100%|██████████| 82/82 [00:31<00:00,  2.57it/s]\n",
            "Epoch 1472\n",
            "Train: 100%|██████████| 82/82 [00:27<00:00,  2.99it/s]\n",
            "Epoch 1473\n",
            "Train: 100%|██████████| 82/82 [00:32<00:00,  2.55it/s]\n",
            "Epoch 1474\n",
            "Train: 100%|██████████| 82/82 [00:27<00:00,  2.94it/s]\n",
            "Epoch 1475\n",
            "Train: 100%|██████████| 82/82 [00:31<00:00,  2.58it/s]\n",
            "Epoch 1476\n",
            "Train: 100%|██████████| 82/82 [00:27<00:00,  2.95it/s]\n",
            "Epoch 1477\n",
            "Train: 100%|██████████| 82/82 [00:32<00:00,  2.51it/s]\n",
            "Epoch 1478\n",
            "Train: 100%|██████████| 82/82 [00:28<00:00,  2.90it/s]\n",
            "Epoch 1479\n",
            "Train: 100%|██████████| 82/82 [00:31<00:00,  2.60it/s]\n",
            "Epoch 1480\n",
            "Train: 100%|██████████| 82/82 [00:27<00:00,  2.94it/s]\n",
            "Eval: 100%|██████████| 7/7 [00:02<00:00,  3.16it/s]\n",
            "Epoch 1481\n"
          ]
        },
        {
          "metadata": {
            "tags": null
          },
          "name": "stdout",
          "output_type": "stream",
          "text": [
            "\tVal Dist 109.9130\t\n"
          ]
        },
        {
          "metadata": {
            "tags": null
          },
          "name": "stderr",
          "output_type": "stream",
          "text": [
            "Train: 100%|██████████| 82/82 [00:31<00:00,  2.63it/s]\n",
            "Epoch 1482\n",
            "Train: 100%|██████████| 82/82 [00:28<00:00,  2.90it/s]\n",
            "Epoch 1483\n",
            "Train: 100%|██████████| 82/82 [00:31<00:00,  2.58it/s]\n",
            "Epoch 1484\n",
            "Train: 100%|██████████| 82/82 [00:28<00:00,  2.92it/s]\n",
            "Epoch 1485\n",
            "Train: 100%|██████████| 82/82 [00:31<00:00,  2.60it/s]\n",
            "Epoch 1486\n",
            "Train: 100%|██████████| 82/82 [00:29<00:00,  2.76it/s]\n",
            "Epoch 1487\n",
            "Train: 100%|██████████| 82/82 [00:31<00:00,  2.61it/s]\n",
            "Epoch 1488\n",
            "Train: 100%|██████████| 82/82 [00:27<00:00,  2.94it/s]\n",
            "Epoch 1489\n",
            "Train: 100%|██████████| 82/82 [00:31<00:00,  2.63it/s]\n",
            "Epoch 1490\n",
            "Train: 100%|██████████| 82/82 [00:28<00:00,  2.89it/s]\n",
            "Eval: 100%|██████████| 7/7 [00:02<00:00,  2.77it/s]\n",
            "Epoch 1491\n"
          ]
        },
        {
          "metadata": {
            "tags": null
          },
          "name": "stdout",
          "output_type": "stream",
          "text": [
            "Saved model\n",
            "\tVal Dist 103.5760\t\n"
          ]
        },
        {
          "metadata": {
            "tags": null
          },
          "name": "stderr",
          "output_type": "stream",
          "text": [
            "Train: 100%|██████████| 82/82 [00:32<00:00,  2.54it/s]\n",
            "Epoch 1492\n",
            "Train: 100%|██████████| 82/82 [00:27<00:00,  3.00it/s]\n",
            "Epoch 1493\n",
            "Train: 100%|██████████| 82/82 [00:33<00:00,  2.47it/s]\n",
            "Epoch 1494\n",
            "Train: 100%|██████████| 82/82 [00:28<00:00,  2.91it/s]\n",
            "Epoch 1495\n",
            "Train: 100%|██████████| 82/82 [00:31<00:00,  2.58it/s]\n",
            "Epoch 1496\n",
            "Train: 100%|██████████| 82/82 [00:28<00:00,  2.90it/s]\n",
            "Epoch 1497\n",
            "Train: 100%|██████████| 82/82 [00:31<00:00,  2.58it/s]\n",
            "Epoch 1498\n",
            "Train: 100%|██████████| 82/82 [00:28<00:00,  2.86it/s]\n",
            "Epoch 1499\n",
            "Train: 100%|██████████| 82/82 [00:32<00:00,  2.55it/s]\n",
            "Epoch 1500\n",
            "Train: 100%|██████████| 82/82 [00:29<00:00,  2.76it/s]\n",
            "Eval: 100%|██████████| 7/7 [00:02<00:00,  3.16it/s]\n",
            "Epoch 1501\n"
          ]
        },
        {
          "metadata": {
            "tags": null
          },
          "name": "stdout",
          "output_type": "stream",
          "text": [
            "\tVal Dist 107.2920\t\n"
          ]
        },
        {
          "metadata": {
            "tags": null
          },
          "name": "stderr",
          "output_type": "stream",
          "text": [
            "Train: 100%|██████████| 82/82 [00:31<00:00,  2.60it/s]\n",
            "Epoch 1502\n",
            "Train: 100%|██████████| 82/82 [00:28<00:00,  2.90it/s]\n",
            "Epoch 1503\n",
            "Train: 100%|██████████| 82/82 [00:31<00:00,  2.60it/s]\n",
            "Epoch 1504\n",
            "Train: 100%|██████████| 82/82 [00:28<00:00,  2.92it/s]\n",
            "Epoch 1505\n",
            "Train: 100%|██████████| 82/82 [00:33<00:00,  2.47it/s]\n",
            "Epoch 1506\n",
            "Train: 100%|██████████| 82/82 [00:28<00:00,  2.85it/s]\n",
            "Epoch 1507\n",
            "Train: 100%|██████████| 82/82 [00:31<00:00,  2.58it/s]\n",
            "Epoch 1508\n",
            "Train: 100%|██████████| 82/82 [00:28<00:00,  2.90it/s]\n",
            "Epoch 1509\n",
            "Train: 100%|██████████| 82/82 [00:31<00:00,  2.59it/s]\n",
            "Epoch 1510\n",
            "Train: 100%|██████████| 82/82 [00:28<00:00,  2.89it/s]\n",
            "Eval: 100%|██████████| 7/7 [00:02<00:00,  2.89it/s]\n",
            "Epoch 1511\n"
          ]
        },
        {
          "metadata": {
            "tags": null
          },
          "name": "stdout",
          "output_type": "stream",
          "text": [
            "\tVal Dist 107.4130\t\n"
          ]
        },
        {
          "metadata": {
            "tags": null
          },
          "name": "stderr",
          "output_type": "stream",
          "text": [
            "Train: 100%|██████████| 82/82 [00:32<00:00,  2.55it/s]\n",
            "Epoch 1512\n",
            "Train: 100%|██████████| 82/82 [00:29<00:00,  2.77it/s]\n",
            "Epoch 1513\n",
            "Train: 100%|██████████| 82/82 [00:32<00:00,  2.55it/s]\n",
            "Epoch 1514\n",
            "Train: 100%|██████████| 82/82 [00:28<00:00,  2.88it/s]\n",
            "Epoch 1515\n",
            "Train: 100%|██████████| 82/82 [00:31<00:00,  2.58it/s]\n",
            "Epoch 1516\n",
            "Train: 100%|██████████| 82/82 [00:28<00:00,  2.91it/s]\n",
            "Epoch 1517\n",
            "Train: 100%|██████████| 82/82 [00:31<00:00,  2.61it/s]\n",
            "Epoch 1518\n",
            "Train: 100%|██████████| 82/82 [00:28<00:00,  2.87it/s]\n",
            "Epoch 1519\n",
            "Train: 100%|██████████| 82/82 [00:32<00:00,  2.51it/s]\n",
            "Epoch 1520\n",
            "Train: 100%|██████████| 82/82 [00:28<00:00,  2.93it/s]\n",
            "Eval: 100%|██████████| 7/7 [00:02<00:00,  3.16it/s]\n",
            "Epoch 1521\n"
          ]
        },
        {
          "metadata": {
            "tags": null
          },
          "name": "stdout",
          "output_type": "stream",
          "text": [
            "\tVal Dist 104.2070\t\n"
          ]
        },
        {
          "metadata": {
            "tags": null
          },
          "name": "stderr",
          "output_type": "stream",
          "text": [
            "Train: 100%|██████████| 82/82 [00:31<00:00,  2.62it/s]\n",
            "Epoch 1522\n",
            "Train: 100%|██████████| 82/82 [00:28<00:00,  2.88it/s]\n",
            "Epoch 1523\n",
            "Train: 100%|██████████| 82/82 [00:33<00:00,  2.48it/s]\n",
            "Epoch 1524\n",
            "Train: 100%|██████████| 82/82 [00:28<00:00,  2.89it/s]\n",
            "Epoch 1525\n",
            "Train: 100%|██████████| 82/82 [00:31<00:00,  2.58it/s]\n",
            "Epoch 1526\n",
            "Train: 100%|██████████| 82/82 [00:28<00:00,  2.86it/s]\n",
            "Epoch 1527\n",
            "Train: 100%|██████████| 82/82 [00:31<00:00,  2.58it/s]\n",
            "Epoch 1528\n",
            "Train: 100%|██████████| 82/82 [00:28<00:00,  2.89it/s]\n",
            "Epoch 1529\n",
            "Train: 100%|██████████| 82/82 [00:31<00:00,  2.60it/s]\n",
            "Epoch 1530\n",
            "Train: 100%|██████████| 82/82 [00:29<00:00,  2.77it/s]\n",
            "Eval: 100%|██████████| 7/7 [00:03<00:00,  2.28it/s]\n",
            "Epoch 1531\n"
          ]
        },
        {
          "metadata": {
            "tags": null
          },
          "name": "stdout",
          "output_type": "stream",
          "text": [
            "Saved model\n",
            "\tVal Dist 101.4890\t\n"
          ]
        },
        {
          "metadata": {
            "tags": null
          },
          "name": "stderr",
          "output_type": "stream",
          "text": [
            "Train: 100%|██████████| 82/82 [00:31<00:00,  2.58it/s]\n",
            "Epoch 1532\n",
            "Train: 100%|██████████| 82/82 [00:28<00:00,  2.92it/s]\n",
            "Epoch 1533\n",
            "Train: 100%|██████████| 82/82 [00:31<00:00,  2.59it/s]\n",
            "Epoch 1534\n",
            "Train: 100%|██████████| 82/82 [00:28<00:00,  2.86it/s]\n",
            "Epoch 1535\n",
            "Train: 100%|██████████| 82/82 [00:31<00:00,  2.60it/s]\n",
            "Epoch 1536\n",
            "Train: 100%|██████████| 82/82 [00:28<00:00,  2.91it/s]\n",
            "Epoch 1537\n",
            "Train: 100%|██████████| 82/82 [00:32<00:00,  2.49it/s]\n",
            "Epoch 1538\n",
            "Train: 100%|██████████| 82/82 [00:28<00:00,  2.89it/s]\n",
            "Epoch 1539\n",
            "Train: 100%|██████████| 82/82 [00:31<00:00,  2.60it/s]\n",
            "Epoch 1540\n",
            "Train: 100%|██████████| 82/82 [00:27<00:00,  2.94it/s]\n",
            "Eval: 100%|██████████| 7/7 [00:02<00:00,  3.16it/s]\n",
            "Epoch 1541\n"
          ]
        },
        {
          "metadata": {
            "tags": null
          },
          "name": "stdout",
          "output_type": "stream",
          "text": [
            "Saved model\n",
            "\tVal Dist 94.2100\t\n"
          ]
        },
        {
          "metadata": {
            "tags": null
          },
          "name": "stderr",
          "output_type": "stream",
          "text": [
            "Train: 100%|██████████| 82/82 [00:31<00:00,  2.62it/s]\n",
            "Epoch 1542\n",
            "Train: 100%|██████████| 82/82 [00:28<00:00,  2.87it/s]\n",
            "Epoch 1543\n",
            "Train: 100%|██████████| 82/82 [00:31<00:00,  2.60it/s]\n",
            "Epoch 1544\n",
            "Train: 100%|██████████| 82/82 [00:29<00:00,  2.76it/s]\n",
            "Epoch 1545\n",
            "Train: 100%|██████████| 82/82 [00:31<00:00,  2.57it/s]\n",
            "Epoch 1546\n",
            "Train: 100%|██████████| 82/82 [00:28<00:00,  2.88it/s]\n",
            "Epoch 1547\n",
            "Train: 100%|██████████| 82/82 [00:31<00:00,  2.56it/s]\n",
            "Epoch 1548\n",
            "Train: 100%|██████████| 82/82 [00:28<00:00,  2.87it/s]\n",
            "Epoch 1549\n",
            "Train: 100%|██████████| 82/82 [00:31<00:00,  2.57it/s]\n",
            "Epoch 1550\n",
            "Train: 100%|██████████| 82/82 [00:28<00:00,  2.88it/s]\n",
            "Eval: 100%|██████████| 7/7 [00:03<00:00,  2.20it/s]\n",
            "Epoch 1551\n"
          ]
        },
        {
          "metadata": {
            "tags": null
          },
          "name": "stdout",
          "output_type": "stream",
          "text": [
            "\tVal Dist 108.7040\t\n"
          ]
        },
        {
          "metadata": {
            "tags": null
          },
          "name": "stderr",
          "output_type": "stream",
          "text": [
            "Train: 100%|██████████| 82/82 [00:33<00:00,  2.45it/s]\n",
            "Epoch 1552\n",
            "Train: 100%|██████████| 82/82 [00:28<00:00,  2.86it/s]\n",
            "Epoch 1553\n",
            "Train: 100%|██████████| 82/82 [00:32<00:00,  2.53it/s]\n",
            "Epoch 1554\n",
            "Train: 100%|██████████| 82/82 [00:29<00:00,  2.79it/s]\n",
            "Epoch 1555\n",
            "Train: 100%|██████████| 82/82 [00:31<00:00,  2.58it/s]\n",
            "Epoch 1556\n",
            "Train: 100%|██████████| 82/82 [00:28<00:00,  2.86it/s]\n",
            "Epoch 1557\n",
            "Train: 100%|██████████| 82/82 [00:32<00:00,  2.53it/s]\n",
            "Epoch 1558\n",
            "Train: 100%|██████████| 82/82 [00:30<00:00,  2.73it/s]\n",
            "Epoch 1559\n",
            "Train: 100%|██████████| 82/82 [00:31<00:00,  2.57it/s]\n",
            "Epoch 1560\n",
            "Train: 100%|██████████| 82/82 [00:28<00:00,  2.87it/s]\n",
            "Eval: 100%|██████████| 7/7 [00:02<00:00,  2.86it/s]\n",
            "Epoch 1561\n"
          ]
        },
        {
          "metadata": {
            "tags": null
          },
          "name": "stdout",
          "output_type": "stream",
          "text": [
            "\tVal Dist 95.7550\t\n"
          ]
        },
        {
          "metadata": {
            "tags": null
          },
          "name": "stderr",
          "output_type": "stream",
          "text": [
            "Train: 100%|██████████| 82/82 [00:32<00:00,  2.51it/s]\n",
            "Epoch 1562\n",
            "Train: 100%|██████████| 82/82 [00:28<00:00,  2.85it/s]\n",
            "Epoch 1563\n",
            "Train: 100%|██████████| 82/82 [00:33<00:00,  2.47it/s]\n",
            "Epoch 1564\n",
            "Train: 100%|██████████| 82/82 [00:28<00:00,  2.89it/s]\n",
            "Epoch 1565\n",
            "Train: 100%|██████████| 82/82 [00:32<00:00,  2.49it/s]\n",
            "Epoch 1566\n",
            "Train: 100%|██████████| 82/82 [00:28<00:00,  2.86it/s]\n",
            "Epoch 1567\n",
            "Train: 100%|██████████| 82/82 [00:32<00:00,  2.55it/s]\n",
            "Epoch 1568\n",
            "Train: 100%|██████████| 82/82 [00:28<00:00,  2.86it/s]\n",
            "Epoch 1569\n",
            "Train: 100%|██████████| 82/82 [00:32<00:00,  2.54it/s]\n",
            "Epoch 1570\n",
            "Train: 100%|██████████| 82/82 [00:28<00:00,  2.87it/s]\n",
            "Eval: 100%|██████████| 7/7 [00:02<00:00,  3.09it/s]\n",
            "Epoch 1571\n"
          ]
        },
        {
          "metadata": {
            "tags": null
          },
          "name": "stdout",
          "output_type": "stream",
          "text": [
            "Saved model\n",
            "\tVal Dist 91.1340\t\n"
          ]
        },
        {
          "metadata": {
            "tags": null
          },
          "name": "stderr",
          "output_type": "stream",
          "text": [
            "Train: 100%|██████████| 82/82 [00:32<00:00,  2.56it/s]\n",
            "Epoch 1572\n",
            "Train: 100%|██████████| 82/82 [00:28<00:00,  2.88it/s]\n",
            "Epoch 1573\n",
            "Train: 100%|██████████| 82/82 [00:33<00:00,  2.44it/s]\n",
            "Epoch 1574\n",
            "Train: 100%|██████████| 82/82 [00:28<00:00,  2.91it/s]\n",
            "Epoch 1575\n",
            "Train: 100%|██████████| 82/82 [00:32<00:00,  2.53it/s]\n",
            "Epoch 1576\n",
            "Train: 100%|██████████| 82/82 [00:28<00:00,  2.91it/s]\n",
            "Epoch 1577\n",
            "Train: 100%|██████████| 82/82 [00:33<00:00,  2.47it/s]\n",
            "Epoch 1578\n",
            "Train: 100%|██████████| 82/82 [00:27<00:00,  2.93it/s]\n",
            "Epoch 1579\n",
            "Train: 100%|██████████| 82/82 [00:32<00:00,  2.53it/s]\n",
            "Epoch 1580\n",
            "Train: 100%|██████████| 82/82 [00:29<00:00,  2.76it/s]\n",
            "Eval: 100%|██████████| 7/7 [00:02<00:00,  3.11it/s]\n",
            "Epoch 1581\n"
          ]
        },
        {
          "metadata": {
            "tags": null
          },
          "name": "stdout",
          "output_type": "stream",
          "text": [
            "Saved model\n",
            "\tVal Dist 86.3890\t\n"
          ]
        },
        {
          "metadata": {
            "tags": null
          },
          "name": "stderr",
          "output_type": "stream",
          "text": [
            "Train: 100%|██████████| 82/82 [00:32<00:00,  2.53it/s]\n",
            "Epoch 1582\n",
            "Train: 100%|██████████| 82/82 [00:28<00:00,  2.87it/s]\n",
            "Epoch 1583\n",
            "Train: 100%|██████████| 82/82 [00:32<00:00,  2.56it/s]\n",
            "Epoch 1584\n",
            "Train: 100%|██████████| 82/82 [00:28<00:00,  2.84it/s]\n",
            "Epoch 1585\n",
            "Train: 100%|██████████| 82/82 [00:32<00:00,  2.51it/s]\n",
            "Epoch 1586\n",
            "Train: 100%|██████████| 82/82 [00:29<00:00,  2.82it/s]\n",
            "Epoch 1587\n",
            "Train: 100%|██████████| 82/82 [00:34<00:00,  2.41it/s]\n",
            "Epoch 1588\n",
            "Train: 100%|██████████| 82/82 [00:28<00:00,  2.85it/s]\n",
            "Epoch 1589\n",
            "Train: 100%|██████████| 82/82 [00:33<00:00,  2.45it/s]\n",
            "Epoch 1590\n",
            "Train: 100%|██████████| 82/82 [00:28<00:00,  2.87it/s]\n",
            "Eval: 100%|██████████| 7/7 [00:02<00:00,  2.53it/s]\n",
            "Epoch 1591\n"
          ]
        },
        {
          "metadata": {
            "tags": null
          },
          "name": "stdout",
          "output_type": "stream",
          "text": [
            "Saved model\n",
            "\tVal Dist 86.3550\t\n"
          ]
        },
        {
          "metadata": {
            "tags": null
          },
          "name": "stderr",
          "output_type": "stream",
          "text": [
            "Train: 100%|██████████| 82/82 [00:32<00:00,  2.55it/s]\n",
            "Epoch 1592\n",
            "Train: 100%|██████████| 82/82 [00:28<00:00,  2.83it/s]\n",
            "Epoch 1593\n",
            "Train: 100%|██████████| 82/82 [00:32<00:00,  2.52it/s]\n",
            "Epoch 1594\n",
            "Train: 100%|██████████| 82/82 [00:28<00:00,  2.84it/s]\n",
            "Epoch 1595\n",
            "Train: 100%|██████████| 82/82 [00:33<00:00,  2.43it/s]\n",
            "Epoch 1596\n",
            "Train: 100%|██████████| 82/82 [00:29<00:00,  2.81it/s]\n",
            "Epoch 1597\n",
            "Train: 100%|██████████| 82/82 [00:32<00:00,  2.50it/s]\n",
            "Epoch 1598\n",
            "Train: 100%|██████████| 82/82 [00:29<00:00,  2.83it/s]\n",
            "Epoch 1599\n",
            "Train: 100%|██████████| 82/82 [00:32<00:00,  2.54it/s]\n",
            "Epoch 1600\n",
            "Train: 100%|██████████| 82/82 [00:30<00:00,  2.72it/s]\n",
            "Eval: 100%|██████████| 7/7 [00:03<00:00,  2.28it/s]\n",
            "Epoch 1601\n"
          ]
        },
        {
          "metadata": {
            "tags": null
          },
          "name": "stdout",
          "output_type": "stream",
          "text": [
            "\tVal Dist 90.8490\t\n"
          ]
        },
        {
          "metadata": {
            "tags": null
          },
          "name": "stderr",
          "output_type": "stream",
          "text": [
            "Train: 100%|██████████| 82/82 [00:32<00:00,  2.50it/s]\n",
            "Epoch 1602\n",
            "Train: 100%|██████████| 82/82 [00:28<00:00,  2.89it/s]\n",
            "Epoch 1603\n",
            "Train: 100%|██████████| 82/82 [00:31<00:00,  2.59it/s]\n",
            "Epoch 1604\n",
            "Train: 100%|██████████| 82/82 [00:28<00:00,  2.89it/s]\n",
            "Epoch 1605\n",
            "Train: 100%|██████████| 82/82 [00:31<00:00,  2.60it/s]\n",
            "Epoch 1606\n",
            "Train: 100%|██████████| 82/82 [00:28<00:00,  2.91it/s]\n",
            "Epoch 1607\n",
            "Train: 100%|██████████| 82/82 [00:33<00:00,  2.45it/s]\n",
            "Epoch 1608\n",
            "Train: 100%|██████████| 82/82 [00:28<00:00,  2.85it/s]\n",
            "Epoch 1609\n",
            "Train: 100%|██████████| 82/82 [00:32<00:00,  2.55it/s]\n",
            "Epoch 1610\n",
            "Train: 100%|██████████| 82/82 [00:28<00:00,  2.85it/s]\n",
            "Eval: 100%|██████████| 7/7 [00:02<00:00,  3.07it/s]\n",
            "Epoch 1611\n"
          ]
        },
        {
          "metadata": {
            "tags": null
          },
          "name": "stdout",
          "output_type": "stream",
          "text": [
            "\tVal Dist 90.9690\t\n"
          ]
        },
        {
          "metadata": {
            "tags": null
          },
          "name": "stderr",
          "output_type": "stream",
          "text": [
            "Train: 100%|██████████| 82/82 [00:33<00:00,  2.43it/s]\n",
            "Epoch 1612\n",
            "Train: 100%|██████████| 82/82 [00:29<00:00,  2.82it/s]\n",
            "Epoch 1613\n",
            "Train: 100%|██████████| 82/82 [00:32<00:00,  2.49it/s]\n",
            "Epoch 1614\n",
            "Train: 100%|██████████| 82/82 [00:28<00:00,  2.88it/s]\n",
            "Epoch 1615\n",
            "Train: 100%|██████████| 82/82 [00:32<00:00,  2.49it/s]\n",
            "Epoch 1616\n",
            "Train: 100%|██████████| 82/82 [00:29<00:00,  2.80it/s]\n",
            "Epoch 1617\n",
            "Train: 100%|██████████| 82/82 [00:32<00:00,  2.53it/s]\n",
            "Epoch 1618\n",
            "Train: 100%|██████████| 82/82 [00:30<00:00,  2.70it/s]\n",
            "Epoch 1619\n",
            "Train: 100%|██████████| 82/82 [00:32<00:00,  2.54it/s]\n",
            "Epoch 1620\n",
            "Train: 100%|██████████| 82/82 [00:29<00:00,  2.80it/s]\n",
            "Eval: 100%|██████████| 7/7 [00:02<00:00,  3.06it/s]\n",
            "Epoch 1621\n"
          ]
        },
        {
          "metadata": {
            "tags": null
          },
          "name": "stdout",
          "output_type": "stream",
          "text": [
            "\tVal Dist 90.6030\t\n"
          ]
        },
        {
          "metadata": {
            "tags": null
          },
          "name": "stderr",
          "output_type": "stream",
          "text": [
            "Train: 100%|██████████| 82/82 [00:31<00:00,  2.57it/s]\n",
            "Epoch 1622\n",
            "Train: 100%|██████████| 82/82 [00:28<00:00,  2.85it/s]\n",
            "Epoch 1623\n",
            "Train: 100%|██████████| 82/82 [00:32<00:00,  2.53it/s]\n",
            "Epoch 1624\n",
            "Train: 100%|██████████| 82/82 [00:29<00:00,  2.79it/s]\n",
            "Epoch 1625\n",
            "Train: 100%|██████████| 82/82 [00:32<00:00,  2.53it/s]\n",
            "Epoch 1626\n",
            "Train: 100%|██████████| 82/82 [00:30<00:00,  2.72it/s]\n",
            "Epoch 1627\n",
            "Train: 100%|██████████| 82/82 [00:33<00:00,  2.47it/s]\n",
            "Epoch 1628\n",
            "Train: 100%|██████████| 82/82 [00:29<00:00,  2.83it/s]\n",
            "Epoch 1629\n",
            "Train: 100%|██████████| 82/82 [00:32<00:00,  2.53it/s]\n",
            "Epoch 1630\n",
            "Train: 100%|██████████| 82/82 [00:28<00:00,  2.83it/s]\n",
            "Eval: 100%|██████████| 7/7 [00:02<00:00,  3.02it/s]\n",
            "Epoch 1631\n"
          ]
        },
        {
          "metadata": {
            "tags": null
          },
          "name": "stdout",
          "output_type": "stream",
          "text": [
            "\tVal Dist 98.1640\t\n"
          ]
        },
        {
          "metadata": {
            "tags": null
          },
          "name": "stderr",
          "output_type": "stream",
          "text": [
            "Train: 100%|██████████| 82/82 [00:32<00:00,  2.54it/s]\n",
            "Epoch 1632\n",
            "Train: 100%|██████████| 82/82 [00:29<00:00,  2.80it/s]\n",
            "Epoch 1633\n",
            "Train: 100%|██████████| 82/82 [00:33<00:00,  2.45it/s]\n",
            "Epoch 1634\n",
            "Train: 100%|██████████| 82/82 [00:29<00:00,  2.81it/s]\n",
            "Epoch 1635\n",
            "Train: 100%|██████████| 82/82 [00:33<00:00,  2.47it/s]\n",
            "Epoch 1636\n",
            "Train: 100%|██████████| 82/82 [00:29<00:00,  2.82it/s]\n",
            "Epoch 1637\n",
            "Train: 100%|██████████| 82/82 [00:33<00:00,  2.48it/s]\n",
            "Epoch 1638\n",
            "Train: 100%|██████████| 82/82 [00:29<00:00,  2.82it/s]\n",
            "Epoch 1639\n",
            "Train: 100%|██████████| 82/82 [00:32<00:00,  2.53it/s]\n",
            "Epoch 1640\n",
            "Train: 100%|██████████| 82/82 [00:29<00:00,  2.80it/s]\n",
            "Eval: 100%|██████████| 7/7 [00:02<00:00,  2.96it/s]\n",
            "Epoch 1641\n"
          ]
        },
        {
          "metadata": {
            "tags": null
          },
          "name": "stdout",
          "output_type": "stream",
          "text": [
            "\tVal Dist 91.6660\t\n"
          ]
        },
        {
          "metadata": {
            "tags": null
          },
          "name": "stderr",
          "output_type": "stream",
          "text": [
            "Train: 100%|██████████| 82/82 [00:33<00:00,  2.47it/s]\n",
            "Epoch 1642\n",
            "Train: 100%|██████████| 82/82 [00:29<00:00,  2.83it/s]\n",
            "Epoch 1643\n",
            "Train: 100%|██████████| 82/82 [00:32<00:00,  2.56it/s]\n",
            "Epoch 1644\n",
            "Train: 100%|██████████| 82/82 [00:29<00:00,  2.77it/s]\n",
            "Epoch 1645\n",
            "Train: 100%|██████████| 82/82 [00:32<00:00,  2.52it/s]\n",
            "Epoch 1646\n",
            "Train: 100%|██████████| 82/82 [00:28<00:00,  2.85it/s]\n",
            "Epoch 1647\n",
            "Train: 100%|██████████| 82/82 [00:32<00:00,  2.49it/s]\n",
            "Epoch 1648\n",
            "Train: 100%|██████████| 82/82 [00:28<00:00,  2.84it/s]\n",
            "Epoch 1649\n",
            "Train: 100%|██████████| 82/82 [00:33<00:00,  2.44it/s]\n",
            "Epoch 1650\n",
            "Train: 100%|██████████| 82/82 [00:28<00:00,  2.84it/s]\n",
            "Eval: 100%|██████████| 7/7 [00:02<00:00,  3.10it/s]\n",
            "Epoch 1651\n"
          ]
        },
        {
          "metadata": {
            "tags": null
          },
          "name": "stdout",
          "output_type": "stream",
          "text": [
            "Saved model\n",
            "\tVal Dist 82.3920\t\n"
          ]
        },
        {
          "metadata": {
            "tags": null
          },
          "name": "stderr",
          "output_type": "stream",
          "text": [
            "Train: 100%|██████████| 82/82 [00:32<00:00,  2.55it/s]\n",
            "Epoch 1652\n",
            "Train: 100%|██████████| 82/82 [00:28<00:00,  2.87it/s]\n",
            "Epoch 1653\n",
            "Train: 100%|██████████| 82/82 [00:31<00:00,  2.58it/s]\n",
            "Epoch 1654\n",
            "Train: 100%|██████████| 82/82 [00:28<00:00,  2.87it/s]\n",
            "Epoch 1655\n",
            "Train: 100%|██████████| 82/82 [00:32<00:00,  2.55it/s]\n",
            "Epoch 1656\n",
            "Train: 100%|██████████| 82/82 [00:28<00:00,  2.84it/s]\n",
            "Epoch 1657\n",
            "Train: 100%|██████████| 82/82 [00:32<00:00,  2.49it/s]\n",
            "Epoch 1658\n",
            "Train: 100%|██████████| 82/82 [00:28<00:00,  2.87it/s]\n",
            "Epoch 1659\n",
            "Train: 100%|██████████| 82/82 [00:32<00:00,  2.50it/s]\n",
            "Epoch 1660\n",
            "Train: 100%|██████████| 82/82 [00:28<00:00,  2.90it/s]\n",
            "Eval: 100%|██████████| 7/7 [00:03<00:00,  2.11it/s]\n",
            "Epoch 1661\n"
          ]
        },
        {
          "metadata": {
            "tags": null
          },
          "name": "stdout",
          "output_type": "stream",
          "text": [
            "Saved model\n",
            "\tVal Dist 80.7500\t\n"
          ]
        },
        {
          "metadata": {
            "tags": null
          },
          "name": "stderr",
          "output_type": "stream",
          "text": [
            "Train: 100%|██████████| 82/82 [00:31<00:00,  2.58it/s]\n",
            "Epoch 1662\n",
            "Train: 100%|██████████| 82/82 [00:28<00:00,  2.87it/s]\n",
            "Epoch 1663\n",
            "Train: 100%|██████████| 82/82 [00:32<00:00,  2.54it/s]\n",
            "Epoch 1664\n",
            "Train: 100%|██████████| 82/82 [00:29<00:00,  2.74it/s]\n",
            "Epoch 1665\n",
            "Train: 100%|██████████| 82/82 [00:31<00:00,  2.57it/s]\n",
            "Epoch 1666\n",
            "Train: 100%|██████████| 82/82 [00:28<00:00,  2.87it/s]\n",
            "Epoch 1667\n",
            "Train: 100%|██████████| 82/82 [00:32<00:00,  2.54it/s]\n",
            "Epoch 1668\n",
            "Train: 100%|██████████| 82/82 [00:28<00:00,  2.88it/s]\n",
            "Epoch 1669\n",
            "Train: 100%|██████████| 82/82 [00:31<00:00,  2.58it/s]\n",
            "Epoch 1670\n",
            "Train: 100%|██████████| 82/82 [00:28<00:00,  2.87it/s]\n",
            "Eval: 100%|██████████| 7/7 [00:02<00:00,  3.10it/s]\n",
            "Epoch 1671\n"
          ]
        },
        {
          "metadata": {
            "tags": null
          },
          "name": "stdout",
          "output_type": "stream",
          "text": [
            "Saved model\n",
            "\tVal Dist 72.5450\t\n"
          ]
        },
        {
          "metadata": {
            "tags": null
          },
          "name": "stderr",
          "output_type": "stream",
          "text": [
            "Train: 100%|██████████| 82/82 [00:32<00:00,  2.52it/s]\n",
            "Epoch 1672\n",
            "Train: 100%|██████████| 82/82 [00:29<00:00,  2.75it/s]\n",
            "Epoch 1673\n",
            "Train: 100%|██████████| 82/82 [00:32<00:00,  2.54it/s]\n",
            "Epoch 1674\n",
            "Train: 100%|██████████| 82/82 [00:28<00:00,  2.89it/s]\n",
            "Epoch 1675\n",
            "Train: 100%|██████████| 82/82 [00:33<00:00,  2.46it/s]\n",
            "Epoch 1676\n",
            "Train: 100%|██████████| 82/82 [00:28<00:00,  2.92it/s]\n",
            "Epoch 1677\n",
            "Train: 100%|██████████| 82/82 [00:32<00:00,  2.52it/s]\n",
            "Epoch 1678\n",
            "Train: 100%|██████████| 82/82 [00:28<00:00,  2.88it/s]\n",
            "Epoch 1679\n",
            "Train: 100%|██████████| 82/82 [00:32<00:00,  2.55it/s]\n",
            "Epoch 1680\n",
            "Train: 100%|██████████| 82/82 [00:29<00:00,  2.73it/s]\n",
            "Eval: 100%|██████████| 7/7 [00:02<00:00,  3.06it/s]\n",
            "Epoch 1681\n"
          ]
        },
        {
          "metadata": {
            "tags": null
          },
          "name": "stdout",
          "output_type": "stream",
          "text": [
            "\tVal Dist 81.0100\t\n"
          ]
        },
        {
          "metadata": {
            "tags": null
          },
          "name": "stderr",
          "output_type": "stream",
          "text": [
            "Train: 100%|██████████| 82/82 [00:31<00:00,  2.59it/s]\n",
            "Epoch 1682\n",
            "Train: 100%|██████████| 82/82 [00:28<00:00,  2.86it/s]\n",
            "Epoch 1683\n",
            "Train: 100%|██████████| 82/82 [00:32<00:00,  2.55it/s]\n",
            "Epoch 1684\n",
            "Train: 100%|██████████| 82/82 [00:28<00:00,  2.87it/s]\n",
            "Epoch 1685\n",
            "Train: 100%|██████████| 82/82 [00:31<00:00,  2.57it/s]\n",
            "Epoch 1686\n",
            "Train: 100%|██████████| 82/82 [00:28<00:00,  2.87it/s]\n",
            "Epoch 1687\n",
            "Train: 100%|██████████| 82/82 [00:32<00:00,  2.54it/s]\n",
            "Epoch 1688\n",
            "Train: 100%|██████████| 82/82 [00:29<00:00,  2.74it/s]\n",
            "Epoch 1689\n",
            "Train: 100%|██████████| 82/82 [00:31<00:00,  2.57it/s]\n",
            "Epoch 1690\n",
            "Train: 100%|██████████| 82/82 [00:28<00:00,  2.85it/s]\n",
            "Eval: 100%|██████████| 7/7 [00:02<00:00,  2.58it/s]\n",
            "Epoch 1691\n"
          ]
        },
        {
          "metadata": {
            "tags": null
          },
          "name": "stdout",
          "output_type": "stream",
          "text": [
            "\tVal Dist 75.0520\t\n"
          ]
        },
        {
          "metadata": {
            "tags": null
          },
          "name": "stderr",
          "output_type": "stream",
          "text": [
            "Train: 100%|██████████| 82/82 [00:32<00:00,  2.50it/s]\n",
            "Epoch 1692\n",
            "Train: 100%|██████████| 82/82 [00:28<00:00,  2.92it/s]\n",
            "Epoch 1693\n",
            "Train: 100%|██████████| 82/82 [00:32<00:00,  2.54it/s]\n",
            "Epoch 1694\n",
            "Train: 100%|██████████| 82/82 [00:28<00:00,  2.87it/s]\n",
            "Epoch 1695\n",
            "Train: 100%|██████████| 82/82 [00:33<00:00,  2.44it/s]\n",
            "Epoch 1696\n",
            "Train: 100%|██████████| 82/82 [00:28<00:00,  2.87it/s]\n",
            "Epoch 1697\n",
            "Train: 100%|██████████| 82/82 [00:32<00:00,  2.56it/s]\n",
            "Epoch 1698\n",
            "Train: 100%|██████████| 82/82 [00:28<00:00,  2.89it/s]\n",
            "Epoch 1699\n",
            "Train: 100%|██████████| 82/82 [00:32<00:00,  2.56it/s]\n",
            "Epoch 1700\n",
            "Train: 100%|██████████| 82/82 [00:28<00:00,  2.88it/s]\n",
            "Eval: 100%|██████████| 7/7 [00:02<00:00,  3.09it/s]\n",
            "Epoch 1701\n"
          ]
        },
        {
          "metadata": {
            "tags": null
          },
          "name": "stdout",
          "output_type": "stream",
          "text": [
            "Saved model\n",
            "\tVal Dist 67.8660\t\n"
          ]
        },
        {
          "metadata": {
            "tags": null
          },
          "name": "stderr",
          "output_type": "stream",
          "text": [
            "Train: 100%|██████████| 82/82 [00:31<00:00,  2.58it/s]\n",
            "Epoch 1702\n",
            "Train: 100%|██████████| 82/82 [00:28<00:00,  2.89it/s]\n",
            "Epoch 1703\n",
            "Train: 100%|██████████| 82/82 [00:33<00:00,  2.46it/s]\n",
            "Epoch 1704\n",
            "Train: 100%|██████████| 82/82 [00:28<00:00,  2.88it/s]\n",
            "Epoch 1705\n",
            "Train: 100%|██████████| 82/82 [00:31<00:00,  2.58it/s]\n",
            "Epoch 1706\n",
            "Train: 100%|██████████| 82/82 [00:28<00:00,  2.87it/s]\n",
            "Epoch 1707\n",
            "Train: 100%|██████████| 82/82 [00:31<00:00,  2.57it/s]\n",
            "Epoch 1708\n",
            "Train: 100%|██████████| 82/82 [00:28<00:00,  2.87it/s]\n",
            "Epoch 1709\n",
            "Train: 100%|██████████| 82/82 [00:31<00:00,  2.57it/s]\n",
            "Epoch 1710\n",
            "Train: 100%|██████████| 82/82 [00:28<00:00,  2.90it/s]\n",
            "Eval: 100%|██████████| 7/7 [00:02<00:00,  2.52it/s]\n",
            "Epoch 1711\n"
          ]
        },
        {
          "metadata": {
            "tags": null
          },
          "name": "stdout",
          "output_type": "stream",
          "text": [
            "\tVal Dist 74.9490\t\n"
          ]
        },
        {
          "metadata": {
            "tags": null
          },
          "name": "stderr",
          "output_type": "stream",
          "text": [
            "Train: 100%|██████████| 82/82 [00:33<00:00,  2.45it/s]\n",
            "Epoch 1712\n",
            "Train: 100%|██████████| 82/82 [00:28<00:00,  2.90it/s]\n",
            "Epoch 1713\n",
            "Train: 100%|██████████| 82/82 [00:32<00:00,  2.51it/s]\n",
            "Epoch 1714\n",
            "Train: 100%|██████████| 82/82 [00:28<00:00,  2.92it/s]\n",
            "Epoch 1715\n",
            "Train: 100%|██████████| 82/82 [00:32<00:00,  2.53it/s]\n",
            "Epoch 1716\n",
            "Train: 100%|██████████| 82/82 [00:28<00:00,  2.86it/s]\n",
            "Epoch 1717\n",
            "Train: 100%|██████████| 82/82 [00:32<00:00,  2.56it/s]\n",
            "Epoch 1718\n",
            "Train: 100%|██████████| 82/82 [00:28<00:00,  2.86it/s]\n",
            "Epoch 1719\n",
            "Train: 100%|██████████| 82/82 [00:33<00:00,  2.44it/s]\n",
            "Epoch 1720\n",
            "Train: 100%|██████████| 82/82 [00:28<00:00,  2.86it/s]\n",
            "Eval: 100%|██████████| 7/7 [00:02<00:00,  3.10it/s]\n",
            "Epoch 1721\n"
          ]
        },
        {
          "metadata": {
            "tags": null
          },
          "name": "stdout",
          "output_type": "stream",
          "text": [
            "\tVal Dist 71.0350\t\n"
          ]
        },
        {
          "metadata": {
            "tags": null
          },
          "name": "stderr",
          "output_type": "stream",
          "text": [
            "Train: 100%|██████████| 82/82 [00:31<00:00,  2.58it/s]\n",
            "Epoch 1722\n",
            "Train: 100%|██████████| 82/82 [00:28<00:00,  2.87it/s]\n",
            "Epoch 1723\n",
            "Train: 100%|██████████| 82/82 [00:32<00:00,  2.55it/s]\n",
            "Epoch 1724\n",
            "Train: 100%|██████████| 82/82 [00:28<00:00,  2.86it/s]\n",
            "Epoch 1725\n",
            "Train: 100%|██████████| 82/82 [00:32<00:00,  2.53it/s]\n",
            "Epoch 1726\n",
            "Train: 100%|██████████| 82/82 [00:28<00:00,  2.83it/s]\n",
            "Epoch 1727\n",
            "Train: 100%|██████████| 82/82 [00:34<00:00,  2.41it/s]\n",
            "Epoch 1728\n",
            "Train: 100%|██████████| 82/82 [00:28<00:00,  2.84it/s]\n",
            "Epoch 1729\n",
            "Train: 100%|██████████| 82/82 [00:32<00:00,  2.56it/s]\n",
            "Epoch 1730\n",
            "Train: 100%|██████████| 82/82 [00:28<00:00,  2.85it/s]\n",
            "Eval: 100%|██████████| 7/7 [00:03<00:00,  2.13it/s]\n",
            "Epoch 1731\n"
          ]
        },
        {
          "metadata": {
            "tags": null
          },
          "name": "stdout",
          "output_type": "stream",
          "text": [
            "Saved model\n",
            "\tVal Dist 67.3590\t\n"
          ]
        },
        {
          "metadata": {
            "tags": null
          },
          "name": "stderr",
          "output_type": "stream",
          "text": [
            "Train: 100%|██████████| 82/82 [00:32<00:00,  2.55it/s]\n",
            "Epoch 1732\n",
            "Train: 100%|██████████| 82/82 [00:28<00:00,  2.84it/s]\n",
            "Epoch 1733\n",
            "Train: 100%|██████████| 82/82 [00:31<00:00,  2.57it/s]\n",
            "Epoch 1734\n",
            "Train: 100%|██████████| 82/82 [00:29<00:00,  2.75it/s]\n",
            "Epoch 1735\n",
            "Train: 100%|██████████| 82/82 [00:32<00:00,  2.51it/s]\n",
            "Epoch 1736\n",
            "Train: 100%|██████████| 82/82 [00:28<00:00,  2.85it/s]\n",
            "Epoch 1737\n",
            "Train: 100%|██████████| 82/82 [00:31<00:00,  2.57it/s]\n",
            "Epoch 1738\n",
            "Train: 100%|██████████| 82/82 [00:29<00:00,  2.80it/s]\n",
            "Epoch 1739\n",
            "Train: 100%|██████████| 82/82 [00:31<00:00,  2.57it/s]\n",
            "Epoch 1740\n",
            "Train: 100%|██████████| 82/82 [00:28<00:00,  2.87it/s]\n",
            "Eval: 100%|██████████| 7/7 [00:02<00:00,  3.08it/s]\n",
            "Epoch 1741\n"
          ]
        },
        {
          "metadata": {
            "tags": null
          },
          "name": "stdout",
          "output_type": "stream",
          "text": [
            "\tVal Dist 67.4060\t\n"
          ]
        },
        {
          "metadata": {
            "tags": null
          },
          "name": "stderr",
          "output_type": "stream",
          "text": [
            "Train: 100%|██████████| 82/82 [00:31<00:00,  2.60it/s]\n",
            "Epoch 1742\n",
            "Train: 100%|██████████| 82/82 [00:30<00:00,  2.67it/s]\n",
            "Epoch 1743\n",
            "Train: 100%|██████████| 82/82 [00:31<00:00,  2.56it/s]\n",
            "Epoch 1744\n",
            "Train: 100%|██████████| 82/82 [00:28<00:00,  2.86it/s]\n",
            "Epoch 1745\n",
            "Train: 100%|██████████| 82/82 [00:31<00:00,  2.58it/s]\n",
            "Epoch 1746\n",
            "Train: 100%|██████████| 82/82 [00:28<00:00,  2.84it/s]\n",
            "Epoch 1747\n",
            "Train: 100%|██████████| 82/82 [00:31<00:00,  2.57it/s]\n",
            "Epoch 1748\n",
            "Train: 100%|██████████| 82/82 [00:28<00:00,  2.86it/s]\n",
            "Epoch 1749\n",
            "Train: 100%|██████████| 82/82 [00:32<00:00,  2.53it/s]\n",
            "Epoch 1750\n",
            "Train: 100%|██████████| 82/82 [00:30<00:00,  2.69it/s]\n",
            "Eval: 100%|██████████| 7/7 [00:02<00:00,  2.33it/s]\n",
            "Epoch 1751\n"
          ]
        },
        {
          "metadata": {
            "tags": null
          },
          "name": "stdout",
          "output_type": "stream",
          "text": [
            "\tVal Dist 68.0290\t\n"
          ]
        },
        {
          "metadata": {
            "tags": null
          },
          "name": "stderr",
          "output_type": "stream",
          "text": [
            "Train: 100%|██████████| 82/82 [00:31<00:00,  2.58it/s]\n",
            "Epoch 1752\n",
            "Train: 100%|██████████| 82/82 [00:28<00:00,  2.87it/s]\n",
            "Epoch 1753\n",
            "Train: 100%|██████████| 82/82 [00:32<00:00,  2.56it/s]\n",
            "Epoch 1754\n",
            "Train: 100%|██████████| 82/82 [00:29<00:00,  2.81it/s]\n",
            "Epoch 1755\n",
            "Train: 100%|██████████| 82/82 [00:31<00:00,  2.57it/s]\n",
            "Epoch 1756\n",
            "Train: 100%|██████████| 82/82 [00:28<00:00,  2.83it/s]\n",
            "Epoch 1757\n",
            "Train: 100%|██████████| 82/82 [00:33<00:00,  2.48it/s]\n",
            "Epoch 1758\n",
            "Train: 100%|██████████| 82/82 [00:29<00:00,  2.80it/s]\n",
            "Epoch 1759\n",
            "Train: 100%|██████████| 82/82 [00:31<00:00,  2.57it/s]\n",
            "Epoch 1760\n",
            "Train: 100%|██████████| 82/82 [00:28<00:00,  2.86it/s]\n",
            "Eval: 100%|██████████| 7/7 [00:02<00:00,  2.55it/s]\n",
            "Epoch 1761\n"
          ]
        },
        {
          "metadata": {
            "tags": null
          },
          "name": "stdout",
          "output_type": "stream",
          "text": [
            "Saved model\n",
            "\tVal Dist 58.1820\t\n"
          ]
        },
        {
          "metadata": {
            "tags": null
          },
          "name": "stderr",
          "output_type": "stream",
          "text": [
            "Train: 100%|██████████| 82/82 [00:32<00:00,  2.52it/s]\n",
            "Epoch 1762\n",
            "Train: 100%|██████████| 82/82 [00:28<00:00,  2.89it/s]\n",
            "Epoch 1763\n",
            "Train: 100%|██████████| 82/82 [00:32<00:00,  2.51it/s]\n",
            "Epoch 1764\n",
            "Train: 100%|██████████| 82/82 [00:28<00:00,  2.90it/s]\n",
            "Epoch 1765\n",
            "Train: 100%|██████████| 82/82 [00:33<00:00,  2.47it/s]\n",
            "Epoch 1766\n",
            "Train: 100%|██████████| 82/82 [00:28<00:00,  2.83it/s]\n",
            "Epoch 1767\n",
            "Train: 100%|██████████| 82/82 [00:31<00:00,  2.56it/s]\n",
            "Epoch 1768\n",
            "Train: 100%|██████████| 82/82 [00:28<00:00,  2.85it/s]\n",
            "Epoch 1769\n",
            "Train: 100%|██████████| 82/82 [00:31<00:00,  2.60it/s]\n",
            "Epoch 1770\n",
            "Train: 100%|██████████| 82/82 [00:28<00:00,  2.84it/s]\n",
            "Eval: 100%|██████████| 7/7 [00:02<00:00,  3.06it/s]\n",
            "Epoch 1771\n"
          ]
        },
        {
          "metadata": {
            "tags": null
          },
          "name": "stdout",
          "output_type": "stream",
          "text": [
            "\tVal Dist 71.9510\t\n"
          ]
        },
        {
          "metadata": {
            "tags": null
          },
          "name": "stderr",
          "output_type": "stream",
          "text": [
            "Train: 100%|██████████| 82/82 [00:31<00:00,  2.59it/s]\n",
            "Epoch 1772\n",
            "Train: 100%|██████████| 82/82 [00:28<00:00,  2.88it/s]\n",
            "Epoch 1773\n",
            "Train: 100%|██████████| 82/82 [00:33<00:00,  2.47it/s]\n",
            "Epoch 1774\n",
            "Train: 100%|██████████| 82/82 [00:28<00:00,  2.85it/s]\n",
            "Epoch 1775\n",
            "Train: 100%|██████████| 82/82 [00:32<00:00,  2.51it/s]\n",
            "Epoch 1776\n",
            "Train: 100%|██████████| 82/82 [00:27<00:00,  2.93it/s]\n",
            "Epoch 1777\n",
            "Train: 100%|██████████| 82/82 [00:32<00:00,  2.54it/s]\n",
            "Epoch 1778\n",
            "Train: 100%|██████████| 82/82 [00:28<00:00,  2.84it/s]\n",
            "Epoch 1779\n",
            "Train: 100%|██████████| 82/82 [00:32<00:00,  2.54it/s]\n",
            "Epoch 1780\n",
            "Train: 100%|██████████| 82/82 [00:28<00:00,  2.85it/s]\n",
            "Eval: 100%|██████████| 7/7 [00:02<00:00,  3.06it/s]\n",
            "Epoch 1781\n"
          ]
        },
        {
          "metadata": {
            "tags": null
          },
          "name": "stdout",
          "output_type": "stream",
          "text": [
            "\tVal Dist 59.3830\t\n"
          ]
        },
        {
          "metadata": {
            "tags": null
          },
          "name": "stderr",
          "output_type": "stream",
          "text": [
            "Train: 100%|██████████| 82/82 [00:32<00:00,  2.49it/s]\n",
            "Epoch 1782\n",
            "Train: 100%|██████████| 82/82 [00:29<00:00,  2.81it/s]\n",
            "Epoch 1783\n",
            "Train: 100%|██████████| 82/82 [00:31<00:00,  2.57it/s]\n",
            "Epoch 1784\n",
            "Train: 100%|██████████| 82/82 [00:28<00:00,  2.83it/s]\n",
            "Epoch 1785\n",
            "Train: 100%|██████████| 82/82 [00:31<00:00,  2.59it/s]\n",
            "Epoch 1786\n",
            "Train: 100%|██████████| 82/82 [00:28<00:00,  2.84it/s]\n",
            "Epoch 1787\n",
            "Train: 100%|██████████| 82/82 [00:31<00:00,  2.58it/s]\n",
            "Epoch 1788\n",
            "Train: 100%|██████████| 82/82 [00:29<00:00,  2.74it/s]\n",
            "Epoch 1789\n",
            "Train: 100%|██████████| 82/82 [00:31<00:00,  2.58it/s]\n",
            "Epoch 1790\n",
            "Train: 100%|██████████| 82/82 [00:28<00:00,  2.84it/s]\n",
            "Eval: 100%|██████████| 7/7 [00:03<00:00,  2.20it/s]\n",
            "Epoch 1791\n"
          ]
        },
        {
          "metadata": {
            "tags": null
          },
          "name": "stdout",
          "output_type": "stream",
          "text": [
            "Saved model\n",
            "\tVal Dist 55.1830\t\n"
          ]
        },
        {
          "metadata": {
            "tags": null
          },
          "name": "stderr",
          "output_type": "stream",
          "text": [
            "Train: 100%|██████████| 82/82 [00:31<00:00,  2.57it/s]\n",
            "Epoch 1792\n",
            "Train: 100%|██████████| 82/82 [00:28<00:00,  2.86it/s]\n",
            "Epoch 1793\n",
            "Train: 100%|██████████| 82/82 [00:31<00:00,  2.60it/s]\n",
            "Epoch 1794\n",
            "Train: 100%|██████████| 82/82 [00:28<00:00,  2.83it/s]\n",
            "Epoch 1795\n",
            "Train: 100%|██████████| 82/82 [00:31<00:00,  2.58it/s]\n",
            "Epoch 1796\n",
            "Train: 100%|██████████| 82/82 [00:29<00:00,  2.73it/s]\n",
            "Epoch 1797\n",
            "Train: 100%|██████████| 82/82 [00:31<00:00,  2.59it/s]\n",
            "Epoch 1798\n",
            "Train: 100%|██████████| 82/82 [00:29<00:00,  2.81it/s]\n",
            "Epoch 1799\n",
            "Train: 100%|██████████| 82/82 [00:31<00:00,  2.59it/s]\n",
            "Epoch 1800\n",
            "Train: 100%|██████████| 82/82 [00:28<00:00,  2.87it/s]\n",
            "Eval: 100%|██████████| 7/7 [00:02<00:00,  3.08it/s]\n",
            "Epoch 1801\n"
          ]
        },
        {
          "metadata": {
            "tags": null
          },
          "name": "stdout",
          "output_type": "stream",
          "text": [
            "\tVal Dist 62.4110\t\n"
          ]
        },
        {
          "metadata": {
            "tags": null
          },
          "name": "stderr",
          "output_type": "stream",
          "text": [
            "Train: 100%|██████████| 82/82 [00:31<00:00,  2.58it/s]\n",
            "Epoch 1802\n",
            "Train: 100%|██████████| 82/82 [00:29<00:00,  2.82it/s]\n",
            "Epoch 1803\n",
            "Train: 100%|██████████| 82/82 [00:32<00:00,  2.54it/s]\n",
            "Epoch 1804\n",
            "Train: 100%|██████████| 82/82 [00:30<00:00,  2.72it/s]\n",
            "Epoch 1805\n",
            "Train: 100%|██████████| 82/82 [00:32<00:00,  2.50it/s]\n",
            "Epoch 1806\n",
            "Train: 100%|██████████| 82/82 [00:28<00:00,  2.84it/s]\n",
            "Epoch 1807\n",
            "Train: 100%|██████████| 82/82 [00:31<00:00,  2.57it/s]\n",
            "Epoch 1808\n",
            "Train: 100%|██████████| 82/82 [00:28<00:00,  2.84it/s]\n",
            "Epoch 1809\n",
            "Train: 100%|██████████| 82/82 [00:32<00:00,  2.55it/s]\n",
            "Epoch 1810\n",
            "Train: 100%|██████████| 82/82 [00:28<00:00,  2.86it/s]\n",
            "Eval: 100%|██████████| 7/7 [00:02<00:00,  3.09it/s]\n",
            "Epoch 1811\n"
          ]
        },
        {
          "metadata": {
            "tags": null
          },
          "name": "stdout",
          "output_type": "stream",
          "text": [
            "\tVal Dist 59.2490\t\n"
          ]
        },
        {
          "metadata": {
            "tags": null
          },
          "name": "stderr",
          "output_type": "stream",
          "text": [
            "Train: 100%|██████████| 82/82 [00:32<00:00,  2.50it/s]\n",
            "Epoch 1812\n",
            "Train: 100%|██████████| 82/82 [00:28<00:00,  2.87it/s]\n",
            "Epoch 1813\n",
            "Train: 100%|██████████| 82/82 [00:32<00:00,  2.56it/s]\n",
            "Epoch 1814\n",
            "Train: 100%|██████████| 82/82 [00:28<00:00,  2.86it/s]\n",
            "Epoch 1815\n",
            "Train: 100%|██████████| 82/82 [00:32<00:00,  2.54it/s]\n",
            "Epoch 1816\n",
            "Train: 100%|██████████| 82/82 [00:28<00:00,  2.88it/s]\n",
            "Epoch 1817\n",
            "Train: 100%|██████████| 82/82 [00:32<00:00,  2.49it/s]\n",
            "Epoch 1818\n",
            "Train: 100%|██████████| 82/82 [00:28<00:00,  2.86it/s]\n",
            "Epoch 1819\n",
            "Train: 100%|██████████| 82/82 [00:33<00:00,  2.42it/s]\n",
            "Epoch 1820\n",
            "Train: 100%|██████████| 82/82 [00:28<00:00,  2.91it/s]\n",
            "Eval: 100%|██████████| 7/7 [00:02<00:00,  2.47it/s]\n",
            "Epoch 1821\n"
          ]
        },
        {
          "metadata": {
            "tags": null
          },
          "name": "stdout",
          "output_type": "stream",
          "text": [
            "\tVal Dist 66.6980\t\n"
          ]
        },
        {
          "metadata": {
            "tags": null
          },
          "name": "stderr",
          "output_type": "stream",
          "text": [
            "Train: 100%|██████████| 82/82 [00:32<00:00,  2.53it/s]\n",
            "Epoch 1822\n",
            "Train: 100%|██████████| 82/82 [00:28<00:00,  2.85it/s]\n",
            "Epoch 1823\n",
            "Train: 100%|██████████| 82/82 [00:31<00:00,  2.58it/s]\n",
            "Epoch 1824\n",
            "Train: 100%|██████████| 82/82 [00:28<00:00,  2.87it/s]\n",
            "Epoch 1825\n",
            "Train: 100%|██████████| 82/82 [00:32<00:00,  2.52it/s]\n",
            "Epoch 1826\n",
            "Train: 100%|██████████| 82/82 [00:28<00:00,  2.85it/s]\n",
            "Epoch 1827\n",
            "Train: 100%|██████████| 82/82 [00:32<00:00,  2.49it/s]\n",
            "Epoch 1828\n",
            "Train: 100%|██████████| 82/82 [00:28<00:00,  2.87it/s]\n",
            "Epoch 1829\n",
            "Train: 100%|██████████| 82/82 [00:32<00:00,  2.52it/s]\n",
            "Epoch 1830\n",
            "Train: 100%|██████████| 82/82 [00:28<00:00,  2.84it/s]\n",
            "Eval: 100%|██████████| 7/7 [00:02<00:00,  2.61it/s]\n",
            "Epoch 1831\n"
          ]
        },
        {
          "metadata": {
            "tags": null
          },
          "name": "stdout",
          "output_type": "stream",
          "text": [
            "Saved model\n",
            "\tVal Dist 54.6640\t\n"
          ]
        },
        {
          "metadata": {
            "tags": null
          },
          "name": "stderr",
          "output_type": "stream",
          "text": [
            "Train: 100%|██████████| 82/82 [00:32<00:00,  2.51it/s]\n",
            "Epoch 1832\n",
            "Train: 100%|██████████| 82/82 [00:28<00:00,  2.92it/s]\n",
            "Epoch 1833\n",
            "Train: 100%|██████████| 82/82 [00:32<00:00,  2.50it/s]\n",
            "Epoch 1834\n",
            "Train: 100%|██████████| 82/82 [00:29<00:00,  2.74it/s]\n",
            "Epoch 1835\n",
            "Train: 100%|██████████| 82/82 [00:31<00:00,  2.57it/s]\n",
            "Epoch 1836\n",
            "Train: 100%|██████████| 82/82 [00:28<00:00,  2.86it/s]\n",
            "Epoch 1837\n",
            "Train: 100%|██████████| 82/82 [00:32<00:00,  2.54it/s]\n",
            "Epoch 1838\n",
            "Train: 100%|██████████| 82/82 [00:28<00:00,  2.85it/s]\n",
            "Epoch 1839\n",
            "Train: 100%|██████████| 82/82 [00:32<00:00,  2.55it/s]\n",
            "Epoch 1840\n",
            "Train: 100%|██████████| 82/82 [00:29<00:00,  2.82it/s]\n",
            "Eval: 100%|██████████| 7/7 [00:02<00:00,  3.08it/s]\n",
            "Epoch 1841\n"
          ]
        },
        {
          "metadata": {
            "tags": null
          },
          "name": "stdout",
          "output_type": "stream",
          "text": [
            "\tVal Dist 77.1280\t\n"
          ]
        },
        {
          "metadata": {
            "tags": null
          },
          "name": "stderr",
          "output_type": "stream",
          "text": [
            "Train: 100%|██████████| 82/82 [00:32<00:00,  2.51it/s]\n",
            "Epoch 1842\n",
            "Train: 100%|██████████| 82/82 [00:30<00:00,  2.73it/s]\n",
            "Epoch 1843\n",
            "Train: 100%|██████████| 82/82 [00:32<00:00,  2.51it/s]\n",
            "Epoch 1844\n",
            "Train: 100%|██████████| 82/82 [00:28<00:00,  2.89it/s]\n",
            "Epoch 1845\n",
            "Train: 100%|██████████| 82/82 [00:33<00:00,  2.47it/s]\n",
            "Epoch 1846\n",
            "Train: 100%|██████████| 82/82 [00:28<00:00,  2.87it/s]\n",
            "Epoch 1847\n",
            "Train: 100%|██████████| 82/82 [00:32<00:00,  2.55it/s]\n",
            "Epoch 1848\n",
            "Train: 100%|██████████| 82/82 [00:28<00:00,  2.85it/s]\n",
            "Epoch 1849\n",
            "Train: 100%|██████████| 82/82 [00:32<00:00,  2.49it/s]\n",
            "Epoch 1850\n",
            "Train: 100%|██████████| 82/82 [00:28<00:00,  2.83it/s]\n",
            "Eval: 100%|██████████| 7/7 [00:02<00:00,  3.06it/s]\n",
            "Epoch 1851\n"
          ]
        },
        {
          "metadata": {
            "tags": null
          },
          "name": "stdout",
          "output_type": "stream",
          "text": [
            "\tVal Dist 63.0070\t\n"
          ]
        },
        {
          "metadata": {
            "tags": null
          },
          "name": "stderr",
          "output_type": "stream",
          "text": [
            "Train: 100%|██████████| 82/82 [00:31<00:00,  2.60it/s]\n",
            "Epoch 1852\n",
            "Train: 100%|██████████| 82/82 [00:28<00:00,  2.86it/s]\n",
            "Epoch 1853\n",
            "Train: 100%|██████████| 82/82 [00:32<00:00,  2.55it/s]\n",
            "Epoch 1854\n",
            "Train: 100%|██████████| 82/82 [00:28<00:00,  2.88it/s]\n",
            "Epoch 1855\n",
            "Train: 100%|██████████| 82/82 [00:31<00:00,  2.57it/s]\n",
            "Epoch 1856\n",
            "Train: 100%|██████████| 82/82 [00:28<00:00,  2.88it/s]\n",
            "Epoch 1857\n",
            "Train: 100%|██████████| 82/82 [00:34<00:00,  2.38it/s]\n",
            "Epoch 1858\n",
            "Train: 100%|██████████| 82/82 [00:28<00:00,  2.90it/s]\n",
            "Epoch 1859\n",
            "Train: 100%|██████████| 82/82 [00:32<00:00,  2.56it/s]\n",
            "Epoch 1860\n",
            "Train: 100%|██████████| 82/82 [00:28<00:00,  2.84it/s]\n",
            "Eval: 100%|██████████| 7/7 [00:02<00:00,  2.91it/s]\n",
            "Epoch 1861\n"
          ]
        },
        {
          "metadata": {
            "tags": null
          },
          "name": "stdout",
          "output_type": "stream",
          "text": [
            "\tVal Dist 62.7850\t\n"
          ]
        },
        {
          "metadata": {
            "tags": null
          },
          "name": "stderr",
          "output_type": "stream",
          "text": [
            "Train: 100%|██████████| 82/82 [00:32<00:00,  2.50it/s]\n",
            "Epoch 1862\n",
            "Train: 100%|██████████| 82/82 [00:28<00:00,  2.83it/s]\n",
            "Epoch 1863\n",
            "Train: 100%|██████████| 82/82 [00:31<00:00,  2.58it/s]\n",
            "Epoch 1864\n",
            "Train: 100%|██████████| 82/82 [00:28<00:00,  2.85it/s]\n",
            "Epoch 1865\n",
            "Train: 100%|██████████| 82/82 [00:33<00:00,  2.45it/s]\n",
            "Epoch 1866\n",
            "Train: 100%|██████████| 82/82 [00:28<00:00,  2.85it/s]\n",
            "Epoch 1867\n",
            "Train: 100%|██████████| 82/82 [00:31<00:00,  2.57it/s]\n",
            "Epoch 1868\n",
            "Train: 100%|██████████| 82/82 [00:28<00:00,  2.84it/s]\n",
            "Epoch 1869\n",
            "Train: 100%|██████████| 82/82 [00:32<00:00,  2.49it/s]\n",
            "Epoch 1870\n",
            "Train: 100%|██████████| 82/82 [00:28<00:00,  2.89it/s]\n",
            "Eval: 100%|██████████| 7/7 [00:03<00:00,  2.12it/s]\n",
            "Epoch 1871\n"
          ]
        },
        {
          "metadata": {
            "tags": null
          },
          "name": "stdout",
          "output_type": "stream",
          "text": [
            "\tVal Dist 70.4360\t\n"
          ]
        },
        {
          "metadata": {
            "tags": null
          },
          "name": "stderr",
          "output_type": "stream",
          "text": [
            "Train: 100%|██████████| 82/82 [00:31<00:00,  2.57it/s]\n",
            "Epoch 1872\n",
            "Train: 100%|██████████| 82/82 [00:28<00:00,  2.85it/s]\n",
            "Epoch 1873\n",
            "Train: 100%|██████████| 82/82 [00:33<00:00,  2.46it/s]\n",
            "Epoch 1874\n",
            "Train: 100%|██████████| 82/82 [00:28<00:00,  2.86it/s]\n",
            "Epoch 1875\n",
            "Train: 100%|██████████| 82/82 [00:31<00:00,  2.59it/s]\n",
            "Epoch 1876\n",
            "Train: 100%|██████████| 82/82 [00:28<00:00,  2.87it/s]\n",
            "Epoch 1877\n",
            "Train: 100%|██████████| 82/82 [00:33<00:00,  2.44it/s]\n",
            "Epoch 1878\n",
            "Train: 100%|██████████| 82/82 [00:28<00:00,  2.89it/s]\n",
            "Epoch 1879\n",
            "Train: 100%|██████████| 82/82 [00:31<00:00,  2.57it/s]\n",
            "Epoch 1880\n",
            "Train: 100%|██████████| 82/82 [00:28<00:00,  2.89it/s]\n",
            "Eval: 100%|██████████| 7/7 [00:02<00:00,  2.73it/s]\n",
            "Epoch 1881\n"
          ]
        },
        {
          "metadata": {
            "tags": null
          },
          "name": "stdout",
          "output_type": "stream",
          "text": [
            "\tVal Dist 65.9240\t\n"
          ]
        },
        {
          "metadata": {
            "tags": null
          },
          "name": "stderr",
          "output_type": "stream",
          "text": [
            "Train: 100%|██████████| 82/82 [00:31<00:00,  2.58it/s]\n",
            "Epoch 1882\n",
            "Train: 100%|██████████| 82/82 [00:28<00:00,  2.91it/s]\n",
            "Epoch 1883\n",
            "Train: 100%|██████████| 82/82 [00:32<00:00,  2.55it/s]\n",
            "Epoch 1884\n",
            "Train: 100%|██████████| 82/82 [00:28<00:00,  2.90it/s]\n",
            "Epoch 1885\n",
            "Train: 100%|██████████| 82/82 [00:33<00:00,  2.43it/s]\n",
            "Epoch 1886\n",
            "Train: 100%|██████████| 82/82 [00:27<00:00,  2.94it/s]\n",
            "Epoch 1887\n",
            "Train: 100%|██████████| 82/82 [00:32<00:00,  2.51it/s]\n",
            "Epoch 1888\n",
            "Train: 100%|██████████| 82/82 [00:27<00:00,  2.93it/s]\n",
            "Epoch 1889\n",
            "Train: 100%|██████████| 82/82 [00:33<00:00,  2.48it/s]\n",
            "Epoch 1890\n",
            "Train: 100%|██████████| 82/82 [00:27<00:00,  2.95it/s]\n",
            "Eval: 100%|██████████| 7/7 [00:02<00:00,  2.59it/s]\n",
            "Epoch 1891\n"
          ]
        },
        {
          "metadata": {
            "tags": null
          },
          "name": "stdout",
          "output_type": "stream",
          "text": [
            "Saved model\n",
            "\tVal Dist 49.9440\t\n"
          ]
        },
        {
          "metadata": {
            "tags": null
          },
          "name": "stderr",
          "output_type": "stream",
          "text": [
            "Train: 100%|██████████| 82/82 [00:31<00:00,  2.59it/s]\n",
            "Epoch 1892\n",
            "Train: 100%|██████████| 82/82 [00:28<00:00,  2.87it/s]\n",
            "Epoch 1893\n",
            "Train: 100%|██████████| 82/82 [00:33<00:00,  2.48it/s]\n",
            "Epoch 1894\n",
            "Train: 100%|██████████| 82/82 [00:28<00:00,  2.91it/s]\n",
            "Epoch 1895\n",
            "Train: 100%|██████████| 82/82 [00:31<00:00,  2.57it/s]\n",
            "Epoch 1896\n",
            "Train: 100%|██████████| 82/82 [00:28<00:00,  2.87it/s]\n",
            "Epoch 1897\n",
            "Train: 100%|██████████| 82/82 [00:31<00:00,  2.58it/s]\n",
            "Epoch 1898\n",
            "Train: 100%|██████████| 82/82 [00:28<00:00,  2.86it/s]\n",
            "Epoch 1899\n",
            "Train: 100%|██████████| 82/82 [00:31<00:00,  2.61it/s]\n",
            "Epoch 1900\n",
            "Train: 100%|██████████| 82/82 [00:28<00:00,  2.90it/s]\n",
            "Eval: 100%|██████████| 7/7 [00:02<00:00,  2.66it/s]\n",
            "Epoch 1901\n"
          ]
        },
        {
          "metadata": {
            "tags": null
          },
          "name": "stdout",
          "output_type": "stream",
          "text": [
            "\tVal Dist 60.1780\t\n"
          ]
        },
        {
          "metadata": {
            "tags": null
          },
          "name": "stderr",
          "output_type": "stream",
          "text": [
            "Train: 100%|██████████| 82/82 [00:32<00:00,  2.50it/s]\n",
            "Epoch 1902\n",
            "Train: 100%|██████████| 82/82 [00:27<00:00,  2.94it/s]\n",
            "Epoch 1903\n",
            "Train: 100%|██████████| 82/82 [00:31<00:00,  2.63it/s]\n",
            "Epoch 1904\n",
            "Train: 100%|██████████| 82/82 [00:28<00:00,  2.92it/s]\n",
            "Epoch 1905\n",
            "Train: 100%|██████████| 82/82 [00:31<00:00,  2.58it/s]\n",
            "Epoch 1906\n",
            "Train: 100%|██████████| 82/82 [00:27<00:00,  3.00it/s]\n",
            "Epoch 1907\n",
            "Train: 100%|██████████| 82/82 [00:32<00:00,  2.54it/s]\n",
            "Epoch 1908\n",
            "Train: 100%|██████████| 82/82 [00:27<00:00,  2.97it/s]\n",
            "Epoch 1909\n",
            "Train: 100%|██████████| 82/82 [00:33<00:00,  2.42it/s]\n",
            "Epoch 1910\n",
            "Train: 100%|██████████| 82/82 [00:27<00:00,  2.99it/s]\n",
            "Eval: 100%|██████████| 7/7 [00:02<00:00,  2.67it/s]\n",
            "Epoch 1911\n"
          ]
        },
        {
          "metadata": {
            "tags": null
          },
          "name": "stdout",
          "output_type": "stream",
          "text": [
            "\tVal Dist 52.8080\t\n"
          ]
        },
        {
          "metadata": {
            "tags": null
          },
          "name": "stderr",
          "output_type": "stream",
          "text": [
            "Train: 100%|██████████| 82/82 [00:31<00:00,  2.63it/s]\n",
            "Epoch 1912\n",
            "Train: 100%|██████████| 82/82 [00:27<00:00,  2.98it/s]\n",
            "Epoch 1913\n",
            "Train: 100%|██████████| 82/82 [00:31<00:00,  2.62it/s]\n",
            "Epoch 1914\n",
            "Train: 100%|██████████| 82/82 [00:27<00:00,  2.99it/s]\n",
            "Epoch 1915\n",
            "Train: 100%|██████████| 82/82 [00:30<00:00,  2.65it/s]\n",
            "Epoch 1916\n",
            "Train: 100%|██████████| 82/82 [00:27<00:00,  2.96it/s]\n",
            "Epoch 1917\n",
            "Train: 100%|██████████| 82/82 [00:33<00:00,  2.47it/s]\n",
            "Epoch 1918\n",
            "Train: 100%|██████████| 82/82 [00:27<00:00,  2.97it/s]\n",
            "Epoch 1919\n",
            "Train: 100%|██████████| 82/82 [00:31<00:00,  2.61it/s]\n",
            "Epoch 1920\n",
            "Train: 100%|██████████| 82/82 [00:27<00:00,  2.94it/s]\n",
            "Eval: 100%|██████████| 7/7 [00:02<00:00,  3.18it/s]\n",
            "Epoch 1921\n"
          ]
        },
        {
          "metadata": {
            "tags": null
          },
          "name": "stdout",
          "output_type": "stream",
          "text": [
            "\tVal Dist 54.3590\t\n"
          ]
        },
        {
          "metadata": {
            "tags": null
          },
          "name": "stderr",
          "output_type": "stream",
          "text": [
            "Train: 100%|██████████| 82/82 [00:31<00:00,  2.62it/s]\n",
            "Epoch 1922\n",
            "Train: 100%|██████████| 82/82 [00:27<00:00,  3.00it/s]\n",
            "Epoch 1923\n",
            "Train: 100%|██████████| 82/82 [00:30<00:00,  2.67it/s]\n",
            "Epoch 1924\n",
            "Train: 100%|██████████| 82/82 [00:27<00:00,  2.96it/s]\n",
            "Epoch 1925\n",
            "Train: 100%|██████████| 82/82 [00:32<00:00,  2.51it/s]\n",
            "Epoch 1926\n",
            "Train: 100%|██████████| 82/82 [00:27<00:00,  2.98it/s]\n",
            "Epoch 1927\n",
            "Train: 100%|██████████| 82/82 [00:31<00:00,  2.63it/s]\n",
            "Epoch 1928\n",
            "Train: 100%|██████████| 82/82 [00:27<00:00,  2.97it/s]\n",
            "Epoch 1929\n",
            "Train: 100%|██████████| 82/82 [00:31<00:00,  2.61it/s]\n",
            "Epoch 1930\n",
            "Train: 100%|██████████| 82/82 [00:27<00:00,  2.97it/s]\n",
            "Eval: 100%|██████████| 7/7 [00:02<00:00,  3.01it/s]\n",
            "Epoch 1931\n"
          ]
        },
        {
          "metadata": {
            "tags": null
          },
          "name": "stdout",
          "output_type": "stream",
          "text": [
            "\tVal Dist 69.5250\t\n"
          ]
        },
        {
          "metadata": {
            "tags": null
          },
          "name": "stderr",
          "output_type": "stream",
          "text": [
            "Train: 100%|██████████| 82/82 [00:31<00:00,  2.61it/s]\n",
            "Epoch 1932\n",
            "Train: 100%|██████████| 82/82 [00:27<00:00,  3.02it/s]\n",
            "Epoch 1933\n",
            "Train: 100%|██████████| 82/82 [00:32<00:00,  2.49it/s]\n",
            "Epoch 1934\n",
            "Train: 100%|██████████| 82/82 [00:27<00:00,  3.03it/s]\n",
            "Epoch 1935\n",
            "Train: 100%|██████████| 82/82 [00:31<00:00,  2.60it/s]\n",
            "Epoch 1936\n",
            "Train: 100%|██████████| 82/82 [00:27<00:00,  3.01it/s]\n",
            "Epoch 1937\n",
            "Train: 100%|██████████| 82/82 [00:31<00:00,  2.57it/s]\n",
            "Epoch 1938\n",
            "Train: 100%|██████████| 82/82 [00:27<00:00,  3.03it/s]\n",
            "Epoch 1939\n",
            "Train: 100%|██████████| 82/82 [00:31<00:00,  2.61it/s]\n",
            "Epoch 1940\n",
            "Train: 100%|██████████| 82/82 [00:27<00:00,  2.99it/s]\n",
            "Eval: 100%|██████████| 7/7 [00:03<00:00,  2.29it/s]\n",
            "Epoch 1941\n"
          ]
        },
        {
          "metadata": {
            "tags": null
          },
          "name": "stdout",
          "output_type": "stream",
          "text": [
            "\tVal Dist 50.2670\t\n"
          ]
        },
        {
          "metadata": {
            "tags": null
          },
          "name": "stderr",
          "output_type": "stream",
          "text": [
            "Train: 100%|██████████| 82/82 [00:32<00:00,  2.53it/s]\n",
            "Epoch 1942\n",
            "Train: 100%|██████████| 82/82 [00:27<00:00,  2.98it/s]\n",
            "Epoch 1943\n",
            "Train: 100%|██████████| 82/82 [00:30<00:00,  2.66it/s]\n",
            "Epoch 1944\n",
            "Train: 100%|██████████| 82/82 [00:27<00:00,  2.99it/s]\n",
            "Epoch 1945\n",
            "Train: 100%|██████████| 82/82 [00:31<00:00,  2.63it/s]\n",
            "Epoch 1946\n",
            "Train: 100%|██████████| 82/82 [00:27<00:00,  2.97it/s]\n",
            "Epoch 1947\n",
            "Train: 100%|██████████| 82/82 [00:31<00:00,  2.64it/s]\n",
            "Epoch 1948\n",
            "Train: 100%|██████████| 82/82 [00:27<00:00,  2.98it/s]\n",
            "Epoch 1949\n",
            "Train: 100%|██████████| 82/82 [00:31<00:00,  2.61it/s]\n",
            "Epoch 1950\n",
            "Train: 100%|██████████| 82/82 [00:28<00:00,  2.85it/s]\n",
            "Eval: 100%|██████████| 7/7 [00:02<00:00,  3.17it/s]\n",
            "Epoch 1951\n"
          ]
        },
        {
          "metadata": {
            "tags": null
          },
          "name": "stdout",
          "output_type": "stream",
          "text": [
            "\tVal Dist 54.1130\t\n"
          ]
        },
        {
          "metadata": {
            "tags": null
          },
          "name": "stderr",
          "output_type": "stream",
          "text": [
            "Train: 100%|██████████| 82/82 [00:30<00:00,  2.67it/s]\n",
            "Epoch 1952\n",
            "Train: 100%|██████████| 82/82 [00:27<00:00,  2.98it/s]\n",
            "Epoch 1953\n",
            "Train: 100%|██████████| 82/82 [00:31<00:00,  2.63it/s]\n",
            "Epoch 1954\n",
            "Train: 100%|██████████| 82/82 [00:27<00:00,  2.97it/s]\n",
            "Epoch 1955\n",
            "Train: 100%|██████████| 82/82 [00:31<00:00,  2.63it/s]\n",
            "Epoch 1956\n",
            "Train: 100%|██████████| 82/82 [00:27<00:00,  2.98it/s]\n",
            "Epoch 1957\n",
            "Train: 100%|██████████| 82/82 [00:30<00:00,  2.68it/s]\n",
            "Epoch 1958\n",
            "Train: 100%|██████████| 82/82 [00:29<00:00,  2.81it/s]\n",
            "Epoch 1959\n",
            "Train: 100%|██████████| 82/82 [00:31<00:00,  2.60it/s]\n",
            "Epoch 1960\n",
            "Train: 100%|██████████| 82/82 [00:28<00:00,  2.91it/s]\n",
            "Eval: 100%|██████████| 7/7 [00:02<00:00,  3.18it/s]\n",
            "Epoch 1961\n"
          ]
        },
        {
          "metadata": {
            "tags": null
          },
          "name": "stdout",
          "output_type": "stream",
          "text": [
            "\tVal Dist 61.5940\t\n"
          ]
        },
        {
          "metadata": {
            "tags": null
          },
          "name": "stderr",
          "output_type": "stream",
          "text": [
            "Train: 100%|██████████| 82/82 [00:31<00:00,  2.61it/s]\n",
            "Epoch 1962\n",
            "Train: 100%|██████████| 82/82 [00:28<00:00,  2.92it/s]\n",
            "Epoch 1963\n",
            "Train: 100%|██████████| 82/82 [00:31<00:00,  2.63it/s]\n",
            "Epoch 1964\n",
            "Train: 100%|██████████| 82/82 [00:27<00:00,  3.00it/s]\n",
            "Epoch 1965\n",
            "Train: 100%|██████████| 82/82 [00:31<00:00,  2.61it/s]\n",
            "Epoch 1966\n",
            "Train: 100%|██████████| 82/82 [00:29<00:00,  2.81it/s]\n",
            "Epoch 1967\n",
            "Train: 100%|██████████| 82/82 [00:31<00:00,  2.57it/s]\n",
            "Epoch 1968\n",
            "Train: 100%|██████████| 82/82 [00:26<00:00,  3.06it/s]\n",
            "Epoch 1969\n",
            "Train: 100%|██████████| 82/82 [00:31<00:00,  2.63it/s]\n",
            "Epoch 1970\n",
            "Train: 100%|██████████| 82/82 [00:27<00:00,  2.98it/s]\n",
            "Eval: 100%|██████████| 7/7 [00:03<00:00,  2.32it/s]\n",
            "Epoch 1971\n"
          ]
        },
        {
          "metadata": {
            "tags": null
          },
          "name": "stdout",
          "output_type": "stream",
          "text": [
            "\tVal Dist 59.8310\t\n"
          ]
        },
        {
          "metadata": {
            "tags": null
          },
          "name": "stderr",
          "output_type": "stream",
          "text": [
            "Train: 100%|██████████| 82/82 [00:31<00:00,  2.63it/s]\n",
            "Epoch 1972\n",
            "Train: 100%|██████████| 82/82 [00:27<00:00,  2.97it/s]\n",
            "Epoch 1973\n",
            "Train: 100%|██████████| 82/82 [00:30<00:00,  2.65it/s]\n",
            "Epoch 1974\n",
            "Train: 100%|██████████| 82/82 [00:28<00:00,  2.89it/s]\n",
            "Epoch 1975\n",
            "Train: 100%|██████████| 82/82 [00:32<00:00,  2.52it/s]\n",
            "Epoch 1976\n",
            "Train: 100%|██████████| 82/82 [00:27<00:00,  2.97it/s]\n",
            "Epoch 1977\n",
            "Train: 100%|██████████| 82/82 [00:30<00:00,  2.65it/s]\n",
            "Epoch 1978\n",
            "Train: 100%|██████████| 82/82 [00:28<00:00,  2.91it/s]\n",
            "Epoch 1979\n",
            "Train: 100%|██████████| 82/82 [00:31<00:00,  2.64it/s]\n",
            "Epoch 1980\n",
            "Train: 100%|██████████| 82/82 [00:27<00:00,  2.96it/s]\n",
            "Eval: 100%|██████████| 7/7 [00:02<00:00,  3.24it/s]\n",
            "Epoch 1981\n"
          ]
        },
        {
          "metadata": {
            "tags": null
          },
          "name": "stdout",
          "output_type": "stream",
          "text": [
            "\tVal Dist 66.2280\t\n"
          ]
        },
        {
          "metadata": {
            "tags": null
          },
          "name": "stderr",
          "output_type": "stream",
          "text": [
            "Train: 100%|██████████| 82/82 [00:30<00:00,  2.65it/s]\n",
            "Epoch 1982\n",
            "Train: 100%|██████████| 82/82 [00:27<00:00,  2.93it/s]\n",
            "Epoch 1983\n",
            "Train: 100%|██████████| 82/82 [00:32<00:00,  2.50it/s]\n",
            "Epoch 1984\n",
            "Train: 100%|██████████| 82/82 [00:27<00:00,  2.93it/s]\n",
            "Epoch 1985\n",
            "Train: 100%|██████████| 82/82 [00:31<00:00,  2.62it/s]\n",
            "Epoch 1986\n",
            "Train: 100%|██████████| 82/82 [00:28<00:00,  2.85it/s]\n",
            "Epoch 1987\n",
            "Train: 100%|██████████| 82/82 [00:31<00:00,  2.61it/s]\n",
            "Epoch 1988\n",
            "Train: 100%|██████████| 82/82 [00:28<00:00,  2.93it/s]\n",
            "Epoch 1989\n",
            "Train: 100%|██████████| 82/82 [00:31<00:00,  2.62it/s]\n",
            "Epoch 1990\n",
            "Train: 100%|██████████| 82/82 [00:28<00:00,  2.91it/s]\n",
            "Eval: 100%|██████████| 7/7 [00:02<00:00,  3.16it/s]\n",
            "Epoch 1991\n"
          ]
        },
        {
          "metadata": {
            "tags": null
          },
          "name": "stdout",
          "output_type": "stream",
          "text": [
            "\tVal Dist 71.4400\t\n"
          ]
        },
        {
          "metadata": {
            "tags": null
          },
          "name": "stderr",
          "output_type": "stream",
          "text": [
            "Train: 100%|██████████| 82/82 [00:31<00:00,  2.64it/s]\n",
            "Epoch 1992\n",
            "Train: 100%|██████████| 82/82 [00:29<00:00,  2.81it/s]\n",
            "Epoch 1993\n",
            "Train: 100%|██████████| 82/82 [00:31<00:00,  2.59it/s]\n",
            "Epoch 1994\n",
            "Train: 100%|██████████| 82/82 [00:27<00:00,  2.94it/s]\n",
            "Epoch 1995\n",
            "Train: 100%|██████████| 82/82 [00:31<00:00,  2.59it/s]\n",
            "Epoch 1996\n",
            "Train: 100%|██████████| 82/82 [00:27<00:00,  2.97it/s]\n",
            "Epoch 1997\n",
            "Train: 100%|██████████| 82/82 [00:31<00:00,  2.56it/s]\n",
            "Epoch 1998\n",
            "Train: 100%|██████████| 82/82 [00:27<00:00,  2.95it/s]\n",
            "Epoch 1999\n",
            "Train: 100%|██████████| 82/82 [00:32<00:00,  2.56it/s]\n",
            "Epoch 2000\n",
            "Train: 100%|██████████| 82/82 [00:28<00:00,  2.83it/s]\n",
            "Eval: 100%|██████████| 7/7 [00:03<00:00,  2.26it/s]\n",
            "Epoch 2001\n"
          ]
        },
        {
          "metadata": {
            "tags": null
          },
          "name": "stdout",
          "output_type": "stream",
          "text": [
            "\tVal Dist 62.2270\t\n"
          ]
        },
        {
          "metadata": {
            "tags": null
          },
          "name": "stderr",
          "output_type": "stream",
          "text": [
            "Train: 100%|██████████| 82/82 [00:31<00:00,  2.62it/s]\n",
            "Epoch 2002\n",
            "Train: 100%|██████████| 82/82 [00:28<00:00,  2.90it/s]\n",
            "Epoch 2003\n",
            "Train: 100%|██████████| 82/82 [00:31<00:00,  2.62it/s]\n",
            "Epoch 2004\n",
            "Train: 100%|██████████| 82/82 [00:27<00:00,  2.93it/s]\n",
            "Epoch 2005\n",
            "Train: 100%|██████████| 82/82 [00:31<00:00,  2.61it/s]\n",
            "Epoch 2006\n",
            "Train: 100%|██████████| 82/82 [00:28<00:00,  2.89it/s]\n",
            "Epoch 2007\n",
            "Train: 100%|██████████| 82/82 [00:31<00:00,  2.62it/s]\n",
            "Epoch 2008\n",
            "Train: 100%|██████████| 82/82 [00:27<00:00,  2.94it/s]\n",
            "Epoch 2009\n",
            "Train: 100%|██████████| 82/82 [00:32<00:00,  2.53it/s]\n",
            "Epoch 2010\n",
            "Train: 100%|██████████| 82/82 [00:28<00:00,  2.91it/s]\n",
            "Eval: 100%|██████████| 7/7 [00:02<00:00,  3.19it/s]\n",
            "Epoch 2011\n"
          ]
        },
        {
          "metadata": {
            "tags": null
          },
          "name": "stdout",
          "output_type": "stream",
          "text": [
            "\tVal Dist 63.6430\t\n"
          ]
        },
        {
          "metadata": {
            "tags": null
          },
          "name": "stderr",
          "output_type": "stream",
          "text": [
            "Train: 100%|██████████| 82/82 [00:31<00:00,  2.63it/s]\n",
            "Epoch 2012\n",
            "Train: 100%|██████████| 82/82 [00:27<00:00,  2.96it/s]\n",
            "Epoch 2013\n",
            "Train: 100%|██████████| 82/82 [00:30<00:00,  2.65it/s]\n",
            "Epoch 2014\n",
            "Train: 100%|██████████| 82/82 [00:27<00:00,  2.95it/s]\n",
            "Epoch 2015\n",
            "Train: 100%|██████████| 82/82 [00:31<00:00,  2.64it/s]\n",
            "Epoch 2016\n",
            "Train: 100%|██████████| 82/82 [00:27<00:00,  2.97it/s]\n",
            "Epoch 2017\n",
            "Train: 100%|██████████| 82/82 [00:31<00:00,  2.63it/s]\n",
            "Epoch 2018\n",
            "Train: 100%|██████████| 82/82 [00:28<00:00,  2.86it/s]\n",
            "Epoch 2019\n",
            "Train: 100%|██████████| 82/82 [00:31<00:00,  2.57it/s]\n",
            "Epoch 2020\n",
            "Train: 100%|██████████| 82/82 [00:28<00:00,  2.90it/s]\n",
            "Eval: 100%|██████████| 7/7 [00:02<00:00,  3.07it/s]\n",
            "Epoch 2021\n"
          ]
        },
        {
          "metadata": {
            "tags": null
          },
          "name": "stdout",
          "output_type": "stream",
          "text": [
            "\tVal Dist 57.6690\t\n"
          ]
        },
        {
          "metadata": {
            "tags": null
          },
          "name": "stderr",
          "output_type": "stream",
          "text": [
            "Train: 100%|██████████| 82/82 [00:32<00:00,  2.56it/s]\n",
            "Epoch 2022\n",
            "Train: 100%|██████████| 82/82 [00:26<00:00,  3.04it/s]\n",
            "Epoch 2023\n",
            "Train: 100%|██████████| 82/82 [00:32<00:00,  2.54it/s]\n",
            "Epoch 2024\n",
            "Train: 100%|██████████| 82/82 [00:27<00:00,  3.00it/s]\n",
            "Epoch 2025\n",
            "Train: 100%|██████████| 82/82 [00:31<00:00,  2.59it/s]\n",
            "Epoch 2026\n",
            "Train: 100%|██████████| 82/82 [00:28<00:00,  2.88it/s]\n",
            "Epoch 2027\n",
            "Train: 100%|██████████| 82/82 [00:32<00:00,  2.55it/s]\n",
            "Epoch 2028\n",
            "Train: 100%|██████████| 82/82 [00:27<00:00,  3.02it/s]\n",
            "Epoch 2029\n",
            "Train: 100%|██████████| 82/82 [00:31<00:00,  2.61it/s]\n",
            "Epoch 2030\n",
            "Train: 100%|██████████| 82/82 [00:27<00:00,  3.01it/s]\n",
            "Eval: 100%|██████████| 7/7 [00:02<00:00,  2.91it/s]\n",
            "Epoch 2031\n"
          ]
        },
        {
          "metadata": {
            "tags": null
          },
          "name": "stdout",
          "output_type": "stream",
          "text": [
            "\tVal Dist 74.3740\t\n"
          ]
        },
        {
          "metadata": {
            "tags": null
          },
          "name": "stderr",
          "output_type": "stream",
          "text": [
            "Train: 100%|██████████| 82/82 [00:31<00:00,  2.63it/s]\n",
            "Epoch 2032\n",
            "Train: 100%|██████████| 82/82 [00:27<00:00,  2.99it/s]\n",
            "Epoch 2033\n",
            "Train: 100%|██████████| 82/82 [00:31<00:00,  2.64it/s]\n",
            "Epoch 2034\n",
            "Train: 100%|██████████| 82/82 [00:27<00:00,  3.00it/s]\n",
            "Epoch 2035\n",
            "Train: 100%|██████████| 82/82 [00:32<00:00,  2.50it/s]\n",
            "Epoch 2036\n",
            "Train: 100%|██████████| 82/82 [00:27<00:00,  2.99it/s]\n",
            "Epoch 2037\n",
            "Train: 100%|██████████| 82/82 [00:31<00:00,  2.64it/s]\n",
            "Epoch 2038\n",
            "Train: 100%|██████████| 82/82 [00:27<00:00,  2.98it/s]\n",
            "Epoch 2039\n",
            "Train: 100%|██████████| 82/82 [00:31<00:00,  2.60it/s]\n",
            "Epoch 2040\n",
            "Train: 100%|██████████| 82/82 [00:27<00:00,  2.97it/s]\n",
            "Eval: 100%|██████████| 7/7 [00:02<00:00,  3.24it/s]\n",
            "Epoch 2041\n"
          ]
        },
        {
          "metadata": {
            "tags": null
          },
          "name": "stdout",
          "output_type": "stream",
          "text": [
            "\tVal Dist 60.7730\t\n"
          ]
        },
        {
          "metadata": {
            "tags": null
          },
          "name": "stderr",
          "output_type": "stream",
          "text": [
            "Train: 100%|██████████| 82/82 [00:30<00:00,  2.66it/s]\n",
            "Epoch 2042\n",
            "Train: 100%|██████████| 82/82 [00:27<00:00,  2.99it/s]\n",
            "Epoch 2043\n",
            "Train: 100%|██████████| 82/82 [00:31<00:00,  2.62it/s]\n",
            "Epoch 2044\n",
            "Train: 100%|██████████| 82/82 [00:28<00:00,  2.85it/s]\n",
            "Epoch 2045\n",
            "Train: 100%|██████████| 82/82 [00:30<00:00,  2.65it/s]\n",
            "Epoch 2046\n",
            "Train: 100%|██████████| 82/82 [00:27<00:00,  2.99it/s]\n",
            "Epoch 2047\n",
            "Train: 100%|██████████| 82/82 [00:31<00:00,  2.62it/s]\n",
            "Epoch 2048\n",
            "Train: 100%|██████████| 82/82 [00:27<00:00,  2.97it/s]\n",
            "Epoch 2049\n",
            "Train: 100%|██████████| 82/82 [00:30<00:00,  2.65it/s]\n",
            "Epoch 2050\n",
            "Train: 100%|██████████| 82/82 [00:27<00:00,  2.99it/s]\n",
            "Eval: 100%|██████████| 7/7 [00:02<00:00,  3.16it/s]\n",
            "Epoch 2051\n"
          ]
        },
        {
          "metadata": {
            "tags": null
          },
          "name": "stdout",
          "output_type": "stream",
          "text": [
            "\tVal Dist 58.4590\t\n"
          ]
        },
        {
          "metadata": {
            "tags": null
          },
          "name": "stderr",
          "output_type": "stream",
          "text": [
            "Train: 100%|██████████| 82/82 [00:31<00:00,  2.59it/s]\n",
            "Epoch 2052\n",
            "Train: 100%|██████████| 82/82 [00:27<00:00,  3.02it/s]\n",
            "Epoch 2053\n",
            "Train: 100%|██████████| 82/82 [00:32<00:00,  2.51it/s]\n",
            "Epoch 2054\n",
            "Train: 100%|██████████| 82/82 [00:27<00:00,  2.97it/s]\n",
            "Epoch 2055\n",
            "Train: 100%|██████████| 82/82 [00:31<00:00,  2.58it/s]\n",
            "Epoch 2056\n",
            "Train: 100%|██████████| 82/82 [00:27<00:00,  3.00it/s]\n",
            "Epoch 2057\n",
            "Train: 100%|██████████| 82/82 [00:31<00:00,  2.61it/s]\n",
            "Epoch 2058\n",
            "Train: 100%|██████████| 82/82 [00:27<00:00,  2.95it/s]\n",
            "Epoch 2059\n",
            "Train: 100%|██████████| 82/82 [00:32<00:00,  2.51it/s]\n",
            "Epoch 2060\n",
            "Train: 100%|██████████| 82/82 [00:27<00:00,  3.00it/s]\n",
            "Eval: 100%|██████████| 7/7 [00:03<00:00,  2.16it/s]\n",
            "Epoch 2061\n"
          ]
        },
        {
          "metadata": {
            "tags": null
          },
          "name": "stdout",
          "output_type": "stream",
          "text": [
            "\tVal Dist 71.2970\t\n"
          ]
        },
        {
          "metadata": {
            "tags": null
          },
          "name": "stderr",
          "output_type": "stream",
          "text": [
            "Train: 100%|██████████| 82/82 [00:32<00:00,  2.52it/s]\n",
            "Epoch 2062\n",
            "Train: 100%|██████████| 82/82 [00:27<00:00,  3.04it/s]\n",
            "Epoch 2063\n",
            "Train: 100%|██████████| 82/82 [00:32<00:00,  2.55it/s]\n",
            "Epoch 2064\n",
            "Train: 100%|██████████| 82/82 [00:27<00:00,  2.95it/s]\n",
            "Epoch 2065\n",
            "Train: 100%|██████████| 82/82 [00:32<00:00,  2.56it/s]\n",
            "Epoch 2066\n",
            "Train: 100%|██████████| 82/82 [00:27<00:00,  2.95it/s]\n",
            "Epoch 2067\n",
            "Train: 100%|██████████| 82/82 [00:32<00:00,  2.53it/s]\n",
            "Epoch 2068\n",
            "Train: 100%|██████████| 82/82 [00:28<00:00,  2.89it/s]\n",
            "Epoch 2069\n",
            "Train: 100%|██████████| 82/82 [00:31<00:00,  2.58it/s]\n",
            "Epoch 2070\n",
            "Train: 100%|██████████| 82/82 [00:30<00:00,  2.71it/s]\n",
            "Eval: 100%|██████████| 7/7 [00:02<00:00,  3.11it/s]\n",
            "Epoch 2071\n"
          ]
        },
        {
          "metadata": {
            "tags": null
          },
          "name": "stdout",
          "output_type": "stream",
          "text": [
            "\tVal Dist 66.0530\t\n"
          ]
        },
        {
          "metadata": {
            "tags": null
          },
          "name": "stderr",
          "output_type": "stream",
          "text": [
            "Train: 100%|██████████| 82/82 [00:32<00:00,  2.55it/s]\n",
            "Epoch 2072\n",
            "Train: 100%|██████████| 82/82 [00:28<00:00,  2.88it/s]\n",
            "Epoch 2073\n",
            "Train: 100%|██████████| 82/82 [00:31<00:00,  2.57it/s]\n",
            "Epoch 2074\n",
            "Train: 100%|██████████| 82/82 [00:28<00:00,  2.89it/s]\n",
            "Epoch 2075\n",
            "Train: 100%|██████████| 82/82 [00:32<00:00,  2.50it/s]\n",
            "Epoch 2076\n",
            "Train: 100%|██████████| 82/82 [00:28<00:00,  2.91it/s]\n",
            "Epoch 2077\n",
            "Train: 100%|██████████| 82/82 [00:32<00:00,  2.54it/s]\n",
            "Epoch 2078\n",
            "Train: 100%|██████████| 82/82 [00:27<00:00,  2.94it/s]\n",
            "Epoch 2079\n",
            "Train: 100%|██████████| 82/82 [00:33<00:00,  2.42it/s]\n",
            "Epoch 2080\n",
            "Train: 100%|██████████| 82/82 [00:27<00:00,  3.00it/s]\n",
            "Eval: 100%|██████████| 7/7 [00:03<00:00,  2.17it/s]\n",
            "Epoch 2081\n"
          ]
        },
        {
          "metadata": {
            "tags": null
          },
          "name": "stdout",
          "output_type": "stream",
          "text": [
            "\tVal Dist 75.4560\t\n"
          ]
        },
        {
          "metadata": {
            "tags": null
          },
          "name": "stderr",
          "output_type": "stream",
          "text": [
            "Train: 100%|██████████| 82/82 [00:31<00:00,  2.64it/s]\n",
            "Epoch 2082\n",
            "Train: 100%|██████████| 82/82 [00:27<00:00,  2.95it/s]\n",
            "Epoch 2083\n",
            "Train: 100%|██████████| 82/82 [00:32<00:00,  2.56it/s]\n",
            "Epoch 2084\n",
            "Train: 100%|██████████| 82/82 [00:28<00:00,  2.89it/s]\n",
            "Epoch 2085\n",
            "Train: 100%|██████████| 82/82 [00:31<00:00,  2.57it/s]\n",
            "Epoch 2086\n",
            "Train: 100%|██████████| 82/82 [00:27<00:00,  2.94it/s]\n",
            "Epoch 2087\n",
            "Train: 100%|██████████| 82/82 [00:31<00:00,  2.57it/s]\n",
            "Epoch 2088\n",
            "Train: 100%|██████████| 82/82 [00:29<00:00,  2.81it/s]\n",
            "Epoch 2089\n",
            "Train: 100%|██████████| 82/82 [00:31<00:00,  2.63it/s]\n",
            "Epoch 2090\n",
            "Train: 100%|██████████| 82/82 [00:27<00:00,  2.98it/s]\n",
            "Eval: 100%|██████████| 7/7 [00:02<00:00,  3.20it/s]\n",
            "Epoch 2091\n"
          ]
        },
        {
          "metadata": {
            "tags": null
          },
          "name": "stdout",
          "output_type": "stream",
          "text": [
            "\tVal Dist 66.4150\t\n"
          ]
        },
        {
          "metadata": {
            "tags": null
          },
          "name": "stderr",
          "output_type": "stream",
          "text": [
            "Train: 100%|██████████| 82/82 [00:31<00:00,  2.61it/s]\n",
            "Epoch 2092\n",
            "Train: 100%|██████████| 82/82 [00:28<00:00,  2.92it/s]\n",
            "Epoch 2093\n",
            "Train: 100%|██████████| 82/82 [00:31<00:00,  2.58it/s]\n",
            "Epoch 2094\n",
            "Train: 100%|██████████| 82/82 [00:28<00:00,  2.88it/s]\n",
            "Epoch 2095\n",
            "Train: 100%|██████████| 82/82 [00:31<00:00,  2.57it/s]\n",
            "Epoch 2096\n",
            "Train: 100%|██████████| 82/82 [00:28<00:00,  2.88it/s]\n",
            "Epoch 2097\n",
            "Train: 100%|██████████| 82/82 [00:32<00:00,  2.52it/s]\n",
            "Epoch 2098\n",
            "Train: 100%|██████████| 82/82 [00:27<00:00,  2.99it/s]\n",
            "Epoch 2099\n",
            "Train: 100%|██████████| 82/82 [00:32<00:00,  2.55it/s]\n",
            "Epoch 2100\n",
            "Train: 100%|██████████| 82/82 [00:27<00:00,  2.94it/s]\n",
            "Eval: 100%|██████████| 7/7 [00:03<00:00,  2.21it/s]\n",
            "Epoch 2101\n"
          ]
        },
        {
          "metadata": {
            "tags": null
          },
          "name": "stdout",
          "output_type": "stream",
          "text": [
            "\tVal Dist 75.9510\t\n"
          ]
        },
        {
          "metadata": {
            "tags": null
          },
          "name": "stderr",
          "output_type": "stream",
          "text": [
            "Train: 100%|██████████| 82/82 [00:31<00:00,  2.61it/s]\n",
            "Epoch 2102\n",
            "Train: 100%|██████████| 82/82 [00:27<00:00,  2.96it/s]\n",
            "Epoch 2103\n",
            "Train: 100%|██████████| 82/82 [00:31<00:00,  2.63it/s]\n",
            "Epoch 2104\n",
            "Train: 100%|██████████| 82/82 [00:28<00:00,  2.91it/s]\n",
            "Epoch 2105\n",
            "Train: 100%|██████████| 82/82 [00:31<00:00,  2.62it/s]\n",
            "Epoch 2106\n",
            "Train: 100%|██████████| 82/82 [00:29<00:00,  2.79it/s]\n",
            "Epoch 2107\n",
            "Train: 100%|██████████| 82/82 [00:31<00:00,  2.61it/s]\n",
            "Epoch 2108\n",
            "Train: 100%|██████████| 82/82 [00:28<00:00,  2.92it/s]\n",
            "Epoch 2109\n",
            "Train: 100%|██████████| 82/82 [00:31<00:00,  2.63it/s]\n",
            "Epoch 2110\n",
            "Train: 100%|██████████| 82/82 [00:27<00:00,  2.97it/s]\n",
            "Eval: 100%|██████████| 7/7 [00:02<00:00,  3.23it/s]\n",
            "Epoch 2111\n"
          ]
        },
        {
          "metadata": {
            "tags": null
          },
          "name": "stdout",
          "output_type": "stream",
          "text": [
            "\tVal Dist 70.2380\t\n"
          ]
        },
        {
          "metadata": {
            "tags": null
          },
          "name": "stderr",
          "output_type": "stream",
          "text": [
            "Train: 100%|██████████| 82/82 [00:31<00:00,  2.64it/s]\n",
            "Epoch 2112\n",
            "Train: 100%|██████████| 82/82 [00:28<00:00,  2.90it/s]\n",
            "Epoch 2113\n",
            "Train: 100%|██████████| 82/82 [00:31<00:00,  2.63it/s]\n",
            "Epoch 2114\n",
            "Train: 100%|██████████| 82/82 [00:27<00:00,  2.99it/s]\n",
            "Epoch 2115\n",
            "Train: 100%|██████████| 82/82 [00:32<00:00,  2.54it/s]\n",
            "Epoch 2116\n",
            "Train: 100%|██████████| 82/82 [00:28<00:00,  2.93it/s]\n",
            "Epoch 2117\n",
            "Train: 100%|██████████| 82/82 [00:31<00:00,  2.64it/s]\n",
            "Epoch 2118\n",
            "Train: 100%|██████████| 82/82 [00:27<00:00,  2.99it/s]\n",
            "Epoch 2119\n",
            "Train: 100%|██████████| 82/82 [00:31<00:00,  2.63it/s]\n",
            "Epoch 2120\n",
            "Train: 100%|██████████| 82/82 [00:27<00:00,  2.93it/s]\n",
            "Eval: 100%|██████████| 7/7 [00:02<00:00,  2.76it/s]\n",
            "Epoch 2121\n"
          ]
        },
        {
          "metadata": {
            "tags": null
          },
          "name": "stdout",
          "output_type": "stream",
          "text": [
            "\tVal Dist 75.4460\t\n"
          ]
        },
        {
          "metadata": {
            "tags": null
          },
          "name": "stderr",
          "output_type": "stream",
          "text": [
            "Train: 100%|██████████| 82/82 [00:31<00:00,  2.62it/s]\n",
            "Epoch 2122\n",
            "Train: 100%|██████████| 82/82 [00:26<00:00,  3.07it/s]\n",
            "Epoch 2123\n",
            "Train: 100%|██████████| 82/82 [00:32<00:00,  2.56it/s]\n",
            "Epoch 2124\n",
            "Train: 100%|██████████| 82/82 [00:28<00:00,  2.84it/s]\n",
            "Epoch 2125\n",
            "Train: 100%|██████████| 82/82 [00:31<00:00,  2.62it/s]\n",
            "Epoch 2126\n",
            "Train: 100%|██████████| 82/82 [00:27<00:00,  3.02it/s]\n",
            "Epoch 2127\n",
            "Train: 100%|██████████| 82/82 [00:31<00:00,  2.62it/s]\n",
            "Epoch 2128\n",
            "Train: 100%|██████████| 82/82 [00:27<00:00,  2.96it/s]\n",
            "Epoch 2129\n",
            "Train: 100%|██████████| 82/82 [00:31<00:00,  2.63it/s]\n",
            "Epoch 2130\n",
            "Train: 100%|██████████| 82/82 [00:27<00:00,  3.01it/s]\n",
            "Eval: 100%|██████████| 7/7 [00:02<00:00,  3.22it/s]\n",
            "Epoch 2131\n"
          ]
        },
        {
          "metadata": {
            "tags": null
          },
          "name": "stdout",
          "output_type": "stream",
          "text": [
            "\tVal Dist 72.2200\t\n"
          ]
        },
        {
          "metadata": {
            "tags": null
          },
          "name": "stderr",
          "output_type": "stream",
          "text": [
            "Train: 100%|██████████| 82/82 [00:30<00:00,  2.69it/s]\n",
            "Epoch 2132\n",
            "Train: 100%|██████████| 82/82 [00:27<00:00,  2.93it/s]\n",
            "Epoch 2133\n",
            "Train: 100%|██████████| 82/82 [00:30<00:00,  2.65it/s]\n",
            "Epoch 2134\n",
            "Train: 100%|██████████| 82/82 [00:28<00:00,  2.85it/s]\n",
            "Epoch 2135\n",
            "Train: 100%|██████████| 82/82 [00:31<00:00,  2.63it/s]\n",
            "Epoch 2136\n",
            "Train: 100%|██████████| 82/82 [00:27<00:00,  2.94it/s]\n",
            "Epoch 2137\n",
            "Train: 100%|██████████| 82/82 [00:30<00:00,  2.66it/s]\n",
            "Epoch 2138\n",
            "Train: 100%|██████████| 82/82 [00:27<00:00,  2.97it/s]\n",
            "Epoch 2139\n",
            "Train: 100%|██████████| 82/82 [00:31<00:00,  2.59it/s]\n",
            "Epoch 2140\n",
            "Train: 100%|██████████| 82/82 [00:27<00:00,  2.95it/s]\n",
            "Eval: 100%|██████████| 7/7 [00:02<00:00,  2.77it/s]\n",
            "Epoch 2141\n"
          ]
        },
        {
          "metadata": {
            "tags": null
          },
          "name": "stdout",
          "output_type": "stream",
          "text": [
            "\tVal Dist 71.8180\t\n"
          ]
        },
        {
          "metadata": {
            "tags": null
          },
          "name": "stderr",
          "output_type": "stream",
          "text": [
            "Train: 100%|██████████| 82/82 [00:31<00:00,  2.63it/s]\n",
            "Epoch 2142\n",
            "Train: 100%|██████████| 82/82 [00:27<00:00,  2.97it/s]\n",
            "Epoch 2143\n",
            "Train: 100%|██████████| 82/82 [00:32<00:00,  2.51it/s]\n",
            "Epoch 2144\n",
            "Train: 100%|██████████| 82/82 [00:27<00:00,  2.99it/s]\n",
            "Epoch 2145\n",
            "Train: 100%|██████████| 82/82 [00:31<00:00,  2.58it/s]\n",
            "Epoch 2146\n",
            "Train: 100%|██████████| 82/82 [00:27<00:00,  2.97it/s]\n",
            "Epoch 2147\n",
            "Train: 100%|██████████| 82/82 [00:31<00:00,  2.60it/s]\n",
            "Epoch 2148\n",
            "Train: 100%|██████████| 82/82 [00:27<00:00,  3.00it/s]\n",
            "Epoch 2149\n",
            "Train: 100%|██████████| 82/82 [00:31<00:00,  2.58it/s]\n",
            "Epoch 2150\n",
            "Train: 100%|██████████| 82/82 [00:27<00:00,  3.02it/s]\n",
            "Eval: 100%|██████████| 7/7 [00:03<00:00,  2.29it/s]\n",
            "Epoch 2151\n"
          ]
        },
        {
          "metadata": {
            "tags": null
          },
          "name": "stdout",
          "output_type": "stream",
          "text": [
            "\tVal Dist 72.6700\t\n"
          ]
        },
        {
          "metadata": {
            "tags": null
          },
          "name": "stderr",
          "output_type": "stream",
          "text": [
            "Train: 100%|██████████| 82/82 [00:31<00:00,  2.61it/s]\n",
            "Epoch 2152\n",
            "Train: 100%|██████████| 82/82 [00:28<00:00,  2.90it/s]\n",
            "Epoch 2153\n",
            "Train: 100%|██████████| 82/82 [00:32<00:00,  2.51it/s]\n",
            "Epoch 2154\n",
            "Train: 100%|██████████| 82/82 [00:27<00:00,  3.01it/s]\n",
            "Epoch 2155\n",
            "Train: 100%|██████████| 82/82 [00:31<00:00,  2.61it/s]\n",
            "Epoch 2156\n",
            "Train: 100%|██████████| 82/82 [00:27<00:00,  2.95it/s]\n",
            "Epoch 2157\n",
            "Train: 100%|██████████| 82/82 [00:31<00:00,  2.59it/s]\n",
            "Epoch 2158\n",
            "Train: 100%|██████████| 82/82 [00:27<00:00,  3.00it/s]\n",
            "Epoch 2159\n",
            "Train: 100%|██████████| 82/82 [00:31<00:00,  2.63it/s]\n",
            "Epoch 2160\n",
            "Train: 100%|██████████| 82/82 [00:27<00:00,  2.97it/s]\n",
            "Eval: 100%|██████████| 7/7 [00:02<00:00,  3.23it/s]\n",
            "Epoch 2161\n"
          ]
        },
        {
          "metadata": {
            "tags": null
          },
          "name": "stdout",
          "output_type": "stream",
          "text": [
            "\tVal Dist 69.6450\t\n"
          ]
        },
        {
          "metadata": {
            "tags": null
          },
          "name": "stderr",
          "output_type": "stream",
          "text": [
            "Train: 100%|██████████| 82/82 [00:31<00:00,  2.60it/s]\n",
            "Epoch 2162\n",
            "Train: 100%|██████████| 82/82 [00:28<00:00,  2.83it/s]\n",
            "Epoch 2163\n",
            "Train: 100%|██████████| 82/82 [00:31<00:00,  2.62it/s]\n",
            "Epoch 2164\n",
            "Train: 100%|██████████| 82/82 [00:27<00:00,  2.97it/s]\n",
            "Epoch 2165\n",
            "Train: 100%|██████████| 82/82 [00:31<00:00,  2.61it/s]\n",
            "Epoch 2166\n",
            "Train: 100%|██████████| 82/82 [00:27<00:00,  2.97it/s]\n",
            "Epoch 2167\n",
            "Train: 100%|██████████| 82/82 [00:31<00:00,  2.62it/s]\n",
            "Epoch 2168\n",
            "Train: 100%|██████████| 82/82 [00:27<00:00,  2.96it/s]\n",
            "Epoch 2169\n",
            "Train: 100%|██████████| 82/82 [00:31<00:00,  2.59it/s]\n",
            "Epoch 2170\n",
            "Train: 100%|██████████| 82/82 [00:27<00:00,  2.97it/s]\n",
            "Eval: 100%|██████████| 7/7 [00:02<00:00,  3.22it/s]\n",
            "Epoch 2171\n"
          ]
        },
        {
          "metadata": {
            "tags": null
          },
          "name": "stdout",
          "output_type": "stream",
          "text": [
            "\tVal Dist 71.1910\t\n"
          ]
        },
        {
          "metadata": {
            "tags": null
          },
          "name": "stderr",
          "output_type": "stream",
          "text": [
            "Train: 100%|██████████| 82/82 [00:31<00:00,  2.57it/s]\n",
            "Epoch 2172\n",
            "Train: 100%|██████████| 82/82 [00:27<00:00,  2.96it/s]\n",
            "Epoch 2173\n",
            "Train: 100%|██████████| 82/82 [00:32<00:00,  2.56it/s]\n",
            "Epoch 2174\n",
            "Train: 100%|██████████| 82/82 [00:27<00:00,  2.95it/s]\n",
            "Epoch 2175\n",
            "Train: 100%|██████████| 82/82 [00:31<00:00,  2.59it/s]\n",
            "Epoch 2176\n",
            "Train: 100%|██████████| 82/82 [00:27<00:00,  3.00it/s]\n",
            "Epoch 2177\n",
            "Train: 100%|██████████| 82/82 [00:31<00:00,  2.58it/s]\n",
            "Epoch 2178\n",
            "Train: 100%|██████████| 82/82 [00:27<00:00,  3.00it/s]\n",
            "Epoch 2179\n",
            "Train: 100%|██████████| 82/82 [00:32<00:00,  2.56it/s]\n",
            "Epoch 2180\n",
            "Train: 100%|██████████| 82/82 [00:27<00:00,  3.01it/s]\n",
            "Eval: 100%|██████████| 7/7 [00:03<00:00,  2.20it/s]\n",
            "Epoch 2181\n"
          ]
        },
        {
          "metadata": {
            "tags": null
          },
          "name": "stdout",
          "output_type": "stream",
          "text": [
            "\tVal Dist 74.3140\t\n"
          ]
        },
        {
          "metadata": {
            "tags": null
          },
          "name": "stderr",
          "output_type": "stream",
          "text": [
            "Train: 100%|██████████| 82/82 [00:33<00:00,  2.48it/s]\n",
            "Epoch 2182\n",
            "Train: 100%|██████████| 82/82 [00:28<00:00,  2.91it/s]\n",
            "Epoch 2183\n",
            "Train: 100%|██████████| 82/82 [00:31<00:00,  2.59it/s]\n",
            "Epoch 2184\n",
            "Train: 100%|██████████| 82/82 [00:27<00:00,  2.95it/s]\n",
            "Epoch 2185\n",
            "Train: 100%|██████████| 82/82 [00:32<00:00,  2.56it/s]\n",
            "Epoch 2186\n",
            "Train: 100%|██████████| 82/82 [00:27<00:00,  2.97it/s]\n",
            "Epoch 2187\n",
            "Train: 100%|██████████| 82/82 [00:31<00:00,  2.64it/s]\n",
            "Epoch 2188\n",
            "Train: 100%|██████████| 82/82 [00:27<00:00,  2.95it/s]\n",
            "Epoch 2189\n",
            "Train: 100%|██████████| 82/82 [00:31<00:00,  2.59it/s]\n",
            "Epoch 2190\n",
            "Train: 100%|██████████| 82/82 [00:29<00:00,  2.80it/s]\n",
            "Eval: 100%|██████████| 7/7 [00:02<00:00,  3.21it/s]\n",
            "Epoch 2191\n"
          ]
        },
        {
          "metadata": {
            "tags": null
          },
          "name": "stdout",
          "output_type": "stream",
          "text": [
            "\tVal Dist 62.3470\t\n"
          ]
        },
        {
          "metadata": {
            "tags": null
          },
          "name": "stderr",
          "output_type": "stream",
          "text": [
            "Train: 100%|██████████| 82/82 [00:31<00:00,  2.62it/s]\n",
            "Epoch 2192\n",
            "Train: 100%|██████████| 82/82 [00:27<00:00,  2.98it/s]\n",
            "Epoch 2193\n",
            "Train: 100%|██████████| 82/82 [00:31<00:00,  2.63it/s]\n",
            "Epoch 2194\n",
            "Train: 100%|██████████| 82/82 [00:27<00:00,  2.95it/s]\n",
            "Epoch 2195\n",
            "Train: 100%|██████████| 82/82 [00:31<00:00,  2.61it/s]\n",
            "Epoch 2196\n",
            "Train: 100%|██████████| 82/82 [00:27<00:00,  2.96it/s]\n",
            "Epoch 2197\n",
            "Train: 100%|██████████| 82/82 [00:31<00:00,  2.63it/s]\n",
            "Epoch 2198\n",
            "Train: 100%|██████████| 82/82 [00:28<00:00,  2.91it/s]\n",
            "Epoch 2199\n",
            "Train: 100%|██████████| 82/82 [00:31<00:00,  2.64it/s]\n",
            "Epoch 2200\n",
            "Train: 100%|██████████| 82/82 [00:28<00:00,  2.86it/s]\n",
            "Eval: 100%|██████████| 7/7 [00:02<00:00,  2.71it/s]\n",
            "Epoch 2201\n"
          ]
        },
        {
          "metadata": {
            "tags": null
          },
          "name": "stdout",
          "output_type": "stream",
          "text": [
            "\tVal Dist 68.4940\t\n"
          ]
        },
        {
          "metadata": {
            "tags": null
          },
          "name": "stderr",
          "output_type": "stream",
          "text": [
            "Train: 100%|██████████| 82/82 [00:31<00:00,  2.61it/s]\n",
            "Epoch 2202\n",
            "Train: 100%|██████████| 82/82 [00:27<00:00,  2.99it/s]\n",
            "Epoch 2203\n",
            "Train: 100%|██████████| 82/82 [00:31<00:00,  2.57it/s]\n",
            "Epoch 2204\n",
            "Train: 100%|██████████| 82/82 [00:27<00:00,  3.03it/s]\n",
            "Epoch 2205\n",
            "Train: 100%|██████████| 82/82 [00:31<00:00,  2.58it/s]\n",
            "Epoch 2206\n",
            "Train: 100%|██████████| 82/82 [00:27<00:00,  2.97it/s]\n",
            "Epoch 2207\n",
            "Train: 100%|██████████| 82/82 [00:31<00:00,  2.61it/s]\n",
            "Epoch 2208\n",
            "Train: 100%|██████████| 82/82 [00:27<00:00,  2.97it/s]\n",
            "Epoch 2209\n",
            "Train: 100%|██████████| 82/82 [00:31<00:00,  2.56it/s]\n",
            "Epoch 2210\n",
            "Train: 100%|██████████| 82/82 [00:28<00:00,  2.89it/s]\n",
            "Eval: 100%|██████████| 7/7 [00:02<00:00,  2.89it/s]\n",
            "Epoch 2211\n"
          ]
        },
        {
          "metadata": {
            "tags": null
          },
          "name": "stdout",
          "output_type": "stream",
          "text": [
            "\tVal Dist 71.0660\t\n"
          ]
        },
        {
          "metadata": {
            "tags": null
          },
          "name": "stderr",
          "output_type": "stream",
          "text": [
            "Train: 100%|██████████| 82/82 [00:30<00:00,  2.65it/s]\n",
            "Epoch 2212\n",
            "Train: 100%|██████████| 82/82 [00:27<00:00,  2.96it/s]\n",
            "Epoch 2213\n",
            "Train: 100%|██████████| 82/82 [00:31<00:00,  2.60it/s]\n",
            "Epoch 2214\n",
            "Train: 100%|██████████| 82/82 [00:28<00:00,  2.90it/s]\n",
            "Epoch 2215\n",
            "Train: 100%|██████████| 82/82 [00:31<00:00,  2.62it/s]\n",
            "Epoch 2216\n",
            "Train: 100%|██████████| 82/82 [00:27<00:00,  2.96it/s]\n",
            "Epoch 2217\n",
            "Train: 100%|██████████| 82/82 [00:30<00:00,  2.66it/s]\n",
            "Epoch 2218\n",
            "Train: 100%|██████████| 82/82 [00:27<00:00,  2.93it/s]\n",
            "Epoch 2219\n",
            "Train: 100%|██████████| 82/82 [00:32<00:00,  2.51it/s]\n",
            "Epoch 2220\n",
            "Train: 100%|██████████| 82/82 [00:27<00:00,  2.97it/s]\n",
            "Eval: 100%|██████████| 7/7 [00:02<00:00,  3.21it/s]\n",
            "Epoch 2221\n"
          ]
        },
        {
          "metadata": {
            "tags": null
          },
          "name": "stdout",
          "output_type": "stream",
          "text": [
            "\tVal Dist 72.9850\t\n"
          ]
        },
        {
          "metadata": {
            "tags": null
          },
          "name": "stderr",
          "output_type": "stream",
          "text": [
            "Train: 100%|██████████| 82/82 [00:30<00:00,  2.66it/s]\n",
            "Epoch 2222\n",
            "Train: 100%|██████████| 82/82 [00:28<00:00,  2.90it/s]\n",
            "Epoch 2223\n",
            "Train: 100%|██████████| 82/82 [00:31<00:00,  2.63it/s]\n",
            "Epoch 2224\n",
            "Train: 100%|██████████| 82/82 [00:27<00:00,  2.97it/s]\n",
            "Epoch 2225\n",
            "Train: 100%|██████████| 82/82 [00:31<00:00,  2.64it/s]\n",
            "Epoch 2226\n",
            "Train: 100%|██████████| 82/82 [00:28<00:00,  2.92it/s]\n",
            "Epoch 2227\n",
            "Train: 100%|██████████| 82/82 [00:31<00:00,  2.63it/s]\n",
            "Epoch 2228\n",
            "Train: 100%|██████████| 82/82 [00:27<00:00,  2.99it/s]\n",
            "Epoch 2229\n",
            "Train: 100%|██████████| 82/82 [00:32<00:00,  2.52it/s]\n",
            "Epoch 2230\n",
            "Train: 100%|██████████| 82/82 [00:27<00:00,  2.94it/s]\n",
            "Eval: 100%|██████████| 7/7 [00:03<00:00,  2.10it/s]\n",
            "Epoch 2231\n"
          ]
        },
        {
          "metadata": {
            "tags": null
          },
          "name": "stdout",
          "output_type": "stream",
          "text": [
            "\tVal Dist 68.8570\t\n"
          ]
        },
        {
          "metadata": {
            "tags": null
          },
          "name": "stderr",
          "output_type": "stream",
          "text": [
            "Train: 100%|██████████| 82/82 [00:31<00:00,  2.60it/s]\n",
            "Epoch 2232\n",
            "Train: 100%|██████████| 82/82 [00:27<00:00,  2.94it/s]\n",
            "Epoch 2233\n",
            "Train: 100%|██████████| 82/82 [00:31<00:00,  2.61it/s]\n",
            "Epoch 2234\n",
            "Train: 100%|██████████| 82/82 [00:28<00:00,  2.87it/s]\n",
            "Epoch 2235\n",
            "Train: 100%|██████████| 82/82 [00:31<00:00,  2.62it/s]\n",
            "Epoch 2236\n",
            "Train: 100%|██████████| 82/82 [00:27<00:00,  2.97it/s]\n",
            "Epoch 2237\n",
            "Train: 100%|██████████| 82/82 [00:31<00:00,  2.64it/s]\n",
            "Epoch 2238\n",
            "Train: 100%|██████████| 82/82 [00:29<00:00,  2.82it/s]\n",
            "Epoch 2239\n",
            "Train: 100%|██████████| 82/82 [00:32<00:00,  2.54it/s]\n",
            "Epoch 2240\n",
            "Train: 100%|██████████| 82/82 [00:27<00:00,  2.94it/s]\n",
            "Eval: 100%|██████████| 7/7 [00:02<00:00,  3.13it/s]\n",
            "Epoch 2241\n"
          ]
        },
        {
          "metadata": {
            "tags": null
          },
          "name": "stdout",
          "output_type": "stream",
          "text": [
            "\tVal Dist 66.2580\t\n"
          ]
        },
        {
          "metadata": {
            "tags": null
          },
          "name": "stderr",
          "output_type": "stream",
          "text": [
            "Train: 100%|██████████| 82/82 [00:31<00:00,  2.62it/s]\n",
            "Epoch 2242\n",
            "Train: 100%|██████████| 82/82 [00:27<00:00,  2.95it/s]\n",
            "Epoch 2243\n",
            "Train: 100%|██████████| 82/82 [00:31<00:00,  2.57it/s]\n",
            "Epoch 2244\n",
            "Train: 100%|██████████| 82/82 [00:27<00:00,  2.95it/s]\n",
            "Epoch 2245\n",
            "Train: 100%|██████████| 82/82 [00:31<00:00,  2.60it/s]\n",
            "Epoch 2246\n",
            "Train: 100%|██████████| 82/82 [00:27<00:00,  2.98it/s]\n",
            "Epoch 2247\n",
            "Train: 100%|██████████| 82/82 [00:32<00:00,  2.54it/s]\n",
            "Epoch 2248\n",
            "Train: 100%|██████████| 82/82 [00:29<00:00,  2.81it/s]\n",
            "Epoch 2249\n",
            "Train: 100%|██████████| 82/82 [00:31<00:00,  2.60it/s]\n",
            "Epoch 2250\n",
            "Train: 100%|██████████| 82/82 [00:27<00:00,  2.95it/s]\n",
            "Eval: 100%|██████████| 7/7 [00:02<00:00,  2.59it/s]\n",
            "Epoch 2251\n"
          ]
        },
        {
          "metadata": {
            "tags": null
          },
          "name": "stdout",
          "output_type": "stream",
          "text": [
            "\tVal Dist 66.1060\t\n"
          ]
        },
        {
          "metadata": {
            "tags": null
          },
          "name": "stderr",
          "output_type": "stream",
          "text": [
            "Train: 100%|██████████| 82/82 [00:32<00:00,  2.51it/s]\n",
            "Epoch 2252\n",
            "Train: 100%|██████████| 82/82 [00:27<00:00,  2.99it/s]\n",
            "Epoch 2253\n",
            "Train: 100%|██████████| 82/82 [00:31<00:00,  2.60it/s]\n",
            "Epoch 2254\n",
            "Train: 100%|██████████| 82/82 [00:27<00:00,  3.01it/s]\n",
            "Epoch 2255\n",
            "Train: 100%|██████████| 82/82 [00:32<00:00,  2.56it/s]\n",
            "Epoch 2256\n",
            "Train: 100%|██████████| 82/82 [00:27<00:00,  2.97it/s]\n",
            "Epoch 2257\n",
            "Train: 100%|██████████| 82/82 [00:31<00:00,  2.63it/s]\n",
            "Epoch 2258\n",
            "Train: 100%|██████████| 82/82 [00:28<00:00,  2.86it/s]\n",
            "Epoch 2259\n",
            "Train: 100%|██████████| 82/82 [00:31<00:00,  2.64it/s]\n",
            "Epoch 2260\n",
            "Train: 100%|██████████| 82/82 [00:27<00:00,  2.98it/s]\n",
            "Eval: 100%|██████████| 7/7 [00:02<00:00,  3.18it/s]\n",
            "Epoch 2261\n"
          ]
        },
        {
          "metadata": {
            "tags": null
          },
          "name": "stdout",
          "output_type": "stream",
          "text": [
            "\tVal Dist 60.4110\t\n"
          ]
        },
        {
          "metadata": {
            "tags": null
          },
          "name": "stderr",
          "output_type": "stream",
          "text": [
            "Train: 100%|██████████| 82/82 [00:31<00:00,  2.64it/s]\n",
            "Epoch 2262\n",
            "Train: 100%|██████████| 82/82 [00:27<00:00,  2.99it/s]\n",
            "Epoch 2263\n",
            "Train: 100%|██████████| 82/82 [00:31<00:00,  2.60it/s]\n",
            "Epoch 2264\n",
            "Train: 100%|██████████| 82/82 [00:27<00:00,  2.94it/s]\n",
            "Epoch 2265\n",
            "Train: 100%|██████████| 82/82 [00:31<00:00,  2.59it/s]\n",
            "Epoch 2266\n",
            "Train: 100%|██████████| 82/82 [00:27<00:00,  2.94it/s]\n",
            "Epoch 2267\n",
            "Train: 100%|██████████| 82/82 [00:32<00:00,  2.51it/s]\n",
            "Epoch 2268\n",
            "Train: 100%|██████████| 82/82 [00:27<00:00,  2.96it/s]\n",
            "Epoch 2269\n",
            "Train: 100%|██████████| 82/82 [00:31<00:00,  2.63it/s]\n",
            "Epoch 2270\n",
            "Train: 100%|██████████| 82/82 [00:27<00:00,  2.97it/s]\n",
            "Eval: 100%|██████████| 7/7 [00:02<00:00,  3.02it/s]\n",
            "Epoch 2271\n"
          ]
        },
        {
          "metadata": {
            "tags": null
          },
          "name": "stdout",
          "output_type": "stream",
          "text": [
            "\tVal Dist 54.4900\t\n"
          ]
        },
        {
          "metadata": {
            "tags": null
          },
          "name": "stderr",
          "output_type": "stream",
          "text": [
            "Train: 100%|██████████| 82/82 [00:32<00:00,  2.54it/s]\n",
            "Epoch 2272\n",
            "Train: 100%|██████████| 82/82 [00:27<00:00,  3.01it/s]\n",
            "Epoch 2273\n",
            "Train: 100%|██████████| 82/82 [00:32<00:00,  2.55it/s]\n",
            "Epoch 2274\n",
            "Train: 100%|██████████| 82/82 [00:27<00:00,  3.00it/s]\n",
            "Epoch 2275\n",
            "Train: 100%|██████████| 82/82 [00:32<00:00,  2.51it/s]\n",
            "Epoch 2276\n",
            "Train: 100%|██████████| 82/82 [00:27<00:00,  2.99it/s]\n",
            "Epoch 2277\n",
            "Train: 100%|██████████| 82/82 [00:33<00:00,  2.48it/s]\n",
            "Epoch 2278\n",
            "Train: 100%|██████████| 82/82 [00:27<00:00,  2.95it/s]\n",
            "Epoch 2279\n",
            "Train: 100%|██████████| 82/82 [00:31<00:00,  2.59it/s]\n",
            "Epoch 2280\n",
            "Train: 100%|██████████| 82/82 [00:27<00:00,  2.94it/s]\n",
            "Eval: 100%|██████████| 7/7 [00:02<00:00,  3.14it/s]\n",
            "Epoch 2281\n"
          ]
        },
        {
          "metadata": {
            "tags": null
          },
          "name": "stdout",
          "output_type": "stream",
          "text": [
            "\tVal Dist 68.2030\t\n"
          ]
        },
        {
          "metadata": {
            "tags": null
          },
          "name": "stderr",
          "output_type": "stream",
          "text": [
            "Train: 100%|██████████| 82/82 [00:31<00:00,  2.63it/s]\n",
            "Epoch 2282\n",
            "Train: 100%|██████████| 82/82 [00:27<00:00,  2.96it/s]\n",
            "Epoch 2283\n",
            "Train: 100%|██████████| 82/82 [00:32<00:00,  2.55it/s]\n",
            "Epoch 2284\n",
            "Train: 100%|██████████| 82/82 [00:27<00:00,  2.97it/s]\n",
            "Epoch 2285\n",
            "Train: 100%|██████████| 82/82 [00:31<00:00,  2.62it/s]\n",
            "Epoch 2286\n",
            "Train: 100%|██████████| 82/82 [00:27<00:00,  2.96it/s]\n",
            "Epoch 2287\n",
            "Train: 100%|██████████| 82/82 [00:32<00:00,  2.51it/s]\n",
            "Epoch 2288\n",
            "Train: 100%|██████████| 82/82 [00:27<00:00,  2.93it/s]\n",
            "Epoch 2289\n",
            "Train: 100%|██████████| 82/82 [00:31<00:00,  2.59it/s]\n",
            "Epoch 2290\n",
            "Train: 100%|██████████| 82/82 [00:27<00:00,  2.95it/s]\n",
            "Eval: 100%|██████████| 7/7 [00:02<00:00,  2.49it/s]\n",
            "Epoch 2291\n"
          ]
        },
        {
          "metadata": {
            "tags": null
          },
          "name": "stdout",
          "output_type": "stream",
          "text": [
            "\tVal Dist 68.6140\t\n"
          ]
        },
        {
          "metadata": {
            "tags": null
          },
          "name": "stderr",
          "output_type": "stream",
          "text": [
            "Train: 100%|██████████| 82/82 [00:32<00:00,  2.49it/s]\n",
            "Epoch 2292\n",
            "Train: 100%|██████████| 82/82 [00:28<00:00,  2.92it/s]\n",
            "Epoch 2293\n",
            "Train: 100%|██████████| 82/82 [00:32<00:00,  2.56it/s]\n",
            "Epoch 2294\n",
            "Train: 100%|██████████| 82/82 [00:27<00:00,  2.94it/s]\n",
            "Epoch 2295\n",
            "Train: 100%|██████████| 82/82 [00:32<00:00,  2.52it/s]\n",
            "Epoch 2296\n",
            "Train: 100%|██████████| 82/82 [00:28<00:00,  2.91it/s]\n",
            "Epoch 2297\n",
            "Train: 100%|██████████| 82/82 [00:33<00:00,  2.48it/s]\n",
            "Epoch 2298\n",
            "Train: 100%|██████████| 82/82 [00:28<00:00,  2.88it/s]\n",
            "Epoch 2299\n",
            "Train: 100%|██████████| 82/82 [00:32<00:00,  2.50it/s]\n",
            "Epoch 2300\n",
            "Train: 100%|██████████| 82/82 [00:28<00:00,  2.91it/s]\n",
            "Eval: 100%|██████████| 7/7 [00:02<00:00,  3.15it/s]\n",
            "Epoch 2301\n"
          ]
        },
        {
          "metadata": {
            "tags": null
          },
          "name": "stdout",
          "output_type": "stream",
          "text": [
            "\tVal Dist 58.3520\t\n"
          ]
        },
        {
          "metadata": {
            "tags": null
          },
          "name": "stderr",
          "output_type": "stream",
          "text": [
            "Train: 100%|██████████| 82/82 [00:32<00:00,  2.56it/s]\n",
            "Epoch 2302\n",
            "Train: 100%|██████████| 82/82 [00:28<00:00,  2.91it/s]\n",
            "Epoch 2303\n",
            "Train: 100%|██████████| 82/82 [00:32<00:00,  2.52it/s]\n",
            "Epoch 2304\n",
            "Train: 100%|██████████| 82/82 [00:28<00:00,  2.83it/s]\n",
            "Epoch 2305\n",
            "Train: 100%|██████████| 82/82 [00:31<00:00,  2.58it/s]\n",
            "Epoch 2306\n",
            "Train: 100%|██████████| 82/82 [00:29<00:00,  2.77it/s]\n",
            "Epoch 2307\n",
            "Train: 100%|██████████| 82/82 [00:33<00:00,  2.43it/s]\n",
            "Epoch 2308\n",
            "Train: 100%|██████████| 82/82 [00:28<00:00,  2.87it/s]\n",
            "Epoch 2309\n",
            "Train: 100%|██████████| 82/82 [00:32<00:00,  2.51it/s]\n",
            "Epoch 2310\n",
            "Train: 100%|██████████| 82/82 [00:28<00:00,  2.91it/s]\n",
            "Eval: 100%|██████████| 7/7 [00:02<00:00,  3.06it/s]\n",
            "Epoch 2311\n"
          ]
        },
        {
          "metadata": {
            "tags": null
          },
          "name": "stdout",
          "output_type": "stream",
          "text": [
            "\tVal Dist 70.8090\t\n"
          ]
        },
        {
          "metadata": {
            "tags": null
          },
          "name": "stderr",
          "output_type": "stream",
          "text": [
            "Train: 100%|██████████| 82/82 [00:32<00:00,  2.51it/s]\n",
            "Epoch 2312\n",
            "Train: 100%|██████████| 82/82 [00:28<00:00,  2.85it/s]\n",
            "Epoch 2313\n",
            "Train: 100%|██████████| 82/82 [00:31<00:00,  2.57it/s]\n",
            "Epoch 2314\n",
            "Train: 100%|██████████| 82/82 [00:28<00:00,  2.86it/s]\n",
            "Epoch 2315\n",
            "Train: 100%|██████████| 82/82 [00:33<00:00,  2.48it/s]\n",
            "Epoch 2316\n",
            "Train: 100%|██████████| 82/82 [00:30<00:00,  2.71it/s]\n",
            "Epoch 2317\n",
            "Train: 100%|██████████| 82/82 [00:33<00:00,  2.48it/s]\n",
            "Epoch 2318\n",
            "Train: 100%|██████████| 82/82 [00:28<00:00,  2.90it/s]\n",
            "Epoch 2319\n",
            "Train: 100%|██████████| 82/82 [00:33<00:00,  2.48it/s]\n",
            "Epoch 2320\n",
            "Train: 100%|██████████| 82/82 [00:27<00:00,  2.96it/s]\n",
            "Eval: 100%|██████████| 7/7 [00:02<00:00,  2.84it/s]\n",
            "Epoch 2321\n"
          ]
        },
        {
          "metadata": {
            "tags": null
          },
          "name": "stdout",
          "output_type": "stream",
          "text": [
            "\tVal Dist 71.6280\t\n"
          ]
        },
        {
          "metadata": {
            "tags": null
          },
          "name": "stderr",
          "output_type": "stream",
          "text": [
            "Train: 100%|██████████| 82/82 [00:31<00:00,  2.60it/s]\n",
            "Epoch 2322\n",
            "Train: 100%|██████████| 82/82 [00:28<00:00,  2.90it/s]\n",
            "Epoch 2323\n",
            "Train: 100%|██████████| 82/82 [00:32<00:00,  2.55it/s]\n",
            "Epoch 2324\n",
            "Train: 100%|██████████| 82/82 [00:27<00:00,  2.96it/s]\n",
            "Epoch 2325\n",
            "Train: 100%|██████████| 82/82 [00:32<00:00,  2.50it/s]\n",
            "Epoch 2326\n",
            "Train: 100%|██████████| 82/82 [00:27<00:00,  2.94it/s]\n",
            "Epoch 2327\n",
            "Train: 100%|██████████| 82/82 [00:32<00:00,  2.54it/s]\n",
            "Epoch 2328\n",
            "Train: 100%|██████████| 82/82 [00:27<00:00,  2.95it/s]\n",
            "Epoch 2329\n",
            "Train: 100%|██████████| 82/82 [00:31<00:00,  2.62it/s]\n",
            "Epoch 2330\n",
            "Train: 100%|██████████| 82/82 [00:27<00:00,  2.94it/s]\n",
            "Eval: 100%|██████████| 7/7 [00:02<00:00,  3.22it/s]\n",
            "Epoch 2331\n"
          ]
        },
        {
          "metadata": {
            "tags": null
          },
          "name": "stdout",
          "output_type": "stream",
          "text": [
            "\tVal Dist 64.8220\t\n"
          ]
        },
        {
          "metadata": {
            "tags": null
          },
          "name": "stderr",
          "output_type": "stream",
          "text": [
            "Train: 100%|██████████| 82/82 [00:31<00:00,  2.59it/s]\n",
            "Epoch 2332\n",
            "Train: 100%|██████████| 82/82 [00:27<00:00,  2.95it/s]\n",
            "Epoch 2333\n",
            "Train: 100%|██████████| 82/82 [00:31<00:00,  2.62it/s]\n",
            "Epoch 2334\n",
            "Train: 100%|██████████| 82/82 [00:27<00:00,  2.94it/s]\n",
            "Epoch 2335\n",
            "Train: 100%|██████████| 82/82 [00:33<00:00,  2.44it/s]\n",
            "Epoch 2336\n",
            "Train: 100%|██████████| 82/82 [00:27<00:00,  3.01it/s]\n",
            "Epoch 2337\n",
            "Train: 100%|██████████| 82/82 [00:31<00:00,  2.60it/s]\n",
            "Epoch 2338\n",
            "Train: 100%|██████████| 82/82 [00:27<00:00,  3.00it/s]\n",
            "Epoch 2339\n",
            "Train: 100%|██████████| 82/82 [00:31<00:00,  2.58it/s]\n",
            "Epoch 2340\n",
            "Train: 100%|██████████| 82/82 [00:27<00:00,  2.93it/s]\n",
            "Eval: 100%|██████████| 7/7 [00:03<00:00,  2.21it/s]\n",
            "Epoch 2341\n"
          ]
        },
        {
          "metadata": {
            "tags": null
          },
          "name": "stdout",
          "output_type": "stream",
          "text": [
            "\tVal Dist 67.4700\t\n"
          ]
        },
        {
          "metadata": {
            "tags": null
          },
          "name": "stderr",
          "output_type": "stream",
          "text": [
            "Train: 100%|██████████| 82/82 [00:31<00:00,  2.62it/s]\n",
            "Epoch 2342\n",
            "Train: 100%|██████████| 82/82 [00:27<00:00,  2.95it/s]\n",
            "Epoch 2343\n",
            "Train: 100%|██████████| 82/82 [00:31<00:00,  2.59it/s]\n",
            "Epoch 2344\n",
            "Train: 100%|██████████| 82/82 [00:28<00:00,  2.89it/s]\n",
            "Epoch 2345\n",
            "Train: 100%|██████████| 82/82 [00:32<00:00,  2.50it/s]\n",
            "Epoch 2346\n",
            "Train: 100%|██████████| 82/82 [00:28<00:00,  2.91it/s]\n",
            "Epoch 2347\n",
            "Train: 100%|██████████| 82/82 [00:31<00:00,  2.58it/s]\n",
            "Epoch 2348\n",
            "Train: 100%|██████████| 82/82 [00:28<00:00,  2.88it/s]\n",
            "Epoch 2349\n",
            "Train: 100%|██████████| 82/82 [00:31<00:00,  2.60it/s]\n",
            "Epoch 2350\n",
            "Train: 100%|██████████| 82/82 [00:28<00:00,  2.92it/s]\n",
            "Eval: 100%|██████████| 7/7 [00:02<00:00,  3.19it/s]\n",
            "Epoch 2351\n"
          ]
        },
        {
          "metadata": {
            "tags": null
          },
          "name": "stdout",
          "output_type": "stream",
          "text": [
            "\tVal Dist 76.0240\t\n"
          ]
        },
        {
          "metadata": {
            "tags": null
          },
          "name": "stderr",
          "output_type": "stream",
          "text": [
            "Train: 100%|██████████| 82/82 [00:31<00:00,  2.60it/s]\n",
            "Epoch 2352\n",
            "Train: 100%|██████████| 82/82 [00:28<00:00,  2.85it/s]\n",
            "Epoch 2353\n",
            "Train: 100%|██████████| 82/82 [00:31<00:00,  2.59it/s]\n",
            "Epoch 2354\n",
            "Train: 100%|██████████| 82/82 [00:28<00:00,  2.87it/s]\n",
            "Epoch 2355\n",
            "Train: 100%|██████████| 82/82 [00:32<00:00,  2.49it/s]\n",
            "Epoch 2356\n",
            "Train: 100%|██████████| 82/82 [00:28<00:00,  2.88it/s]\n",
            "Epoch 2357\n",
            "Train: 100%|██████████| 82/82 [00:31<00:00,  2.56it/s]\n",
            "Epoch 2358\n",
            "Train: 100%|██████████| 82/82 [00:27<00:00,  2.97it/s]\n",
            "Epoch 2359\n",
            "Train: 100%|██████████| 82/82 [00:32<00:00,  2.50it/s]\n",
            "Epoch 2360\n",
            "Train: 100%|██████████| 82/82 [00:28<00:00,  2.85it/s]\n",
            "Eval: 100%|██████████| 7/7 [00:02<00:00,  2.89it/s]\n",
            "Epoch 2361\n"
          ]
        },
        {
          "metadata": {
            "tags": null
          },
          "name": "stdout",
          "output_type": "stream",
          "text": [
            "\tVal Dist 73.8520\t\n"
          ]
        },
        {
          "metadata": {
            "tags": null
          },
          "name": "stderr",
          "output_type": "stream",
          "text": [
            "Train: 100%|██████████| 82/82 [00:31<00:00,  2.61it/s]\n",
            "Epoch 2362\n",
            "Train: 100%|██████████| 82/82 [00:27<00:00,  2.94it/s]\n",
            "Epoch 2363\n",
            "Train: 100%|██████████| 82/82 [00:31<00:00,  2.63it/s]\n",
            "Epoch 2364\n",
            "Train: 100%|██████████| 82/82 [00:29<00:00,  2.74it/s]\n",
            "Epoch 2365\n",
            "Train: 100%|██████████| 82/82 [00:31<00:00,  2.60it/s]\n",
            "Epoch 2366\n",
            "Train: 100%|██████████| 82/82 [00:28<00:00,  2.87it/s]\n",
            "Epoch 2367\n",
            "Train: 100%|██████████| 82/82 [00:31<00:00,  2.59it/s]\n",
            "Epoch 2368\n",
            "Train: 100%|██████████| 82/82 [00:28<00:00,  2.90it/s]\n",
            "Epoch 2369\n",
            "Train: 100%|██████████| 82/82 [00:31<00:00,  2.62it/s]\n",
            "Epoch 2370\n",
            "Train: 100%|██████████| 82/82 [00:27<00:00,  2.95it/s]\n",
            "Eval: 100%|██████████| 7/7 [00:02<00:00,  3.23it/s]\n",
            "Epoch 2371\n"
          ]
        },
        {
          "metadata": {
            "tags": null
          },
          "name": "stdout",
          "output_type": "stream",
          "text": [
            "\tVal Dist 78.9610\t\n"
          ]
        },
        {
          "metadata": {
            "tags": null
          },
          "name": "stderr",
          "output_type": "stream",
          "text": [
            "Train: 100%|██████████| 82/82 [00:30<00:00,  2.66it/s]\n",
            "Epoch 2372\n",
            "Train: 100%|██████████| 82/82 [00:28<00:00,  2.90it/s]\n",
            "Epoch 2373\n",
            "Train: 100%|██████████| 82/82 [00:31<00:00,  2.59it/s]\n",
            "Epoch 2374\n",
            "Train: 100%|██████████| 82/82 [00:29<00:00,  2.79it/s]\n",
            "Epoch 2375\n",
            "Train: 100%|██████████| 82/82 [00:32<00:00,  2.53it/s]\n",
            "Epoch 2376\n",
            "Train: 100%|██████████| 82/82 [00:28<00:00,  2.91it/s]\n",
            "Epoch 2377\n",
            "Train: 100%|██████████| 82/82 [00:32<00:00,  2.55it/s]\n",
            "Epoch 2378\n",
            "Train: 100%|██████████| 82/82 [00:27<00:00,  2.96it/s]\n",
            "Epoch 2379\n",
            "Train: 100%|██████████| 82/82 [00:32<00:00,  2.54it/s]\n",
            "Epoch 2380\n",
            "Train: 100%|██████████| 82/82 [00:27<00:00,  2.95it/s]\n",
            "Eval: 100%|██████████| 7/7 [00:02<00:00,  2.63it/s]\n",
            "Epoch 2381\n"
          ]
        },
        {
          "metadata": {
            "tags": null
          },
          "name": "stdout",
          "output_type": "stream",
          "text": [
            "\tVal Dist 67.9790\t\n"
          ]
        },
        {
          "metadata": {
            "tags": null
          },
          "name": "stderr",
          "output_type": "stream",
          "text": [
            "Train: 100%|██████████| 82/82 [00:31<00:00,  2.64it/s]\n",
            "Epoch 2382\n",
            "Train: 100%|██████████| 82/82 [00:27<00:00,  2.96it/s]\n",
            "Epoch 2383\n",
            "Train: 100%|██████████| 82/82 [00:31<00:00,  2.62it/s]\n",
            "Epoch 2384\n",
            "Train: 100%|██████████| 82/82 [00:29<00:00,  2.76it/s]\n",
            "Epoch 2385\n",
            "Train: 100%|██████████| 82/82 [00:31<00:00,  2.63it/s]\n",
            "Epoch 2386\n",
            "Train: 100%|██████████| 82/82 [00:27<00:00,  2.94it/s]\n",
            "Epoch 2387\n",
            "Train: 100%|██████████| 82/82 [00:31<00:00,  2.62it/s]\n",
            "Epoch 2388\n",
            "Train: 100%|██████████| 82/82 [00:28<00:00,  2.91it/s]\n",
            "Epoch 2389\n",
            "Train: 100%|██████████| 82/82 [00:31<00:00,  2.63it/s]\n",
            "Epoch 2390\n",
            "Train: 100%|██████████| 82/82 [00:27<00:00,  2.97it/s]\n",
            "Eval: 100%|██████████| 7/7 [00:02<00:00,  3.23it/s]\n",
            "Epoch 2391\n"
          ]
        },
        {
          "metadata": {
            "tags": null
          },
          "name": "stdout",
          "output_type": "stream",
          "text": [
            "\tVal Dist 63.2530\t\n"
          ]
        },
        {
          "metadata": {
            "tags": null
          },
          "name": "stderr",
          "output_type": "stream",
          "text": [
            "Train: 100%|██████████| 82/82 [00:30<00:00,  2.65it/s]\n",
            "Epoch 2392\n",
            "Train: 100%|██████████| 82/82 [00:28<00:00,  2.90it/s]\n",
            "Epoch 2393\n",
            "Train: 100%|██████████| 82/82 [00:30<00:00,  2.65it/s]\n",
            "Epoch 2394\n",
            "Train: 100%|██████████| 82/82 [00:29<00:00,  2.78it/s]\n",
            "Epoch 2395\n",
            "Train: 100%|██████████| 82/82 [00:31<00:00,  2.64it/s]\n",
            "Epoch 2396\n",
            "Train: 100%|██████████| 82/82 [00:28<00:00,  2.92it/s]\n",
            "Epoch 2397\n",
            "Train: 100%|██████████| 82/82 [00:30<00:00,  2.65it/s]\n",
            "Epoch 2398\n",
            "Train: 100%|██████████| 82/82 [00:27<00:00,  2.98it/s]\n",
            "Epoch 2399\n",
            "Train: 100%|██████████| 82/82 [00:31<00:00,  2.64it/s]\n",
            "Epoch 2400\n",
            "Train: 100%|██████████| 82/82 [00:27<00:00,  2.99it/s]\n",
            "Eval: 100%|██████████| 7/7 [00:02<00:00,  2.46it/s]\n",
            "Epoch 2401\n"
          ]
        },
        {
          "metadata": {
            "tags": null
          },
          "name": "stdout",
          "output_type": "stream",
          "text": [
            "\tVal Dist 71.3520\t\n"
          ]
        },
        {
          "metadata": {
            "tags": null
          },
          "name": "stderr",
          "output_type": "stream",
          "text": [
            "Train: 100%|██████████| 82/82 [00:30<00:00,  2.67it/s]\n",
            "Epoch 2402\n",
            "Train: 100%|██████████| 82/82 [00:27<00:00,  3.02it/s]\n",
            "Epoch 2403\n",
            "Train: 100%|██████████| 82/82 [00:31<00:00,  2.62it/s]\n",
            "Epoch 2404\n",
            "Train: 100%|██████████| 82/82 [00:28<00:00,  2.86it/s]\n",
            "Epoch 2405\n",
            "Train: 100%|██████████| 82/82 [00:32<00:00,  2.54it/s]\n",
            "Epoch 2406\n",
            "Train: 100%|██████████| 82/82 [00:26<00:00,  3.04it/s]\n",
            "Epoch 2407\n",
            "Train: 100%|██████████| 82/82 [00:31<00:00,  2.62it/s]\n",
            "Epoch 2408\n",
            "Train: 100%|██████████| 82/82 [00:26<00:00,  3.05it/s]\n",
            "Epoch 2409\n",
            "Train: 100%|██████████| 82/82 [00:31<00:00,  2.61it/s]\n",
            "Epoch 2410\n",
            "Train: 100%|██████████| 82/82 [00:26<00:00,  3.04it/s]\n",
            "Eval: 100%|██████████| 7/7 [00:03<00:00,  2.31it/s]\n",
            "Epoch 2411\n"
          ]
        },
        {
          "metadata": {
            "tags": null
          },
          "name": "stdout",
          "output_type": "stream",
          "text": [
            "\tVal Dist 59.7010\t\n"
          ]
        },
        {
          "metadata": {
            "tags": null
          },
          "name": "stderr",
          "output_type": "stream",
          "text": [
            "Train: 100%|██████████| 82/82 [00:31<00:00,  2.64it/s]\n",
            "Epoch 2412\n",
            "Train: 100%|██████████| 82/82 [00:26<00:00,  3.08it/s]\n",
            "Epoch 2413\n",
            "Train: 100%|██████████| 82/82 [00:31<00:00,  2.57it/s]\n",
            "Epoch 2414\n",
            "Train: 100%|██████████| 82/82 [00:28<00:00,  2.87it/s]\n",
            "Epoch 2415\n",
            "Train: 100%|██████████| 82/82 [00:31<00:00,  2.62it/s]\n",
            "Epoch 2416\n",
            "Train: 100%|██████████| 82/82 [00:27<00:00,  3.02it/s]\n",
            "Epoch 2417\n",
            "Train: 100%|██████████| 82/82 [00:31<00:00,  2.59it/s]\n",
            "Epoch 2418\n",
            "Train: 100%|██████████| 82/82 [00:27<00:00,  2.99it/s]\n",
            "Epoch 2419\n",
            "Train: 100%|██████████| 82/82 [00:31<00:00,  2.62it/s]\n",
            "Epoch 2420\n",
            "Train: 100%|██████████| 82/82 [00:27<00:00,  3.03it/s]\n",
            "Eval: 100%|██████████| 7/7 [00:02<00:00,  3.00it/s]\n",
            "Epoch 2421\n"
          ]
        },
        {
          "metadata": {
            "tags": null
          },
          "name": "stdout",
          "output_type": "stream",
          "text": [
            "\tVal Dist 61.6480\t\n"
          ]
        },
        {
          "metadata": {
            "tags": null
          },
          "name": "stderr",
          "output_type": "stream",
          "text": [
            "Train: 100%|██████████| 82/82 [00:31<00:00,  2.63it/s]\n",
            "Epoch 2422\n",
            "Train: 100%|██████████| 82/82 [00:27<00:00,  2.98it/s]\n",
            "Epoch 2423\n",
            "Train: 100%|██████████| 82/82 [00:30<00:00,  2.66it/s]\n",
            "Epoch 2424\n",
            "Train: 100%|██████████| 82/82 [00:28<00:00,  2.85it/s]\n",
            "Epoch 2425\n",
            "Train: 100%|██████████| 82/82 [00:31<00:00,  2.62it/s]\n",
            "Epoch 2426\n",
            "Train: 100%|██████████| 82/82 [00:27<00:00,  3.00it/s]\n",
            "Epoch 2427\n",
            "Train: 100%|██████████| 82/82 [00:30<00:00,  2.66it/s]\n",
            "Epoch 2428\n",
            "Train: 100%|██████████| 82/82 [00:27<00:00,  3.00it/s]\n",
            "Epoch 2429\n",
            "Train: 100%|██████████| 82/82 [00:31<00:00,  2.63it/s]\n",
            "Epoch 2430\n",
            "Train: 100%|██████████| 82/82 [00:27<00:00,  2.99it/s]\n",
            "Eval: 100%|██████████| 7/7 [00:02<00:00,  3.22it/s]\n",
            "Epoch 2431\n"
          ]
        },
        {
          "metadata": {
            "tags": null
          },
          "name": "stdout",
          "output_type": "stream",
          "text": [
            "\tVal Dist 68.3770\t\n"
          ]
        },
        {
          "metadata": {
            "tags": null
          },
          "name": "stderr",
          "output_type": "stream",
          "text": [
            "Train: 100%|██████████| 82/82 [00:30<00:00,  2.65it/s]\n",
            "Epoch 2432\n",
            "Train: 100%|██████████| 82/82 [00:27<00:00,  2.99it/s]\n",
            "Epoch 2433\n",
            "Train: 100%|██████████| 82/82 [00:31<00:00,  2.63it/s]\n",
            "Epoch 2434\n",
            "Train: 100%|██████████| 82/82 [00:29<00:00,  2.78it/s]\n",
            "Epoch 2435\n",
            "Train: 100%|██████████| 82/82 [00:30<00:00,  2.66it/s]\n",
            "Epoch 2436\n",
            "Train: 100%|██████████| 82/82 [00:27<00:00,  2.96it/s]\n",
            "Epoch 2437\n",
            "Train: 100%|██████████| 82/82 [00:31<00:00,  2.62it/s]\n",
            "Epoch 2438\n",
            "Train: 100%|██████████| 82/82 [00:28<00:00,  2.89it/s]\n",
            "Epoch 2439\n",
            "Train: 100%|██████████| 82/82 [00:31<00:00,  2.63it/s]\n",
            "Epoch 2440\n",
            "Train: 100%|██████████| 82/82 [00:27<00:00,  2.97it/s]\n",
            "Eval: 100%|██████████| 7/7 [00:02<00:00,  3.22it/s]\n",
            "Epoch 2441\n"
          ]
        },
        {
          "metadata": {
            "tags": null
          },
          "name": "stdout",
          "output_type": "stream",
          "text": [
            "\tVal Dist 68.3250\t\n"
          ]
        },
        {
          "metadata": {
            "tags": null
          },
          "name": "stderr",
          "output_type": "stream",
          "text": [
            "Train: 100%|██████████| 82/82 [00:31<00:00,  2.63it/s]\n",
            "Epoch 2442\n",
            "Train: 100%|██████████| 82/82 [00:28<00:00,  2.89it/s]\n",
            "Epoch 2443\n",
            "Train: 100%|██████████| 82/82 [00:32<00:00,  2.54it/s]\n",
            "Epoch 2444\n",
            "Train: 100%|██████████| 82/82 [00:28<00:00,  2.91it/s]\n",
            "Epoch 2445\n",
            "Train: 100%|██████████| 82/82 [00:31<00:00,  2.63it/s]\n",
            "Epoch 2446\n",
            "Train: 100%|██████████| 82/82 [00:28<00:00,  2.88it/s]\n",
            "Epoch 2447\n",
            "Train: 100%|██████████| 82/82 [00:31<00:00,  2.57it/s]\n",
            "Epoch 2448\n",
            "Train: 100%|██████████| 82/82 [00:27<00:00,  3.01it/s]\n",
            "Epoch 2449\n",
            "Train: 100%|██████████| 82/82 [00:31<00:00,  2.57it/s]\n",
            "Epoch 2450\n",
            "Train: 100%|██████████| 82/82 [00:27<00:00,  2.97it/s]\n",
            "Eval: 100%|██████████| 7/7 [00:03<00:00,  2.22it/s]\n",
            "Epoch 2451\n"
          ]
        },
        {
          "metadata": {
            "tags": null
          },
          "name": "stdout",
          "output_type": "stream",
          "text": [
            "\tVal Dist 76.7000\t\n"
          ]
        },
        {
          "metadata": {
            "tags": null
          },
          "name": "stderr",
          "output_type": "stream",
          "text": [
            "Train: 100%|██████████| 82/82 [00:31<00:00,  2.61it/s]\n",
            "Epoch 2452\n",
            "Train: 100%|██████████| 82/82 [00:27<00:00,  2.98it/s]\n",
            "Epoch 2453\n",
            "Train: 100%|██████████| 82/82 [00:32<00:00,  2.49it/s]\n",
            "Epoch 2454\n",
            "Train: 100%|██████████| 82/82 [00:28<00:00,  2.85it/s]\n",
            "Epoch 2455\n",
            "Train: 100%|██████████| 82/82 [00:32<00:00,  2.53it/s]\n",
            "Epoch 2456\n",
            "Train: 100%|██████████| 82/82 [00:27<00:00,  2.94it/s]\n",
            "Epoch 2457\n",
            "Train: 100%|██████████| 82/82 [00:31<00:00,  2.59it/s]\n",
            "Epoch 2458\n",
            "Train: 100%|██████████| 82/82 [00:28<00:00,  2.87it/s]\n",
            "Epoch 2459\n",
            "Train: 100%|██████████| 82/82 [00:31<00:00,  2.60it/s]\n",
            "Epoch 2460\n",
            "Train: 100%|██████████| 82/82 [00:27<00:00,  2.93it/s]\n",
            "Eval: 100%|██████████| 7/7 [00:02<00:00,  3.11it/s]\n",
            "Epoch 2461\n"
          ]
        },
        {
          "metadata": {
            "tags": null
          },
          "name": "stdout",
          "output_type": "stream",
          "text": [
            "\tVal Dist 72.1830\t\n"
          ]
        },
        {
          "metadata": {
            "tags": null
          },
          "name": "stderr",
          "output_type": "stream",
          "text": [
            "Train: 100%|██████████| 82/82 [00:31<00:00,  2.61it/s]\n",
            "Epoch 2462\n",
            "Train: 100%|██████████| 82/82 [00:28<00:00,  2.87it/s]\n",
            "Epoch 2463\n",
            "Train: 100%|██████████| 82/82 [00:32<00:00,  2.49it/s]\n",
            "Epoch 2464\n",
            "Train: 100%|██████████| 82/82 [00:27<00:00,  2.96it/s]\n",
            "Epoch 2465\n",
            "Train: 100%|██████████| 82/82 [00:31<00:00,  2.63it/s]\n",
            "Epoch 2466\n",
            "Train: 100%|██████████| 82/82 [00:28<00:00,  2.87it/s]\n",
            "Epoch 2467\n",
            "Train: 100%|██████████| 82/82 [00:31<00:00,  2.63it/s]\n",
            "Epoch 2468\n",
            "Train: 100%|██████████| 82/82 [00:27<00:00,  2.98it/s]\n",
            "Epoch 2469\n",
            "Train: 100%|██████████| 82/82 [00:31<00:00,  2.64it/s]\n",
            "Epoch 2470\n",
            "Train: 100%|██████████| 82/82 [00:28<00:00,  2.89it/s]\n",
            "Eval: 100%|██████████| 7/7 [00:02<00:00,  3.17it/s]\n",
            "Epoch 2471\n"
          ]
        },
        {
          "metadata": {
            "tags": null
          },
          "name": "stdout",
          "output_type": "stream",
          "text": [
            "\tVal Dist 65.8500\t\n"
          ]
        },
        {
          "metadata": {
            "tags": null
          },
          "name": "stderr",
          "output_type": "stream",
          "text": [
            "Train: 100%|██████████| 82/82 [00:31<00:00,  2.63it/s]\n",
            "Epoch 2472\n",
            "Train: 100%|██████████| 82/82 [00:27<00:00,  2.96it/s]\n",
            "Epoch 2473\n",
            "Train: 100%|██████████| 82/82 [00:31<00:00,  2.62it/s]\n",
            "Epoch 2474\n",
            "Train: 100%|██████████| 82/82 [00:28<00:00,  2.92it/s]\n",
            "Epoch 2475\n",
            "Train: 100%|██████████| 82/82 [00:31<00:00,  2.61it/s]\n",
            "Epoch 2476\n",
            "Train: 100%|██████████| 82/82 [00:27<00:00,  3.02it/s]\n",
            "Epoch 2477\n",
            "Train: 100%|██████████| 82/82 [00:31<00:00,  2.58it/s]\n",
            "Epoch 2478\n",
            "Train: 100%|██████████| 82/82 [00:27<00:00,  3.01it/s]\n",
            "Epoch 2479\n",
            "Train: 100%|██████████| 82/82 [00:32<00:00,  2.53it/s]\n",
            "Epoch 2480\n",
            "Train: 100%|██████████| 82/82 [00:27<00:00,  2.97it/s]\n",
            "Eval: 100%|██████████| 7/7 [00:03<00:00,  2.22it/s]\n",
            "Epoch 2481\n"
          ]
        },
        {
          "metadata": {
            "tags": null
          },
          "name": "stdout",
          "output_type": "stream",
          "text": [
            "\tVal Dist 67.1230\t\n"
          ]
        },
        {
          "metadata": {
            "tags": null
          },
          "name": "stderr",
          "output_type": "stream",
          "text": [
            "Train: 100%|██████████| 82/82 [00:31<00:00,  2.60it/s]\n",
            "Epoch 2482\n",
            "Train: 100%|██████████| 82/82 [00:27<00:00,  2.94it/s]\n",
            "Epoch 2483\n",
            "Train: 100%|██████████| 82/82 [00:31<00:00,  2.57it/s]\n",
            "Epoch 2484\n",
            "Train: 100%|██████████| 82/82 [00:27<00:00,  2.96it/s]\n",
            "Epoch 2485\n",
            "Train: 100%|██████████| 82/82 [00:30<00:00,  2.65it/s]\n",
            "Epoch 2486\n",
            "Train: 100%|██████████| 82/82 [00:27<00:00,  2.98it/s]\n",
            "Epoch 2487\n",
            "Train: 100%|██████████| 82/82 [00:31<00:00,  2.60it/s]\n",
            "Epoch 2488\n",
            "Train: 100%|██████████| 82/82 [00:27<00:00,  2.97it/s]\n",
            "Epoch 2489\n",
            "Train: 100%|██████████| 82/82 [00:30<00:00,  2.65it/s]\n",
            "Epoch 2490\n",
            "Train: 100%|██████████| 82/82 [00:27<00:00,  2.97it/s]\n",
            "Eval: 100%|██████████| 7/7 [00:02<00:00,  3.20it/s]\n",
            "Epoch 2491\n"
          ]
        },
        {
          "metadata": {
            "tags": null
          },
          "name": "stdout",
          "output_type": "stream",
          "text": [
            "\tVal Dist 74.3620\t\n"
          ]
        },
        {
          "metadata": {
            "tags": null
          },
          "name": "stderr",
          "output_type": "stream",
          "text": [
            "Train: 100%|██████████| 82/82 [00:31<00:00,  2.60it/s]\n",
            "Epoch 2492\n",
            "Train: 100%|██████████| 82/82 [00:27<00:00,  2.97it/s]\n",
            "Epoch 2493\n",
            "Train: 100%|██████████| 82/82 [00:31<00:00,  2.64it/s]\n",
            "Epoch 2494\n",
            "Train: 100%|██████████| 82/82 [00:27<00:00,  2.96it/s]\n",
            "Epoch 2495\n",
            "Train: 100%|██████████| 82/82 [00:31<00:00,  2.58it/s]\n",
            "Epoch 2496\n",
            "Train: 100%|██████████| 82/82 [00:27<00:00,  2.97it/s]\n",
            "Epoch 2497\n",
            "Train: 100%|██████████| 82/82 [00:30<00:00,  2.65it/s]\n",
            "Epoch 2498\n",
            "Train: 100%|██████████| 82/82 [00:27<00:00,  2.95it/s]\n",
            "Epoch 2499\n",
            "Train: 100%|██████████| 82/82 [00:31<00:00,  2.56it/s]\n",
            "Epoch 2500\n",
            "Train: 100%|██████████| 82/82 [00:27<00:00,  2.97it/s]\n",
            "Eval: 100%|██████████| 7/7 [00:02<00:00,  3.21it/s]\n",
            "Epoch 2501\n"
          ]
        },
        {
          "metadata": {
            "tags": null
          },
          "name": "stdout",
          "output_type": "stream",
          "text": [
            "\tVal Dist 71.7510\t\n"
          ]
        },
        {
          "metadata": {
            "tags": null
          },
          "name": "stderr",
          "output_type": "stream",
          "text": [
            "Train: 100%|██████████| 82/82 [00:30<00:00,  2.66it/s]\n",
            "Epoch 2502\n",
            "Train: 100%|██████████| 82/82 [00:27<00:00,  2.97it/s]\n",
            "Epoch 2503\n",
            "Train: 100%|██████████| 82/82 [00:32<00:00,  2.56it/s]\n",
            "Epoch 2504\n",
            "Train: 100%|██████████| 82/82 [00:27<00:00,  3.01it/s]\n",
            "Epoch 2505\n",
            "Train: 100%|██████████| 82/82 [00:32<00:00,  2.56it/s]\n",
            "Epoch 2506\n",
            "Train: 100%|██████████| 82/82 [00:27<00:00,  3.01it/s]\n",
            "Epoch 2507\n",
            "Train: 100%|██████████| 82/82 [00:32<00:00,  2.52it/s]\n",
            "Epoch 2508\n",
            "Train: 100%|██████████| 82/82 [00:27<00:00,  2.99it/s]\n",
            "Epoch 2509\n",
            "Train: 100%|██████████| 82/82 [00:31<00:00,  2.60it/s]\n",
            "Epoch 2510\n",
            "Train: 100%|██████████| 82/82 [00:27<00:00,  2.99it/s]\n",
            "Eval: 100%|██████████| 7/7 [00:02<00:00,  2.77it/s]\n",
            "Epoch 2511\n"
          ]
        },
        {
          "metadata": {
            "tags": null
          },
          "name": "stdout",
          "output_type": "stream",
          "text": [
            "\tVal Dist 75.8750\t\n"
          ]
        },
        {
          "metadata": {
            "tags": null
          },
          "name": "stderr",
          "output_type": "stream",
          "text": [
            "Train: 100%|██████████| 82/82 [00:31<00:00,  2.59it/s]\n",
            "Epoch 2512\n",
            "Train: 100%|██████████| 82/82 [00:27<00:00,  2.95it/s]\n",
            "Epoch 2513\n",
            "Train: 100%|██████████| 82/82 [00:31<00:00,  2.62it/s]\n",
            "Epoch 2514\n",
            "Train: 100%|██████████| 82/82 [00:27<00:00,  2.95it/s]\n",
            "Epoch 2515\n",
            "Train: 100%|██████████| 82/82 [00:31<00:00,  2.63it/s]\n",
            "Epoch 2516\n",
            "Train: 100%|██████████| 82/82 [00:28<00:00,  2.90it/s]\n",
            "Epoch 2517\n",
            "Train: 100%|██████████| 82/82 [00:31<00:00,  2.63it/s]\n",
            "Epoch 2518\n",
            "Train: 100%|██████████| 82/82 [00:27<00:00,  2.99it/s]\n",
            "Epoch 2519\n",
            "Train: 100%|██████████| 82/82 [00:31<00:00,  2.63it/s]\n",
            "Epoch 2520\n",
            "Train: 100%|██████████| 82/82 [00:28<00:00,  2.88it/s]\n",
            "Eval: 100%|██████████| 7/7 [00:02<00:00,  3.21it/s]\n",
            "Epoch 2521\n"
          ]
        },
        {
          "metadata": {
            "tags": null
          },
          "name": "stdout",
          "output_type": "stream",
          "text": [
            "\tVal Dist 71.6080\t\n"
          ]
        },
        {
          "metadata": {
            "tags": null
          },
          "name": "stderr",
          "output_type": "stream",
          "text": [
            "Train: 100%|██████████| 82/82 [00:31<00:00,  2.64it/s]\n",
            "Epoch 2522\n",
            "Train: 100%|██████████| 82/82 [00:27<00:00,  2.96it/s]\n",
            "Epoch 2523\n",
            "Train: 100%|██████████| 82/82 [00:31<00:00,  2.61it/s]\n",
            "Epoch 2524\n",
            "Train: 100%|██████████| 82/82 [00:28<00:00,  2.91it/s]\n",
            "Epoch 2525\n",
            "Train: 100%|██████████| 82/82 [00:31<00:00,  2.63it/s]\n",
            "Epoch 2526\n",
            "Train: 100%|██████████| 82/82 [00:27<00:00,  2.96it/s]\n",
            "Epoch 2527\n",
            "Train: 100%|██████████| 82/82 [00:31<00:00,  2.60it/s]\n",
            "Epoch 2528\n",
            "Train: 100%|██████████| 82/82 [00:28<00:00,  2.92it/s]\n",
            "Epoch 2529\n",
            "Train: 100%|██████████| 82/82 [00:31<00:00,  2.57it/s]\n",
            "Epoch 2530\n",
            "Train: 100%|██████████| 82/82 [00:27<00:00,  3.00it/s]\n",
            "Eval: 100%|██████████| 7/7 [00:03<00:00,  2.17it/s]\n",
            "Epoch 2531\n"
          ]
        },
        {
          "metadata": {
            "tags": null
          },
          "name": "stdout",
          "output_type": "stream",
          "text": [
            "\tVal Dist 68.3380\t\n"
          ]
        },
        {
          "metadata": {
            "tags": null
          },
          "name": "stderr",
          "output_type": "stream",
          "text": [
            "Train: 100%|██████████| 82/82 [00:31<00:00,  2.61it/s]\n",
            "Epoch 2532\n",
            "Train: 100%|██████████| 82/82 [00:28<00:00,  2.87it/s]\n",
            "Epoch 2533\n",
            "Train: 100%|██████████| 82/82 [00:31<00:00,  2.63it/s]\n",
            "Epoch 2534\n",
            "Train: 100%|██████████| 82/82 [00:27<00:00,  2.96it/s]\n",
            "Epoch 2535\n",
            "Train: 100%|██████████| 82/82 [00:31<00:00,  2.62it/s]\n",
            "Epoch 2536\n",
            "Train: 100%|██████████| 82/82 [00:28<00:00,  2.88it/s]\n",
            "Epoch 2537\n",
            "Train: 100%|██████████| 82/82 [00:31<00:00,  2.63it/s]\n",
            "Epoch 2538\n",
            "Train: 100%|██████████| 82/82 [00:28<00:00,  2.88it/s]\n",
            "Epoch 2539\n",
            "Train: 100%|██████████| 82/82 [00:31<00:00,  2.58it/s]\n",
            "Epoch 2540\n",
            "Train: 100%|██████████| 82/82 [00:28<00:00,  2.84it/s]\n",
            "Eval: 100%|██████████| 7/7 [00:02<00:00,  3.17it/s]\n",
            "Epoch 2541\n"
          ]
        },
        {
          "metadata": {
            "tags": null
          },
          "name": "stdout",
          "output_type": "stream",
          "text": [
            "\tVal Dist 68.7160\t\n"
          ]
        },
        {
          "metadata": {
            "tags": null
          },
          "name": "stderr",
          "output_type": "stream",
          "text": [
            "Train: 100%|██████████| 82/82 [00:31<00:00,  2.62it/s]\n",
            "Epoch 2542\n",
            "Train: 100%|██████████| 82/82 [00:27<00:00,  2.96it/s]\n",
            "Epoch 2543\n",
            "Train: 100%|██████████| 82/82 [00:31<00:00,  2.64it/s]\n",
            "Epoch 2544\n",
            "Train: 100%|██████████| 82/82 [00:28<00:00,  2.89it/s]\n",
            "Epoch 2545\n",
            "Train: 100%|██████████| 82/82 [00:31<00:00,  2.60it/s]\n",
            "Epoch 2546\n",
            "Train: 100%|██████████| 82/82 [00:27<00:00,  2.96it/s]\n",
            "Epoch 2547\n",
            "Train: 100%|██████████| 82/82 [00:31<00:00,  2.59it/s]\n",
            "Epoch 2548\n",
            "Train: 100%|██████████| 82/82 [00:28<00:00,  2.89it/s]\n",
            "Epoch 2549\n",
            "Train: 100%|██████████| 82/82 [00:32<00:00,  2.56it/s]\n",
            "Epoch 2550\n",
            "Train: 100%|██████████| 82/82 [00:27<00:00,  3.03it/s]\n",
            "Eval: 100%|██████████| 7/7 [00:03<00:00,  2.19it/s]\n",
            "Epoch 2551\n"
          ]
        },
        {
          "metadata": {
            "tags": null
          },
          "name": "stdout",
          "output_type": "stream",
          "text": [
            "\tVal Dist 81.7870\t\n"
          ]
        },
        {
          "metadata": {
            "tags": null
          },
          "name": "stderr",
          "output_type": "stream",
          "text": [
            "Train: 100%|██████████| 82/82 [00:30<00:00,  2.68it/s]\n",
            "Epoch 2552\n",
            "Train: 100%|██████████| 82/82 [00:28<00:00,  2.93it/s]\n",
            "Epoch 2553\n",
            "Train: 100%|██████████| 82/82 [00:31<00:00,  2.58it/s]\n",
            "Epoch 2554\n",
            "Train: 100%|██████████| 82/82 [00:27<00:00,  2.97it/s]\n",
            "Epoch 2555\n",
            "Train: 100%|██████████| 82/82 [00:31<00:00,  2.61it/s]\n",
            "Epoch 2556\n",
            "Train: 100%|██████████| 82/82 [00:27<00:00,  2.97it/s]\n",
            "Epoch 2557\n",
            "Train: 100%|██████████| 82/82 [00:31<00:00,  2.59it/s]\n",
            "Epoch 2558\n",
            "Train: 100%|██████████| 82/82 [00:27<00:00,  2.97it/s]\n",
            "Epoch 2559\n",
            "Train: 100%|██████████| 82/82 [00:31<00:00,  2.63it/s]\n",
            "Epoch 2560\n",
            "Train: 100%|██████████| 82/82 [00:27<00:00,  2.97it/s]\n",
            "Eval: 100%|██████████| 7/7 [00:02<00:00,  3.20it/s]\n",
            "Epoch 2561\n"
          ]
        },
        {
          "metadata": {
            "tags": null
          },
          "name": "stdout",
          "output_type": "stream",
          "text": [
            "\tVal Dist 70.6900\t\n"
          ]
        },
        {
          "metadata": {
            "tags": null
          },
          "name": "stderr",
          "output_type": "stream",
          "text": [
            "Train: 100%|██████████| 82/82 [00:31<00:00,  2.56it/s]\n",
            "Epoch 2562\n",
            "Train: 100%|██████████| 82/82 [00:27<00:00,  2.95it/s]\n",
            "Epoch 2563\n",
            "Train: 100%|██████████| 82/82 [00:31<00:00,  2.62it/s]\n",
            "Epoch 2564\n",
            "Train: 100%|██████████| 82/82 [00:27<00:00,  2.97it/s]\n",
            "Epoch 2565\n",
            "Train: 100%|██████████| 82/82 [00:31<00:00,  2.58it/s]\n",
            "Epoch 2566\n",
            "Train: 100%|██████████| 82/82 [00:27<00:00,  2.96it/s]\n",
            "Epoch 2567\n",
            "Train: 100%|██████████| 82/82 [00:31<00:00,  2.62it/s]\n",
            "Epoch 2568\n",
            "Train: 100%|██████████| 82/82 [00:27<00:00,  2.96it/s]\n",
            "Epoch 2569\n",
            "Train: 100%|██████████| 82/82 [00:31<00:00,  2.60it/s]\n",
            "Epoch 2570\n",
            "Train: 100%|██████████| 82/82 [00:27<00:00,  2.94it/s]\n",
            "Eval: 100%|██████████| 7/7 [00:02<00:00,  3.19it/s]\n",
            "Epoch 2571\n"
          ]
        },
        {
          "metadata": {
            "tags": null
          },
          "name": "stdout",
          "output_type": "stream",
          "text": [
            "\tVal Dist 67.0340\t\n"
          ]
        },
        {
          "metadata": {
            "tags": null
          },
          "name": "stderr",
          "output_type": "stream",
          "text": [
            "Train: 100%|██████████| 82/82 [00:31<00:00,  2.58it/s]\n",
            "Epoch 2572\n",
            "Train: 100%|██████████| 82/82 [00:27<00:00,  3.00it/s]\n",
            "Epoch 2573\n",
            "Train: 100%|██████████| 82/82 [00:32<00:00,  2.52it/s]\n",
            "Epoch 2574\n",
            "Train: 100%|██████████| 82/82 [00:28<00:00,  2.93it/s]\n",
            "Epoch 2575\n",
            "Train: 100%|██████████| 82/82 [00:32<00:00,  2.52it/s]\n",
            "Epoch 2576\n",
            "Train: 100%|██████████| 82/82 [00:27<00:00,  2.97it/s]\n",
            "Epoch 2577\n",
            "Train: 100%|██████████| 82/82 [00:32<00:00,  2.51it/s]\n",
            "Epoch 2578\n",
            "Train: 100%|██████████| 82/82 [00:27<00:00,  2.93it/s]\n",
            "Epoch 2579\n",
            "Train: 100%|██████████| 82/82 [00:31<00:00,  2.61it/s]\n",
            "Epoch 2580\n",
            "Train: 100%|██████████| 82/82 [00:28<00:00,  2.92it/s]\n",
            "Eval: 100%|██████████| 7/7 [00:02<00:00,  3.13it/s]\n",
            "Epoch 2581\n"
          ]
        },
        {
          "metadata": {
            "tags": null
          },
          "name": "stdout",
          "output_type": "stream",
          "text": [
            "\tVal Dist 65.0650\t\n"
          ]
        },
        {
          "metadata": {
            "tags": null
          },
          "name": "stderr",
          "output_type": "stream",
          "text": [
            "Train: 100%|██████████| 82/82 [00:32<00:00,  2.55it/s]\n",
            "Epoch 2582\n",
            "Train: 100%|██████████| 82/82 [00:28<00:00,  2.92it/s]\n",
            "Epoch 2583\n",
            "Train: 100%|██████████| 82/82 [00:31<00:00,  2.59it/s]\n",
            "Epoch 2584\n",
            "Train: 100%|██████████| 82/82 [00:27<00:00,  2.95it/s]\n",
            "Epoch 2585\n",
            "Train: 100%|██████████| 82/82 [00:32<00:00,  2.54it/s]\n",
            "Epoch 2586\n",
            "Train: 100%|██████████| 82/82 [00:28<00:00,  2.93it/s]\n",
            "Epoch 2587\n",
            "Train: 100%|██████████| 82/82 [00:31<00:00,  2.63it/s]\n",
            "Epoch 2588\n",
            "Train: 100%|██████████| 82/82 [00:28<00:00,  2.92it/s]\n",
            "Epoch 2589\n",
            "Train: 100%|██████████| 82/82 [00:32<00:00,  2.52it/s]\n",
            "Epoch 2590\n",
            "Train: 100%|██████████| 82/82 [00:27<00:00,  2.96it/s]\n",
            "Eval: 100%|██████████| 7/7 [00:03<00:00,  2.21it/s]\n",
            "Epoch 2591\n"
          ]
        },
        {
          "metadata": {
            "tags": null
          },
          "name": "stdout",
          "output_type": "stream",
          "text": [
            "\tVal Dist 67.6250\t\n"
          ]
        },
        {
          "metadata": {
            "tags": null
          },
          "name": "stderr",
          "output_type": "stream",
          "text": [
            "Train: 100%|██████████| 82/82 [00:31<00:00,  2.57it/s]\n",
            "Epoch 2592\n",
            "Train: 100%|██████████| 82/82 [00:27<00:00,  2.94it/s]\n",
            "Epoch 2593\n",
            "Train: 100%|██████████| 82/82 [00:32<00:00,  2.52it/s]\n",
            "Epoch 2594\n",
            "Train: 100%|██████████| 82/82 [00:27<00:00,  2.93it/s]\n",
            "Epoch 2595\n",
            "Train: 100%|██████████| 82/82 [00:31<00:00,  2.60it/s]\n",
            "Epoch 2596\n",
            "Train: 100%|██████████| 82/82 [00:27<00:00,  2.94it/s]\n",
            "Epoch 2597\n",
            "Train: 100%|██████████| 82/82 [00:31<00:00,  2.59it/s]\n",
            "Epoch 2598\n",
            "Train: 100%|██████████| 82/82 [00:28<00:00,  2.91it/s]\n",
            "Epoch 2599\n",
            "Train: 100%|██████████| 82/82 [00:31<00:00,  2.60it/s]\n",
            "Epoch 2600\n",
            "Train: 100%|██████████| 82/82 [00:28<00:00,  2.93it/s]\n",
            "Eval: 100%|██████████| 7/7 [00:02<00:00,  3.16it/s]\n",
            "Epoch 2601\n"
          ]
        },
        {
          "metadata": {
            "tags": null
          },
          "name": "stdout",
          "output_type": "stream",
          "text": [
            "\tVal Dist 69.2610\t\n"
          ]
        },
        {
          "metadata": {
            "tags": null
          },
          "name": "stderr",
          "output_type": "stream",
          "text": [
            "Train: 100%|██████████| 82/82 [00:31<00:00,  2.60it/s]\n",
            "Epoch 2602\n",
            "Train: 100%|██████████| 82/82 [00:28<00:00,  2.84it/s]\n",
            "Epoch 2603\n",
            "Train: 100%|██████████| 82/82 [00:31<00:00,  2.61it/s]\n",
            "Epoch 2604\n",
            "Train: 100%|██████████| 82/82 [00:27<00:00,  2.95it/s]\n",
            "Epoch 2605\n",
            "Train: 100%|██████████| 82/82 [00:31<00:00,  2.61it/s]\n",
            "Epoch 2606\n",
            "Train: 100%|██████████| 82/82 [00:28<00:00,  2.90it/s]\n",
            "Epoch 2607\n",
            "Train: 100%|██████████| 82/82 [00:31<00:00,  2.57it/s]\n",
            "Epoch 2608\n",
            "Train: 100%|██████████| 82/82 [00:27<00:00,  3.02it/s]\n",
            "Epoch 2609\n",
            "Train: 100%|██████████| 82/82 [00:31<00:00,  2.57it/s]\n",
            "Epoch 2610\n",
            "Train: 100%|██████████| 82/82 [00:28<00:00,  2.92it/s]\n",
            "Eval: 100%|██████████| 7/7 [00:02<00:00,  2.52it/s]\n",
            "Epoch 2611\n"
          ]
        },
        {
          "metadata": {
            "tags": null
          },
          "name": "stdout",
          "output_type": "stream",
          "text": [
            "\tVal Dist 65.5530\t\n"
          ]
        },
        {
          "metadata": {
            "tags": null
          },
          "name": "stderr",
          "output_type": "stream",
          "text": [
            "Train: 100%|██████████| 82/82 [00:31<00:00,  2.64it/s]\n",
            "Epoch 2612\n",
            "Train: 100%|██████████| 82/82 [00:27<00:00,  2.98it/s]\n",
            "Epoch 2613\n",
            "Train: 100%|██████████| 82/82 [00:31<00:00,  2.60it/s]\n",
            "Epoch 2614\n",
            "Train: 100%|██████████| 82/82 [00:29<00:00,  2.81it/s]\n",
            "Epoch 2615\n",
            "Train: 100%|██████████| 82/82 [00:31<00:00,  2.60it/s]\n",
            "Epoch 2616\n",
            "Train: 100%|██████████| 82/82 [00:27<00:00,  2.96it/s]\n",
            "Epoch 2617\n",
            "Train: 100%|██████████| 82/82 [00:31<00:00,  2.61it/s]\n",
            "Epoch 2618\n",
            "Train: 100%|██████████| 82/82 [00:28<00:00,  2.87it/s]\n",
            "Epoch 2619\n",
            "Train: 100%|██████████| 82/82 [00:31<00:00,  2.62it/s]\n",
            "Epoch 2620\n",
            "Train: 100%|██████████| 82/82 [00:27<00:00,  2.97it/s]\n",
            "Eval: 100%|██████████| 7/7 [00:02<00:00,  3.21it/s]\n",
            "Epoch 2621\n"
          ]
        },
        {
          "metadata": {
            "tags": null
          },
          "name": "stdout",
          "output_type": "stream",
          "text": [
            "\tVal Dist 69.0340\t\n"
          ]
        },
        {
          "metadata": {
            "tags": null
          },
          "name": "stderr",
          "output_type": "stream",
          "text": [
            "Train: 100%|██████████| 82/82 [00:31<00:00,  2.64it/s]\n",
            "Epoch 2622\n",
            "Train: 100%|██████████| 82/82 [00:28<00:00,  2.85it/s]\n",
            "Epoch 2623\n",
            "Train: 100%|██████████| 82/82 [00:31<00:00,  2.61it/s]\n",
            "Epoch 2624\n",
            "Train: 100%|██████████| 82/82 [00:27<00:00,  2.95it/s]\n",
            "Epoch 2625\n",
            "Train: 100%|██████████| 82/82 [00:31<00:00,  2.64it/s]\n",
            "Epoch 2626\n",
            "Train: 100%|██████████| 82/82 [00:28<00:00,  2.89it/s]\n",
            "Epoch 2627\n",
            "Train: 100%|██████████| 82/82 [00:31<00:00,  2.62it/s]\n",
            "Epoch 2628\n",
            "Train: 100%|██████████| 82/82 [00:27<00:00,  2.94it/s]\n",
            "Epoch 2629\n",
            "Train: 100%|██████████| 82/82 [00:32<00:00,  2.55it/s]\n",
            "Epoch 2630\n",
            "Train: 100%|██████████| 82/82 [00:28<00:00,  2.89it/s]\n",
            "Eval: 100%|██████████| 7/7 [00:03<00:00,  2.19it/s]\n",
            "Epoch 2631\n"
          ]
        },
        {
          "metadata": {
            "tags": null
          },
          "name": "stdout",
          "output_type": "stream",
          "text": [
            "\tVal Dist 72.0500\t\n"
          ]
        },
        {
          "metadata": {
            "tags": null
          },
          "name": "stderr",
          "output_type": "stream",
          "text": [
            "Train: 100%|██████████| 82/82 [00:31<00:00,  2.64it/s]\n",
            "Epoch 2632\n",
            "Train: 100%|██████████| 82/82 [00:27<00:00,  2.94it/s]\n",
            "Epoch 2633\n",
            "Train: 100%|██████████| 82/82 [00:31<00:00,  2.63it/s]\n",
            "Epoch 2634\n",
            "Train: 100%|██████████| 82/82 [00:28<00:00,  2.84it/s]\n",
            "Epoch 2635\n",
            "Train: 100%|██████████| 82/82 [00:31<00:00,  2.62it/s]\n",
            "Epoch 2636\n",
            "Train: 100%|██████████| 82/82 [00:27<00:00,  2.95it/s]\n",
            "Epoch 2637\n",
            "Train: 100%|██████████| 82/82 [00:31<00:00,  2.60it/s]\n",
            "Epoch 2638\n",
            "Train: 100%|██████████| 82/82 [00:28<00:00,  2.91it/s]\n",
            "Epoch 2639\n",
            "Train: 100%|██████████| 82/82 [00:31<00:00,  2.57it/s]\n",
            "Epoch 2640\n",
            "Train: 100%|██████████| 82/82 [00:27<00:00,  2.94it/s]\n",
            "Eval: 100%|██████████| 7/7 [00:02<00:00,  3.19it/s]\n",
            "Epoch 2641\n"
          ]
        },
        {
          "metadata": {
            "tags": null
          },
          "name": "stdout",
          "output_type": "stream",
          "text": [
            "\tVal Dist 59.1830\t\n"
          ]
        },
        {
          "metadata": {
            "tags": null
          },
          "name": "stderr",
          "output_type": "stream",
          "text": [
            "Train: 100%|██████████| 82/82 [00:31<00:00,  2.63it/s]\n",
            "Epoch 2642\n",
            "Train: 100%|██████████| 82/82 [00:27<00:00,  2.95it/s]\n",
            "Epoch 2643\n",
            "Train: 100%|██████████| 82/82 [00:32<00:00,  2.56it/s]\n",
            "Epoch 2644\n",
            "Train: 100%|██████████| 82/82 [00:27<00:00,  2.95it/s]\n",
            "Epoch 2645\n",
            "Train: 100%|██████████| 82/82 [00:31<00:00,  2.63it/s]\n",
            "Epoch 2646\n",
            "Train: 100%|██████████| 82/82 [00:27<00:00,  2.96it/s]\n",
            "Epoch 2647\n",
            "Train: 100%|██████████| 82/82 [00:31<00:00,  2.58it/s]\n",
            "Epoch 2648\n",
            "Train: 100%|██████████| 82/82 [00:27<00:00,  3.00it/s]\n",
            "Epoch 2649\n",
            "Train: 100%|██████████| 82/82 [00:30<00:00,  2.65it/s]\n",
            "Epoch 2650\n",
            "Train: 100%|██████████| 82/82 [00:27<00:00,  2.99it/s]\n",
            "Eval: 100%|██████████| 7/7 [00:02<00:00,  2.73it/s]\n",
            "Epoch 2651\n"
          ]
        },
        {
          "metadata": {
            "tags": null
          },
          "name": "stdout",
          "output_type": "stream",
          "text": [
            "\tVal Dist 58.5440\t\n"
          ]
        },
        {
          "metadata": {
            "tags": null
          },
          "name": "stderr",
          "output_type": "stream",
          "text": [
            "Train: 100%|██████████| 82/82 [00:32<00:00,  2.55it/s]\n",
            "Epoch 2652\n",
            "Train: 100%|██████████| 82/82 [00:26<00:00,  3.06it/s]\n",
            "Epoch 2653\n",
            "Train: 100%|██████████| 82/82 [00:31<00:00,  2.59it/s]\n",
            "Epoch 2654\n",
            "Train: 100%|██████████| 82/82 [00:27<00:00,  3.01it/s]\n",
            "Epoch 2655\n",
            "Train: 100%|██████████| 82/82 [00:32<00:00,  2.51it/s]\n",
            "Epoch 2656\n",
            "Train: 100%|██████████| 82/82 [00:27<00:00,  3.00it/s]\n",
            "Epoch 2657\n",
            "Train: 100%|██████████| 82/82 [00:31<00:00,  2.57it/s]\n",
            "Epoch 2658\n",
            "Train: 100%|██████████| 82/82 [00:27<00:00,  3.02it/s]\n",
            "Epoch 2659\n",
            "Train: 100%|██████████| 82/82 [00:32<00:00,  2.56it/s]\n",
            "Epoch 2660\n",
            "Train: 100%|██████████| 82/82 [00:27<00:00,  2.97it/s]\n",
            "Eval: 100%|██████████| 7/7 [00:02<00:00,  3.16it/s]\n",
            "Epoch 2661\n"
          ]
        },
        {
          "metadata": {
            "tags": null
          },
          "name": "stdout",
          "output_type": "stream",
          "text": [
            "\tVal Dist 68.6240\t\n"
          ]
        },
        {
          "metadata": {
            "tags": null
          },
          "name": "stderr",
          "output_type": "stream",
          "text": [
            "Train: 100%|██████████| 82/82 [00:31<00:00,  2.64it/s]\n",
            "Epoch 2662\n",
            "Train: 100%|██████████| 82/82 [00:27<00:00,  2.96it/s]\n",
            "Epoch 2663\n",
            "Train: 100%|██████████| 82/82 [00:31<00:00,  2.59it/s]\n",
            "Epoch 2664\n",
            "Train: 100%|██████████| 82/82 [00:27<00:00,  2.95it/s]\n",
            "Epoch 2665\n",
            "Train: 100%|██████████| 82/82 [00:31<00:00,  2.61it/s]\n",
            "Epoch 2666\n",
            "Train: 100%|██████████| 82/82 [00:27<00:00,  2.95it/s]\n",
            "Epoch 2667\n",
            "Train: 100%|██████████| 82/82 [00:31<00:00,  2.58it/s]\n",
            "Epoch 2668\n",
            "Train: 100%|██████████| 82/82 [00:27<00:00,  2.96it/s]\n",
            "Epoch 2669\n",
            "Train: 100%|██████████| 82/82 [00:31<00:00,  2.64it/s]\n",
            "Epoch 2670\n",
            "Train: 100%|██████████| 82/82 [00:28<00:00,  2.88it/s]\n",
            "Eval: 100%|██████████| 7/7 [00:02<00:00,  3.11it/s]\n",
            "Epoch 2671\n"
          ]
        },
        {
          "metadata": {
            "tags": null
          },
          "name": "stdout",
          "output_type": "stream",
          "text": [
            "\tVal Dist 62.3560\t\n"
          ]
        },
        {
          "metadata": {
            "tags": null
          },
          "name": "stderr",
          "output_type": "stream",
          "text": [
            "Train: 100%|██████████| 82/82 [00:32<00:00,  2.52it/s]\n",
            "Epoch 2672\n",
            "Train: 100%|██████████| 82/82 [00:27<00:00,  2.95it/s]\n",
            "Epoch 2673\n",
            "Train: 100%|██████████| 82/82 [00:31<00:00,  2.58it/s]\n",
            "Epoch 2674\n",
            "Train: 100%|██████████| 82/82 [00:27<00:00,  2.96it/s]\n",
            "Epoch 2675\n",
            "Train: 100%|██████████| 82/82 [00:32<00:00,  2.51it/s]\n",
            "Epoch 2676\n",
            "Train: 100%|██████████| 82/82 [00:27<00:00,  2.97it/s]\n",
            "Epoch 2677\n",
            "Train: 100%|██████████| 82/82 [00:31<00:00,  2.57it/s]\n",
            "Epoch 2678\n",
            "Train: 100%|██████████| 82/82 [00:27<00:00,  2.97it/s]\n",
            "Epoch 2679\n",
            "Train: 100%|██████████| 82/82 [00:31<00:00,  2.57it/s]\n",
            "Epoch 2680\n",
            "Train: 100%|██████████| 82/82 [00:28<00:00,  2.90it/s]\n",
            "Eval: 100%|██████████| 7/7 [00:02<00:00,  2.64it/s]\n",
            "Epoch 2681\n"
          ]
        },
        {
          "metadata": {
            "tags": null
          },
          "name": "stdout",
          "output_type": "stream",
          "text": [
            "\tVal Dist 55.9000\t\n"
          ]
        },
        {
          "metadata": {
            "tags": null
          },
          "name": "stderr",
          "output_type": "stream",
          "text": [
            "Train: 100%|██████████| 82/82 [00:31<00:00,  2.63it/s]\n",
            "Epoch 2682\n",
            "Train: 100%|██████████| 82/82 [00:27<00:00,  2.95it/s]\n",
            "Epoch 2683\n",
            "Train: 100%|██████████| 82/82 [00:30<00:00,  2.65it/s]\n",
            "Epoch 2684\n",
            "Train: 100%|██████████| 82/82 [00:28<00:00,  2.88it/s]\n",
            "Epoch 2685\n",
            "Train: 100%|██████████| 82/82 [00:30<00:00,  2.65it/s]\n",
            "Epoch 2686\n",
            "Train: 100%|██████████| 82/82 [00:27<00:00,  2.94it/s]\n",
            "Epoch 2687\n",
            "Train: 100%|██████████| 82/82 [00:31<00:00,  2.63it/s]\n",
            "Epoch 2688\n",
            "Train: 100%|██████████| 82/82 [00:28<00:00,  2.83it/s]\n",
            "Epoch 2689\n",
            "Train: 100%|██████████| 82/82 [00:31<00:00,  2.59it/s]\n",
            "Epoch 2690\n",
            "Train: 100%|██████████| 82/82 [00:28<00:00,  2.91it/s]\n",
            "Eval: 100%|██████████| 7/7 [00:02<00:00,  3.17it/s]\n",
            "Epoch 2691\n"
          ]
        },
        {
          "metadata": {
            "tags": null
          },
          "name": "stdout",
          "output_type": "stream",
          "text": [
            "\tVal Dist 68.1600\t\n"
          ]
        },
        {
          "output_type": "stream",
          "name": "stderr",
          "text": [
            "Train: 100%|██████████| 82/82 [00:31<00:00,  2.60it/s]\n",
            "Epoch 2692\n",
            "Train: 100%|██████████| 82/82 [00:28<00:00,  2.87it/s]\n",
            "Epoch 2693\n",
            "Train: 100%|██████████| 82/82 [00:31<00:00,  2.60it/s]\n",
            "Epoch 2694\n",
            "Train: 100%|██████████| 82/82 [00:27<00:00,  2.98it/s]\n",
            "Epoch 2695\n",
            "Train: 100%|██████████| 82/82 [00:31<00:00,  2.58it/s]\n",
            "Epoch 2696\n",
            "Train: 100%|██████████| 82/82 [00:28<00:00,  2.83it/s]\n",
            "Epoch 2697\n",
            "Train:   1%|          | 1/82 [00:00<00:58,  1.39it/s]"
          ]
        }
      ],
      "source": [
        "print(f\"Training for {num_epochs} epochs\", file=sys.stderr)\n",
        "\n",
        "best_dist = valid_dist = float(\"inf\")\n",
        "eval_interval = 10 # evaluation after how many epochs?\n",
        "\n",
        "for epoch in range(epoch_start, num_epochs + 1):\n",
        "    print(f\"Epoch {epoch}\", file=sys.stderr)\n",
        "\n",
        "    model.train()\n",
        "    # The model uses the epoch number to decide which part of the network to train\n",
        "    model.set_num_updates(epoch) # Look at what this function does in the Wav2vec_U class\n",
        "\n",
        "    train_stats = run_model(model, train_dataloader)\n",
        "\n",
        "    if epoch % eval_interval == 0:\n",
        "\n",
        "        model.eval()\n",
        "        with torch.no_grad():\n",
        "            eval_stats = run_model(model, validation_dataloader)\n",
        "            \n",
        "        # TODO: perhaps save your model and optimizer here\n",
        "        # Tip: You can even save the model after every epoch along with the best model. \n",
        "        # This may help to continue training even if the best model is from a very early epoch.\n",
        "        valid_dist = eval_stats['edit_distance']\n",
        "        if valid_dist <= best_dist:\n",
        "            best_dist = valid_dist\n",
        "            # Save your model checkpoint here\n",
        "            save_model(model, optimizer['generator'], optimizer['discriminator'], epoch, path)\n",
        "            print(\"Saved model\")\n",
        "\n",
        "    else:\n",
        "        eval_stats = {}\n",
        "\n",
        "    # TODO: Log training/eval statistics\n",
        "    # print(\"\\tTrain Loss {:.04f}\".format(train_stats['losses_smoothness']))\n",
        "\n",
        "    logs = {}\n",
        "    for key, val in train_stats.items():\n",
        "        if isinstance(val, torch.Tensor):\n",
        "            logs[key] = val.item()\n",
        "        else:\n",
        "            logs[key] = val\n",
        "    if eval_stats:\n",
        "        logs['edit_distance'] = eval_stats['edit_distance']\n",
        "        logs['_num_pred_chars'] = eval_stats['_num_pred_chars']\n",
        "    \n",
        "    wandb.log(logs)\n",
        "    \n",
        "    if eval_stats:\n",
        "        print(\"\\tVal Dist {:.04f}\\t\".format(eval_stats['edit_distance']))\n",
        "\n",
        "run.finish()"
      ],
      "id": "09a4fe6c-a9e4-4c6e-9483-4fc4e1f5d3f9"
    },
    {
      "cell_type": "code",
      "execution_count": 21,
      "metadata": {
        "colab": {
          "base_uri": "https://localhost:8080/",
          "height": 471,
          "referenced_widgets": [
            "5e13ad8d2309425581d96b05d7381c64",
            "0b9b0ff6ee384e5eb9d8cd74b7ad244d",
            "51b2e3ef3f1c4fb9a15d955747b66f2a",
            "d3fffa1412da47129efd2d6708654adc",
            "21b9004edcd046eab35928c6de739315",
            "25faae023ae84eaa9def6c5a0288f07e",
            "5ed93d592b354067979d12aa942ab74f",
            "96c06a662c9f498d9dccb2a932b9b2ee"
          ]
        },
        "id": "46hnYLhwxD5U",
        "outputId": "2555cfc4-a3d0-4132-fd85-08f241ddeef0"
      },
      "outputs": [
        {
          "output_type": "display_data",
          "data": {
            "text/plain": [
              "<IPython.core.display.HTML object>"
            ],
            "text/html": [
              "Waiting for W&B process to finish... <strong style=\"color:green\">(success).</strong>"
            ]
          },
          "metadata": {}
        },
        {
          "output_type": "display_data",
          "data": {
            "text/plain": [
              "VBox(children=(Label(value='0.565 MB of 0.565 MB uploaded (0.000 MB deduped)\\r'), FloatProgress(value=1.0, max…"
            ],
            "application/vnd.jupyter.widget-view+json": {
              "version_major": 2,
              "version_minor": 0,
              "model_id": "5e13ad8d2309425581d96b05d7381c64"
            }
          },
          "metadata": {}
        },
        {
          "output_type": "display_data",
          "data": {
            "text/plain": [
              "<IPython.core.display.HTML object>"
            ],
            "text/html": [
              "<style>\n",
              "    table.wandb td:nth-child(1) { padding: 0 10px; text-align: left ; width: auto;} td:nth-child(2) {text-align: left ; width: 100%}\n",
              "    .wandb-row { display: flex; flex-direction: row; flex-wrap: wrap; justify-content: flex-start; width: 100% }\n",
              "    .wandb-col { display: flex; flex-direction: column; flex-basis: 100%; flex: 1; padding: 10px; }\n",
              "    </style>\n",
              "<div class=\"wandb-row\"><div class=\"wandb-col\"><h3>Run history:</h3><br/><table class=\"wandb\"><tr><td>code_ppl</td><td>▄█▆█▄▄▄▃▁▃▃▄▄▃▄▂▃▃▅▃▃▂▂▄▃▄▁▅▃▄▃▅▃▆▅▄▃▄▄▄</td></tr><tr><td>d_steps</td><td>▁▁▁▁▁▁▁▁▁▁▁▁▁▁▁▁▁▁▁▁▁▁▁▁▁▁▁▁▁▁▁▁▁▁▁▁▁▁▁▁</td></tr><tr><td>edit_distance</td><td>▁▆▄▆█▄▅▄▅▅▅▆▅▅▆▇▄▄▃▅▅▅▃▃▄▄▄▅▆▄▇▄▅▅▄▅▄▅▅▆</td></tr><tr><td>losses_code_pen</td><td>▁▄▆▅▇▇▆▇█▇▇▇▇▇▇█▇▇▆▇▇█▇▇▇▇█▆▇▇▇▆▇▆▆▆▇▇▇▇</td></tr><tr><td>losses_dense_dis</td><td>█▃▂▂▂▁▁▁▁▁▁▁▁▁▁▁▁▁▁▁▁▁▁▁▁▁▁▁▁▁▁▁▁▁▁▁▁▁▁▁</td></tr><tr><td>losses_dense_gen</td><td>▂▁▂▁▃▃▄▃▅▄▄▄▅▄▃▆▄▅▄▄▅▄▄▄▅▄▃▄▄█▇▄▇▅▃▅▅▅█▅</td></tr><tr><td>losses_grad_pen</td><td>█▃▂▂▂▂▂▂▂▂▂▁▁▂▁▂▂▂▂▁▁▁▂▁▁▂▁▁▁▁▁▁▁▁▁▁▂▁▁▂</td></tr><tr><td>losses_smoothness</td><td>▁▄▅▅▆▆▇▆▇▇▇▇▇▇▇█▇▇▇▆▇▇▇▇▇▇▆▇▇█▇▇██▇▇▇▇██</td></tr><tr><td>losses_token_dis</td><td>█▃▂▂▂▁▁▁▁▁▁▁▁▁▁▁▁▁▁▁▁▁▁▁▁▁▁▁▁▁▁▁▁▁▁▁▁▁▁▁</td></tr><tr><td>prob_ppl</td><td>█▅▃▄▂▂▃▂▁▂▂▂▂▂▂▁▂▂▃▂▂▁▂▂▂▂▁▃▂▂▂▃▂▃▃▃▂▂▂▂</td></tr><tr><td>sample_size</td><td>▁▁▁▁▁▁▁▁▁▁▁▁▁▁▁▁▁▁▁▁▁▁▁▁▁▁▁▁▁▁▁▁▁▁▁▁▁▁▁▁</td></tr><tr><td>temp</td><td>███▇▇▇▇▇▇▆▆▆▆▆▅▅▅▅▅▅▄▄▄▄▄▃▃▃▃▃▃▂▂▂▂▂▂▁▁▁</td></tr></table><br/></div><div class=\"wandb-col\"><h3>Run summary:</h3><br/><table class=\"wandb\"><tr><td>code_ppl</td><td>0.12651</td></tr><tr><td>d_steps</td><td>0.00785</td></tr><tr><td>edit_distance</td><td>115.112</td></tr><tr><td>losses_code_pen</td><td>1.11911</td></tr><tr><td>losses_dense_dis</td><td>0.02156</td></tr><tr><td>losses_dense_gen</td><td>1.11109</td></tr><tr><td>losses_grad_pen</td><td>0.10527</td></tr><tr><td>losses_smoothness</td><td>1.20808</td></tr><tr><td>losses_token_dis</td><td>0.01733</td></tr><tr><td>prob_ppl</td><td>0.36078</td></tr><tr><td>sample_size</td><td>1.0</td></tr><tr><td>temp</td><td>0.01451</td></tr></table><br/></div></div>"
            ]
          },
          "metadata": {}
        },
        {
          "output_type": "display_data",
          "data": {
            "text/plain": [
              "<IPython.core.display.HTML object>"
            ],
            "text/html": [
              " View run <strong style=\"color:#cdcd00\">wav2vec-u</strong> at: <a href='https://wandb.ai/idlhw5/hw5/runs/h8g0unh7' target=\"_blank\">https://wandb.ai/idlhw5/hw5/runs/h8g0unh7</a><br/>Synced 5 W&B file(s), 0 media file(s), 5 artifact file(s) and 1 other file(s)"
            ]
          },
          "metadata": {}
        },
        {
          "output_type": "display_data",
          "data": {
            "text/plain": [
              "<IPython.core.display.HTML object>"
            ],
            "text/html": [
              "Find logs at: <code>./wandb/run-20230424_232239-h8g0unh7/logs</code>"
            ]
          },
          "metadata": {}
        }
      ],
      "source": [
        "run.finish()"
      ],
      "id": "46hnYLhwxD5U"
    },
    {
      "cell_type": "code",
      "execution_count": null,
      "metadata": {
        "colab": {
          "base_uri": "https://localhost:8080/",
          "height": 492,
          "referenced_widgets": [
            "cc56b6e7b98a430d979d564270cebf34",
            "a583e0f61ffc4b3e8dc3f124f6ece89c",
            "1de4fa9df6a645dc9d625d2d4c8060f1",
            "376bb54b846d423bbab089d885712383",
            "f8825d4a44364a5f84ea6765c3a8eedb",
            "9de6a23a94c642ddaeab20aecab68a67",
            "f114cfb1279b41c0b67d037250cc6998",
            "d37a22aae64c48228ffdb13a9425947c"
          ]
        },
        "id": "HSP9mutZz3Zu",
        "outputId": "ad2f51f9-1992-4d15-9186-f15583df1f7b"
      },
      "outputs": [
        {
          "data": {
            "text/html": [
              "Waiting for W&B process to finish... <strong style=\"color:green\">(success).</strong>"
            ],
            "text/plain": [
              "<IPython.core.display.HTML object>"
            ]
          },
          "metadata": {},
          "output_type": "display_data"
        },
        {
          "data": {
            "application/vnd.jupyter.widget-view+json": {
              "model_id": "cc56b6e7b98a430d979d564270cebf34",
              "version_major": 2,
              "version_minor": 0
            },
            "text/plain": [
              "VBox(children=(Label(value='2.422 MB of 2.422 MB uploaded (0.000 MB deduped)\\r'), FloatProgress(value=1.0, max…"
            ]
          },
          "metadata": {},
          "output_type": "display_data"
        },
        {
          "data": {
            "text/html": [
              "<style>\n",
              "    table.wandb td:nth-child(1) { padding: 0 10px; text-align: left ; width: auto;} td:nth-child(2) {text-align: left ; width: 100%}\n",
              "    .wandb-row { display: flex; flex-direction: row; flex-wrap: wrap; justify-content: flex-start; width: 100% }\n",
              "    .wandb-col { display: flex; flex-direction: column; flex-basis: 100%; flex: 1; padding: 10px; }\n",
              "    </style>\n",
              "<div class=\"wandb-row\"><div class=\"wandb-col\"><h3>Run history:</h3><br/><table class=\"wandb\"><tr><td>code_ppl</td><td>▆█▅▄▄▄▃▅▂▄▃▂▄▂▂▂▃▂▁▃▃▄▂▃▂▂▂▁▂▂▁▃▂▁▁▃▂▂▃▁</td></tr><tr><td>d_steps</td><td>▁▁▁▁▁▁▁▁▁▁▁▁▁▁▁▁▁▁▁▁▁▁▁▁▁▁▁▁▁▁▁▁▁▁▁▁▁▁▁▁</td></tr><tr><td>edit_distance</td><td>█▆▅▅▄▆▆▅▅▄▅▄▆▅▄▃▁▅▄▅▆▅▄▄▄▄▃▅▆▆▅▃▆▄▅▄▅▆▅▄</td></tr><tr><td>losses_code_pen</td><td>▁▂▅▅▆▅▆▅▇▅▇▇▆▇█▇▆██▆▇▆▇▆▇▇▇█▇▇█▆▇██▇▇▇▆█</td></tr><tr><td>losses_dense_dis</td><td>█▂▁▁▁▁▁▁▁▁▁▁▁▁▁▁▁▁▁▁▁▁▁▁▁▁▁▁▁▁▁▁▁▁▁▁▁▁▁▁</td></tr><tr><td>losses_dense_gen</td><td>▁▂▂▂▃▃▃▄▄▃▄▄▅▄▅▅▄▆▅▄▅▆▅▅▅▇▆▅▅▅▅▅▅▅▇▅█▆▅█</td></tr><tr><td>losses_grad_pen</td><td>█▄▃▂▂▂▂▂▂▂▂▁▁▁▁▁▁▂▂▁▁▁▁▁▂▁▁▂▁▁▁▁▁▁▁▁▁▁▂▂</td></tr><tr><td>losses_smoothness</td><td>▁▃▄▄▅▅▅▆▆▆▆▆▇▇▇▇▆▇▇▇▆▇▇▇▇█▇▇▇▇▆▇▆▇▇▇▇▇▇█</td></tr><tr><td>losses_token_dis</td><td>█▂▁▁▁▁▁▁▁▁▁▁▁▁▁▁▁▁▁▁▁▁▁▁▁▁▁▁▁▁▁▁▁▁▁▁▁▁▁▁</td></tr><tr><td>nsentences</td><td>▁▁▁▁▁▁▁▁▁▁▁▁▁▁▁▁▁▁▁▁▁▁▁▁▁▁▁▁▁▁▁▁▁▁▁▁▁▁▁▁</td></tr><tr><td>prob_ppl</td><td>█▇▄▄▃▄▃▄▂▄▂▂▃▂▁▂▃▁▁▃▂▃▂▃▂▂▂▁▂▂▁▃▂▁▁▂▂▂▃▁</td></tr><tr><td>sample_size</td><td>▁▁▁▁▁▁▁▁▁▁▁▁▁▁▁▁▁▁▁▁▁▁▁▁▁▁▁▁▁▁▁▁▁▁▁▁▁▁▁▁</td></tr><tr><td>temp</td><td>███▇▇▇▇▇▇▆▆▆▆▆▅▅▅▅▅▅▄▄▄▄▄▄▃▃▃▃▃▂▂▂▂▂▂▁▁▁</td></tr></table><br/></div><div class=\"wandb-col\"><h3>Run summary:</h3><br/><table class=\"wandb\"><tr><td>code_ppl</td><td>0.13181</td></tr><tr><td>d_steps</td><td>0.0</td></tr><tr><td>edit_distance</td><td>149.559</td></tr><tr><td>losses_code_pen</td><td>1.29883</td></tr><tr><td>losses_dense_dis</td><td>0.0241</td></tr><tr><td>losses_dense_gen</td><td>1.67304</td></tr><tr><td>losses_grad_pen</td><td>0.18778</td></tr><tr><td>losses_smoothness</td><td>1.39011</td></tr><tr><td>losses_token_dis</td><td>0.02092</td></tr><tr><td>nsentences</td><td>1.0</td></tr><tr><td>prob_ppl</td><td>0.33901</td></tr><tr><td>sample_size</td><td>1.0</td></tr><tr><td>temp</td><td>0.015</td></tr></table><br/></div></div>"
            ],
            "text/plain": [
              "<IPython.core.display.HTML object>"
            ]
          },
          "metadata": {},
          "output_type": "display_data"
        },
        {
          "data": {
            "text/html": [
              " View run <strong style=\"color:#cdcd00\">wav2vec-u</strong> at: <a href='https://wandb.ai/ksangam/hw5/runs/kaakqwj9' target=\"_blank\">https://wandb.ai/ksangam/hw5/runs/kaakqwj9</a><br/>Synced 5 W&B file(s), 0 media file(s), 14 artifact file(s) and 1 other file(s)"
            ],
            "text/plain": [
              "<IPython.core.display.HTML object>"
            ]
          },
          "metadata": {},
          "output_type": "display_data"
        },
        {
          "data": {
            "text/html": [
              "Find logs at: <code>./wandb/run-20230420_185125-kaakqwj9/logs</code>"
            ],
            "text/plain": [
              "<IPython.core.display.HTML object>"
            ]
          },
          "metadata": {},
          "output_type": "display_data"
        }
      ],
      "source": [
        "save_model(model, optimizer, None, None, epoch, path, scaler)\n",
        "run.finish()"
      ],
      "id": "HSP9mutZz3Zu"
    },
    {
      "cell_type": "markdown",
      "metadata": {
        "id": "fa463D7CGwED"
      },
      "source": [
        "# Testing and submission to Kaggle"
      ],
      "id": "fa463D7CGwED"
    },
    {
      "cell_type": "code",
      "execution_count": null,
      "metadata": {
        "id": "4d60ff70-589d-49b4-9445-0587cf538070"
      },
      "outputs": [],
      "source": [
        "from dataset import extracted_features_dataset\n",
        "test_path = # TODO: PathToTest\n",
        "testset = extracted_features_dataset.ExtractedFeaturesDataset(path=test_path,\n",
        "                                                              split='test')\n",
        "\n",
        "test_dataloader_args = train_dataloader_args.copy()\n",
        "test_dataloader_args[\"shuffle\"] = False\n",
        "test_dataloader_args[\"collate_fn\"] = testset.collater\n",
        "\n",
        "test_dataloader = data.DataLoader(testset, **test_dataloader_args)"
      ],
      "id": "4d60ff70-589d-49b4-9445-0587cf538070"
    },
    {
      "cell_type": "markdown",
      "metadata": {
        "id": "t87M7kvdIGgI"
      },
      "source": [
        "Write the `test_step` function which can be coded very similar to `valid_step` given in `task/unpaired_audio_text.py`"
      ],
      "id": "t87M7kvdIGgI"
    },
    {
      "cell_type": "code",
      "execution_count": null,
      "metadata": {
        "id": "WdfayF0SH9QM"
      },
      "outputs": [],
      "source": [
        "def test_step(inputs, model):\n",
        "    # TODO\n",
        "    pass"
      ],
      "id": "WdfayF0SH9QM"
    },
    {
      "cell_type": "markdown",
      "metadata": {
        "id": "uo6nr_8tIkI4"
      },
      "source": [
        "Write some code to evaluate and get the results. You are free to write the below cells however you want"
      ],
      "id": "uo6nr_8tIkI4"
    },
    {
      "cell_type": "code",
      "execution_count": null,
      "metadata": {
        "id": "D_F9axpLIh2P"
      },
      "outputs": [],
      "source": [
        "model.eval()\n",
        "results = []\n",
        "\n",
        "for data in tqdm(test_dataloader, desc=\"Test\"):\n",
        "    # TODO\n",
        "    pass"
      ],
      "id": "D_F9axpLIh2P"
    },
    {
      "cell_type": "code",
      "execution_count": null,
      "metadata": {
        "id": "lT2TutVbJOYh"
      },
      "outputs": [],
      "source": [
        "# TODO: Replace the path and get the phoneme_map.json for mapping\n",
        "with open(\"/Path/To/phoneme_map.json\", \"r\") as file:\n",
        "    phon_map = json.load(file)"
      ],
      "id": "lT2TutVbJOYh"
    },
    {
      "cell_type": "code",
      "execution_count": null,
      "metadata": {
        "id": "Y6w0wPUiJcCO"
      },
      "outputs": [],
      "source": [
        "predictions = []\n",
        "\n",
        "for line in results:\n",
        "    # TODO: Map results with phon_map\n",
        "    pass"
      ],
      "id": "Y6w0wPUiJcCO"
    },
    {
      "cell_type": "code",
      "execution_count": null,
      "metadata": {
        "id": "bDnijOksJqMj"
      },
      "outputs": [],
      "source": [
        "# TODO: Make the CSV and submit to kaggle"
      ],
      "id": "bDnijOksJqMj"
    }
  ],
  "metadata": {
    "accelerator": "GPU",
    "colab": {
      "collapsed_sections": [
        "me7MaEVG66Pb",
        "vih9ZiCQ7skd",
        "o52Nmb_976iy",
        "OmEqwUmr8bIR",
        "XVawLoVc-X8J",
        "L7S_swTQMa9i",
        "fa463D7CGwED"
      ],
      "provenance": []
    },
    "gpuClass": "standard",
    "kernelspec": {
      "display_name": "Python 3 (ipykernel)",
      "language": "python",
      "name": "python3"
    },
    "language_info": {
      "codemirror_mode": {
        "name": "ipython",
        "version": 3
      },
      "file_extension": ".py",
      "mimetype": "text/x-python",
      "name": "python",
      "nbconvert_exporter": "python",
      "pygments_lexer": "ipython3",
      "version": "3.8.3"
    },
    "widgets": {
      "application/vnd.jupyter.widget-state+json": {
        "1de4fa9df6a645dc9d625d2d4c8060f1": {
          "model_module": "@jupyter-widgets/controls",
          "model_module_version": "1.5.0",
          "model_name": "FloatProgressModel",
          "state": {
            "_dom_classes": [],
            "_model_module": "@jupyter-widgets/controls",
            "_model_module_version": "1.5.0",
            "_model_name": "FloatProgressModel",
            "_view_count": null,
            "_view_module": "@jupyter-widgets/controls",
            "_view_module_version": "1.5.0",
            "_view_name": "ProgressView",
            "bar_style": "",
            "description": "",
            "description_tooltip": null,
            "layout": "IPY_MODEL_f114cfb1279b41c0b67d037250cc6998",
            "max": 1,
            "min": 0,
            "orientation": "horizontal",
            "style": "IPY_MODEL_d37a22aae64c48228ffdb13a9425947c",
            "value": 1
          }
        },
        "376bb54b846d423bbab089d885712383": {
          "model_module": "@jupyter-widgets/base",
          "model_module_version": "1.2.0",
          "model_name": "LayoutModel",
          "state": {
            "_model_module": "@jupyter-widgets/base",
            "_model_module_version": "1.2.0",
            "_model_name": "LayoutModel",
            "_view_count": null,
            "_view_module": "@jupyter-widgets/base",
            "_view_module_version": "1.2.0",
            "_view_name": "LayoutView",
            "align_content": null,
            "align_items": null,
            "align_self": null,
            "border": null,
            "bottom": null,
            "display": null,
            "flex": null,
            "flex_flow": null,
            "grid_area": null,
            "grid_auto_columns": null,
            "grid_auto_flow": null,
            "grid_auto_rows": null,
            "grid_column": null,
            "grid_gap": null,
            "grid_row": null,
            "grid_template_areas": null,
            "grid_template_columns": null,
            "grid_template_rows": null,
            "height": null,
            "justify_content": null,
            "justify_items": null,
            "left": null,
            "margin": null,
            "max_height": null,
            "max_width": null,
            "min_height": null,
            "min_width": null,
            "object_fit": null,
            "object_position": null,
            "order": null,
            "overflow": null,
            "overflow_x": null,
            "overflow_y": null,
            "padding": null,
            "right": null,
            "top": null,
            "visibility": null,
            "width": null
          }
        },
        "9de6a23a94c642ddaeab20aecab68a67": {
          "model_module": "@jupyter-widgets/controls",
          "model_module_version": "1.5.0",
          "model_name": "DescriptionStyleModel",
          "state": {
            "_model_module": "@jupyter-widgets/controls",
            "_model_module_version": "1.5.0",
            "_model_name": "DescriptionStyleModel",
            "_view_count": null,
            "_view_module": "@jupyter-widgets/base",
            "_view_module_version": "1.2.0",
            "_view_name": "StyleView",
            "description_width": ""
          }
        },
        "a583e0f61ffc4b3e8dc3f124f6ece89c": {
          "model_module": "@jupyter-widgets/controls",
          "model_module_version": "1.5.0",
          "model_name": "LabelModel",
          "state": {
            "_dom_classes": [],
            "_model_module": "@jupyter-widgets/controls",
            "_model_module_version": "1.5.0",
            "_model_name": "LabelModel",
            "_view_count": null,
            "_view_module": "@jupyter-widgets/controls",
            "_view_module_version": "1.5.0",
            "_view_name": "LabelView",
            "description": "",
            "description_tooltip": null,
            "layout": "IPY_MODEL_f8825d4a44364a5f84ea6765c3a8eedb",
            "placeholder": "​",
            "style": "IPY_MODEL_9de6a23a94c642ddaeab20aecab68a67",
            "value": "2.422 MB of 2.422 MB uploaded (0.000 MB deduped)\r"
          }
        },
        "cc56b6e7b98a430d979d564270cebf34": {
          "model_module": "@jupyter-widgets/controls",
          "model_module_version": "1.5.0",
          "model_name": "VBoxModel",
          "state": {
            "_dom_classes": [],
            "_model_module": "@jupyter-widgets/controls",
            "_model_module_version": "1.5.0",
            "_model_name": "VBoxModel",
            "_view_count": null,
            "_view_module": "@jupyter-widgets/controls",
            "_view_module_version": "1.5.0",
            "_view_name": "VBoxView",
            "box_style": "",
            "children": [
              "IPY_MODEL_a583e0f61ffc4b3e8dc3f124f6ece89c",
              "IPY_MODEL_1de4fa9df6a645dc9d625d2d4c8060f1"
            ],
            "layout": "IPY_MODEL_376bb54b846d423bbab089d885712383"
          }
        },
        "d37a22aae64c48228ffdb13a9425947c": {
          "model_module": "@jupyter-widgets/controls",
          "model_module_version": "1.5.0",
          "model_name": "ProgressStyleModel",
          "state": {
            "_model_module": "@jupyter-widgets/controls",
            "_model_module_version": "1.5.0",
            "_model_name": "ProgressStyleModel",
            "_view_count": null,
            "_view_module": "@jupyter-widgets/base",
            "_view_module_version": "1.2.0",
            "_view_name": "StyleView",
            "bar_color": null,
            "description_width": ""
          }
        },
        "f114cfb1279b41c0b67d037250cc6998": {
          "model_module": "@jupyter-widgets/base",
          "model_module_version": "1.2.0",
          "model_name": "LayoutModel",
          "state": {
            "_model_module": "@jupyter-widgets/base",
            "_model_module_version": "1.2.0",
            "_model_name": "LayoutModel",
            "_view_count": null,
            "_view_module": "@jupyter-widgets/base",
            "_view_module_version": "1.2.0",
            "_view_name": "LayoutView",
            "align_content": null,
            "align_items": null,
            "align_self": null,
            "border": null,
            "bottom": null,
            "display": null,
            "flex": null,
            "flex_flow": null,
            "grid_area": null,
            "grid_auto_columns": null,
            "grid_auto_flow": null,
            "grid_auto_rows": null,
            "grid_column": null,
            "grid_gap": null,
            "grid_row": null,
            "grid_template_areas": null,
            "grid_template_columns": null,
            "grid_template_rows": null,
            "height": null,
            "justify_content": null,
            "justify_items": null,
            "left": null,
            "margin": null,
            "max_height": null,
            "max_width": null,
            "min_height": null,
            "min_width": null,
            "object_fit": null,
            "object_position": null,
            "order": null,
            "overflow": null,
            "overflow_x": null,
            "overflow_y": null,
            "padding": null,
            "right": null,
            "top": null,
            "visibility": null,
            "width": null
          }
        },
        "f8825d4a44364a5f84ea6765c3a8eedb": {
          "model_module": "@jupyter-widgets/base",
          "model_module_version": "1.2.0",
          "model_name": "LayoutModel",
          "state": {
            "_model_module": "@jupyter-widgets/base",
            "_model_module_version": "1.2.0",
            "_model_name": "LayoutModel",
            "_view_count": null,
            "_view_module": "@jupyter-widgets/base",
            "_view_module_version": "1.2.0",
            "_view_name": "LayoutView",
            "align_content": null,
            "align_items": null,
            "align_self": null,
            "border": null,
            "bottom": null,
            "display": null,
            "flex": null,
            "flex_flow": null,
            "grid_area": null,
            "grid_auto_columns": null,
            "grid_auto_flow": null,
            "grid_auto_rows": null,
            "grid_column": null,
            "grid_gap": null,
            "grid_row": null,
            "grid_template_areas": null,
            "grid_template_columns": null,
            "grid_template_rows": null,
            "height": null,
            "justify_content": null,
            "justify_items": null,
            "left": null,
            "margin": null,
            "max_height": null,
            "max_width": null,
            "min_height": null,
            "min_width": null,
            "object_fit": null,
            "object_position": null,
            "order": null,
            "overflow": null,
            "overflow_x": null,
            "overflow_y": null,
            "padding": null,
            "right": null,
            "top": null,
            "visibility": null,
            "width": null
          }
        },
        "5e13ad8d2309425581d96b05d7381c64": {
          "model_module": "@jupyter-widgets/controls",
          "model_name": "VBoxModel",
          "model_module_version": "1.5.0",
          "state": {
            "_dom_classes": [],
            "_model_module": "@jupyter-widgets/controls",
            "_model_module_version": "1.5.0",
            "_model_name": "VBoxModel",
            "_view_count": null,
            "_view_module": "@jupyter-widgets/controls",
            "_view_module_version": "1.5.0",
            "_view_name": "VBoxView",
            "box_style": "",
            "children": [
              "IPY_MODEL_0b9b0ff6ee384e5eb9d8cd74b7ad244d",
              "IPY_MODEL_51b2e3ef3f1c4fb9a15d955747b66f2a"
            ],
            "layout": "IPY_MODEL_d3fffa1412da47129efd2d6708654adc"
          }
        },
        "0b9b0ff6ee384e5eb9d8cd74b7ad244d": {
          "model_module": "@jupyter-widgets/controls",
          "model_name": "LabelModel",
          "model_module_version": "1.5.0",
          "state": {
            "_dom_classes": [],
            "_model_module": "@jupyter-widgets/controls",
            "_model_module_version": "1.5.0",
            "_model_name": "LabelModel",
            "_view_count": null,
            "_view_module": "@jupyter-widgets/controls",
            "_view_module_version": "1.5.0",
            "_view_name": "LabelView",
            "description": "",
            "description_tooltip": null,
            "layout": "IPY_MODEL_21b9004edcd046eab35928c6de739315",
            "placeholder": "​",
            "style": "IPY_MODEL_25faae023ae84eaa9def6c5a0288f07e",
            "value": "0.565 MB of 0.565 MB uploaded (0.000 MB deduped)\r"
          }
        },
        "51b2e3ef3f1c4fb9a15d955747b66f2a": {
          "model_module": "@jupyter-widgets/controls",
          "model_name": "FloatProgressModel",
          "model_module_version": "1.5.0",
          "state": {
            "_dom_classes": [],
            "_model_module": "@jupyter-widgets/controls",
            "_model_module_version": "1.5.0",
            "_model_name": "FloatProgressModel",
            "_view_count": null,
            "_view_module": "@jupyter-widgets/controls",
            "_view_module_version": "1.5.0",
            "_view_name": "ProgressView",
            "bar_style": "",
            "description": "",
            "description_tooltip": null,
            "layout": "IPY_MODEL_5ed93d592b354067979d12aa942ab74f",
            "max": 1,
            "min": 0,
            "orientation": "horizontal",
            "style": "IPY_MODEL_96c06a662c9f498d9dccb2a932b9b2ee",
            "value": 1
          }
        },
        "d3fffa1412da47129efd2d6708654adc": {
          "model_module": "@jupyter-widgets/base",
          "model_name": "LayoutModel",
          "model_module_version": "1.2.0",
          "state": {
            "_model_module": "@jupyter-widgets/base",
            "_model_module_version": "1.2.0",
            "_model_name": "LayoutModel",
            "_view_count": null,
            "_view_module": "@jupyter-widgets/base",
            "_view_module_version": "1.2.0",
            "_view_name": "LayoutView",
            "align_content": null,
            "align_items": null,
            "align_self": null,
            "border": null,
            "bottom": null,
            "display": null,
            "flex": null,
            "flex_flow": null,
            "grid_area": null,
            "grid_auto_columns": null,
            "grid_auto_flow": null,
            "grid_auto_rows": null,
            "grid_column": null,
            "grid_gap": null,
            "grid_row": null,
            "grid_template_areas": null,
            "grid_template_columns": null,
            "grid_template_rows": null,
            "height": null,
            "justify_content": null,
            "justify_items": null,
            "left": null,
            "margin": null,
            "max_height": null,
            "max_width": null,
            "min_height": null,
            "min_width": null,
            "object_fit": null,
            "object_position": null,
            "order": null,
            "overflow": null,
            "overflow_x": null,
            "overflow_y": null,
            "padding": null,
            "right": null,
            "top": null,
            "visibility": null,
            "width": null
          }
        },
        "21b9004edcd046eab35928c6de739315": {
          "model_module": "@jupyter-widgets/base",
          "model_name": "LayoutModel",
          "model_module_version": "1.2.0",
          "state": {
            "_model_module": "@jupyter-widgets/base",
            "_model_module_version": "1.2.0",
            "_model_name": "LayoutModel",
            "_view_count": null,
            "_view_module": "@jupyter-widgets/base",
            "_view_module_version": "1.2.0",
            "_view_name": "LayoutView",
            "align_content": null,
            "align_items": null,
            "align_self": null,
            "border": null,
            "bottom": null,
            "display": null,
            "flex": null,
            "flex_flow": null,
            "grid_area": null,
            "grid_auto_columns": null,
            "grid_auto_flow": null,
            "grid_auto_rows": null,
            "grid_column": null,
            "grid_gap": null,
            "grid_row": null,
            "grid_template_areas": null,
            "grid_template_columns": null,
            "grid_template_rows": null,
            "height": null,
            "justify_content": null,
            "justify_items": null,
            "left": null,
            "margin": null,
            "max_height": null,
            "max_width": null,
            "min_height": null,
            "min_width": null,
            "object_fit": null,
            "object_position": null,
            "order": null,
            "overflow": null,
            "overflow_x": null,
            "overflow_y": null,
            "padding": null,
            "right": null,
            "top": null,
            "visibility": null,
            "width": null
          }
        },
        "25faae023ae84eaa9def6c5a0288f07e": {
          "model_module": "@jupyter-widgets/controls",
          "model_name": "DescriptionStyleModel",
          "model_module_version": "1.5.0",
          "state": {
            "_model_module": "@jupyter-widgets/controls",
            "_model_module_version": "1.5.0",
            "_model_name": "DescriptionStyleModel",
            "_view_count": null,
            "_view_module": "@jupyter-widgets/base",
            "_view_module_version": "1.2.0",
            "_view_name": "StyleView",
            "description_width": ""
          }
        },
        "5ed93d592b354067979d12aa942ab74f": {
          "model_module": "@jupyter-widgets/base",
          "model_name": "LayoutModel",
          "model_module_version": "1.2.0",
          "state": {
            "_model_module": "@jupyter-widgets/base",
            "_model_module_version": "1.2.0",
            "_model_name": "LayoutModel",
            "_view_count": null,
            "_view_module": "@jupyter-widgets/base",
            "_view_module_version": "1.2.0",
            "_view_name": "LayoutView",
            "align_content": null,
            "align_items": null,
            "align_self": null,
            "border": null,
            "bottom": null,
            "display": null,
            "flex": null,
            "flex_flow": null,
            "grid_area": null,
            "grid_auto_columns": null,
            "grid_auto_flow": null,
            "grid_auto_rows": null,
            "grid_column": null,
            "grid_gap": null,
            "grid_row": null,
            "grid_template_areas": null,
            "grid_template_columns": null,
            "grid_template_rows": null,
            "height": null,
            "justify_content": null,
            "justify_items": null,
            "left": null,
            "margin": null,
            "max_height": null,
            "max_width": null,
            "min_height": null,
            "min_width": null,
            "object_fit": null,
            "object_position": null,
            "order": null,
            "overflow": null,
            "overflow_x": null,
            "overflow_y": null,
            "padding": null,
            "right": null,
            "top": null,
            "visibility": null,
            "width": null
          }
        },
        "96c06a662c9f498d9dccb2a932b9b2ee": {
          "model_module": "@jupyter-widgets/controls",
          "model_name": "ProgressStyleModel",
          "model_module_version": "1.5.0",
          "state": {
            "_model_module": "@jupyter-widgets/controls",
            "_model_module_version": "1.5.0",
            "_model_name": "ProgressStyleModel",
            "_view_count": null,
            "_view_module": "@jupyter-widgets/base",
            "_view_module_version": "1.2.0",
            "_view_name": "StyleView",
            "bar_color": null,
            "description_width": ""
          }
        }
      }
    }
  },
  "nbformat": 4,
  "nbformat_minor": 5
}